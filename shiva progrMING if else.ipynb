{
 "cells": [
  {
   "cell_type": "markdown",
   "id": "410cfb53-5cb6-4726-af9b-c2a4bee31bf6",
   "metadata": {},
   "source": [
    "# programing"
   ]
  },
  {
   "cell_type": "code",
   "execution_count": 31,
   "id": "86e4b31a-78bd-4d88-8193-a056bd9246a7",
   "metadata": {},
   "outputs": [
    {
     "name": "stdout",
     "output_type": "stream",
     "text": [
      "c is highest\n"
     ]
    }
   ],
   "source": [
    "a, b, c, d=10,20,50,40\n",
    "if a>b:\n",
    "    if a>c:\n",
    "        if a>d:\n",
    "            print('a is highest')\n",
    "        else:\n",
    "            print('b is highest')\n",
    "    else:\n",
    "        if c>d:\n",
    "            print('c is highest')\n",
    "        else:\n",
    "            print('d is highest')\n",
    "else:\n",
    "    if b>c:\n",
    "        if b>d:\n",
    "            print('b is highest')\n",
    "        else:\n",
    "            print('d is highest')\n",
    "    else:\n",
    "        if c>d:\n",
    "            print('c is highest')\n",
    "        else:\n",
    "            print('d is highest')\n",
    "                  \n",
    "                \n",
    "                  "
   ]
  },
  {
   "cell_type": "code",
   "execution_count": null,
   "id": "3feddd35-3279-498d-8fcd-24d0d9d4f518",
   "metadata": {},
   "outputs": [
    {
     "name": "stdout",
     "output_type": "stream",
     "text": [
      "e is shivar\n"
     ]
    }
   ],
   "source": [
    "a,b,c,d,e=10,20,30,40,50\n",
    "if a>b:\n",
    "    if a>c:\n",
    "        if a>d:\n",
    "            if a>e:\n",
    "                print('a is highest')\n",
    "            else:\n",
    "                print('e is highest')\n",
    "        else:\n",
    "            if d>e:\n",
    "                print('d is highest')\n",
    "            else:\n",
    "                print('e is highest')\n",
    "    else: \n",
    "        if c>d:\n",
    "            if c>e:\n",
    "                print('c is highest')\n",
    "            else:\n",
    "                print('e is higest')\n",
    "        else:\n",
    "            if d>e:\n",
    "                print('d is highest')\n",
    "            else:\n",
    "                print('e is highest')\n",
    "else:\n",
    "    if b>c:\n",
    "        if b>d:\n",
    "            if b>e:\n",
    "                print('b is highest')\n",
    "            else:\n",
    "                print('e is highest')\n",
    "        else:\n",
    "            if d>e:\n",
    "                print('d is grater')\n",
    "            else:\n",
    "                print('e is highest')\n",
    "    else:\n",
    "        if c>d:\n",
    "            if c>e:\n",
    "                print('c is grater')\n",
    "            else:\n",
    "                print('e is grater')\n",
    "        else:\n",
    "            if d>e:\n",
    "                print('d is highest')\n",
    "            else:\n",
    "                print('e is shivar')\n",
    "        \n",
    "        \n",
    "             \n",
    "        \n",
    "            \n",
    "        "
   ]
  },
  {
   "cell_type": "code",
   "execution_count": null,
   "id": "b1b152c6-8115-44f7-8a9c-689b2cd20b6b",
   "metadata": {},
   "outputs": [
    {
     "name": "stdout",
     "output_type": "stream",
     "text": [
      "f is highest\n"
     ]
    }
   ],
   "source": [
    "a,b,c,d,e,f=10,30,50,40,60,80\n",
    "if a>b and a>c and a>d and a>e and a>f:\n",
    "     print('a is grater')\n",
    "elif b>c and b>d and b>e and b>f:\n",
    "     print('b is grater')\n",
    "elif c>d and c>e and c>f:\n",
    "    print('c is grater')\n",
    "elif d>e and e>f:\n",
    "    print('d is grater')\n",
    "elif e>f:\n",
    "    print('e is grater')\n",
    "else:\n",
    "    print('f is highest')"
   ]
  },
  {
   "cell_type": "code",
   "execution_count": 27,
   "id": "49725f1b-d091-4e57-a6a0-0f45da4cfb38",
   "metadata": {},
   "outputs": [
    {
     "name": "stdin",
     "output_type": "stream",
     "text": [
      "enter the value of n: 40\n"
     ]
    },
    {
     "name": "stdout",
     "output_type": "stream",
     "text": [
      "40 is even\n",
      "<class 'int'>\n"
     ]
    }
   ],
   "source": [
    "n=int(input('enter the value of n:'))\n",
    "if n%2==0:\n",
    "    print(f'{n} is even')\n",
    "else:    \n",
    "    print(f'{n} is not even')\n",
    "print(type(n))"
   ]
  },
  {
   "cell_type": "code",
   "execution_count": 3,
   "id": "4610a801-383a-4987-8a57-3ecb0e8021e6",
   "metadata": {},
   "outputs": [
    {
     "name": "stdout",
     "output_type": "stream",
     "text": [
      "b is grater\n"
     ]
    }
   ],
   "source": [
    "a,b,c=20,40,15\n",
    "if a>b:\n",
    "    if a>c:\n",
    "        print('a is grater')\n",
    "    else:\n",
    "        print('c is grater')\n",
    "else:\n",
    "        if b>c:\n",
    "            print('b is grater')\n",
    "        else:\n",
    "        print('c is grater')"
   ]
  },
  {
   "cell_type": "code",
   "execution_count": 5,
   "id": "90ea63de-0eac-4a93-b4fc-777ceb223082",
   "metadata": {},
   "outputs": [
    {
     "name": "stdin",
     "output_type": "stream",
     "text": [
      "enter the value of n: 47\n"
     ]
    },
    {
     "name": "stdout",
     "output_type": "stream",
     "text": [
      "47:fizz buzz\n"
     ]
    }
   ],
   "source": [
    "n=int(input('enter the value of n:'))\n",
    "if n%3==0 and n%5!=0:\n",
    "    print(f'{n}:fizz')\n",
    "elif n%5==0:\n",
    "     print(f'{n}:buzz')\n",
    "elif n%3!=0 and n%5!=0:\n",
    "                print(f'{n}:fizz buzz')"
   ]
  },
  {
   "cell_type": "code",
   "execution_count": 19,
   "id": "a0c6877e-44d5-473f-b12a-9084546cc0e1",
   "metadata": {},
   "outputs": [
    {
     "name": "stdin",
     "output_type": "stream",
     "text": [
      "enter the value of x: 40\n"
     ]
    },
    {
     "name": "stdout",
     "output_type": "stream",
     "text": [
      "40:shivaramraj\n"
     ]
    }
   ],
   "source": [
    "x=int(input('enter the value of x:'))\n",
    "if x%5==0 and x%4!=0:\n",
    "    print(f'{x}:shiva')\n",
    "elif x%10==0 and x%4!=0:\n",
    "    print(f'{x}:rama')\n",
    "elif x%5==0 and x%10==0 and x%4!=0:\n",
    "    print(f'{x}:shivarama')\n",
    "elif x%4==0 and x%10!=0:\n",
    "    print(f'{x}:raju')\n",
    "elif x%5==0 and x%10==0 and x%4==0:\n",
    "    print(f'{x}:shivaramraj')\n",
    "else:\n",
    "    print(f'{x}:arjun')"
   ]
  },
  {
   "cell_type": "code",
   "execution_count": 28,
   "id": "2e1f6945-10d1-4688-a1f8-7c37de8eda31",
   "metadata": {},
   "outputs": [
    {
     "data": {
      "text/plain": [
       "[-22, -21, -20, -19, -18, -17, -16, -15, -14, -13, -12, -11]"
      ]
     },
     "execution_count": 28,
     "metadata": {},
     "output_type": "execute_result"
    }
   ],
   "source": [
    "list(range(-22,-10,1))"
   ]
  },
  {
   "cell_type": "code",
   "execution_count": 30,
   "id": "3219207e-8081-49ef-a251-85fe90e4bf19",
   "metadata": {},
   "outputs": [
    {
     "data": {
      "text/plain": [
       "[1, 2, 3, 4, 5, 6, 7, 8, 9, 10]"
      ]
     },
     "execution_count": 30,
     "metadata": {},
     "output_type": "execute_result"
    }
   ],
   "source": [
    "list(range(1,11))"
   ]
  },
  {
   "cell_type": "code",
   "execution_count": 33,
   "id": "ec2b6d41-cc99-4205-b39e-eac2e6d6edb6",
   "metadata": {},
   "outputs": [
    {
     "data": {
      "text/plain": [
       "[10, 9, 8, 7, 6, 5, 4, 3, 2, 1]"
      ]
     },
     "execution_count": 33,
     "metadata": {},
     "output_type": "execute_result"
    }
   ],
   "source": [
    "list(range(10,0,-1))"
   ]
  },
  {
   "cell_type": "code",
   "execution_count": 36,
   "id": "42002706-3503-4a25-9b7f-da5eac7c49af",
   "metadata": {},
   "outputs": [
    {
     "data": {
      "text/plain": [
       "[-1, -2, -3, -4, -5, -6, -7, -8, -9, -10]"
      ]
     },
     "execution_count": 36,
     "metadata": {},
     "output_type": "execute_result"
    }
   ],
   "source": [
    "list(range(-1,-11,-1))"
   ]
  },
  {
   "cell_type": "code",
   "execution_count": 60,
   "id": "c8b6bc59-d4ac-49fe-aa32-7782317e3c2d",
   "metadata": {},
   "outputs": [
    {
     "name": "stdin",
     "output_type": "stream",
     "text": [
      "enter the value of r 12\n"
     ]
    },
    {
     "name": "stdout",
     "output_type": "stream",
     "text": [
      "12:True\n"
     ]
    }
   ],
   "source": [
    "r=int(input('enter the value of r'))\n",
    "if r%2==0 and r%5!=0:\n",
    "      print(f'{r}:True')\n",
    "elif r%4==0 and r%2!=0:\n",
    "      print(f'{r}:true')\n",
    "elif r%5==0 and r%2!=0:\n",
    "      print(f'{r}:false')\n",
    "elif r%2==0 and r%4==0 and r%5==0:\n",
    "    print(f'{r}:aFalse')\n",
    "else:\n",
    "    print(f'{r}:arjun')"
   ]
  },
  {
   "cell_type": "code",
   "execution_count": 88,
   "id": "58493b86-1831-41e2-b5b6-7501c12a1b84",
   "metadata": {},
   "outputs": [
    {
     "name": "stdin",
     "output_type": "stream",
     "text": [
      "enter the value of r 20\n"
     ]
    },
    {
     "name": "stdout",
     "output_type": "stream",
     "text": [
      "20:aFalse\n"
     ]
    }
   ],
   "source": [
    "r=int(input('enter the value of r'))\n",
    "if r%2==0 and r%5!=0:\n",
    "      print(f'{r}:True')\n",
    "elif r%4==0 and r%2!=0:\n",
    "      print(f'{r}:true')\n",
    "elif r%5==0 and r%2!=0:\n",
    "      print(f'{r}:false')\n",
    "elif r%2==0 and r%4==0 and r%5==0:\n",
    "    print(f'{r}:aFalse')\n",
    "else:\n",
    "    print(f'{r}:arjun')"
   ]
  },
  {
   "cell_type": "code",
   "execution_count": 40,
   "id": "b69b1e8b-8e63-4a71-a254-3887b85ea01b",
   "metadata": {},
   "outputs": [
    {
     "name": "stdin",
     "output_type": "stream",
     "text": [
      "enter the value of year 1900\n"
     ]
    },
    {
     "name": "stdout",
     "output_type": "stream",
     "text": [
      "1900: not a leap year\n"
     ]
    }
   ],
   "source": [
    "year=int(input('enter the value of year'))\n",
    "if year%4==0 and year%100!=0:\n",
    "    print(f'{year} is leap year')\n",
    "elif year%400==0:\n",
    "    print(f'{year} is a leap year')\n",
    "else:\n",
    "    print(f'{year}: not a leap year')"
   ]
  },
  {
   "cell_type": "code",
   "execution_count": 45,
   "id": "d9446223-3091-4ea8-a731-6d821bea44fe",
   "metadata": {},
   "outputs": [
    {
     "name": "stdin",
     "output_type": "stream",
     "text": [
      "enter the year 2000\n"
     ]
    },
    {
     "name": "stdout",
     "output_type": "stream",
     "text": [
      "2000 is a leap year\n"
     ]
    }
   ],
   "source": [
    "year=int(input('enter the year'))\n",
    "if year%4==0 or (year%400==0 and year%100!=0):\n",
    "         print(f'{year} is a leap year')\n",
    "else:\n",
    "         print(f'{year} is not a leap year')"
   ]
  },
  {
   "cell_type": "code",
   "execution_count": null,
   "id": "0628ea94-ae2e-4af0-be50-1719bba34640",
   "metadata": {},
   "outputs": [],
   "source": [
    "year=int(input('enter the year:'))\n",
    "if year%4==0:\n",
    "    if year%100:\n",
    "        if year%400==0:\n",
    "            print(f'{year} is leap year')\n",
    "        else:\n",
    "            print(f'{year} is not a leap year')\n",
    "    else:\n",
    "        print(f'{year} is a leap year')\n",
    "else:\n",
    "    print(f'{year} is not leap year')\n",
    "         "
   ]
  },
  {
   "cell_type": "code",
   "execution_count": 48,
   "id": "b0d1b241-f359-49d9-b843-0c4ea98dd12a",
   "metadata": {},
   "outputs": [
    {
     "data": {
      "text/plain": [
       "0"
      ]
     },
     "execution_count": 48,
     "metadata": {},
     "output_type": "execute_result"
    }
   ],
   "source": [
    "2000%100"
   ]
  },
  {
   "cell_type": "code",
   "execution_count": null,
   "id": "a8565858-cb5c-459e-afab-139084633567",
   "metadata": {},
   "outputs": [
    {
     "data": {
      "text/plain": [
       "[-1, -2, -3, -4, -5, -6, -7, -8, -9]"
      ]
     },
     "execution_count": 5,
     "metadata": {},
     "output_type": "execute_result"
    }
   ],
   "source": [
    "list(range(-1,-10,-1))"
   ]
  },
  {
   "cell_type": "code",
   "execution_count": 3,
   "id": "9d9b852e-a99c-4d0d-b566-385403eabf49",
   "metadata": {},
   "outputs": [
    {
     "name": "stdout",
     "output_type": "stream",
     "text": [
      "d is grater\n"
     ]
    }
   ],
   "source": [
    "m,r,d,n,z=34,20,800,60,80\n",
    "if m>r:\n",
    "    if m>d:\n",
    "        if m>n:\n",
    "            if m>z:\n",
    "                print('m is grater')\n",
    "            else:\n",
    "                print('z is grater')\n",
    "        else:\n",
    "            if n>z:\n",
    "                print('n is grater')\n",
    "            else:\n",
    "                print('z is grater')\n",
    "    else:\n",
    "        if d>n:\n",
    "            if d>z:\n",
    "                print('d is grater')\n",
    "            else:\n",
    "                print('z is grater')\n",
    "else:\n",
    "    if r>d:\n",
    "        if r>n:\n",
    "            if r>z:\n",
    "                print('r is grater')\n",
    "            else:\n",
    "                print('z is grater')\n",
    "    else:\n",
    "        if d>n:\n",
    "            if d>z:\n",
    "                print('d is grater')\n",
    "            else:\n",
    "                print('z is grater')  "
   ]
  },
  {
   "cell_type": "code",
   "execution_count": 4,
   "id": "cb399f85-8f73-47f6-abaf-4753c3794ada",
   "metadata": {},
   "outputs": [
    {
     "name": "stdout",
     "output_type": "stream",
     "text": [
      "r is grater\n"
     ]
    }
   ],
   "source": [
    "m,r,d,n=20,800,60,80\n",
    "if m>r:\n",
    "    if m>d:\n",
    "        if m>n:\n",
    "            print(\"'m' is grater\")\n",
    "        else:\n",
    "            print('n is grater')\n",
    "    else:\n",
    "        if d>n:\n",
    "            print('d is higher')\n",
    "        else:\n",
    "            print('n is grater')\n",
    "else:\n",
    "    if r>d:\n",
    "        if r>n:\n",
    "            print('r is grater')\n",
    "        else:\n",
    "            print('d is grater')\n",
    "    \n",
    "        "
   ]
  },
  {
   "cell_type": "code",
   "execution_count": 24,
   "id": "b131016f-eeff-4e20-bbd0-4027b539e312",
   "metadata": {},
   "outputs": [
    {
     "data": {
      "text/plain": [
       "200"
      ]
     },
     "execution_count": 24,
     "metadata": {},
     "output_type": "execute_result"
    }
   ],
   "source": [
    "1800%400"
   ]
  },
  {
   "cell_type": "code",
   "execution_count": 13,
   "id": "ff4203d6-e809-45f7-bb2c-1ea7f6e4818b",
   "metadata": {},
   "outputs": [
    {
     "name": "stdout",
     "output_type": "stream",
     "text": [
      "i is grater\n"
     ]
    }
   ],
   "source": [
    "s,h,i,v,a,r,=10,40,85,54,35,67\n",
    "\n",
    "if s>h:\n",
    "    if s>i:\n",
    "        if s>v:\n",
    "            if s>a:\n",
    "                if s>r:\n",
    "                    print('s is grater')\n",
    "                else:\n",
    "                    print('r is grater')\n",
    "            else:\n",
    "                if a>r:\n",
    "                    print('a is grater')\n",
    "                else:\n",
    "                    print('r is grater')\n",
    "        else:\n",
    "            if v>a:\n",
    "                if v>r:\n",
    "                    print('v is grater')\n",
    "                else:\n",
    "                    print('r is grater')\n",
    "            else:\n",
    "                if a>r:\n",
    "                    print('a is grater')\n",
    "                else:\n",
    "                    print('r is grater')\n",
    "    else:\n",
    "        if i>v:\n",
    "            if i>a:\n",
    "                if i>r:\n",
    "                    print('i is grater')\n",
    "                else:\n",
    "                    print('r is grater')\n",
    "            else:\n",
    "                if a>r:\n",
    "                    print('a is grater')\n",
    "                else:\n",
    "                    print('r is grater')\n",
    "        else:\n",
    "            if v>a:\n",
    "                if v>r:\n",
    "                    print('v is grater')\n",
    "                else:\n",
    "                    print('r is grater')\n",
    "            else:\n",
    "                if a>r:\n",
    "                    print('a is grater')\n",
    "                else:\n",
    "                    print('r is grater')\n",
    "else:\n",
    "    if h>i:\n",
    "        if h>v:\n",
    "            if h>a:\n",
    "                if h>r:\n",
    "                    print('h is grater ')\n",
    "                else:\n",
    "                    print('r is grater')\n",
    "            else:\n",
    "                if a>r:\n",
    "                    print('a is grater')\n",
    "                else:\n",
    "                    print('r is grater')\n",
    "        else:\n",
    "            if v>a:\n",
    "                if v>r:\n",
    "                    print('v is grater')\n",
    "                else:\n",
    "                    print('r is grater')\n",
    "            else:\n",
    "                if a>r:\n",
    "                    print('a is grater')\n",
    "                else:\n",
    "                    print('r is grater')\n",
    "    else:\n",
    "        if i>v:\n",
    "            if i>a:\n",
    "                if i>r:\n",
    "                    print('i is grater')\n",
    "                else:\n",
    "                    print('r is grater')\n",
    "            else:\n",
    "                if a>r:\n",
    "                    print('a is grater')\n",
    "                else:\n",
    "                    print('r is grater')\n",
    "        else:\n",
    "            if v>a:\n",
    "                if v>r:\n",
    "                    print('v is grater')\n",
    "                else:\n",
    "                    print('r is grater')\n",
    "            else:\n",
    "                if a>r:\n",
    "                    print('a is grater')\n",
    "                else:\n",
    "                    print('r is grater')\n",
    "    "
   ]
  },
  {
   "cell_type": "code",
   "execution_count": 21,
   "id": "d0f16b3b-c817-4bbf-ab46-de3ea5b3b141",
   "metadata": {},
   "outputs": [
    {
     "name": "stdin",
     "output_type": "stream",
     "text": [
      "enter the value of x: 20\n"
     ]
    },
    {
     "name": "stdout",
     "output_type": "stream",
     "text": [
      "20: is shiva\n"
     ]
    }
   ],
   "source": [
    "x=int(input('enter the value of x:'))\n",
    "if x%5!=0 or x%2!=0:\n",
    "      print(f'{x}:is a ram')\n",
    "elif x%4==0 and x%2==0:\n",
    "      print(f'{x}: is shiva')\n",
    "      "
   ]
  },
  {
   "cell_type": "code",
   "execution_count": 22,
   "id": "d2a8d848-22f2-4cd3-a9ba-8a055609d405",
   "metadata": {},
   "outputs": [
    {
     "name": "stdout",
     "output_type": "stream",
     "text": [
      "s is leaser\n"
     ]
    }
   ],
   "source": [
    "s,h,i,=10,40,85\n",
    "if s<h:\n",
    "    if s<i:\n",
    "        print('s is leaser')\n",
    "    else:\n",
    "        print('i is leaser')\n",
    "else:\n",
    "    if h<i:\n",
    "        print('h is leaser')\n",
    "    else:\n",
    "        print('i is leaser')\n",
    "        \n"
   ]
  },
  {
   "cell_type": "code",
   "execution_count": 30,
   "id": "141c9cac-2b13-4dd1-872f-0eec8c60829a",
   "metadata": {},
   "outputs": [
    {
     "name": "stdin",
     "output_type": "stream",
     "text": [
      "enter the value of x: 15\n"
     ]
    },
    {
     "name": "stdout",
     "output_type": "stream",
     "text": [
      "15: is wrong\n"
     ]
    }
   ],
   "source": [
    "x=int(input('enter the value of x:'))\n",
    "if x==0:\n",
    "    print(f'{x}: is grater')\n",
    "else:\n",
    "    print(f'{x}: is wrong')\n",
    "    "
   ]
  },
  {
   "cell_type": "code",
   "execution_count": 34,
   "id": "147fbcfb-e3e8-4ae1-bc47-fb34ea5f2ccb",
   "metadata": {},
   "outputs": [
    {
     "data": {
      "text/plain": [
       "0"
      ]
     },
     "execution_count": 34,
     "metadata": {},
     "output_type": "execute_result"
    }
   ],
   "source": [
    "2000%100"
   ]
  },
  {
   "cell_type": "code",
   "execution_count": 36,
   "id": "5f3b0c0c-ac81-4a4b-98f2-4900e7ead287",
   "metadata": {},
   "outputs": [
    {
     "name": "stdin",
     "output_type": "stream",
     "text": [
      "enter the value of a 4\n"
     ]
    },
    {
     "name": "stdout",
     "output_type": "stream",
     "text": [
      "python choching\n"
     ]
    }
   ],
   "source": [
    "a=int(input('enter the value of a'))\n",
    "if a%2==0 and a%4!=0:\n",
    "    print( 'hari')\n",
    "elif a%4==0 and a%2!=0:\n",
    "    print('krishna')\n",
    "elif a%5==0 and a%2!=0:\n",
    "    print('python')\n",
    "elif a%7!=0 and a%5==0:\n",
    "    print('coaching')\n",
    "elif a%8!=0:\n",
    "    print('python choching')\n",
    "     "
   ]
  },
  {
   "cell_type": "markdown",
   "id": "820e7da5-8f6e-4d15-98db-458e3de18830",
   "metadata": {},
   "source": [
    "# for loop for collection data type"
   ]
  },
  {
   "cell_type": "code",
   "execution_count": 4,
   "id": "50c6a6d2-3e6d-4674-a269-e437af60ac67",
   "metadata": {},
   "outputs": [
    {
     "name": "stdout",
     "output_type": "stream",
     "text": [
      "p\n",
      "y\n",
      "t\n",
      "h\n",
      "o\n",
      "n\n",
      "out side the loop\n"
     ]
    }
   ],
   "source": [
    "s='python'\n",
    "for a in s:\n",
    "    print(a)\n",
    "print('out side the loop')`\n"
   ]
  },
  {
   "cell_type": "code",
   "execution_count": 13,
   "id": "14264f8a-112d-4f8f-bfc9-0ccbf4ae7dfb",
   "metadata": {},
   "outputs": [
    {
     "name": "stdout",
     "output_type": "stream",
     "text": [
      "10\n",
      "20\n",
      "30\n",
      "[44, 55]\n",
      "abc\n",
      "out side the loop\n"
     ]
    }
   ],
   "source": [
    "r=10,20,30,[44,55],'abc'#(10,20,30)\n",
    "for a in r:\n",
    "    print(a)\n",
    "print('out side the loop')"
   ]
  },
  {
   "cell_type": "code",
   "execution_count": 14,
   "id": "6a158f68-2779-4742-a6ff-bb3657b645e1",
   "metadata": {},
   "outputs": [
    {
     "name": "stdout",
     "output_type": "stream",
     "text": [
      "20\n",
      "30\n",
      "40\n",
      "50\n",
      "abc\n",
      "True\n",
      "False\n",
      "outside the loop\n"
     ]
    }
   ],
   "source": [
    "r=[20, 30, 40, 50, 'abc',True, False]\n",
    "for d in r:\n",
    "    print(d)\n",
    "print('outside the loop')"
   ]
  },
  {
   "cell_type": "code",
   "execution_count": 18,
   "id": "16685631-3f1e-4c38-b3ae-dffe1d93fd48",
   "metadata": {},
   "outputs": [
    {
     "name": "stdout",
     "output_type": "stream",
     "text": [
      "False\n",
      "True\n",
      "20\n",
      "30\n",
      "shiva\n"
     ]
    }
   ],
   "source": [
    "s={20,30,20,True,1,False,0}\n",
    "for d in s:\n",
    "    print(d)\n",
    "print('shiva')`"
   ]
  },
  {
   "cell_type": "code",
   "execution_count": 22,
   "id": "a4b5e521-16b6-4585-8ede-8dac2e6ff003",
   "metadata": {},
   "outputs": [
    {
     "name": "stdout",
     "output_type": "stream",
     "text": [
      "40\n",
      "abc\n",
      "20\n",
      "(60, 70)\n",
      "30\n",
      "outside the lop\n"
     ]
    }
   ],
   "source": [
    "s=set()\n",
    "s.update((20,30,40,(60,70,),'abc'))\n",
    "for a in s:\n",
    "    print(a)\n",
    "print ('outside the lop')"
   ]
  },
  {
   "cell_type": "markdown",
   "id": "a31213cb-efac-46d0-8449-8369cb17da9d",
   "metadata": {
    "tags": []
   },
   "source": [
    "### dictionary for loop"
   ]
  },
  {
   "cell_type": "code",
   "execution_count": 23,
   "id": "e211cbb1-f292-4ef3-8672-4e6879cc1c88",
   "metadata": {},
   "outputs": [
    {
     "name": "stdout",
     "output_type": "stream",
     "text": [
      "(20, 30)\n",
      "a\n",
      "b\n",
      "c\n",
      "outside th loop\n"
     ]
    }
   ],
   "source": [
    "d={}\n",
    "d[(20,30)]=45\n",
    "d.update({'a':30,'b':40,'c':50})\n",
    "for c in d:\n",
    "    print(c)\n",
    "print ('outside th loop')"
   ]
  },
  {
   "cell_type": "code",
   "execution_count": 25,
   "id": "e324044f-f906-4bf0-b968-030cb6d641ce",
   "metadata": {},
   "outputs": [
    {
     "name": "stdout",
     "output_type": "stream",
     "text": [
      "45\n",
      "30\n",
      "40\n",
      "50\n",
      "outside th loop\n"
     ]
    }
   ],
   "source": [
    "d={}\n",
    "d[(20,30)]=45\n",
    "d.update({'a':30,'b':40,'c':50})\n",
    "for c in d.values():\n",
    "    print(c)\n",
    "print ('outside th loop')"
   ]
  },
  {
   "cell_type": "code",
   "execution_count": 26,
   "id": "8db4ff2c-b141-44a2-9e99-4792cc091463",
   "metadata": {},
   "outputs": [
    {
     "name": "stdout",
     "output_type": "stream",
     "text": [
      "(20, 30)\n",
      "a\n",
      "b\n",
      "c\n",
      "outside th loop\n"
     ]
    }
   ],
   "source": [
    "d={}\n",
    "d[(20,30)]=45\n",
    "d.update({'a':30,'b':40,'c':50})\n",
    "for c in d.keys():\n",
    "    print(c)\n",
    "print ('outside th loop')"
   ]
  },
  {
   "cell_type": "code",
   "execution_count": 27,
   "id": "07b93548-d2e1-4bed-8597-711878117a48",
   "metadata": {},
   "outputs": [
    {
     "name": "stdout",
     "output_type": "stream",
     "text": [
      "((20, 30), 45)\n",
      "('a', 30)\n",
      "('b', 40)\n",
      "('c', 50)\n",
      "outside th loop\n"
     ]
    }
   ],
   "source": [
    "d={}\n",
    "d[(20,30)]=45\n",
    "d.update({'a':30,'b':40,'c':50})\n",
    "for c in d.items():\n",
    "    print(c)\n",
    "print ('outside th loop')"
   ]
  },
  {
   "cell_type": "code",
   "execution_count": 34,
   "id": "e9f35ce2-cb70-4ca6-b563-c5ec5814c0a5",
   "metadata": {},
   "outputs": [
    {
     "name": "stdout",
     "output_type": "stream",
     "text": [
      "(20, 30):45\n",
      "a:30\n",
      "b:40\n",
      "c:50\n",
      "outside th loop\n"
     ]
    }
   ],
   "source": [
    "d={}\n",
    "d[(20,30)]=45\n",
    "d.update({'a':30,'b':40,'c':50})\n",
    "for k,v in d.items():\n",
    "    print(f'{k}:{v}')\n",
    "print ('outside th loop')"
   ]
  },
  {
   "cell_type": "code",
   "execution_count": 36,
   "id": "c1b306d7-c0f1-4b1d-8b72-d275eab81f7f",
   "metadata": {},
   "outputs": [
    {
     "name": "stdout",
     "output_type": "stream",
     "text": [
      "a:30\n",
      "b:20\n",
      "c:50\n",
      "outside the loop\n"
     ]
    }
   ],
   "source": [
    "d={}\n",
    "s={'a':30,'b':20,'c':50}\n",
    "d.update(s)\n",
    "for r,n in d.items():\n",
    "    print(f'{r}:{n}')\n",
    "print('outside the loop')"
   ]
  },
  {
   "cell_type": "markdown",
   "id": "51df3203-0ad8-4ecb-a903-4bc8d1edb5aa",
   "metadata": {},
   "source": [
    "## while loop"
   ]
  },
  {
   "cell_type": "code",
   "execution_count": 17,
   "id": "5e01686f-4064-44cc-9ad2-6561d62f54ca",
   "metadata": {},
   "outputs": [
    {
     "name": "stdout",
     "output_type": "stream",
     "text": [
      "-10\n",
      "-9\n",
      "-8\n",
      "-7\n",
      "-6\n",
      "-5\n",
      "-4\n",
      "-3\n",
      "-2\n",
      "-1\n"
     ]
    }
   ],
   "source": [
    "#Wap for \n",
    "n=-10\n",
    "while n<=-1:\n",
    "    print(n)\n",
    "    n=n+1\n",
    "    "
   ]
  },
  {
   "cell_type": "code",
   "execution_count": 2,
   "id": "c86c37cf-769d-4721-8334-dd61460f3938",
   "metadata": {},
   "outputs": [
    {
     "name": "stdout",
     "output_type": "stream",
     "text": [
      "1\n",
      "2\n",
      "3\n",
      "4\n",
      "5\n",
      "6\n",
      "7\n",
      "8\n",
      "9\n",
      "10\n"
     ]
    }
   ],
   "source": [
    "#WAP for 1-10\n",
    "g=1\n",
    "while g<=10:\n",
    "    print(g)\n",
    "    g+=1"
   ]
  },
  {
   "cell_type": "code",
   "execution_count": 3,
   "id": "e8204af0-2544-4c66-b8d9-fab5469e03b2",
   "metadata": {},
   "outputs": [
    {
     "name": "stdout",
     "output_type": "stream",
     "text": [
      "10\n",
      "9\n",
      "8\n",
      "7\n",
      "6\n",
      "5\n",
      "4\n",
      "3\n",
      "2\n",
      "1\n"
     ]
    }
   ],
   "source": [
    "#WAP for 10-1\n",
    "f=10\n",
    "while f>=1:\n",
    "    print(f)\n",
    "    f-=1\n"
   ]
  },
  {
   "cell_type": "code",
   "execution_count": 5,
   "id": "1e20ef62-8dc6-4b54-8783-1fb2f34a84f5",
   "metadata": {},
   "outputs": [
    {
     "name": "stdout",
     "output_type": "stream",
     "text": [
      "-1\n",
      "-2\n",
      "-3\n",
      "-4\n",
      "-5\n",
      "-6\n",
      "-7\n",
      "-8\n",
      "-9\n",
      "-10\n"
     ]
    }
   ],
   "source": [
    "#WAP for -1to-10\n",
    "d=-1\n",
    "while d>=-10:\n",
    "    print(d)\n",
    "    d-=1\n",
    "    "
   ]
  },
  {
   "cell_type": "code",
   "execution_count": 7,
   "id": "74c5ad95-d261-4567-835d-780e9091252d",
   "metadata": {},
   "outputs": [
    {
     "name": "stdout",
     "output_type": "stream",
     "text": [
      "-10\n",
      "-9\n",
      "-8\n",
      "-7\n",
      "-6\n",
      "-5\n",
      "-4\n",
      "-3\n",
      "-2\n",
      "-1\n"
     ]
    }
   ],
   "source": [
    "#WAP for -10to-1\n",
    "n=-10\n",
    "while n<=-1:\n",
    "    print(n)\n",
    "    n+=1\n"
   ]
  },
  {
   "cell_type": "code",
   "execution_count": 8,
   "id": "102c3420-8e19-415d-9438-e32847c51ba7",
   "metadata": {},
   "outputs": [
    {
     "name": "stdout",
     "output_type": "stream",
     "text": [
      "-75\n",
      "-74\n",
      "-73\n",
      "-72\n",
      "-71\n",
      "-70\n",
      "-69\n",
      "-68\n",
      "-67\n",
      "-66\n",
      "-65\n"
     ]
    }
   ],
   "source": [
    "#WAP for -75 to -65\n",
    "f=-75\n",
    "while f<=-65:\n",
    "    print(f)\n",
    "    f+=1"
   ]
  },
  {
   "cell_type": "code",
   "execution_count": 1,
   "id": "57f7496b-bd9e-470a-8e4f-4aaa21cdbfc2",
   "metadata": {},
   "outputs": [
    {
     "name": "stdout",
     "output_type": "stream",
     "text": [
      "12\n",
      "13\n",
      "14\n",
      "15\n",
      "16\n",
      "17\n",
      "18\n",
      "19\n",
      "20\n",
      "21\n"
     ]
    }
   ],
   "source": [
    "for a in range (12,22):\n",
    "    print(a)\n"
   ]
  },
  {
   "cell_type": "code",
   "execution_count": null,
   "id": "63a657c9-e8b0-4e8c-b38a-ea29bb9044e4",
   "metadata": {},
   "outputs": [],
   "source": []
  }
 ],
 "metadata": {
  "kernelspec": {
   "display_name": "Python 3 (ipykernel)",
   "language": "python",
   "name": "python3"
  },
  "language_info": {
   "codemirror_mode": {
    "name": "ipython",
    "version": 3
   },
   "file_extension": ".py",
   "mimetype": "text/x-python",
   "name": "python",
   "nbconvert_exporter": "python",
   "pygments_lexer": "ipython3",
   "version": "3.9.13"
  }
 },
 "nbformat": 4,
 "nbformat_minor": 5
}
