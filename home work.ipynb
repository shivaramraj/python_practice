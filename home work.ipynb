{
 "cells": [
  {
   "cell_type": "code",
   "execution_count": 18,
   "id": "9725408f-86b7-483b-ad27-3b58e1b668af",
   "metadata": {},
   "outputs": [
    {
     "data": {
      "text/plain": [
       "3"
      ]
     },
     "execution_count": 18,
     "metadata": {},
     "output_type": "execute_result"
    }
   ],
   "source": [
    "7//2"
   ]
  },
  {
   "cell_type": "code",
   "execution_count": 11,
   "id": "1fc176b8-a530-4148-95bd-00a91b1920ad",
   "metadata": {},
   "outputs": [
    {
     "name": "stdin",
     "output_type": "stream",
     "text": [
      "enter the value of n: 7\n"
     ]
    },
    {
     "name": "stdout",
     "output_type": "stream",
     "text": [
      "      1 \n",
      "    1 2 3 \n",
      "  1 2 3 4 5 \n",
      "1 2 3 4 5 6 7 \n",
      "  1 2 3 4 5 \n",
      "    1 2 3 \n",
      "      1 \n"
     ]
    }
   ],
   "source": [
    "n=int(input('enter the value of n:'))\n",
    "st=1\n",
    "sp=n//2\n",
    "for x in range(n):\n",
    "    num=1\n",
    "    for y in range(sp):\n",
    "        print(' ',end=' ')\n",
    "    for z in range(st):\n",
    "        print(num,end=' ')\n",
    "        num+=1\n",
    "    print()\n",
    "    if x<n//2:\n",
    "        \n",
    "        st+=2\n",
    "        sp-=1\n",
    "    else:\n",
    "        st-=2\n",
    "        sp+=1"
   ]
  },
  {
   "cell_type": "code",
   "execution_count": 13,
   "id": "8f93cd73-c762-48ed-be81-272ca24743e5",
   "metadata": {},
   "outputs": [
    {
     "name": "stdin",
     "output_type": "stream",
     "text": [
      "enter the value of n: 7\n"
     ]
    },
    {
     "name": "stdout",
     "output_type": "stream",
     "text": [
      "      1 \n",
      "    2 4 6 \n",
      "  1 3 5 8 14 \n",
      "    2 4 6 \n",
      "      1 \n",
      "        \n",
      "          \n"
     ]
    }
   ],
   "source": [
    "n=int(input('enter the value of n:'))\n",
    "st=1\n",
    "sp=n//2\n",
    "for x in range(1,n+1):\n",
    "    if x%2==0:\n",
    "        num=2\n",
    "    else:\n",
    "        num=1\n",
    "    for y in range(sp):\n",
    "        print(' ',end=' ')\n",
    "    for z in range(st):\n",
    "        print(num,end=' ')\n",
    "        num+=2 if z<st//2 else num-2\n",
    "    print()\n",
    "    if x<n//2:\n",
    "        st+=2\n",
    "        sp-=1\n",
    "    else:\n",
    "        st-=2\n",
    "        sp+=1"
   ]
  },
  {
   "cell_type": "code",
   "execution_count": 8,
   "id": "265f8a78-a49c-4b01-b641-e21463796f70",
   "metadata": {},
   "outputs": [
    {
     "data": {
      "text/plain": [
       "1"
      ]
     },
     "execution_count": 8,
     "metadata": {},
     "output_type": "execute_result"
    }
   ],
   "source": [
    "1%2"
   ]
  },
  {
   "cell_type": "code",
   "execution_count": 19,
   "id": "e0cfc62f-719a-4f3c-a64b-58101f9beea5",
   "metadata": {},
   "outputs": [
    {
     "name": "stdin",
     "output_type": "stream",
     "text": [
      "enter the value of n: 7\n"
     ]
    },
    {
     "name": "stdout",
     "output_type": "stream",
     "text": [
      "      1 \n",
      "    2 2 2 \n",
      "  1 1 1 1 1 \n",
      "2 2 2 2 2 2 2 \n",
      "  1 1 1 1 1 \n",
      "    2 2 2 \n",
      "      1 \n"
     ]
    }
   ],
   "source": [
    "n=int(input('enter the value of n:'))\n",
    "st=1\n",
    "sp=n//2\n",
    "for x in range(1,n+1):\n",
    "    if x%2!=0:\n",
    "        num=1\n",
    "    else:\n",
    "        num=2\n",
    "    for y in range(sp):\n",
    "        print(' ',end=' ')\n",
    "    for z in range(st):\n",
    "        print(num,end=' ')\n",
    "        \n",
    "    print()\n",
    "    if x<n//2+1: \n",
    "        st+=2\n",
    "        sp-=1\n",
    "    else:\n",
    "        st-=2\n",
    "        sp+=1"
   ]
  },
  {
   "cell_type": "code",
   "execution_count": 8,
   "id": "464e6bb2-93aa-426a-b89e-bd4e450df661",
   "metadata": {},
   "outputs": [
    {
     "name": "stdin",
     "output_type": "stream",
     "text": [
      "enter the value of n: 2\n"
     ]
    },
    {
     "name": "stdout",
     "output_type": "stream",
     "text": [
      "2 is a prime number\n"
     ]
    }
   ],
   "source": [
    "#WAP to know given number is prime or not\n",
    "n=int(input('enter the value of n:'))\n",
    "if n>1:\n",
    "    for x in range(2,n//2+1):\n",
    "          if n%x==0:\n",
    "                print(f'{n} is not a prime number')\n",
    "                break\n",
    "    else:\n",
    "        print(f'{n} is a prime number')\n",
    "else:\n",
    "    print(f'{n} is not prime number')\n",
    "        \n",
    "          "
   ]
  },
  {
   "cell_type": "code",
   "execution_count": 16,
   "id": "916ff62e-b601-4196-a6c5-09b2e16a966e",
   "metadata": {},
   "outputs": [
    {
     "name": "stdin",
     "output_type": "stream",
     "text": [
      "enter the value of n: 5\n"
     ]
    },
    {
     "name": "stdout",
     "output_type": "stream",
     "text": [
      "5 is not a composite number\n"
     ]
    }
   ],
   "source": [
    "n=int(input('enter the value of n:'))\n",
    "if n>1:\n",
    "    for x in range(2,n//2+1):\n",
    "        if n%x==0:\n",
    "            print(f'{n} is composite number')\n",
    "            break\n",
    "    else:\n",
    "        print(f'{n} is not a composite number')"
   ]
  },
  {
   "cell_type": "code",
   "execution_count": 17,
   "id": "51b67645-d913-494e-a97e-4f2af210c3ed",
   "metadata": {},
   "outputs": [
    {
     "name": "stdin",
     "output_type": "stream",
     "text": [
      "enter the value of n: 5\n"
     ]
    },
    {
     "name": "stdout",
     "output_type": "stream",
     "text": [
      "1\n",
      "5\n"
     ]
    }
   ],
   "source": [
    "n=int(input('enter the value of n:'))\n",
    "for x in range(1,n+1):\n",
    "    if n%x==0:\n",
    "        print(x)\n",
    "    "
   ]
  },
  {
   "cell_type": "code",
   "execution_count": 23,
   "id": "9ed8415b-b0e5-4d23-adc4-d1d9a0c58635",
   "metadata": {},
   "outputs": [
    {
     "data": {
      "text/plain": [
       "5"
      ]
     },
     "execution_count": 23,
     "metadata": {},
     "output_type": "execute_result"
    }
   ],
   "source": [
    "5%6"
   ]
  },
  {
   "cell_type": "code",
   "execution_count": 24,
   "id": "3b6ea4d7-19a4-41f4-82b2-8e1a77f39368",
   "metadata": {},
   "outputs": [
    {
     "name": "stdin",
     "output_type": "stream",
     "text": [
      "enter the value of n: 567\n"
     ]
    },
    {
     "name": "stdout",
     "output_type": "stream",
     "text": [
      "18\n"
     ]
    }
   ],
   "source": [
    "n=int(input('enter the value of n:'))\n",
    "num=n\n",
    "res=0\n",
    "while n!=0:\n",
    "    rem=n%10\n",
    "    res+=rem\n",
    "    n//=10\n",
    "print(res)"
   ]
  },
  {
   "cell_type": "code",
   "execution_count": 29,
   "id": "ae3ac654-777b-4fcf-8d0d-9b83ef955c8d",
   "metadata": {},
   "outputs": [
    {
     "name": "stdin",
     "output_type": "stream",
     "text": [
      "enter the value of n: 1253\n"
     ]
    },
    {
     "name": "stdout",
     "output_type": "stream",
     "text": [
      "1\n"
     ]
    }
   ],
   "source": [
    "n=int(input('enter the value of n:'))\n",
    "num=n\n",
    "res=0\n",
    "while n!=0:\n",
    "    rem=n%10\n",
    "    res-=rem\n",
    "    n//=10\n",
    "print(rem)"
   ]
  },
  {
   "cell_type": "code",
   "execution_count": 47,
   "id": "bb25f72c-1416-43f1-a990-a08591b6dcf4",
   "metadata": {},
   "outputs": [
    {
     "name": "stdout",
     "output_type": "stream",
     "text": [
      "not prime\n"
     ]
    }
   ],
   "source": [
    "#WAP to check given number is prime or not\n",
    "n=231\n",
    "if n>1:\n",
    "    for x in range(2,n//2+1):\n",
    "        if n%x==0:\n",
    "            print('not prime')\n",
    "            break\n",
    "    else:\n",
    "        print('prime number')\n",
    "else:\n",
    "    print('is not prime')\n",
    "        "
   ]
  },
  {
   "cell_type": "code",
   "execution_count": 52,
   "id": "8f525f43-c6c8-408d-b0dd-04d62990b60d",
   "metadata": {},
   "outputs": [
    {
     "name": "stdin",
     "output_type": "stream",
     "text": [
      "enter the value of n: 234\n"
     ]
    },
    {
     "name": "stdout",
     "output_type": "stream",
     "text": [
      "the sum of 234 is 9\n"
     ]
    }
   ],
   "source": [
    "#WAp to find sum of given number\n",
    "n=int(input('enter the value of n:'))\n",
    "num=n\n",
    "res=0\n",
    "while n!=0:\n",
    "    rem=n%10\n",
    "    res+=rem\n",
    "    n//=10\n",
    "print(f'the sum of {num} is {res}')"
   ]
  },
  {
   "cell_type": "code",
   "execution_count": 7,
   "id": "b835e2a3-f37b-4354-b8df-39a2d8d05215",
   "metadata": {},
   "outputs": [
    {
     "name": "stdin",
     "output_type": "stream",
     "text": [
      "enter the value of n: 1232\n"
     ]
    },
    {
     "name": "stdout",
     "output_type": "stream",
     "text": [
      "the sum of 1232 is 12\n"
     ]
    }
   ],
   "source": [
    "#WAp to find product of given number\n",
    "n=int(input('enter the value of n:'))\n",
    "num=n\n",
    "res=1\n",
    "while n!=0:\n",
    "    rem=n%10\n",
    "    res*=rem\n",
    "    n//=10\n",
    "print(f'the product of {num} is {res}')"
   ]
  },
  {
   "cell_type": "code",
   "execution_count": 25,
   "id": "d2f2a1c8-c1a5-46c8-a8f0-1e413fd167c6",
   "metadata": {},
   "outputs": [
    {
     "name": "stdin",
     "output_type": "stream",
     "text": [
      "enter the value of n: 2358746\n"
     ]
    },
    {
     "name": "stdout",
     "output_type": "stream",
     "text": [
      "5\n"
     ]
    }
   ],
   "source": [
    "#WAP to add even digts and subract odd digts in given number\n",
    "n=int(input('enter the value of n:'))\n",
    "num=n\n",
    "res=0\n",
    "while n!=0:\n",
    "    rem=n%10\n",
    "    n//=10\n",
    "    if rem%2==0:\n",
    "        res+=rem\n",
    "    else:\n",
    "        res-=rem\n",
    "print(res)"
   ]
  },
  {
   "cell_type": "code",
   "execution_count": 11,
   "id": "2b4f4b6d-711a-45fc-9b17-29f7a3217202",
   "metadata": {},
   "outputs": [
    {
     "name": "stdout",
     "output_type": "stream",
     "text": [
      "7\n",
      "5\n",
      "2\n"
     ]
    }
   ],
   "source": [
    "#WAP to print prime numbers in given numbers\n",
    "n=1245746\n",
    "while n!=0:\n",
    "    rem=n%10\n",
    "    n//=10\n",
    "    if rem>1:\n",
    "        for x in range(2,rem//2+1):\n",
    "            if rem%x==0:\n",
    "                break\n",
    "        else:\n",
    "             print(rem)"
   ]
  },
  {
   "cell_type": "code",
   "execution_count": 36,
   "id": "05cc3f3c-b4a3-46ff-b680-5707f350d9a9",
   "metadata": {},
   "outputs": [
    {
     "name": "stdout",
     "output_type": "stream",
     "text": [
      "888 is niven number\n"
     ]
    }
   ],
   "source": [
    "#WAP to know the given number is niven or not\n",
    "i=888\n",
    "j=i\n",
    "res=0\n",
    "while i!=0:\n",
    "    rem=i%10\n",
    "    res+=rem\n",
    "    i//=10\n",
    "if j%rem==0:\n",
    "    print(f'{j} is niven number')\n",
    "else:\n",
    "    print(f'{j} is not niven number')"
   ]
  },
  {
   "cell_type": "code",
   "execution_count": 42,
   "id": "064117ab-8fcc-401b-99d0-5a0f46b5520c",
   "metadata": {},
   "outputs": [
    {
     "name": "stdout",
     "output_type": "stream",
     "text": [
      "371 is amstrong  number\n"
     ]
    }
   ],
   "source": [
    "#WAP to know the given number is amstrong number  or not\n",
    "i=371\n",
    "j=i\n",
    "p=len(str(i))\n",
    "res=0\n",
    "while i!=0:\n",
    "    rem=i%10\n",
    "    res+=rem**p\n",
    "    i//=10\n",
    "if res%j==0:\n",
    "    print(f'{j} is amstrong  number')\n",
    "else:\n",
    "    print(f'{j} is not amstrong number')"
   ]
  },
  {
   "cell_type": "code",
   "execution_count": 45,
   "id": "e3329dd8-433d-46cd-aae1-cfb9568aa74e",
   "metadata": {},
   "outputs": [
    {
     "name": "stdout",
     "output_type": "stream",
     "text": [
      "23\n",
      "29\n"
     ]
    }
   ],
   "source": [
    "#WAp to print prime numbers from 20,30\n",
    "for i in range(20,31):\n",
    "    if i>1:\n",
    "        for x in range(2,i//2+1):\n",
    "            if i%x==0:\n",
    "                break\n",
    "        else:\n",
    "            print(i)\n",
    "            "
   ]
  },
  {
   "cell_type": "code",
   "execution_count": 46,
   "id": "c223d8e1-91c8-4c2e-85f6-230976594753",
   "metadata": {},
   "outputs": [
    {
     "name": "stdout",
     "output_type": "stream",
     "text": [
      "29\n",
      "23\n"
     ]
    }
   ],
   "source": [
    "#WAp to print prime numbers from 30,20\n",
    "for i in range(30,20,-1):\n",
    "    if i>1:\n",
    "        for x in range(2,i//2+1):\n",
    "            if i%x==0:\n",
    "                break\n",
    "        else:\n",
    "            print(i)\n",
    "            "
   ]
  },
  {
   "cell_type": "code",
   "execution_count": 39,
   "id": "2c27cf7d-a9bd-4b5e-8a6f-9276ed4939a2",
   "metadata": {},
   "outputs": [
    {
     "data": {
      "text/plain": [
       "1536"
      ]
     },
     "execution_count": 39,
     "metadata": {},
     "output_type": "execute_result"
    }
   ],
   "source": [
    "512*3"
   ]
  },
  {
   "cell_type": "code",
   "execution_count": 2,
   "id": "536692da-d278-402a-b145-637e3618c002",
   "metadata": {},
   "outputs": [
    {
     "name": "stdout",
     "output_type": "stream",
     "text": [
      "hallow world"
     ]
    },
    {
     "data": {
      "text/plain": [
       "12"
      ]
     },
     "execution_count": 2,
     "metadata": {},
     "output_type": "execute_result"
    }
   ],
   "source": [
    "import sys\n",
    "sys.stdout.write('hallow world')"
   ]
  },
  {
   "cell_type": "code",
   "execution_count": 21,
   "id": "e1a638c7-6f9c-43b7-a853-33079d3106aa",
   "metadata": {},
   "outputs": [
    {
     "name": "stdout",
     "output_type": "stream",
     "text": [
      "14\n",
      "23\n",
      "28\n",
      "30\n",
      "30\n",
      "30\n",
      "30\n"
     ]
    }
   ],
   "source": [
    "n=123456\n",
    "res=0\n",
    "num=n\n",
    "if n>1:\n",
    "    while n!=0:\n",
    "        rem=n%10\n",
    "        n//=10\n",
    "        for rem in range(2,rem):\n",
    "            if rem%2==0:\n",
    "                res+=rem\n",
    "            else:\n",
    "                res+=rem\n",
    "        print(res)\n",
    "    print(res)"
   ]
  },
  {
   "cell_type": "code",
   "execution_count": 16,
   "id": "89437624-91ed-4177-b3ae-913a1eec956a",
   "metadata": {},
   "outputs": [
    {
     "name": "stdout",
     "output_type": "stream",
     "text": [
      "127 is a prime nuber\n"
     ]
    }
   ],
   "source": [
    "n=127\n",
    "if n>1:\n",
    "    for x in range(2,n//2+1):\n",
    "        if n%x==0:\n",
    "            print(f'{n} is not a prime number')\n",
    "            break\n",
    "    else:\n",
    "        print(f'{n} is a prime nuber')\n",
    "else:\n",
    "     print(f'{n} is not a prime number')"
   ]
  },
  {
   "cell_type": "code",
   "execution_count": 11,
   "id": "c9384046-7bcc-4828-8a60-4625097ab106",
   "metadata": {},
   "outputs": [
    {
     "data": {
      "text/plain": [
       "4"
      ]
     },
     "execution_count": 11,
     "metadata": {},
     "output_type": "execute_result"
    }
   ],
   "source": [
    "121%9"
   ]
  },
  {
   "cell_type": "code",
   "execution_count": 14,
   "id": "21999038-477f-4ad3-a3d8-73de573b298f",
   "metadata": {},
   "outputs": [
    {
     "name": "stdout",
     "output_type": "stream",
     "text": [
      "1\n",
      "127\n"
     ]
    }
   ],
   "source": [
    "n=127\n",
    "for x in range(1,n+1):\n",
    "    if n%x==0:\n",
    "        print(x)"
   ]
  },
  {
   "cell_type": "code",
   "execution_count": 25,
   "id": "5cdcf3cd-d6b1-4844-894c-b29df2ddb445",
   "metadata": {},
   "outputs": [
    {
     "name": "stdout",
     "output_type": "stream",
     "text": [
      "4\n",
      "3\n",
      "2\n",
      "7\n"
     ]
    }
   ],
   "source": [
    "n=1234\n",
    "res=1\n",
    "num=n\n",
    "while n>1:\n",
    "    rem=n%10\n",
    "    n//=10\n",
    "    print(rem)\n",
    "    if rem%2==0:\n",
    "        res+=rem\n",
    "print(res)"
   ]
  },
  {
   "cell_type": "code",
   "execution_count": 23,
   "id": "92978df2-2bca-435c-a2e3-10d2a041b41e",
   "metadata": {},
   "outputs": [
    {
     "data": {
      "text/plain": [
       "1"
      ]
     },
     "execution_count": 23,
     "metadata": {},
     "output_type": "execute_result"
    }
   ],
   "source": [
    "1%2"
   ]
  },
  {
   "cell_type": "code",
   "execution_count": null,
   "id": "ba34733d-abe4-4ddf-bc27-2b86edf8c81d",
   "metadata": {},
   "outputs": [],
   "source": []
  }
 ],
 "metadata": {
  "kernelspec": {
   "display_name": "Python 3 (ipykernel)",
   "language": "python",
   "name": "python3"
  },
  "language_info": {
   "codemirror_mode": {
    "name": "ipython",
    "version": 3
   },
   "file_extension": ".py",
   "mimetype": "text/x-python",
   "name": "python",
   "nbconvert_exporter": "python",
   "pygments_lexer": "ipython3",
   "version": "3.9.13"
  }
 },
 "nbformat": 4,
 "nbformat_minor": 5
}
