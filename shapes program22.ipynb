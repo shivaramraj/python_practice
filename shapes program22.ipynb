{
 "cells": [
  {
   "cell_type": "code",
   "execution_count": 3,
   "id": "20e5a476-f232-4a4c-b91e-f1af48be7c34",
   "metadata": {},
   "outputs": [
    {
     "name": "stdout",
     "output_type": "stream",
     "text": [
      "      * \n",
      "    * * * \n",
      "  * * * * * \n",
      "* * * * * * * \n",
      "  * * * * * \n",
      "    * * * \n",
      "      * \n"
     ]
    }
   ],
   "source": [
    "n=7\n",
    "sp=3\n",
    "st=1\n",
    "for a in range(n):\n",
    "    for b in range(sp):\n",
    "        print(' ',end=' ')\n",
    "    for c in range(st):\n",
    "        print('*',end=' ')\n",
    "    print()\n",
    "    if a<3:\n",
    "        st=st+2\n",
    "        sp-=1\n",
    "    else:\n",
    "        st-=2\n",
    "        sp+=1"
   ]
  },
  {
   "cell_type": "code",
   "execution_count": 4,
   "id": "c0c4eacb-2f71-4ac0-8f2b-756811a60cba",
   "metadata": {},
   "outputs": [
    {
     "name": "stdout",
     "output_type": "stream",
     "text": [
      "      * \n",
      "    * * * \n",
      "  * * * * * \n",
      "* * * * * * * \n",
      "  * * * * * \n",
      "    * * * \n",
      "      * \n"
     ]
    }
   ],
   "source": [
    "n=7\n",
    "sp=n//2\n",
    "st=1\n",
    "for a in range(n):\n",
    "    for b in range(sp):\n",
    "        print(' ',end=' ')\n",
    "    for c in range(st):\n",
    "        print('*',end=' ')\n",
    "    print()\n",
    "    if a<n//2:\n",
    "        st=st+2\n",
    "        sp-=1\n",
    "    else:\n",
    "        st-=2\n",
    "        sp+=1"
   ]
  },
  {
   "cell_type": "code",
   "execution_count": 17,
   "id": "c7cbb8db-15fe-4143-b7ed-63e330e8c3c8",
   "metadata": {},
   "outputs": [
    {
     "name": "stdin",
     "output_type": "stream",
     "text": [
      "enter the value of n: 5\n"
     ]
    },
    {
     "name": "stdout",
     "output_type": "stream",
     "text": [
      "* * * * * * * * * \n",
      "  * * * * * * * \n",
      "    * * * * * \n",
      "      * * * \n",
      "        * \n"
     ]
    }
   ],
   "source": [
    "n=int(input('enter the value of n:'))\n",
    "sp=0\n",
    "st=n*2-1\n",
    "for a in range(n):\n",
    "    for b in range (sp):\n",
    "        print(' ',end=' ')\n",
    "    for c in range(st):\n",
    "        print('*',end=' ')\n",
    "    print()\n",
    "    sp+=1\n",
    "    st-=2"
   ]
  },
  {
   "cell_type": "code",
   "execution_count": 25,
   "id": "44020469-3883-453b-baa7-caad75906de0",
   "metadata": {},
   "outputs": [
    {
     "name": "stdout",
     "output_type": "stream",
     "text": [
      "            @ \n",
      "          @ @ @ \n",
      "        @ @ @ @ @ \n",
      "      @ @ @ @ @ @ @ \n",
      "    @ @ @ @ @ @ @ @ @ \n",
      "  @ @ @ @ @ @ @ @ @ @ @ \n",
      "@ @ @ @ @ @ @ @ @ @ @ @ @ \n"
     ]
    }
   ],
   "source": [
    "n=7\n",
    "p=6\n",
    "t=1\n",
    "for a in range(n):\n",
    "    for b in range (p):\n",
    "        print(' ',end=' ')\n",
    "    for c in range (t):\n",
    "        print('@',end=' ')\n",
    "    print()\n",
    "    p-=1\n",
    "    t+=2\n"
   ]
  },
  {
   "cell_type": "code",
   "execution_count": 26,
   "id": "1ebbcbcd-ee58-4b66-a630-1438c7fbb795",
   "metadata": {},
   "outputs": [
    {
     "name": "stdout",
     "output_type": "stream",
     "text": [
      "* \n",
      "* * \n",
      "* * * \n",
      "* * * * \n",
      "* * * * * \n"
     ]
    }
   ],
   "source": [
    "n=5\n",
    "st=1\n",
    "for a in range(n):\n",
    "    for b in range(st):\n",
    "        print('*',end=' ')\n",
    "    print()\n",
    "    st+=1"
   ]
  },
  {
   "cell_type": "code",
   "execution_count": 27,
   "id": "6be57e24-8b1e-4907-b5a4-56e7d0340fef",
   "metadata": {},
   "outputs": [
    {
     "name": "stdout",
     "output_type": "stream",
     "text": [
      "        * \n",
      "      * * \n",
      "    * * * \n",
      "  * * * * \n",
      "* * * * * \n"
     ]
    }
   ],
   "source": [
    "n=5\n",
    "sp=n-1\n",
    "st=1\n",
    "for a in range(n):\n",
    "    for b in range(sp):\n",
    "        print(' ',end=' ')\n",
    "    for c in range(st):\n",
    "        print('*',end=\" \")\n",
    "    print()\n",
    "    sp-=1\n",
    "    st+=1\n",
    "              \n",
    "        \n"
   ]
  },
  {
   "cell_type": "code",
   "execution_count": 28,
   "id": "0c4d6bbc-72e6-4984-b339-80af26884698",
   "metadata": {},
   "outputs": [
    {
     "name": "stdin",
     "output_type": "stream",
     "text": [
      "enter the value of n: 5\n"
     ]
    },
    {
     "name": "stdout",
     "output_type": "stream",
     "text": [
      "* \n",
      "* * \n",
      "* * * \n",
      "* * * * \n",
      "* * * * * \n"
     ]
    }
   ],
   "source": [
    "n=int(input('enter the value of n:'))\n",
    "st=1\n",
    "for a in range(n):\n",
    "    for b in range(st):\n",
    "        print('*',end=' ')\n",
    "    print()\n",
    "    st+=1\n",
    "        "
   ]
  },
  {
   "cell_type": "code",
   "execution_count": 29,
   "id": "52722864-d65a-47bd-b3c6-84d8be5c73f2",
   "metadata": {},
   "outputs": [
    {
     "name": "stdin",
     "output_type": "stream",
     "text": [
      "enter the value of n: 5\n"
     ]
    },
    {
     "name": "stdout",
     "output_type": "stream",
     "text": [
      "        * \n",
      "      * * \n",
      "    * * * \n",
      "  * * * * \n",
      "* * * * * \n"
     ]
    }
   ],
   "source": [
    "n=int(input('enter the value of n:'))\n",
    "st=1\n",
    "sp=n-1\n",
    "for a in range(n):\n",
    "    for c in range(sp):\n",
    "        print(' ',end=' ')\n",
    "    for b in range(st):\n",
    "        print('*',end=' ')\n",
    "    print()\n",
    "    st+=1\n",
    "    sp-=1"
   ]
  },
  {
   "cell_type": "code",
   "execution_count": 31,
   "id": "2fd94347-a244-41bc-bd9b-75eb2072c2be",
   "metadata": {},
   "outputs": [
    {
     "name": "stdin",
     "output_type": "stream",
     "text": [
      "enter the value of n: 5\n"
     ]
    },
    {
     "name": "stdout",
     "output_type": "stream",
     "text": [
      "* * * * * \n",
      "  * * * * \n",
      "    * * * \n",
      "      * * \n",
      "        * \n"
     ]
    }
   ],
   "source": [
    "n=int(input('enter the value of n:'))\n",
    "st=n\n",
    "sp=0\n",
    "for a in range(n):\n",
    "    for c in range(sp):\n",
    "        print(' ',end=' ')\n",
    "    for b in range(st):\n",
    "        print('*',end=' ')\n",
    "    print()\n",
    "    st-=1\n",
    "    sp+=1"
   ]
  },
  {
   "cell_type": "code",
   "execution_count": 32,
   "id": "6e61227e-858d-449f-a38f-a9b210e8606d",
   "metadata": {},
   "outputs": [
    {
     "name": "stdin",
     "output_type": "stream",
     "text": [
      "enter the value of n: 5\n"
     ]
    },
    {
     "name": "stdout",
     "output_type": "stream",
     "text": [
      "* * * * * \n",
      "* * * * \n",
      "* * * \n",
      "* * \n",
      "* \n"
     ]
    }
   ],
   "source": [
    "n=int(input('enter the value of n:'))\n",
    "st=n\n",
    "for a in range(n):\n",
    "    for b in range(st):\n",
    "        print('*',end=' ')\n",
    "    print()\n",
    "    st-=1\n",
    "    "
   ]
  },
  {
   "cell_type": "code",
   "execution_count": 41,
   "id": "9146cbdd-4ad1-4fef-86f2-279cc878a6f6",
   "metadata": {},
   "outputs": [
    {
     "name": "stdin",
     "output_type": "stream",
     "text": [
      "enter the value of n: 7\n"
     ]
    },
    {
     "name": "stdout",
     "output_type": "stream",
     "text": [
      "* \n",
      "* * \n",
      "* * * \n",
      "* * * * \n",
      "* * * \n",
      "* * \n",
      "* \n"
     ]
    }
   ],
   "source": [
    "n=int(input('enter the value of n:'))\n",
    "st=1\n",
    "for a in \n",
    "range(n):\n",
    "    for b in range(st):\n",
    "        print('*',end=' ')\n",
    "    print()\n",
    "    if a<n//2:\n",
    "        st+=1\n",
    "    else:\n",
    "        st-=1\n",
    "    "
   ]
  },
  {
   "cell_type": "code",
   "execution_count": 3,
   "id": "df7d6a0a-aba4-4745-99cb-f258702cd440",
   "metadata": {},
   "outputs": [
    {
     "name": "stdin",
     "output_type": "stream",
     "text": [
      "enter the value of n: 7\n"
     ]
    },
    {
     "name": "stdout",
     "output_type": "stream",
     "text": [
      "      * \n",
      "    * * \n",
      "  * * * \n",
      "* * * * \n",
      "  * * * \n",
      "    * * \n",
      "      * \n"
     ]
    }
   ],
   "source": [
    "n=int(input('enter the value of n:'))\n",
    "st=1\n",
    "sp=n//2\n",
    "for a in range(n):\n",
    "    for c in range (sp):\n",
    "        print(' ',end=' ')\n",
    "    for b in range(st):\n",
    "        print('*',end=' ')\n",
    "    print()\n",
    "    if a<n//2:\n",
    "        st+=1\n",
    "        sp-=1\n",
    "    else:\n",
    "        st-=1\n",
    "        sp+=1\n",
    "    "
   ]
  },
  {
   "cell_type": "code",
   "execution_count": 1,
   "id": "67346822-8c60-4e87-aab6-ca522c7c2fd0",
   "metadata": {},
   "outputs": [
    {
     "data": {
      "text/plain": [
       "3"
      ]
     },
     "execution_count": 1,
     "metadata": {},
     "output_type": "execute_result"
    }
   ],
   "source": [
    "7//2\n"
   ]
  },
  {
   "cell_type": "code",
   "execution_count": 5,
   "id": "773c78ce-b246-47f6-a902-5daf35487975",
   "metadata": {},
   "outputs": [
    {
     "name": "stdout",
     "output_type": "stream",
     "text": [
      "[20, 30, 40]\n",
      "<class 'list'>\n",
      "(20, 30, 40)\n"
     ]
    }
   ],
   "source": [
    "t=(20,30,40)\n",
    "type(t)\n",
    "s=list(t)\n",
    "print(s)\n",
    "print(type(s))\n",
    "d=(tuple(s))\n",
    "print(d)"
   ]
  },
  {
   "cell_type": "code",
   "execution_count": null,
   "id": "90efd1b3-3072-43c2-b8c3-71b67724e0c2",
   "metadata": {},
   "outputs": [],
   "source": []
  }
 ],
 "metadata": {
  "kernelspec": {
   "display_name": "Python 3 (ipykernel)",
   "language": "python",
   "name": "python3"
  },
  "language_info": {
   "codemirror_mode": {
    "name": "ipython",
    "version": 3
   },
   "file_extension": ".py",
   "mimetype": "text/x-python",
   "name": "python",
   "nbconvert_exporter": "python",
   "pygments_lexer": "ipython3",
   "version": "3.9.13"
  }
 },
 "nbformat": 4,
 "nbformat_minor": 5
}
