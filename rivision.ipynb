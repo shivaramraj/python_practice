{
 "cells": [
  {
   "cell_type": "code",
   "execution_count": 3,
   "id": "918cdc56-24a2-4d31-a0b6-1da62c7c4a0a",
   "metadata": {},
   "outputs": [
    {
     "name": "stdout",
     "output_type": "stream",
     "text": [
      "EVERYDAY\n"
     ]
    }
   ],
   "source": [
    "s='WE WANT TO ATTEND CLASS EVERYDAY BECAUSE WE WANT JOB SOON'\n",
    "l=[]\n",
    "g=''\n",
    "d={}\n",
    "for x in s:\n",
    "    if x!=' ':\n",
    "        g+=x\n",
    "    else:\n",
    "        l.append(g)\n",
    "        g=''\n",
    "l.append(g)\n",
    "for m in range(0,len(l)):\n",
    "    if l[m] not in d:\n",
    "        d[l[m]]=len(l[m])\n",
    "    else:\n",
    "        d[l[m]]+=1\n",
    "vl=list(d.values())\n",
    "h=vl[0]\n",
    "for r in range(1,len(vl)):\n",
    "    if h<vl[r]:\n",
    "        h=vl[r]\n",
    "for k,v in d.items():\n",
    "    if v==h:\n",
    "        print(k)"
   ]
  },
  {
   "cell_type": "code",
   "execution_count": 21,
   "id": "6022584a-db8e-4db9-9723-651cfcd6d119",
   "metadata": {},
   "outputs": [
    {
     "name": "stdout",
     "output_type": "stream",
     "text": [
      "10\n",
      "10\n",
      "9\n",
      "7\n",
      "7\n",
      "20\n",
      "9\n",
      "7\n",
      "7\n",
      "9\n",
      "7\n",
      "7\n",
      "7\n",
      "7\n",
      "7\n"
     ]
    }
   ],
   "source": [
    "l=[10,20,30,9,7,40]\n",
    "for x in range(0,len(l)-1):\n",
    "    mi=x\n",
    "    for y in range(x+1,len(l)):\n",
    "        if l[mi]>l[y]:\n",
    "            mi=y\n",
    "        print(l[mi])"
   ]
  },
  {
   "cell_type": "code",
   "execution_count": 34,
   "id": "f646fcd1-0cdb-4365-86e0-4247271c6b75",
   "metadata": {},
   "outputs": [
    {
     "name": "stdout",
     "output_type": "stream",
     "text": [
      "[20, 30, 3, 4, 0, 0, 0]\n"
     ]
    }
   ],
   "source": [
    "l=[0,20,30,0,3,0,4]\n",
    "for i in range(0,len(l)-1):\n",
    "    for j in range(0,len(l)-1-i):\n",
    "        if l[j]==0:\n",
    "            l[j],l[j+1]=l[j+1],l[j]\n",
    "print(l)"
   ]
  },
  {
   "cell_type": "code",
   "execution_count": 51,
   "id": "3babda37-a2b8-4127-91f0-be30d9852fb1",
   "metadata": {},
   "outputs": [
    {
     "name": "stdin",
     "output_type": "stream",
     "text": [
      " 890625\n"
     ]
    },
    {
     "name": "stdout",
     "output_type": "stream",
     "text": [
      "n\n"
     ]
    }
   ],
   "source": [
    "n=int(input())\n",
    "s=n**2\n",
    "res=s%pow(10,len(str(n)))\n",
    "if(res==n):\n",
    "    print('n')\n",
    "else:\n",
    "    print(\"na\")"
   ]
  },
  {
   "cell_type": "code",
   "execution_count": 53,
   "id": "1fb3ff53-32b4-43a1-bf3a-11096c3ad598",
   "metadata": {},
   "outputs": [
    {
     "data": {
      "text/plain": [
       "793212890625"
      ]
     },
     "execution_count": 53,
     "metadata": {},
     "output_type": "execute_result"
    }
   ],
   "source": [
    "890625*890625"
   ]
  },
  {
   "cell_type": "code",
   "execution_count": 49,
   "id": "35fb9abb-cb6f-49ae-826f-3671f3db68cf",
   "metadata": {},
   "outputs": [
    {
     "data": {
      "text/plain": [
       "376"
      ]
     },
     "execution_count": 49,
     "metadata": {},
     "output_type": "execute_result"
    }
   ],
   "source": [
    "141376%1000"
   ]
  },
  {
   "cell_type": "code",
   "execution_count": 54,
   "id": "026f196a-5dff-4f03-af64-20808c794295",
   "metadata": {},
   "outputs": [
    {
     "data": {
      "text/plain": [
       "890625"
      ]
     },
     "execution_count": 54,
     "metadata": {},
     "output_type": "execute_result"
    }
   ],
   "source": [
    "793212890625%1000000"
   ]
  },
  {
   "cell_type": "code",
   "execution_count": 45,
   "id": "aa5961fe-c304-4f50-a269-7a1bb723f196",
   "metadata": {},
   "outputs": [
    {
     "name": "stdout",
     "output_type": "stream",
     "text": [
      "a\n"
     ]
    }
   ],
   "source": [
    "a=890625\n",
    "s=a**2\n",
    "l=len(str(s))\n",
    "res=1\n",
    "if l>2:\n",
    "    res=res*1000000\n",
    "    \n",
    "else:\n",
    "    res*=10\n",
    "if s%res==a:\n",
    "    print('a')\n",
    "else:\n",
    "    print('na')"
   ]
  },
  {
   "cell_type": "code",
   "execution_count": 59,
   "id": "7a0ce1e0-9dac-4b75-a2e7-124127e127ec",
   "metadata": {},
   "outputs": [
    {
     "name": "stdout",
     "output_type": "stream",
     "text": [
      "na\n"
     ]
    }
   ],
   "source": [
    "a=5\n",
    "s=a**2\n",
    "l=len(str(a))**10\n",
    "p=1\n",
    "if l>2:\n",
    "    "
   ]
  },
  {
   "cell_type": "code",
   "execution_count": null,
   "id": "1a484243-bd95-4cfb-8279-0ba659ab6b84",
   "metadata": {},
   "outputs": [],
   "source": []
  },
  {
   "cell_type": "code",
   "execution_count": 36,
   "id": "45e9908f-6f59-40c4-b88c-9f40e64d9790",
   "metadata": {},
   "outputs": [
    {
     "data": {
      "text/plain": [
       "76"
      ]
     },
     "execution_count": 36,
     "metadata": {},
     "output_type": "execute_result"
    }
   ],
   "source": [
    "5776%100"
   ]
  },
  {
   "cell_type": "code",
   "execution_count": 1,
   "id": "18c6c7a4-aba9-45ac-93fe-889976a39447",
   "metadata": {},
   "outputs": [
    {
     "name": "stdout",
     "output_type": "stream",
     "text": [
      "0\n",
      "3\n",
      "5\n",
      "7\n",
      "9\n"
     ]
    }
   ],
   "source": [
    "s='abcanahada'\n",
    "for x in range(0,len(s)):\n",
    "    if s[x]=='a':\n",
    "        print(x)"
   ]
  },
  {
   "cell_type": "code",
   "execution_count": 15,
   "id": "3acc5d23-7dec-4269-85d4-d7a8e1a26bdd",
   "metadata": {},
   "outputs": [
    {
     "name": "stdout",
     "output_type": "stream",
     "text": [
      "ew tnaw ot dnetta kcom\n"
     ]
    }
   ],
   "source": [
    "#we want to attend mock\n",
    "# ew tnaw ot dnatta kcom\n",
    "s='we want to attend mock'\n",
    "r=''\n",
    "l=[]\n",
    "for x in range(0,len(s)):\n",
    "    if s[x]!=' ':\n",
    "        r+=s[x]\n",
    "    else:\n",
    "        l.append(r)\n",
    "        r=''\n",
    "l.append(r)\n",
    "for y in range(0,len(l)):\n",
    "    l[y]=l[y][::-1]\n",
    "res=' '.join(l)\n",
    "print(res)"
   ]
  },
  {
   "cell_type": "code",
   "execution_count": 18,
   "id": "9a6d0324-87ce-4a39-90a2-f96949de2bdf",
   "metadata": {},
   "outputs": [
    {
     "name": "stdout",
     "output_type": "stream",
     "text": [
      "mock attend to want we\n"
     ]
    }
   ],
   "source": [
    "s='we want to attend mock'\n",
    "l=s.split()\n",
    "for x in range(0,len(l)//2):\n",
    "    l[x],l[-(x+1)]=l[-(x+1)],l[x]\n",
    "\n",
    "res=' '.join(l)\n",
    "print(res)"
   ]
  },
  {
   "cell_type": "code",
   "execution_count": 26,
   "id": "83f565bc-4f3e-4e3f-a376-bfec31630dc3",
   "metadata": {},
   "outputs": [
    {
     "name": "stdout",
     "output_type": "stream",
     "text": [
      "ew tnaw ot dnetta kcomew tnaw ot dnetta kcom ew tnaw ot dnetta kcom \n"
     ]
    }
   ],
   "source": [
    "#we want to attend mock\n",
    "# ew tnaw ot dnatta kcom\n",
    "s='we want to attend mock'\n",
    "l=[]\n",
    "res=''\n",
    "for x in s:\n",
    "    if x!=' ':\n",
    "        res+=x\n",
    "    else:\n",
    "        l.append(res)\n",
    "        res=''\n",
    "l.append(res)\n",
    "for r in range(0,len(l)):\n",
    "    l[r]=l[r][::-1]\n",
    "#join method\n",
    "#n=' '.join(l)\n",
    "for j in range(0,len(l)):\n",
    "    n+=l[j]+' '\n",
    "print(n)"
   ]
  },
  {
   "cell_type": "code",
   "execution_count": 3,
   "id": "0dccfa2a-0649-4756-839b-4ebc6bbcd00c",
   "metadata": {},
   "outputs": [
    {
     "name": "stdout",
     "output_type": "stream",
     "text": [
      "1110\n"
     ]
    }
   ],
   "source": [
    "#wap to convert decimal to binary\n",
    "n=14\n",
    "res=0\n",
    "p=1\n",
    "while n!=0:\n",
    "    rem=n%2\n",
    "    n//=2\n",
    "    res=res+rem*p\n",
    "    p*=10\n",
    "print(res)"
   ]
  },
  {
   "cell_type": "code",
   "execution_count": 4,
   "id": "704e5110-4f65-4e89-bd46-5e3edcfe6a0a",
   "metadata": {},
   "outputs": [
    {
     "name": "stdout",
     "output_type": "stream",
     "text": [
      "14\n"
     ]
    }
   ],
   "source": [
    "n=1110\n",
    "res=0\n",
    "p=0\n",
    "while n!=0:\n",
    "    rem=n%10\n",
    "    n//=10\n",
    "    res+=rem*2**p\n",
    "    p+=1\n",
    "print(res)"
   ]
  },
  {
   "cell_type": "code",
   "execution_count": 5,
   "id": "8c8678c5-bf82-48b9-bdca-5dde44137b8f",
   "metadata": {},
   "outputs": [
    {
     "data": {
      "text/plain": [
       "2"
      ]
     },
     "execution_count": 5,
     "metadata": {},
     "output_type": "execute_result"
    }
   ],
   "source": [
    "2**1"
   ]
  },
  {
   "cell_type": "code",
   "execution_count": 29,
   "id": "53dacc22-8d6f-46bf-802a-bd352626ea15",
   "metadata": {},
   "outputs": [
    {
     "name": "stdout",
     "output_type": "stream",
     "text": [
      "31\n"
     ]
    }
   ],
   "source": [
    "n=11111\n",
    "res=0\n",
    "p=0\n",
    "while n!=0:\n",
    "    rem=n%10\n",
    "    n//=10\n",
    "    res+=rem*2**p\n",
    "    p+=1\n",
    "print(res)"
   ]
  },
  {
   "cell_type": "code",
   "execution_count": 30,
   "id": "a8fe14d1-682d-4fc3-8391-43230aa54e2d",
   "metadata": {},
   "outputs": [
    {
     "name": "stdout",
     "output_type": "stream",
     "text": [
      "11111\n"
     ]
    }
   ],
   "source": [
    "n=31\n",
    "res=0\n",
    "p=1\n",
    "while n!=0:\n",
    "    rem=n%2\n",
    "    n//=2\n",
    "    res+=rem*p\n",
    "    p*=10\n",
    "print(res)"
   ]
  },
  {
   "cell_type": "code",
   "execution_count": 24,
   "id": "2f0f1e96-0f82-4ed0-b594-134c26f940cb",
   "metadata": {},
   "outputs": [
    {
     "data": {
      "text/plain": [
       "1"
      ]
     },
     "execution_count": 24,
     "metadata": {},
     "output_type": "execute_result"
    }
   ],
   "source": [
    "2//2"
   ]
  },
  {
   "cell_type": "code",
   "execution_count": 31,
   "id": "33184f59-c807-4027-8ce2-df9653e040be",
   "metadata": {},
   "outputs": [
    {
     "data": {
      "text/plain": [
       "1"
      ]
     },
     "execution_count": 31,
     "metadata": {},
     "output_type": "execute_result"
    }
   ],
   "source": [
    "2**0"
   ]
  },
  {
   "cell_type": "code",
   "execution_count": 37,
   "id": "c0c29f0e-9bfb-465d-8f02-c1f02a1ae322",
   "metadata": {},
   "outputs": [
    {
     "name": "stdout",
     "output_type": "stream",
     "text": [
      "not pallindrome\n"
     ]
    }
   ],
   "source": [
    "s='shivaramraj'\n",
    "r=''\n",
    "for l in range(-1,-(len(s)+1),-1):\n",
    "    r+=s[l]\n",
    "if r==s:\n",
    "    print('pallindrome')\n",
    "else:\n",
    "    print('not pallindrome')"
   ]
  },
  {
   "cell_type": "code",
   "execution_count": 38,
   "id": "2afe9bd1-cfa8-48a5-9950-cdb9f9a4d487",
   "metadata": {},
   "outputs": [
    {
     "name": "stdout",
     "output_type": "stream",
     "text": [
      "i\n",
      "a\n",
      "a\n",
      "a\n"
     ]
    }
   ],
   "source": [
    "s='shivaramraj'\n",
    "r='AEIOUaeiou'\n",
    "for x in s:\n",
    "    if x in r:\n",
    "        print(x)"
   ]
  },
  {
   "cell_type": "code",
   "execution_count": 39,
   "id": "9604e0ae-5571-488c-b16f-f88de8b67a43",
   "metadata": {},
   "outputs": [
    {
     "name": "stdout",
     "output_type": "stream",
     "text": [
      "4\n"
     ]
    }
   ],
   "source": [
    "s='shivaramraj'\n",
    "r='AEIOUaeiou'\n",
    "count=0\n",
    "for x in s:\n",
    "    if x in r:\n",
    "        count+=1\n",
    "print(count)"
   ]
  },
  {
   "cell_type": "code",
   "execution_count": 42,
   "id": "c983a659-c2da-4cd9-ba9b-ba490f79874b",
   "metadata": {},
   "outputs": [
    {
     "name": "stdout",
     "output_type": "stream",
     "text": [
      "s=1\n",
      "h=1\n",
      "i=1\n",
      "v=1\n",
      "a=3\n",
      "r=2\n",
      "m=1\n",
      "j=1\n"
     ]
    }
   ],
   "source": [
    "s='shivaramraj'\n",
    "r=''\n",
    "for x in s:\n",
    "    if x not in r:\n",
    "        r+=x\n",
    "        print(f'{x}={s.count(x)}')\n",
    "          "
   ]
  },
  {
   "cell_type": "code",
   "execution_count": 45,
   "id": "8e8b907a-8724-4912-b6e6-ee61415a3377",
   "metadata": {},
   "outputs": [
    {
     "name": "stdout",
     "output_type": "stream",
     "text": [
      "s=1\n",
      "h=1\n",
      "i=1\n",
      "v=1\n",
      "a=3\n",
      "r=2\n",
      "m=1\n",
      "j=1\n"
     ]
    }
   ],
   "source": [
    "s='shivaramraj'\n",
    "d={}\n",
    "for x in s:\n",
    "    if x not in d:\n",
    "        d[x]=1\n",
    "    else:\n",
    "        d[x]+=1\n",
    "for k,v in d.items():\n",
    "    print(f'{k}={v}')"
   ]
  },
  {
   "cell_type": "code",
   "execution_count": 46,
   "id": "2b7389b2-1d24-424b-9422-05b52f27fcc2",
   "metadata": {},
   "outputs": [
    {
     "name": "stdout",
     "output_type": "stream",
     "text": [
      "shivarmj\n"
     ]
    }
   ],
   "source": [
    "s='shivaramraj'\n",
    "r=''\n",
    "for x in s:\n",
    "    if x not in r:\n",
    "        r+=x\n",
    "print(r)"
   ]
  },
  {
   "cell_type": "code",
   "execution_count": 4,
   "id": "28e07502-70c8-44a4-bf80-61c62f40ccf9",
   "metadata": {},
   "outputs": [
    {
     "name": "stdout",
     "output_type": "stream",
     "text": [
      "malayalam\n",
      "ala\n",
      "alayala\n",
      "layal\n",
      "aya\n",
      "ala\n"
     ]
    }
   ],
   "source": [
    "s='malayalam'\n",
    "for x in range(0,len(s)):\n",
    "    for y in range(x+1,len(s)+1):\n",
    "        n=s[x:y]\n",
    "        if n==n[::-1] and len(n)>1:\n",
    "            print(n)"
   ]
  },
  {
   "cell_type": "code",
   "execution_count": 66,
   "id": "a6329b78-17d0-4a72-99ab-4a6ebeb30736",
   "metadata": {},
   "outputs": [
    {
     "name": "stdout",
     "output_type": "stream",
     "text": [
      "['shivaram', 'raj', 'is', 'a', 'm', 'r']\n"
     ]
    }
   ],
   "source": [
    "s='shivaram raj is a m r n'\n",
    "r=''\n",
    "m=[]\n",
    "for x in s:\n",
    "    if x!=' ':\n",
    "        r+=x\n",
    "    else:\n",
    "        m.append(r)\n",
    "        r=''\n",
    "print(m)"
   ]
  },
  {
   "cell_type": "code",
   "execution_count": 67,
   "id": "f8df9b3d-c3e7-46e0-bf2d-28b650023add",
   "metadata": {},
   "outputs": [
    {
     "name": "stdout",
     "output_type": "stream",
     "text": [
      "[20, 10, 30]\n"
     ]
    }
   ],
   "source": [
    "e=[20,10,20,3,10]\n",
    "d=[]\n",
    "for x in e:\n",
    "    if x not in d:\n",
    "        d.append(x)\n",
    "print(d)"
   ]
  },
  {
   "cell_type": "code",
   "execution_count": 68,
   "id": "263ed961-e29a-4cd4-ae29-8252bd11592d",
   "metadata": {},
   "outputs": [
    {
     "name": "stdout",
     "output_type": "stream",
     "text": [
      "[20, 10, 20, 10]\n"
     ]
    }
   ],
   "source": [
    "e=[20,10,20,3,10]\n",
    "s=[]\n",
    "for x in e:\n",
    "    if x%2==0:\n",
    "        s.append(x)\n",
    "print(s)"
   ]
  },
  {
   "cell_type": "code",
   "execution_count": 75,
   "id": "f6f622ba-bb03-4465-a5aa-219935183e20",
   "metadata": {},
   "outputs": [
    {
     "name": "stdout",
     "output_type": "stream",
     "text": [
      "20\n"
     ]
    }
   ],
   "source": [
    "e=[20,10,20,3,10]\n",
    "s=e[0]\n",
    "for x in range(0,len(e)):\n",
    "    if s<e[x]:\n",
    "        s=x[e]\n",
    "print(s)"
   ]
  },
  {
   "cell_type": "code",
   "execution_count": 86,
   "id": "7db0b73b-17f1-4d78-b1da-b9fd21bcb0c3",
   "metadata": {},
   "outputs": [
    {
     "name": "stdout",
     "output_type": "stream",
     "text": [
      "[3, 10, 10, 20, 20]\n"
     ]
    }
   ],
   "source": [
    "e=[20,10,20,3,10]\n",
    "for x in range(0,len(e)-1):\n",
    "    for y in range(0,len(e)-1-x):\n",
    "        if e[y]>e[y+1]:\n",
    "            e[y],e[y+1]=e[y+1],e[y]\n",
    "print(e)"
   ]
  },
  {
   "cell_type": "code",
   "execution_count": 80,
   "id": "9ec13d88-de37-4ee7-8cb1-2ffe2412b904",
   "metadata": {},
   "outputs": [
    {
     "name": "stdout",
     "output_type": "stream",
     "text": [
      "[10, 3, 20, 10, 20]\n"
     ]
    }
   ],
   "source": [
    "e=[20,10,20,3,10]\n",
    "for x in range(0,len(e)//2):\n",
    "    e[x],e[-(x+1)]=e[-(x+1)],e[x]\n",
    "print(e)"
   ]
  },
  {
   "cell_type": "code",
   "execution_count": 90,
   "id": "90c416fa-7ac9-43ae-bf73-fb069203bd63",
   "metadata": {},
   "outputs": [
    {
     "name": "stdout",
     "output_type": "stream",
     "text": [
      "10\n",
      "20\n",
      "3\n",
      "10\n",
      "20\n",
      "3\n",
      "10\n",
      "3\n",
      "10\n",
      "10\n"
     ]
    }
   ],
   "source": [
    "e=[20,10,20,3,10]\n",
    "for x in range(0,len(e)-1):\n",
    "    mi=x\n",
    "    for y in range(x+1,len(e)):\n",
    "        print(e[y])"
   ]
  },
  {
   "cell_type": "code",
   "execution_count": null,
   "id": "2db4e31e-b65e-4dba-8ce8-73c13b47598e",
   "metadata": {},
   "outputs": [
    {
     "ename": "SyntaxError",
     "evalue": "invalid syntax (3966595787.py, line 7)",
     "output_type": "error",
     "traceback": [
      "\u001b[1;36m  File \u001b[1;32m\"C:\\Users\\shiva\\AppData\\Local\\Temp\\ipykernel_17084\\3966595787.py\"\u001b[1;36m, line \u001b[1;32m7\u001b[0m\n\u001b[1;33m    r s[x]+=1\u001b[0m\n\u001b[1;37m      ^\u001b[0m\n\u001b[1;31mSyntaxError\u001b[0m\u001b[1;31m:\u001b[0m invalid syntax\n"
     ]
    }
   ],
   "source": [
    "s='shivaramraj'\n",
    "r=''\n",
    "for x in range(0,len(s)):\n",
    "    if s[x] not in r:\n",
    "        r+=s[x]\n",
    "        print(f'{s[x]}={s.count(s[x])}')"
   ]
  },
  {
   "cell_type": "code",
   "execution_count": 7,
   "id": "ea6bc381-3626-4e93-9acf-05ae51d5e655",
   "metadata": {},
   "outputs": [
    {
     "name": "stdout",
     "output_type": "stream",
     "text": [
      "{'s': 3, 'h': 1, 'i': 2, 'v': 2, 'a': 5, ' ': 9, 'n': 3, 'e': 3, 'r': 2, 'y': 3, 'g': 1, 'o': 10, 'd': 2, 'b': 1, 'c': 1, 'm': 1, 'p': 1, 't': 1}\n",
      "o\n"
     ]
    }
   ],
   "source": [
    "s='shiva is an very gooooood boy as compared to anyone'\n",
    "d={}\n",
    "for x in range(0,len(s)):\n",
    "    if s[x] not in d:\n",
    "        d[s[x]]=1\n",
    "    else:\n",
    "        d[s[x]]+=1\n",
    "print(d)\n",
    "vl=list(d.values())\n",
    "h=vl[0]\n",
    "for r in range(0,len(vl)):\n",
    "    if h<vl[r]:\n",
    "        h=vl[r]\n",
    "for k,v in d.items():\n",
    "    if v==h:\n",
    "        print(k)"
   ]
  },
  {
   "cell_type": "code",
   "execution_count": 39,
   "id": "7e082efc-bd9b-477c-bc28-fb650c2f5c93",
   "metadata": {},
   "outputs": [
    {
     "name": "stdout",
     "output_type": "stream",
     "text": [
      "gooooood\n",
      "compared\n"
     ]
    }
   ],
   "source": [
    "s='shiva is an very gooooood boy as compared to anyone'\n",
    "l=[]\n",
    "r=''\n",
    "for x in s:\n",
    "    if x!=' ':\n",
    "        r+=x\n",
    "    else:\n",
    "        l.append(r)\n",
    "        r=''\n",
    "l.append(r)\n",
    "d={}\n",
    "for r in range(0,len(l)):\n",
    "    if l[r] not in d:\n",
    "        d[l[r]]=len(l[r])\n",
    "vl=list(d.values())\n",
    "h=vl[0]\n",
    "for t in range(0,len(vl)):\n",
    "    if h<vl[t]:\n",
    "        h=vl[t]\n",
    "for k,v in d.items():\n",
    "    if h==v:\n",
    "        print(k)"
   ]
  },
  {
   "cell_type": "code",
   "execution_count": 42,
   "id": "db7c5583-1e04-4451-8f52-d77b429ac57c",
   "metadata": {},
   "outputs": [
    {
     "name": "stdout",
     "output_type": "stream",
     "text": [
      "malayalam\n",
      "ala\n",
      "alayala\n",
      "layal\n",
      "aya\n",
      "ala\n"
     ]
    }
   ],
   "source": [
    "s='malayalam'\n",
    "for x in range(0,len(s)):\n",
    "    for y in range(x+1,len(s)+1):\n",
    "        n=s[x:y]\n",
    "        r=''\n",
    "        for d in range(-1,-(len(n)+1),-1):\n",
    "            print(\n",
    "            "
   ]
  },
  {
   "cell_type": "code",
   "execution_count": 46,
   "id": "77a5b460-f075-459d-9058-43cf0e53f755",
   "metadata": {},
   "outputs": [
    {
     "name": "stdout",
     "output_type": "stream",
     "text": [
      "s\n",
      "h\n",
      "i\n",
      "v\n",
      "m\n",
      "j\n"
     ]
    }
   ],
   "source": [
    "s='shivaramraj'\n",
    "for x in s:\n",
    "    if s.count(x)<=1:\n",
    "        print(x)"
   ]
  },
  {
   "cell_type": "code",
   "execution_count": 76,
   "id": "e72bba5b-8a23-40b6-b55d-3c1e0a4404f7",
   "metadata": {},
   "outputs": [
    {
     "name": "stdout",
     "output_type": "stream",
     "text": [
      "r\n"
     ]
    }
   ],
   "source": [
    "s='engineering'\n",
    "d={}\n",
    "for x in range(0,len(s)):\n",
    "    if s[x] not in d:\n",
    "        d[s[x]]=1\n",
    "    else:\n",
    "        d[s[x]]+=1\n",
    "vl=list(d.values())\n",
    "h=vl[0]\n",
    "for r in range(0,len(vl)):\n",
    "    if h>vl[r]:\n",
    "        h=vl[r]\n",
    "for k,v in d.items():\n",
    "    if v==h:\n",
    "        print(k)"
   ]
  },
  {
   "cell_type": "code",
   "execution_count": 75,
   "id": "389f795b-1f99-4c6d-8e3a-11cd97adc7b1",
   "metadata": {},
   "outputs": [
    {
     "name": "stdout",
     "output_type": "stream",
     "text": [
      "[30, 15, 10, 9, 2]\n"
     ]
    }
   ],
   "source": [
    "l=[2,30,15,10,9]\n",
    "for x in range(0,len(l)-1):\n",
    "    for y in range(0,len(l)-1-x):\n",
    "        if l[y]<l[y+1]:\n",
    "            l[y],l[y+1]=l[y+1],l[y]\n",
    "print(l)"
   ]
  },
  {
   "cell_type": "code",
   "execution_count": 77,
   "id": "0856c854-4832-4d43-8d5d-d3155c2aae3c",
   "metadata": {},
   "outputs": [
    {
     "name": "stdout",
     "output_type": "stream",
     "text": [
      "[35, 9, 8, 30, 20, 10]\n"
     ]
    }
   ],
   "source": [
    "l=[10,20,30,8,9,35]\n",
    "for i in range(0,len(l)//2):\n",
    "    l[i],l[-(i+1)]=l[-(i+1)],l[i]\n",
    "print(l)\n",
    "    "
   ]
  },
  {
   "cell_type": "code",
   "execution_count": 83,
   "id": "74252c21-710f-435f-89fb-0f6c930496f6",
   "metadata": {},
   "outputs": [
    {
     "name": "stdout",
     "output_type": "stream",
     "text": [
      "SHIvaramRAJ\n"
     ]
    }
   ],
   "source": [
    "s='shiVARAMraj@123'\n",
    "r=''\n",
    "#x=s.upper()\n",
    "#print(x)\n",
    "for x in s:\n",
    "    if 'a'<=x<='z':\n",
    "        r+=chr(ord(x)-32)\n",
    "    else:\n",
    "        if 'A'<=x<='Z':\n",
    "            r+=chr(ord(x)+32)\n",
    "print(r)"
   ]
  },
  {
   "cell_type": "code",
   "execution_count": 85,
   "id": "4cd2fe64-7adb-45f1-b9fb-54901afff0f1",
   "metadata": {},
   "outputs": [
    {
     "name": "stdout",
     "output_type": "stream",
     "text": [
      "shivaramraj@123\n"
     ]
    }
   ],
   "source": [
    "s='shiVARAMraj@123'\n",
    "r=''\n",
    "#x=s.lower()\n",
    "#print(x)\n",
    "for d in range(0,len(s)):\n",
    "    if 'A'<=s[d]<='Z':\n",
    "        r+=chr(ord(s[d])+32)\n",
    "    else:\n",
    "        r+=s[d]\n",
    "print(r)"
   ]
  },
  {
   "cell_type": "code",
   "execution_count": 117,
   "id": "0acb1e5c-b553-48cc-b523-cb64f03b2903",
   "metadata": {},
   "outputs": [
    {
     "name": "stdout",
     "output_type": "stream",
     "text": [
      "5\n",
      "7\n",
      "10\n",
      "16\n",
      "22\n",
      "23\n"
     ]
    }
   ],
   "source": [
    "s='shiV ARAMrAj@123A@huihAA'\n",
    "r=''\n",
    "#x=s.lower()\n",
    "#print(x)\n",
    "for d in range(0,len(s)):\n",
    "    if s[d]==' ':\n",
    "        r+=chr(ord(s[d])+32+1)\n",
    "    else:\n",
    "        r+=s[d]\n",
    "for m in range(0,len(s)):\n",
    "    if s[m]=='A':\n",
    "        print(m)\n",
    "    "
   ]
  },
  {
   "cell_type": "code",
   "execution_count": 129,
   "id": "a2430256-fdfe-4324-947c-4e32aafc2fad",
   "metadata": {},
   "outputs": [
    {
     "data": {
      "text/plain": [
       "23"
      ]
     },
     "execution_count": 129,
     "metadata": {},
     "output_type": "execute_result"
    }
   ],
   "source": [
    "s.index('A',s.index('A',s.index('A',s.index('A',s.index('A',s.index('A')+1)+1)+1)+1)+1)"
   ]
  },
  {
   "cell_type": "code",
   "execution_count": 2,
   "id": "6e0ec441-1b7d-4406-9390-37aec7db7c72",
   "metadata": {},
   "outputs": [
    {
     "name": "stdout",
     "output_type": "stream",
     "text": [
      "prime\n"
     ]
    }
   ],
   "source": [
    "n=5\n",
    "if n>1:\n",
    "    for x in range(2,n//2+1):\n",
    "        if n%x==0:\n",
    "            print('not prime')\n",
    "            break\n",
    "    else:\n",
    "        print('prime')\n",
    "else:\n",
    "    print('not prime')"
   ]
  },
  {
   "cell_type": "code",
   "execution_count": 10,
   "id": "50328a60-85a2-4981-b85d-ccd4487608c8",
   "metadata": {},
   "outputs": [
    {
     "name": "stdout",
     "output_type": "stream",
     "text": [
      "ram raj\n",
      "x:100\n"
     ]
    }
   ],
   "source": [
    "def shiva():\n",
    "    print('ram raj')\n",
    "    return 100\n",
    "x=shiva()\n",
    "print(f'x:{x}')"
   ]
  },
  {
   "cell_type": "code",
   "execution_count": 11,
   "id": "e5dfebb8-758c-479e-9a64-7692ed384faa",
   "metadata": {},
   "outputs": [
    {
     "name": "stdout",
     "output_type": "stream",
     "text": [
      "0\n",
      "0\n",
      "1\n",
      "2\n",
      "4\n"
     ]
    }
   ],
   "source": [
    "l=[21,12,15,10,19,16]\n",
    "for x in range(0,len(l)-1):\n",
    "    mi=x\n",
    "    #print(mi)\n",
    "    for y in range(x+1,len(l)):\n",
    "        if l[mi]>l[y]:\n",
    "            mi=y\n",
    "            #print(mi)\n",
    "            print(x)"
   ]
  },
  {
   "cell_type": "markdown",
   "id": "0985d710-f474-446e-8ef9-3ddb9e16badf",
   "metadata": {},
   "source": [
    "## string programs "
   ]
  },
  {
   "cell_type": "code",
   "execution_count": 9,
   "id": "f2136391-6e8b-42b4-91f4-045ce639c65e",
   "metadata": {},
   "outputs": [
    {
     "name": "stdout",
     "output_type": "stream",
     "text": [
      "['class', 'attend', 'to', 'want', 'we']\n",
      "<class 'str'>\n",
      "class attend to want we\n"
     ]
    }
   ],
   "source": [
    "s='we want to attend class'\n",
    "l=[]\n",
    "r=''\n",
    "for x in s:\n",
    "    if x!=' ':\n",
    "        r+=x\n",
    "    else:\n",
    "        l.append(r)\n",
    "        r=''\n",
    "l.append(r)\n",
    "for m in range(0,len(l)//2):\n",
    "    l[m],l[-(m+1)]=l[-(m+1)],l[m]\n",
    "print(l)\n",
    "k=''\n",
    "for v in range(0,len(l)):\n",
    "    k+=l[v]+' '\n",
    "print(type(k))\n",
    "print(k[:-1])"
   ]
  },
  {
   "cell_type": "code",
   "execution_count": 31,
   "id": "cea20a16-753a-4351-9414-37651296f1b7",
   "metadata": {},
   "outputs": [
    {
     "name": "stdout",
     "output_type": "stream",
     "text": [
      "ew tnaw ot dnetta ssalc\n"
     ]
    }
   ],
   "source": [
    "s='we want to attend class'\n",
    "l=[]\n",
    "r=''\n",
    "for x in range(0,len(s)):\n",
    "    if s[x]!=' ':\n",
    "        r+=s[x]\n",
    "    else:\n",
    "        l.append(r)\n",
    "        r=''\n",
    "l.append(r)\n",
    "for x in range(0,len(l)):\n",
    "    l[x]=l[x][::-1]\n",
    "b=''\n",
    "for d in range(0,len(l)):\n",
    "    b+=l[d]+' '\n",
    "print(b[:-1])"
   ]
  },
  {
   "cell_type": "code",
   "execution_count": 50,
   "id": "72778548-a3c0-4071-bfe6-55c1df60c8e6",
   "metadata": {},
   "outputs": [
    {
     "name": "stdout",
     "output_type": "stream",
     "text": [
      "['we', 'want', 'to', 'attend', 'class', 'because', 'we', 'want', 'job', 'soon', 'to', 'earn']\n",
      "{'we': 2, 'want': 2, 'to': 2, 'attend': 1, 'class': 1, 'because': 1, 'job': 1, 'soon': 1, 'earn': 1}\n",
      "we\n",
      "want\n",
      "to\n"
     ]
    }
   ],
   "source": [
    "s='we want to attend class because we want job soon to earn'\n",
    "l=[]\n",
    "r=''\n",
    "for a in range(0,len(s)):\n",
    "    if s[a]!=' ':\n",
    "        r+=s[a]\n",
    "    else:\n",
    "        l.append(r)\n",
    "        r=''\n",
    "l.append(r)\n",
    "print(l)\n",
    "d={}\n",
    "for x in range(0,len(l)):\n",
    "        if l[x] not in d:\n",
    "            d[l[x]]=len([l[x]])\n",
    "        else:\n",
    "            d[l[x]]+=1\n",
    "print(d)\n",
    "r=list(d.values())\n",
    "h=r[0]\n",
    "for n in range(0,len(d)):\n",
    "    if h<r[n]:\n",
    "        h=r[n]\n",
    "for k,v in d.items():\n",
    "    if v==h:\n",
    "        print(k)"
   ]
  },
  {
   "cell_type": "code",
   "execution_count": 52,
   "id": "eef843c8-d28a-4e27-9247-a8ec0b546fef",
   "metadata": {},
   "outputs": [
    {
     "name": "stdout",
     "output_type": "stream",
     "text": [
      "s=1\n",
      "h=4\n",
      "i=1\n",
      "v=1\n",
      "r=2\n",
      "a=2\n",
      "m=1\n",
      "f=1\n",
      "u=1\n"
     ]
    }
   ],
   "source": [
    "l=[10,20,39,10,29,40]\n",
    "d={}\n",
    "for x in l:\n",
    "    if x not in d:\n",
    "        "
   ]
  },
  {
   "cell_type": "code",
   "execution_count": 54,
   "id": "91e5e1d8-20de-414c-adc0-a3e1315c9019",
   "metadata": {},
   "outputs": [
    {
     "name": "stdout",
     "output_type": "stream",
     "text": [
      "[10, 20, 30]\n"
     ]
    }
   ],
   "source": [
    "l=[10,20,10,30]\n",
    "d=[]\n",
    "for x in range(0,len(l)):\n",
    "    if l[x] not in d:\n",
    "        d.append(l[x])\n",
    "print(d)"
   ]
  },
  {
   "cell_type": "code",
   "execution_count": 56,
   "id": "c6530321-d433-4c4e-8ed4-00e78dd86ff4",
   "metadata": {},
   "outputs": [
    {
     "name": "stdout",
     "output_type": "stream",
     "text": [
      "[71, 43, 21, 12, 10, 3]\n"
     ]
    }
   ],
   "source": [
    "l=[10,3,12,43,21,71]\n",
    "for x in range(0,len(l)-1):\n",
    "    for y in range(0,len(l)-1-x):\n",
    "        if l[y]>l[(y+1)]:\n",
    "            l[y],l[(y+1)]=l[(y+1)],l[y]\n",
    "print(l)"
   ]
  },
  {
   "cell_type": "code",
   "execution_count": 59,
   "id": "f4e321b8-54e8-410f-945d-b66e213e9ea0",
   "metadata": {},
   "outputs": [
    {
     "name": "stdout",
     "output_type": "stream",
     "text": [
      "[3, 10, 12, 21, 43, 71]\n"
     ]
    }
   ],
   "source": [
    "l=[10,3,12,43,21,71]\n",
    "for x in range(0,len(l)-1):\n",
    "    m=x\n",
    "    for y in range(x+1,len(l)):\n",
    "        if l[m]>l[y]:\n",
    "            m=y\n",
    "            l[x],l[m]=l[m],l[x]\n",
    "print(l)"
   ]
  },
  {
   "cell_type": "code",
   "execution_count": 61,
   "id": "e7e650c4-e316-4f0a-89df-f5858b3c71c5",
   "metadata": {},
   "outputs": [
    {
     "name": "stdout",
     "output_type": "stream",
     "text": [
      "3\n"
     ]
    }
   ],
   "source": [
    "h=l[0]\n",
    "for x in range(0,len(l)):\n",
    "    if h>l[x]:\n",
    "        h=l[x]\n",
    "print(h)"
   ]
  },
  {
   "cell_type": "code",
   "execution_count": 67,
   "id": "6bf03a9f-2dd3-4174-9ffe-4b06bd10be56",
   "metadata": {},
   "outputs": [
    {
     "name": "stdout",
     "output_type": "stream",
     "text": [
      "[71, 21, 43, 12, 3, 10]\n"
     ]
    }
   ],
   "source": [
    "l=[10,3,12,43,21,71]\n",
    "for x in range(0,len(l)//2):\n",
    "    l[x],l[-(x+1)]=l[-(x+1)],l[x]\n",
    "print(l)"
   ]
  },
  {
   "cell_type": "code",
   "execution_count": 66,
   "id": "a1b342ea-6e45-498c-bc13-1ab15ce8ad4a",
   "metadata": {},
   "outputs": [
    {
     "name": "stdout",
     "output_type": "stream",
     "text": [
      "[71, 21, 43, 12, 3, 10]\n"
     ]
    }
   ],
   "source": [
    "r=[10,3,12,43,21,71]\n",
    "for x in range(0,len(r)//2):\n",
    "    r[x],r[-(x+1)]=r[-(x+1)],r[x]\n",
    "print(r)"
   ]
  },
  {
   "cell_type": "code",
   "execution_count": 75,
   "id": "1c399a18-b7fc-4f36-9eb2-7263a28b4762",
   "metadata": {},
   "outputs": [
    {
     "name": "stdout",
     "output_type": "stream",
     "text": [
      "['shiva', 'ram']\n"
     ]
    }
   ],
   "source": [
    "s='shiva ram raj'\n",
    "r=[]\n",
    "res=''\n",
    "for x in range(0,len(s)):\n",
    "    if s[x]!=' ':\n",
    "        res+=s[x]\n",
    "    else:\n",
    "        r.append(res)\n",
    "        res=''\n",
    "l.append(res)\n",
    "print(r)"
   ]
  },
  {
   "cell_type": "code",
   "execution_count": 189,
   "id": "1bf1b9c6-fb08-466f-ab9d-c3821b48a528",
   "metadata": {},
   "outputs": [],
   "source": [
    "p=[10,20,30,10,20]\n",
    "for x in range(0,len(p)//2):\n",
    "    if p[x]==p[-()]:\n",
    "        p.remove(p[-(x+1)])\n",
    "print(p)"
   ]
  },
  {
   "cell_type": "code",
   "execution_count": null,
   "id": "4a831003-b937-42d6-afec-a6db71239fb8",
   "metadata": {},
   "outputs": [],
   "source": []
  },
  {
   "cell_type": "code",
   "execution_count": 2,
   "id": "2ced7b37-d37e-4ff3-b979-c76e56f9b314",
   "metadata": {},
   "outputs": [
    {
     "name": "stdout",
     "output_type": "stream",
     "text": [
      "not prime\n"
     ]
    }
   ],
   "source": [
    "n=12\n",
    "if n>1:\n",
    "    for x in range(2,n//2+1):\n",
    "        if n%x==0:\n",
    "            print('not prime')\n",
    "            break\n",
    "    else:\n",
    "        print('prime number')\n",
    "else:\n",
    "    print('not prime')"
   ]
  },
  {
   "cell_type": "markdown",
   "id": "06c31a4f-bb60-4567-a27f-35e17f6acfb7",
   "metadata": {},
   "source": [
    "### factors of given number "
   ]
  },
  {
   "cell_type": "code",
   "execution_count": 4,
   "id": "e8f7ad24-2162-47cc-b59f-35f8648c6e78",
   "metadata": {},
   "outputs": [
    {
     "name": "stdout",
     "output_type": "stream",
     "text": [
      "1\n",
      "2\n",
      "3\n",
      "4\n",
      "6\n",
      "8\n",
      "12\n",
      "24\n"
     ]
    }
   ],
   "source": [
    "n=24\n",
    "for x in range(1,n+1):\n",
    "    if n%x==0:\n",
    "        print(x)"
   ]
  },
  {
   "cell_type": "code",
   "execution_count": 8,
   "id": "571d7eef-8119-46d1-973b-5fdac86be44d",
   "metadata": {},
   "outputs": [
    {
     "name": "stdout",
     "output_type": "stream",
     "text": [
      "not amstrong\n"
     ]
    }
   ],
   "source": [
    "# wap to print amstrong number\n",
    "n=162\n",
    "num=n\n",
    "res=0\n",
    "p=len(str(num))\n",
    "while n!=0:\n",
    "    rem=n%10\n",
    "    n//=10\n",
    "    res=res+rem**p\n",
    "if res==num:\n",
    "    print('amstrong')\n",
    "else:\n",
    "    print('not amstrong')\n",
    "    "
   ]
  },
  {
   "cell_type": "code",
   "execution_count": 10,
   "id": "b9535019-7f01-4f24-ae72-1cb75ccbcfe9",
   "metadata": {},
   "outputs": [
    {
     "name": "stdout",
     "output_type": "stream",
     "text": [
      "not disarum\n"
     ]
    }
   ],
   "source": [
    "# wap to print disarum  number\n",
    "n=235\n",
    "num=n\n",
    "res=0\n",
    "p=len(str(num))\n",
    "while n!=0:\n",
    "    rem=n%10\n",
    "    n//=10\n",
    "    res=res+rem**p\n",
    "    p-=1\n",
    "if res==num:\n",
    "    print('disarum')\n",
    "else:\n",
    "    print('not disarum')\n",
    "    "
   ]
  },
  {
   "cell_type": "code",
   "execution_count": 11,
   "id": "b69c13cc-7ad1-42bb-a33f-6816e262014f",
   "metadata": {},
   "outputs": [
    {
     "name": "stdout",
     "output_type": "stream",
     "text": [
      "not niven number\n"
     ]
    }
   ],
   "source": [
    "#niven number\n",
    "n=125\n",
    "n=num\n",
    "res=0\n",
    "while n!=0:\n",
    "    rem=n%10\n",
    "    n//=10\n",
    "    res=res+rem\n",
    "if num%res==0:\n",
    "    print('niven number')\n",
    "else:\n",
    "    print('not niven number')"
   ]
  },
  {
   "cell_type": "code",
   "execution_count": 20,
   "id": "8836edf5-62ab-450e-883d-f755a2335ffb",
   "metadata": {},
   "outputs": [
    {
     "name": "stdout",
     "output_type": "stream",
     "text": [
      "720\n"
     ]
    }
   ],
   "source": [
    "#wap to get factorial of given number\n",
    "n=6\n",
    "f=1\n",
    "for x in range(1,n+1):\n",
    "    f=f*x\n",
    "print(f)"
   ]
  },
  {
   "cell_type": "code",
   "execution_count": 21,
   "id": "dfc1cb56-1b2f-4e97-a6b2-adf9b9e46d70",
   "metadata": {},
   "outputs": [
    {
     "name": "stdout",
     "output_type": "stream",
     "text": [
      "24\n"
     ]
    }
   ],
   "source": [
    "n=4\n",
    "f=1\n",
    "for x in range(1,n+1):\n",
    "    f=f*x\n",
    "print(f)"
   ]
  },
  {
   "cell_type": "code",
   "execution_count": 24,
   "id": "0e772349-0e71-4ca4-91b3-66863f9e4ca1",
   "metadata": {},
   "outputs": [
    {
     "name": "stdout",
     "output_type": "stream",
     "text": [
      "145\n"
     ]
    }
   ],
   "source": [
    "# wap to know given number is spl number or not \n",
    "n=145\n",
    "num=n\n",
    "res=0\n",
    "while n!=0:\n",
    "    rem=n%10\n",
    "    n//=10\n",
    "    f=1\n",
    "    for x in range(1,rem+1):\n",
    "        f=f*x\n",
    "    res+=f\n",
    "print(res)\n",
    "            "
   ]
  },
  {
   "cell_type": "code",
   "execution_count": 39,
   "id": "a2cdfa1f-1191-4166-873b-b3304fdc2e69",
   "metadata": {},
   "outputs": [
    {
     "name": "stdout",
     "output_type": "stream",
     "text": [
      "prime number\n"
     ]
    }
   ],
   "source": [
    "# wap to reverse the numbre\n",
    "n=131\n",
    "num=n\n",
    "res=0\n",
    "while n!=0:\n",
    "    rem=n%10\n",
    "    n//=10\n",
    "    res=res*10+rem\n",
    "if num==res and num>1:\n",
    "    for x in range(2,num//2+1):\n",
    "        if num%x==0:\n",
    "            print('not prime')\n",
    "            break\n",
    "    else:\n",
    "        print('prime number')\n",
    "else:\n",
    "    print('ot prime')"
   ]
  },
  {
   "cell_type": "code",
   "execution_count": 3,
   "id": "8ff1753b-f6e7-4dae-8da5-9f6cc023364c",
   "metadata": {},
   "outputs": [
    {
     "name": "stdout",
     "output_type": "stream",
     "text": [
      "11\n",
      "engineering\n"
     ]
    }
   ],
   "source": [
    "s='engineering'\n",
    "print(len(s))\n",
    "print(s)"
   ]
  },
  {
   "cell_type": "code",
   "execution_count": 4,
   "id": "77f32e21-3933-4678-90c0-b57df5a9e369",
   "metadata": {},
   "outputs": [
    {
     "data": {
      "text/plain": [
       "98"
      ]
     },
     "execution_count": 4,
     "metadata": {},
     "output_type": "execute_result"
    }
   ],
   "source": [
    "ord('b')"
   ]
  },
  {
   "cell_type": "code",
   "execution_count": 5,
   "id": "59665d95-3621-4313-ac4e-5b229212a3a3",
   "metadata": {},
   "outputs": [
    {
     "data": {
      "text/plain": [
       "66"
      ]
     },
     "execution_count": 5,
     "metadata": {},
     "output_type": "execute_result"
    }
   ],
   "source": [
    "ord('B')"
   ]
  },
  {
   "cell_type": "code",
   "execution_count": 16,
   "id": "0a59494a-8bf0-463c-ba0a-5f93f6989661",
   "metadata": {},
   "outputs": [
    {
     "name": "stdout",
     "output_type": "stream",
     "text": [
      "[10, 20, 30, 30, 10, 25, 10, 6, 8]\n"
     ]
    }
   ],
   "source": [
    "l=[10,20,30,30,10,25,10,6,8,35]\n",
    "l.pop()\n",
    "print(l)"
   ]
  },
  {
   "cell_type": "code",
   "execution_count": 22,
   "id": "41cf50b7-7c78-4ef2-b6ee-d1c9fbb7aaf7",
   "metadata": {},
   "outputs": [
    {
     "name": "stdout",
     "output_type": "stream",
     "text": [
      "{'b', 'c', 'a', 70, 10, 'd', 'e', 20, 30}\n"
     ]
    }
   ],
   "source": [
    "d=set()\n",
    "d.update([20,30,],'abcde',(10,70))\n",
    "print(d)"
   ]
  },
  {
   "cell_type": "code",
   "execution_count": 24,
   "id": "b376f686-2494-41c4-81e1-4f845576ce0d",
   "metadata": {},
   "outputs": [
    {
     "name": "stdout",
     "output_type": "stream",
     "text": [
      "{'b', 'c', 'a', 70, 200, 10, 'd', 'e', 20, 30}\n"
     ]
    }
   ],
   "source": [
    "d=set()\n",
    "d.add(200)\n",
    "d.update([20,30,],'abcde',(10,70))\n",
    "print(d)"
   ]
  },
  {
   "cell_type": "code",
   "execution_count": 38,
   "id": "e9bfaf33-95fc-4376-a2d6-2f1debe2a7fd",
   "metadata": {},
   "outputs": [
    {
     "name": "stdout",
     "output_type": "stream",
     "text": [
      "{'c', 70, 200, 10, 'd', 'e', 20, 30}\n"
     ]
    }
   ],
   "source": [
    "d=set()\n",
    "d.add(200)\n",
    "d.update([20,30,],'abcde',(10,70))\n",
    "d.remove('a')\n",
    "d.discard(300)\n",
    "d.pop()\n",
    "print(d)"
   ]
  },
  {
   "cell_type": "code",
   "execution_count": 72,
   "id": "5c1c484d-4dff-46df-9c71-1da6be52e5c5",
   "metadata": {},
   "outputs": [
    {
     "name": "stdout",
     "output_type": "stream",
     "text": [
      "{'a': 10, 'b': 10, 'c': 10, 'd': 10, 'e': 10}\n"
     ]
    }
   ],
   "source": [
    "d={}\n",
    "d=d.fromkeys('abcde',10)\n",
    "print(d)"
   ]
  },
  {
   "cell_type": "code",
   "execution_count": 73,
   "id": "f03a3006-5723-471b-8bf4-5d1601a08ac0",
   "metadata": {},
   "outputs": [
    {
     "name": "stdout",
     "output_type": "stream",
     "text": [
      "[1, 3, 1, 2, 32, 2, 2, 33, 1, 456, 2, 1]\n"
     ]
    }
   ],
   "source": [
    "l=[1,2,3,1,2,32,2,2,33,1,456,2,1]\n",
    "for i in range(0,len(l)-2):\n",
    "    if l[i]==l[i+1]:\n",
    "        l.remove(l[i])\n",
    "print(l)"
   ]
  },
  {
   "cell_type": "code",
   "execution_count": 70,
   "id": "b9e3a41f-7977-4fe2-9f0b-ebe480adce4f",
   "metadata": {},
   "outputs": [
    {
     "name": "stdout",
     "output_type": "stream",
     "text": [
      "10676460\n"
     ]
    }
   ],
   "source": [
    "l=[1,23,10676460,2000,20000]\n",
    "d={}\n",
    "for x in l:\n",
    "    if x not in d:\n",
    "        d[x]=len(str(x))\n",
    "vl=list(d.values())\n",
    "h=max(vl)\n",
    "for k,v in d.items():\n",
    "    if h==v:\n",
    "        print(k)"
   ]
  },
  {
   "cell_type": "code",
   "execution_count": 85,
   "id": "56d550c7-3700-4526-a76d-4e607b1f9ddd",
   "metadata": {},
   "outputs": [
    {
     "name": "stdout",
     "output_type": "stream",
     "text": [
      "<class 'list'>\n",
      "{'a': 'b', 10: 20}\n"
     ]
    }
   ],
   "source": [
    "a=[('a','b'),(10,20)]\n",
    "print(type(a))\n",
    "x=dict(a)\n",
    "print(x)"
   ]
  },
  {
   "cell_type": "code",
   "execution_count": 13,
   "id": "5dd0d692-9573-4a7c-a49c-7120c675e80a",
   "metadata": {},
   "outputs": [
    {
     "name": "stdout",
     "output_type": "stream",
     "text": [
      "13\n",
      "14\n",
      "19\n"
     ]
    }
   ],
   "source": [
    "l=[20,13,17,14,16,19]\n",
    "for x in range(0, len(l)):\n",
    "    if x%2!=0:\n",
    "        print(l[x])"
   ]
  },
  {
   "cell_type": "code",
   "execution_count": 26,
   "id": "1f6a6b28-5770-47cc-b787-b80da866ce94",
   "metadata": {},
   "outputs": [
    {
     "name": "stdout",
     "output_type": "stream",
     "text": [
      "[45, 30, 20, 12, 6, 4]\n"
     ]
    }
   ],
   "source": [
    "l=[20,30,12,4,6,45]\n",
    "for x in range(0, len(l)):\n",
    "    for y in range(0,len((l))-1-x):\n",
    "        if l[y]<l[y+1]:\n",
    "            l[y],l[y+1]=l[y+1],l[y]\n",
    "print(l)            "
   ]
  },
  {
   "cell_type": "code",
   "execution_count": 4,
   "id": "d3511d47-bb8e-4578-8e89-4be363612657",
   "metadata": {},
   "outputs": [
    {
     "data": {
      "text/plain": [
       "120"
      ]
     },
     "execution_count": 4,
     "metadata": {},
     "output_type": "execute_result"
    }
   ],
   "source": [
    "def factorial(n):\n",
    "    fact=1\n",
    "    for x in range(1,n+1):\n",
    "        fact=fact*x\n",
    "    return fact\n",
    "factorial(5)"
   ]
  },
  {
   "cell_type": "code",
   "execution_count": 18,
   "id": "b772b9a5-585b-4786-b38a-6dde70e65e99",
   "metadata": {},
   "outputs": [
    {
     "name": "stdin",
     "output_type": "stream",
     "text": [
      "enter the value of k: 11\n"
     ]
    },
    {
     "name": "stdout",
     "output_type": "stream",
     "text": [
      "prime\n"
     ]
    }
   ],
   "source": [
    "def prime(n):\n",
    "    if n<=1:\n",
    "        return False\n",
    "    for x in range(2,n//2+1):\n",
    "        if n%x==0:\n",
    "            return False\n",
    "    return True\n",
    "#x=prime(13)\n",
    "#print(x)\n",
    "k=int(input('enter the value of k:'))\n",
    "prime(k)\n",
    "x=(prime(k))\n",
    "if x:\n",
    "    print('prime')\n",
    "else:\n",
    "    print('not prime')"
   ]
  },
  {
   "cell_type": "code",
   "execution_count": null,
   "id": "b13d19d0-83da-45a2-b10a-874312d1cdba",
   "metadata": {},
   "outputs": [],
   "source": []
  }
 ],
 "metadata": {
  "kernelspec": {
   "display_name": "Python 3 (ipykernel)",
   "language": "python",
   "name": "python3"
  },
  "language_info": {
   "codemirror_mode": {
    "name": "ipython",
    "version": 3
   },
   "file_extension": ".py",
   "mimetype": "text/x-python",
   "name": "python",
   "nbconvert_exporter": "python",
   "pygments_lexer": "ipython3",
   "version": "3.9.13"
  }
 },
 "nbformat": 4,
 "nbformat_minor": 5
}
