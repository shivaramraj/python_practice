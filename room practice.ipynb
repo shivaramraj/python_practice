{
 "cells": [
  {
   "cell_type": "code",
   "execution_count": 1,
   "id": "26ff5a40-a2ec-4347-be56-bd6b53d6db9e",
   "metadata": {},
   "outputs": [
    {
     "name": "stdout",
     "output_type": "stream",
     "text": [
      "* \n",
      "* * \n",
      "* * * \n",
      "* * * * \n",
      "* * * \n",
      "* * \n",
      "* \n"
     ]
    }
   ],
   "source": [
    "n=7\n",
    "st=1\n",
    "for a in range(n):\n",
    "    for b in range(st):\n",
    "        print('*',end=' ')\n",
    "    print()\n",
    "    if a<n//2:\n",
    "        st+=1\n",
    "    else:\n",
    "        st-=1"
   ]
  },
  {
   "cell_type": "code",
   "execution_count": 5,
   "id": "70ca64b7-74c0-4e29-bed7-8f14d4304790",
   "metadata": {},
   "outputs": [
    {
     "name": "stdout",
     "output_type": "stream",
     "text": [
      "    * \n",
      "  * * \n",
      "* * * \n",
      "  * * \n",
      "    * \n"
     ]
    }
   ],
   "source": [
    "n=5\n",
    "sp=n//2\n",
    "st=1\n",
    "for a in range(n):\n",
    "    for b in range(sp):\n",
    "        print(' ',end=' ')\n",
    "    for c in range(st):\n",
    "        print('*',end=' ')\n",
    "    print()\n",
    "    if a<n//2:\n",
    "        st+=1\n",
    "        sp-=1\n",
    "    else:\n",
    "        st-=1\n",
    "        sp+=1"
   ]
  },
  {
   "cell_type": "code",
   "execution_count": 7,
   "id": "a119ed6d-24b4-48ac-9c68-9b80ba1a95a4",
   "metadata": {},
   "outputs": [
    {
     "name": "stdout",
     "output_type": "stream",
     "text": [
      "a is great\n"
     ]
    }
   ],
   "source": [
    "a,b,c=20,10,5\n",
    "if a>b:\n",
    "    if a>c:\n",
    "        print('a is great')\n",
    "    else:\n",
    "        print('c is great')\n",
    "else:\n",
    "    if b>c:\n",
    "        print('b is great')\n",
    "    else:\n",
    "        print('c is great')"
   ]
  },
  {
   "cell_type": "code",
   "execution_count": 9,
   "id": "9692cf12-8e4a-48a3-9698-a7f5b7f19b05",
   "metadata": {},
   "outputs": [
    {
     "name": "stdout",
     "output_type": "stream",
     "text": [
      "b is great\n"
     ]
    }
   ],
   "source": [
    "a,b,c=2,10,5\n",
    "if a>b and a>c:\n",
    "    print('a is great')\n",
    "elif b>c:\n",
    "    print('b is great')\n",
    "else:\n",
    "    print('c is great')"
   ]
  },
  {
   "cell_type": "code",
   "execution_count": 12,
   "id": "302ad4c2-aa80-4967-aaf8-92973a199e21",
   "metadata": {},
   "outputs": [
    {
     "name": "stdin",
     "output_type": "stream",
     "text": [
      "ente the year: 2024\n"
     ]
    },
    {
     "name": "stdout",
     "output_type": "stream",
     "text": [
      "2024:is a leap year\n"
     ]
    }
   ],
   "source": [
    "year=int(input('ente the year:'))\n",
    "if year%4==0 and year%100!=0:\n",
    "    print(f'{year}:is a leap year')\n",
    "elif year%400==0:\n",
    "    print(f'{year}: is a leap year')\n",
    "else:\n",
    "          print(f'{year} is not a leap year')"
   ]
  },
  {
   "cell_type": "code",
   "execution_count": 16,
   "id": "bf55e90b-01f7-4be7-a137-159dcc4576ac",
   "metadata": {},
   "outputs": [
    {
     "name": "stdin",
     "output_type": "stream",
     "text": [
      "ente the year: 2024\n"
     ]
    },
    {
     "name": "stdout",
     "output_type": "stream",
     "text": [
      "year is a leap year\n"
     ]
    }
   ],
   "source": [
    "year=int(input('ente the year:'))\n",
    "if year%4==0:\n",
    "    if year%100==0:\n",
    "        if year%400==0:\n",
    "            print('year is a leap year')\n",
    "        else:\n",
    "            print('year is not aleap year')\n",
    "    else:\n",
    "        print('year is a leap year')\n",
    "else:\n",
    "    print('year is not a leap year')"
   ]
  },
  {
   "cell_type": "code",
   "execution_count": 17,
   "id": "ea4250bc-9512-4932-ae5d-71b8356cfcdc",
   "metadata": {},
   "outputs": [
    {
     "name": "stdin",
     "output_type": "stream",
     "text": [
      "ente the year: 2024\n"
     ]
    },
    {
     "name": "stdout",
     "output_type": "stream",
     "text": [
      "year is a leap year\n"
     ]
    }
   ],
   "source": [
    "year=int(input('ente the year:'))\n",
    "if year%4==0 or (year%100!=0 and year%400==0):\n",
    "    print('year is a leap year')\n",
    "else:\n",
    "    print('year is not a leap year')"
   ]
  },
  {
   "cell_type": "code",
   "execution_count": 18,
   "id": "b8ff8c3b-dd00-446a-a6fe-72f9fa718ca9",
   "metadata": {},
   "outputs": [
    {
     "name": "stdout",
     "output_type": "stream",
     "text": [
      "* * * * * \n",
      "* * * * * \n",
      "* * * * * \n",
      "* * * * * \n",
      "* * * * * \n"
     ]
    }
   ],
   "source": [
    "n=5\n",
    "st=n\n",
    "for a in range(n):  \n",
    "    for b in range(st):\n",
    "        print('*',end=' ')\n",
    "    print()"
   ]
  },
  {
   "cell_type": "code",
   "execution_count": 4,
   "id": "f5a1e5cd-a1ce-4bcd-8e0a-131013197520",
   "metadata": {},
   "outputs": [
    {
     "name": "stdout",
     "output_type": "stream",
     "text": [
      "1 1 1 1 1 1 \n",
      "2 2 2 2 2 2 \n",
      "3 3 3 3 3 3 \n",
      "4 4 4 4 4 4 \n",
      "5 5 5 5 5 5 \n",
      "6 6 6 6 6 6 \n"
     ]
    }
   ],
   "source": [
    "n=6\n",
    "st=n\n",
    "num=1\n",
    "for a in range(n):  \n",
    "    for b in range(st):\n",
    "        print(num,end=' ')\n",
    "    print()\n",
    "    num+=1\n",
    "    "
   ]
  },
  {
   "cell_type": "code",
   "execution_count": 38,
   "id": "28621ef8-9974-47c6-9ddb-7daae0108402",
   "metadata": {},
   "outputs": [
    {
     "name": "stdin",
     "output_type": "stream",
     "text": [
      "enter the value of n: 5\n"
     ]
    },
    {
     "name": "stdout",
     "output_type": "stream",
     "text": [
      "* \n",
      "* * \n",
      "* * * \n",
      "* * * * \n",
      "* * * * * \n"
     ]
    }
   ],
   "source": [
    "n=int(input('enter the value of n:'))\n",
    "st=1\n",
    "for a in range(n): \n",
    "    for b in range(st):  \n",
    "        print('*',end=' ')\n",
    "    print()\n",
    "    st+=1"
   ]
  },
  {
   "cell_type": "code",
   "execution_count": 43,
   "id": "d8b4c42a-d2eb-4ea1-a01c-4b9d2ebff06e",
   "metadata": {},
   "outputs": [
    {
     "name": "stdin",
     "output_type": "stream",
     "text": [
      "enter the value of n: 5\n"
     ]
    },
    {
     "name": "stdout",
     "output_type": "stream",
     "text": [
      "* * * * * \n",
      "* * * * \n",
      "* * * \n",
      "* * \n",
      "* \n"
     ]
    }
   ],
   "source": [
    "n=int(input('enter the value of n:'))\n",
    "st=5\n",
    "for a in range(n): \n",
    "    for b in range(st):  \n",
    "        print('*',end=' ')\n",
    "    print()\n",
    "    st-=1"
   ]
  },
  {
   "cell_type": "code",
   "execution_count": 45,
   "id": "671ded5a-cce9-4839-832c-6e10c11a8aa1",
   "metadata": {},
   "outputs": [
    {
     "name": "stdin",
     "output_type": "stream",
     "text": [
      "enter the value of n: 5\n"
     ]
    },
    {
     "name": "stdout",
     "output_type": "stream",
     "text": [
      "        * \n",
      "      * * \n",
      "    * * * \n",
      "  * * * * \n",
      "* * * * * \n"
     ]
    }
   ],
   "source": [
    "n=int(input('enter the value of n:'))\n",
    "st=1\n",
    "sp=n-1\n",
    "for a in range(n):\n",
    "    for b in range(sp):\n",
    "        print(' ',end=' ')\n",
    "    for c in range(st):\n",
    "        print('*',end=' ')\n",
    "    print()\n",
    "    st+=1\n",
    "    sp-=1"
   ]
  },
  {
   "cell_type": "code",
   "execution_count": 46,
   "id": "756cff62-1564-49ab-afe2-8f1800de0297",
   "metadata": {},
   "outputs": [
    {
     "name": "stdin",
     "output_type": "stream",
     "text": [
      "enter the value of n: 5\n"
     ]
    },
    {
     "name": "stdout",
     "output_type": "stream",
     "text": [
      "* * * * * \n",
      "  * * * * \n",
      "    * * * \n",
      "      * * \n",
      "        * \n"
     ]
    }
   ],
   "source": [
    "n=int(input('enter the value of n:'))\n",
    "st=5\n",
    "sp=0\n",
    "for a in range(n):\n",
    "    for b in range(sp):\n",
    "        print(' ',end=' ')\n",
    "    for c in range(st):\n",
    "        print('*',end=' ')\n",
    "    print()\n",
    "    st-=1\n",
    "    sp+=1"
   ]
  },
  {
   "cell_type": "code",
   "execution_count": 47,
   "id": "d6446e71-c197-4743-b314-ecd150875e72",
   "metadata": {},
   "outputs": [
    {
     "name": "stdin",
     "output_type": "stream",
     "text": [
      "enter the value of n: 5\n"
     ]
    },
    {
     "name": "stdout",
     "output_type": "stream",
     "text": [
      "        * \n",
      "      * * * \n",
      "    * * * * * \n",
      "  * * * * * * * \n",
      "* * * * * * * * * \n"
     ]
    }
   ],
   "source": [
    "n=int(input('enter the value of n:'))\n",
    "st=1\n",
    "sp=n-1\n",
    "for a in range(n):\n",
    "    for b in range(sp):\n",
    "        print(' ',end=' ')\n",
    "    for c in range(st):\n",
    "        print('*',end=' ')\n",
    "    print()\n",
    "    st+=2\n",
    "    sp-=1"
   ]
  },
  {
   "cell_type": "code",
   "execution_count": 49,
   "id": "2399995a-d267-4d52-a415-ff58cf493013",
   "metadata": {},
   "outputs": [
    {
     "name": "stdin",
     "output_type": "stream",
     "text": [
      "enter the value of n: 5\n"
     ]
    },
    {
     "name": "stdout",
     "output_type": "stream",
     "text": [
      "* * * * * * * * * \n",
      "  * * * * * * * \n",
      "    * * * * * \n",
      "      * * * \n",
      "        * \n"
     ]
    }
   ],
   "source": [
    "n=int(input('enter the value of n:'))\n",
    "st=n*2-1\n",
    "sp=0\n",
    "for a in range(n):\n",
    "    for b in range(sp):\n",
    "        print(' ',end=' ')\n",
    "    for c in range(st):\n",
    "        print('*',end=' ')\n",
    "    print()\n",
    "    st-=2\n",
    "    sp+=1"
   ]
  },
  {
   "cell_type": "code",
   "execution_count": 55,
   "id": "dbd0fdaf-4be1-48b6-97f1-6269ad70fcf6",
   "metadata": {},
   "outputs": [
    {
     "name": "stdin",
     "output_type": "stream",
     "text": [
      "enter the value of n: 7\n"
     ]
    },
    {
     "name": "stdout",
     "output_type": "stream",
     "text": [
      "      * \n",
      "    * * * \n",
      "  * * * * * \n",
      "* * * * * * * \n",
      "  * * * * * \n",
      "    * * * \n",
      "      * \n"
     ]
    }
   ],
   "source": [
    "n=int(input('enter the value of n:'))\n",
    "st=1\n",
    "sp=n//2\n",
    "for a in range(n):\n",
    "    for b in range(sp):\n",
    "        print(' ',end=' ')\n",
    "    for c in range(st):\n",
    "        print('*',end=' ')\n",
    "    print()\n",
    "    if a<n//2:\n",
    "        sp-=1\n",
    "        st+=2\n",
    "    else:\n",
    "        sp+=1\n",
    "        st-=2"
   ]
  },
  {
   "cell_type": "code",
   "execution_count": 59,
   "id": "6a3d9a36-e099-4fbd-b310-dd0852c79fab",
   "metadata": {},
   "outputs": [
    {
     "name": "stdin",
     "output_type": "stream",
     "text": [
      "enter the value of n: 7\n"
     ]
    },
    {
     "name": "stdout",
     "output_type": "stream",
     "text": [
      "      * \n",
      "    * * \n",
      "  * * * \n",
      "* * * * \n",
      "  * * * \n",
      "    * * \n",
      "      * \n"
     ]
    }
   ],
   "source": [
    "n=int(input('enter the value of n:'))\n",
    "st=1\n",
    "sp=n//2\n",
    "for a in range(n):\n",
    "    for b in range(sp):\n",
    "        print(' ',end=' ')\n",
    "    for c in range(st):\n",
    "        print('*',end=' ')\n",
    "    print()\n",
    "    if a<n//2:\n",
    "        sp-=1\n",
    "        st+=1\n",
    "    else:\n",
    "        sp+=1\n",
    "        st-=1\n",
    "    "
   ]
  },
  {
   "cell_type": "code",
   "execution_count": 61,
   "id": "5c541c06-9280-42d0-a46f-9aaba62087a1",
   "metadata": {},
   "outputs": [
    {
     "name": "stdin",
     "output_type": "stream",
     "text": [
      "enter the value of n: 7\n"
     ]
    },
    {
     "name": "stdout",
     "output_type": "stream",
     "text": [
      "* \n",
      "* * \n",
      "* * * \n",
      "* * * * \n",
      "* * * \n",
      "* * \n",
      "* \n"
     ]
    }
   ],
   "source": [
    "n=int(input('enter the value of n:'))\n",
    "st=1\n",
    "for a in range(n):\n",
    "    for c in range(st):\n",
    "        print('*',end=' ')\n",
    "    print()\n",
    "    if a<n//2:\n",
    "        st+=1\n",
    "    else:\n",
    "        st-=1"
   ]
  },
  {
   "cell_type": "code",
   "execution_count": 7,
   "id": "5fa479b9-fe4e-40f5-867f-fbfd25d4d0cb",
   "metadata": {},
   "outputs": [
    {
     "name": "stdin",
     "output_type": "stream",
     "text": [
      "enter the value of n: 5\n"
     ]
    },
    {
     "name": "stdout",
     "output_type": "stream",
     "text": [
      "1 1 1 1 1 \n",
      "2 2 2 2 2 \n",
      "3 3 3 3 3 \n",
      "4 4 4 4 4 \n",
      "5 5 5 5 5 \n"
     ]
    }
   ],
   "source": [
    "n=int(input('enter the value of n:'))\n",
    "st=n\n",
    "num=1\n",
    "for a in range(n):\n",
    "    for b in range(st):\n",
    "        print(num,end=' ')\n",
    "    print()\n",
    "    num+=1"
   ]
  },
  {
   "cell_type": "code",
   "execution_count": 12,
   "id": "fc710e60-b4e5-41c9-a125-f331452c621b",
   "metadata": {},
   "outputs": [
    {
     "name": "stdin",
     "output_type": "stream",
     "text": [
      "enter the value of n: 6\n"
     ]
    },
    {
     "name": "stdout",
     "output_type": "stream",
     "text": [
      "1 2 3 4 5 6 \n",
      "1 2 3 4 5 6 \n",
      "1 2 3 4 5 6 \n",
      "1 2 3 4 5 6 \n",
      "1 2 3 4 5 6 \n",
      "1 2 3 4 5 6 \n"
     ]
    }
   ],
   "source": [
    "n=int(input('enter the value of n:'))\n",
    "st=n\n",
    "for a in range(n):\n",
    "    num=1\n",
    "    for b in range(st):\n",
    "        print(num,end=' ')\n",
    "        num+=1\n",
    "    print()"
   ]
  },
  {
   "cell_type": "code",
   "execution_count": 15,
   "id": "c3649036-7715-4e1a-b06d-1f2655f16b72",
   "metadata": {},
   "outputs": [
    {
     "name": "stdin",
     "output_type": "stream",
     "text": [
      "enter the value of n: 5\n"
     ]
    },
    {
     "name": "stdout",
     "output_type": "stream",
     "text": [
      "1 \n",
      "1 2 \n",
      "1 2 3 \n",
      "1 2 3 4 \n",
      "1 2 3 4 5 \n"
     ]
    }
   ],
   "source": [
    "n=int(input('enter the value of n:'))\n",
    "st=1\n",
    "for a in range(n):\n",
    "    num=1\n",
    "    for b in range(st):\n",
    "        print(num,end=' ')\n",
    "        num+=1\n",
    "    print()\n",
    "    st+=1"
   ]
  },
  {
   "cell_type": "code",
   "execution_count": 16,
   "id": "c9b7af2f-3025-4589-aae2-ba41051e6da2",
   "metadata": {},
   "outputs": [
    {
     "name": "stdin",
     "output_type": "stream",
     "text": [
      "enter the value of n: 5\n"
     ]
    },
    {
     "name": "stdout",
     "output_type": "stream",
     "text": [
      "5 \n",
      "5 4 \n",
      "5 4 3 \n",
      "5 4 3 2 \n",
      "5 4 3 2 1 \n"
     ]
    }
   ],
   "source": [
    "n=int(input('enter the value of n:'))\n",
    "st=1\n",
    "for a in range(n):\n",
    "    num=5\n",
    "    for b in range(st):\n",
    "        print(num,end=' ')\n",
    "        num-=1\n",
    "    print()\n",
    "    st+=1"
   ]
  },
  {
   "cell_type": "code",
   "execution_count": 18,
   "id": "f30b9764-e844-4384-ab87-17099d63c72c",
   "metadata": {},
   "outputs": [
    {
     "name": "stdin",
     "output_type": "stream",
     "text": [
      "enter the value of n: 5\n"
     ]
    },
    {
     "name": "stdout",
     "output_type": "stream",
     "text": [
      "        1 \n",
      "      1 2 3 \n",
      "    1 2 3 4 5 \n",
      "  1 2 3 4 5 6 7 \n",
      "1 2 3 4 5 6 7 8 9 \n"
     ]
    }
   ],
   "source": [
    "n=int(input('enter the value of n:'))\n",
    "st=1\n",
    "sp=n-1\n",
    "for a in range(n):\n",
    "    num=1\n",
    "    for c in range (sp):\n",
    "        print(' ',end=' ')\n",
    "    for b in range(st):\n",
    "        print(num,end=' ')\n",
    "        num+=1\n",
    "    print()\n",
    "    st+=2\n",
    "    sp-=1"
   ]
  },
  {
   "cell_type": "code",
   "execution_count": 31,
   "id": "1b181596-2d48-481c-84fc-2ab795023efd",
   "metadata": {},
   "outputs": [
    {
     "name": "stdin",
     "output_type": "stream",
     "text": [
      "enter the value of n: 5\n"
     ]
    },
    {
     "name": "stdout",
     "output_type": "stream",
     "text": [
      "        A \n",
      "      A B C \n",
      "    A B C D E \n",
      "  A B C D E F G \n",
      "A B C D E F G H I \n"
     ]
    }
   ],
   "source": [
    "n=int(input('enter the value of n:'))\n",
    "st=1\n",
    "sp=n-1\n",
    "for a in range(n):\n",
    "    num=1\n",
    "    for b in range(sp):\n",
    "        print(' ',end=' ')\n",
    "    for c in range(st):\n",
    "        print(chr(num+64),end=' ')\n",
    "        num+=1\n",
    "    print()\n",
    "    st+=2\n",
    "    sp-=1"
   ]
  },
  {
   "cell_type": "code",
   "execution_count": 35,
   "id": "2beb5d8c-a36b-4f4a-8b36-72fd01f715cd",
   "metadata": {},
   "outputs": [
    {
     "name": "stdin",
     "output_type": "stream",
     "text": [
      "enter the value of n: 5\n"
     ]
    },
    {
     "name": "stdout",
     "output_type": "stream",
     "text": [
      "        E \n",
      "      E D \n",
      "    E D C \n",
      "  E D C B \n",
      "E D C B A \n"
     ]
    }
   ],
   "source": [
    "n=int(input('enter the value of n:'))\n",
    "sp=n-1\n",
    "st=1\n",
    "for a in range(n):\n",
    "    num=5\n",
    "    for b in range(sp):\n",
    "        print(' ',end=' ')\n",
    "    for c in range(st):\n",
    "        print(chr(num+64),end=' ')\n",
    "        num-=1\n",
    "    print()\n",
    "    sp-=1\n",
    "    st+=1"
   ]
  },
  {
   "cell_type": "code",
   "execution_count": 37,
   "id": "f3016e43-0273-46a6-82c5-1efc712bd741",
   "metadata": {},
   "outputs": [
    {
     "name": "stdin",
     "output_type": "stream",
     "text": [
      "enter the value of n: 5\n"
     ]
    },
    {
     "name": "stdout",
     "output_type": "stream",
     "text": [
      "        1 \n",
      "      2 1 \n",
      "    3 2 1 \n",
      "  4 3 2 1 \n",
      "5 4 3 2 1 \n"
     ]
    }
   ],
   "source": [
    "n=int(input('enter the value of n:'))\n",
    "sp=n-1\n",
    "st=1\n",
    "for a in range(n):\n",
    "    num=st\n",
    "    for b in range(sp):\n",
    "        print(' ',end=' ')\n",
    "    for c in range(st):\n",
    "        print(num,end=' ')\n",
    "        num-=1\n",
    "    print()\n",
    "    sp-=1\n",
    "    st+=1"
   ]
  },
  {
   "cell_type": "code",
   "execution_count": 44,
   "id": "fcdacb01-6ba8-4d80-b71a-94b1205efdb9",
   "metadata": {},
   "outputs": [
    {
     "name": "stdin",
     "output_type": "stream",
     "text": [
      "enter the value of n: 5\n"
     ]
    },
    {
     "name": "stdout",
     "output_type": "stream",
     "text": [
      "    1 \n",
      "  3 2 1 \n",
      "5 4 3 2 1 \n",
      "  3 2 1 \n",
      "    1 \n"
     ]
    }
   ],
   "source": [
    "n=int(input('enter the value of n:'))\n",
    "st=1\n",
    "sp=n//2\n",
    "for a in range(n):\n",
    "    num=st\n",
    "    for b in range(sp):\n",
    "        print(' ',end=' ')\n",
    "    for c in range(st):\n",
    "        print(num,end=' ')\n",
    "        num-=1\n",
    "    print()\n",
    "    if a<n//2:\n",
    "        sp-=1\n",
    "        st+=2\n",
    "    else:\n",
    "        sp+=1\n",
    "        st-=2"
   ]
  },
  {
   "cell_type": "code",
   "execution_count": 6,
   "id": "36469d90-382e-404c-8464-43eb1e8228ac",
   "metadata": {},
   "outputs": [
    {
     "name": "stdin",
     "output_type": "stream",
     "text": [
      "enter the value of n: 5\n"
     ]
    },
    {
     "name": "stdout",
     "output_type": "stream",
     "text": [
      "1 2 3 4 5 \n",
      "1 2 3 4 5 \n",
      "1 2 3 4 5 \n",
      "1 2 3 4 5 \n",
      "1 2 3 4 5 \n"
     ]
    }
   ],
   "source": [
    "n=int(input('enter the value of n:'))\n",
    "st=n\n",
    "for a in range(n):\n",
    "    num=1\n",
    "    for b in range(st):\n",
    "        print(num,end=' ')\n",
    "        num+=1\n",
    "    print()"
   ]
  },
  {
   "cell_type": "code",
   "execution_count": 7,
   "id": "1821a7a3-aefc-4db5-bd71-4046f5ebcc3b",
   "metadata": {},
   "outputs": [
    {
     "name": "stdin",
     "output_type": "stream",
     "text": [
      "enter the value of n: 5\n"
     ]
    },
    {
     "name": "stdout",
     "output_type": "stream",
     "text": [
      "1 2 3 4 5 \n",
      "1 2 3 4 \n",
      "1 2 3 \n",
      "1 2 \n",
      "1 \n"
     ]
    }
   ],
   "source": [
    "n=int(input('enter the value of n:'))\n",
    "st=n\n",
    "for a in range(n):\n",
    "    num=1\n",
    "    for b in range(st):\n",
    "        print(num,end=' ')\n",
    "        num+=1\n",
    "    print()\n",
    "    st-=1"
   ]
  },
  {
   "cell_type": "code",
   "execution_count": 10,
   "id": "bdfbab23-e071-4a08-9bea-b1b4d0af7611",
   "metadata": {},
   "outputs": [
    {
     "name": "stdin",
     "output_type": "stream",
     "text": [
      "enter the value of n: 5\n"
     ]
    },
    {
     "name": "stdout",
     "output_type": "stream",
     "text": [
      "        1 \n",
      "      1 2 \n",
      "    1 2 3 \n",
      "  1 2 3 4 \n",
      "1 2 3 4 5 \n"
     ]
    }
   ],
   "source": [
    "n=int(input('enter the value of n:'))\n",
    "st=1\n",
    "sp=n-1\n",
    "for a in range(n):\n",
    "    num=1\n",
    "    for c in range(sp):\n",
    "        print(' ',end=' ')\n",
    "    for b in range(st):\n",
    "        print(num,end=' ')\n",
    "        num+=1\n",
    "    print()\n",
    "    st+=1\n",
    "    sp-=1"
   ]
  },
  {
   "cell_type": "code",
   "execution_count": 13,
   "id": "a7f2dd8f-00b3-4c82-bd2d-389760030a22",
   "metadata": {},
   "outputs": [
    {
     "name": "stdin",
     "output_type": "stream",
     "text": [
      "enter the value of n: 5\n"
     ]
    },
    {
     "name": "stdout",
     "output_type": "stream",
     "text": [
      "1 \n",
      "1 2 \n",
      "1 2 3 \n",
      "1 2 3 4 \n",
      "1 2 3 4 5 \n"
     ]
    }
   ],
   "source": [
    "n=int(input('enter the value of n:'))\n",
    "st=1\n",
    "for a in range(n):\n",
    "    num=1\n",
    "    for b in range(st):\n",
    "        print(num,end=' ')\n",
    "        num+=1\n",
    "    print()\n",
    "    st+=1"
   ]
  },
  {
   "cell_type": "code",
   "execution_count": 14,
   "id": "2c46d34d-9697-439c-a9dc-ffa0bc5aeb91",
   "metadata": {},
   "outputs": [
    {
     "name": "stdin",
     "output_type": "stream",
     "text": [
      "enter the value of n: 5\n"
     ]
    },
    {
     "name": "stdout",
     "output_type": "stream",
     "text": [
      "1 2 3 4 5 \n",
      "  1 2 3 4 \n",
      "    1 2 3 \n",
      "      1 2 \n",
      "        1 \n"
     ]
    }
   ],
   "source": [
    "n=int(input('enter the value of n:'))\n",
    "st=n\n",
    "sp=0\n",
    "for a in range(n):\n",
    "    num=1\n",
    "    for c in range(sp):\n",
    "        print(' ',end=' ')\n",
    "    for b in range(st):\n",
    "        print(num,end=' ')\n",
    "        num+=1\n",
    "    print()\n",
    "    st-=1\n",
    "    sp+=1"
   ]
  },
  {
   "cell_type": "code",
   "execution_count": 17,
   "id": "3d0e1b37-bfb7-4765-9549-d14f389aebd7",
   "metadata": {},
   "outputs": [
    {
     "name": "stdin",
     "output_type": "stream",
     "text": [
      "enter the value of n: 5\n"
     ]
    },
    {
     "name": "stdout",
     "output_type": "stream",
     "text": [
      "        * \n",
      "      * * * \n",
      "    * * * * * \n",
      "  * * * * * * * \n",
      "* * * * * * * * * \n"
     ]
    }
   ],
   "source": [
    "n=int(input('enter the value of n:'))\n",
    "st=1\n",
    "sp=n-1\n",
    "for a in range(n):\n",
    "    num=1\n",
    "    for c in range(sp):\n",
    "        print(' ',end=' ')\n",
    "    for b in range(st):\n",
    "        print('*',end=' ')\n",
    "        num+=1\n",
    "    print()\n",
    "    st+=2\n",
    "    sp-=1"
   ]
  },
  {
   "cell_type": "code",
   "execution_count": 19,
   "id": "d8232108-75e1-4f08-ad9d-252e1324c50e",
   "metadata": {},
   "outputs": [
    {
     "name": "stdin",
     "output_type": "stream",
     "text": [
      "enter the value of n: 5\n"
     ]
    },
    {
     "name": "stdout",
     "output_type": "stream",
     "text": [
      "* * * * * * * * * \n",
      "  * * * * * * * \n",
      "    * * * * * \n",
      "      * * * \n",
      "        * \n"
     ]
    }
   ],
   "source": [
    "n=int(input('enter the value of n:'))\n",
    "st=n*2-1\n",
    "sp=0\n",
    "for a in range(n):\n",
    "    num=1\n",
    "    for c in range(sp):\n",
    "        print(' ',end=' ')\n",
    "    for b in range(st):\n",
    "        print('*',end=' ')\n",
    "        num+=1\n",
    "    print()\n",
    "    st-=2\n",
    "    sp+=1"
   ]
  },
  {
   "cell_type": "code",
   "execution_count": 21,
   "id": "fcd5af41-f24d-40ae-a03b-fb1d5cdfccbd",
   "metadata": {},
   "outputs": [
    {
     "name": "stdin",
     "output_type": "stream",
     "text": [
      "enter the value of n: 7\n"
     ]
    },
    {
     "name": "stdout",
     "output_type": "stream",
     "text": [
      "      * \n",
      "    * * * \n",
      "  * * * * * \n",
      "* * * * * * * \n",
      "  * * * * * \n",
      "    * * * \n",
      "      * \n"
     ]
    }
   ],
   "source": [
    "n=int(input('enter the value of n:'))\n",
    "st=1\n",
    "sp=n//2\n",
    "for a in range(n):\n",
    "    num=1\n",
    "    for c in range(sp):\n",
    "        print(' ',end=' ')\n",
    "    for b in range(st):\n",
    "        print('*',end=' ')\n",
    "        num+=1\n",
    "    print()\n",
    "    if a<n//2:\n",
    "        st+=2\n",
    "        sp-=1\n",
    "    else:\n",
    "        st-=2\n",
    "        sp+=1"
   ]
  },
  {
   "cell_type": "code",
   "execution_count": 24,
   "id": "53de2bf5-dd5b-4bfc-b28c-15e809150d1d",
   "metadata": {},
   "outputs": [
    {
     "name": "stdin",
     "output_type": "stream",
     "text": [
      "enter the value of n: 5\n"
     ]
    },
    {
     "name": "stdout",
     "output_type": "stream",
     "text": [
      "* \n",
      "* * \n",
      "* * * \n",
      "* * \n",
      "* \n"
     ]
    }
   ],
   "source": [
    "n=int(input('enter the value of n:'))\n",
    "st=1\n",
    "sp=0\n",
    "for a in range(n):\n",
    "    num=1\n",
    "    for c in range(sp):\n",
    "        print(' ',end=' ')\n",
    "    for b in range(st):\n",
    "        print('*',end=' ')\n",
    "        num+=1\n",
    "    print()\n",
    "    if a<n//2:\n",
    "        st+=1\n",
    "    else:\n",
    "        st-=1"
   ]
  },
  {
   "cell_type": "code",
   "execution_count": 25,
   "id": "0f279f49-0217-4e71-a625-b9d631501e56",
   "metadata": {},
   "outputs": [
    {
     "name": "stdin",
     "output_type": "stream",
     "text": [
      "enter the value of n: 5\n"
     ]
    },
    {
     "name": "stdout",
     "output_type": "stream",
     "text": [
      "    * \n",
      "  * * \n",
      "* * * \n",
      "  * * \n",
      "    * \n"
     ]
    }
   ],
   "source": [
    "n=int(input('enter the value of n:'))\n",
    "st=1\n",
    "sp=n//2\n",
    "for a in range(n):\n",
    "    num=1\n",
    "    for c in range(sp):\n",
    "        print(' ',end=' ')\n",
    "    for b in range(st):\n",
    "        print('*',end=' ')\n",
    "        num+=1\n",
    "    print()\n",
    "    if a<n//2:\n",
    "        st+=1\n",
    "        sp-=1\n",
    "    else:\n",
    "        st-=1\n",
    "        sp+=1"
   ]
  },
  {
   "cell_type": "code",
   "execution_count": 28,
   "id": "30c032d3-37cd-4c69-bfdb-0d8fccf554d1",
   "metadata": {},
   "outputs": [
    {
     "name": "stdin",
     "output_type": "stream",
     "text": [
      "enter the value of n: 5\n"
     ]
    },
    {
     "name": "stdout",
     "output_type": "stream",
     "text": [
      "1 1 1 1 1 \n",
      "2 2 2 2 2 \n",
      "3 3 3 3 3 \n",
      "4 4 4 4 4 \n",
      "5 5 5 5 5 \n"
     ]
    }
   ],
   "source": [
    " n=int(input('enter the value of n:'))\n",
    "st=n\n",
    "num=1\n",
    "for a in range(n):\n",
    "    for b in range(st):\n",
    "        print(num,end=' ')\n",
    "    print()\n",
    "    num+=1"
   ]
  },
  {
   "cell_type": "code",
   "execution_count": 29,
   "id": "ff1d84d3-2eaf-41be-a8f5-f9b3796df9ae",
   "metadata": {},
   "outputs": [
    {
     "name": "stdin",
     "output_type": "stream",
     "text": [
      "enter the value of n: 5\n"
     ]
    },
    {
     "name": "stdout",
     "output_type": "stream",
     "text": [
      "1 2 3 4 5 \n",
      "1 2 3 4 5 \n",
      "1 2 3 4 5 \n",
      "1 2 3 4 5 \n",
      "1 2 3 4 5 \n"
     ]
    }
   ],
   "source": [
    "n=int(input('enter the value of n:'))\n",
    "st=n\n",
    "for a in range(n):\n",
    "    num=1\n",
    "    for b in range(st):\n",
    "        print(num,end=' ')\n",
    "        num+=1\n",
    "    print()\n",
    "    "
   ]
  },
  {
   "cell_type": "code",
   "execution_count": 30,
   "id": "7b484982-ab66-4f26-8e29-a69cac86a729",
   "metadata": {},
   "outputs": [
    {
     "name": "stdin",
     "output_type": "stream",
     "text": [
      "enter the value of n: 5\n"
     ]
    },
    {
     "name": "stdout",
     "output_type": "stream",
     "text": [
      "1 \n",
      "1 2 \n",
      "1 2 3 \n",
      "1 2 3 4 \n",
      "1 2 3 4 5 \n"
     ]
    }
   ],
   "source": [
    "n=int(input('enter the value of n:'))\n",
    "st=1\n",
    "for a in range(n):\n",
    "    num=1\n",
    "    for b in range(st):\n",
    "        print(num,end=' ')\n",
    "        num+=1\n",
    "    print()\n",
    "    st+=1"
   ]
  },
  {
   "cell_type": "code",
   "execution_count": 35,
   "id": "aebbbaa8-27b9-4af3-87c5-60fd58efab05",
   "metadata": {},
   "outputs": [
    {
     "name": "stdin",
     "output_type": "stream",
     "text": [
      "enter the value of n: 5\n"
     ]
    },
    {
     "name": "stdout",
     "output_type": "stream",
     "text": [
      "5 \n",
      "5 4 \n",
      "5 4 3 \n",
      "5 4 3 2 \n",
      "5 4 3 2 1 \n"
     ]
    }
   ],
   "source": [
    "n=int(input('enter the value of n:'))\n",
    "st=1\n",
    "for a in range(n):\n",
    "    num=5\n",
    "    for b in range(st):\n",
    "        print(num,end=' ')\n",
    "        num-=1\n",
    "    print()\n",
    "    st+=1"
   ]
  },
  {
   "cell_type": "code",
   "execution_count": 36,
   "id": "b40e0db8-1a82-40dd-8867-a58bab719fee",
   "metadata": {},
   "outputs": [
    {
     "name": "stdin",
     "output_type": "stream",
     "text": [
      "enter the value of n: 5\n"
     ]
    },
    {
     "name": "stdout",
     "output_type": "stream",
     "text": [
      "        1 \n",
      "      1 2 3 \n",
      "    1 2 3 4 5 \n",
      "  1 2 3 4 5 6 7 \n",
      "1 2 3 4 5 6 7 8 9 \n"
     ]
    }
   ],
   "source": [
    "n=int(input('enter the value of n:'))\n",
    "st=1\n",
    "sp=n-1\n",
    "for a in range(n):\n",
    "    num=1\n",
    "    for c in range(sp):\n",
    "        print(' ',end=' ')\n",
    "    for b in range(st):\n",
    "        print(num,end=' ')\n",
    "        num+=1\n",
    "    print()\n",
    "    st+=2\n",
    "    sp-=1"
   ]
  },
  {
   "cell_type": "code",
   "execution_count": 37,
   "id": "58ef56d0-f894-42f4-be2c-9e641d2c87a2",
   "metadata": {},
   "outputs": [
    {
     "name": "stdin",
     "output_type": "stream",
     "text": [
      "enter the value of n: 5\n"
     ]
    },
    {
     "name": "stdout",
     "output_type": "stream",
     "text": [
      "        A \n",
      "      A B C \n",
      "    A B C D E \n",
      "  A B C D E F G \n",
      "A B C D E F G H I \n"
     ]
    }
   ],
   "source": [
    "n=int(input('enter the value of n:'))\n",
    "st=1\n",
    "sp=n-1\n",
    "for a in range(n):\n",
    "    num=1\n",
    "    for c in range(sp):\n",
    "        print(' ',end=' ')\n",
    "    for b in range(st):\n",
    "        print(chr(num+64),end=' ')\n",
    "        num+=1\n",
    "    print()\n",
    "    st+=2\n",
    "    sp-=1"
   ]
  },
  {
   "cell_type": "code",
   "execution_count": 40,
   "id": "b68266d1-b271-4b64-a8de-71038e26763f",
   "metadata": {},
   "outputs": [
    {
     "name": "stdin",
     "output_type": "stream",
     "text": [
      "enter the value of n: 5\n"
     ]
    },
    {
     "name": "stdout",
     "output_type": "stream",
     "text": [
      "        E \n",
      "      E D \n",
      "    E D C \n",
      "  E D C B \n",
      "E D C B A \n"
     ]
    }
   ],
   "source": [
    "n=int(input('enter the value of n:'))\n",
    "st=1\n",
    "sp=n-1\n",
    "for a in range(n):\n",
    "    num=5\n",
    "    for c in range(sp):\n",
    "        print(' ',end=' ')\n",
    "    for b in range(st):\n",
    "        print(chr(num+64),end=' ')\n",
    "        num-=1\n",
    "    print()\n",
    "    st+=1\n",
    "    sp-=1"
   ]
  },
  {
   "cell_type": "code",
   "execution_count": 41,
   "id": "11b71ce6-3d6d-4d1a-8310-085e8ef4555f",
   "metadata": {},
   "outputs": [
    {
     "name": "stdin",
     "output_type": "stream",
     "text": [
      "enter the value of n: 5\n"
     ]
    },
    {
     "name": "stdout",
     "output_type": "stream",
     "text": [
      "        1 \n",
      "      2 1 \n",
      "    3 2 1 \n",
      "  4 3 2 1 \n",
      "5 4 3 2 1 \n"
     ]
    }
   ],
   "source": [
    "n=int(input('enter the value of n:'))\n",
    "st=1\n",
    "sp=n-1\n",
    "for a in range(n):\n",
    "    num=st\n",
    "    for c in range(sp):\n",
    "        print(' ',end=' ')\n",
    "    for b in range(st):\n",
    "        print(num,end=' ')\n",
    "        num-=1\n",
    "    print()\n",
    "    st+=1\n",
    "    sp-=1"
   ]
  },
  {
   "cell_type": "code",
   "execution_count": 46,
   "id": "97510bef-4c12-4f9e-8a71-d5debc5366fc",
   "metadata": {},
   "outputs": [
    {
     "name": "stdin",
     "output_type": "stream",
     "text": [
      "enter the value of n: 7\n"
     ]
    },
    {
     "name": "stdout",
     "output_type": "stream",
     "text": [
      "      1 \n",
      "    3 2 1 \n",
      "  5 4 3 2 1 \n",
      "7 6 5 4 3 2 1 \n",
      "  5 4 3 2 1 \n",
      "    3 2 1 \n",
      "      1 \n"
     ]
    }
   ],
   "source": [
    "n=int(input('enter the value of n:'))\n",
    "st=1\n",
    "sp=n//2\n",
    "for a in range(n):\n",
    "    num=st\n",
    "    for c in range(sp):\n",
    "        print(' ',end=' ')\n",
    "    for b in range(st):\n",
    "        print(num,end=' ')\n",
    "        num-=1\n",
    "    print()\n",
    "    if a<n//2:\n",
    "        st+=2\n",
    "        sp-=1\n",
    "    else:\n",
    "        st-=2\n",
    "        sp+=1"
   ]
  },
  {
   "cell_type": "code",
   "execution_count": 9,
   "id": "c4c5a9e2-accc-45c9-a917-6caf38da9439",
   "metadata": {},
   "outputs": [
    {
     "name": "stdin",
     "output_type": "stream",
     "text": [
      "enter the value of n: 9\n"
     ]
    },
    {
     "name": "stdout",
     "output_type": "stream",
     "text": [
      "* * * * * * * * * \n",
      "  * * * * * * * \n",
      "    * * * * * \n",
      "      * * * \n",
      "        * \n",
      "      * * * \n",
      "    * * * * * \n",
      "  * * * * * * * \n",
      "* * * * * * * * * \n"
     ]
    }
   ],
   "source": [
    "n= int(input('enter the value of n:'))\n",
    "s=n\n",
    "i=0\n",
    "for a in range(n):\n",
    "    for b in range(i):\n",
    "        print(' ',end=' ')\n",
    "    for c in range(s):\n",
    "        print('*',end=' ')\n",
    "    print()\n",
    "    if a<n//2:\n",
    "        s-=2\n",
    "        i+=1\n",
    "    else:\n",
    "        s+=2\n",
    "        i-=1"
   ]
  },
  {
   "cell_type": "code",
   "execution_count": 4,
   "id": "d54c9175-c591-45d2-8c78-0e496a95a0db",
   "metadata": {},
   "outputs": [
    {
     "data": {
      "text/plain": [
       "1"
      ]
     },
     "execution_count": 4,
     "metadata": {},
     "output_type": "execute_result"
    }
   ],
   "source": [
    "7%2"
   ]
  },
  {
   "cell_type": "code",
   "execution_count": null,
   "id": "298feb43-ea81-441c-bae9-f81c26e91210",
   "metadata": {},
   "outputs": [],
   "source": []
  }
 ],
 "metadata": {
  "kernelspec": {
   "display_name": "Python 3 (ipykernel)",
   "language": "python",
   "name": "python3"
  },
  "language_info": {
   "codemirror_mode": {
    "name": "ipython",
    "version": 3
   },
   "file_extension": ".py",
   "mimetype": "text/x-python",
   "name": "python",
   "nbconvert_exporter": "python",
   "pygments_lexer": "ipython3",
   "version": "3.9.13"
  }
 },
 "nbformat": 4,
 "nbformat_minor": 5
}
