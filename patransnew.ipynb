{
 "cells": [
  {
   "cell_type": "code",
   "execution_count": 6,
   "id": "15629e53-5da1-4bfb-907c-bbf5253b71ba",
   "metadata": {},
   "outputs": [
    {
     "name": "stdout",
     "output_type": "stream",
     "text": [
      "* * * * * \n",
      "  * * * * \n",
      "    * * * \n",
      "      * * \n",
      "        * \n"
     ]
    }
   ],
   "source": [
    "n=5\n",
    "st=n\n",
    "sp=0\n",
    "for x in range(n):\n",
    "    for y in range(sp):\n",
    "        print(' ',end=' ')\n",
    "    for z in range(st):\n",
    "        print('*',end=' ')\n",
    "    print()\n",
    "    st-=1\n",
    "    sp+=1"
   ]
  },
  {
   "cell_type": "code",
   "execution_count": 24,
   "id": "3adcaece-e0d5-4a8f-82c7-9eac9493129c",
   "metadata": {},
   "outputs": [
    {
     "name": "stdout",
     "output_type": "stream",
     "text": [
      "20\n",
      "21\n",
      "22\n",
      "23\n",
      "24\n",
      "25\n",
      "outside the loop\n"
     ]
    }
   ],
   "source": [
    " a=20\n",
    "while a<=30:\n",
    "    print(a)\n",
    "    a+=1\n",
    "    if a==26:\n",
    "        break\n",
    "print('outside the loop')\n"
   ]
  },
  {
   "cell_type": "code",
   "execution_count": 1,
   "id": "8846ceb7-0ee8-49dd-aa89-fdefc5b25582",
   "metadata": {},
   "outputs": [
    {
     "name": "stdout",
     "output_type": "stream",
     "text": [
      "20\n",
      "19\n",
      "18\n",
      "17\n",
      "16\n",
      "15\n",
      "14\n",
      "13\n",
      "12\n",
      "out side the loop\n"
     ]
    }
   ],
   "source": [
    "r=20\n",
    "while r>=12:\n",
    "    print(r)\n",
    "    r-=1\n",
    "    if r==16:\n",
    "        continue\n",
    "    \n",
    "\n",
    "print('out side the loop')"
   ]
  },
  {
   "cell_type": "code",
   "execution_count": 36,
   "id": "8fc5be42-c41d-4dda-b119-aa2fcdbb770b",
   "metadata": {},
   "outputs": [
    {
     "name": "stdout",
     "output_type": "stream",
     "text": [
      "1\n",
      "2\n",
      "4\n",
      "5\n",
      "6\n",
      "shiva\n"
     ]
    }
   ],
   "source": [
    "for r in range(1,7):\n",
    "    if r==3:\n",
    "        continue\n",
    "    print(r)\n",
    "print('shiva')"
   ]
  },
  {
   "cell_type": "code",
   "execution_count": 9,
   "id": "203de806-4003-42ae-838e-24de7db35d2c",
   "metadata": {},
   "outputs": [
    {
     "name": "stdout",
     "output_type": "stream",
     "text": [
      "4\n",
      "outside the loop\n"
     ]
    }
   ],
   "source": [
    "r=2\n",
    "while r<=7:\n",
    "    r+=1\n",
    "    if r%2==0:\n",
    "        print(r)\n",
    "        break\n",
    "print('outside the loop')\n",
    "        \n",
    "    "
   ]
  },
  {
   "cell_type": "code",
   "execution_count": null,
   "id": "b0d68f45-5d8d-4799-90ee-f30c7c0945ab",
   "metadata": {},
   "outputs": [],
   "source": [
    "a= 20 \n",
    "print(a)"
   ]
  },
  {
   "cell_type": "code",
   "execution_count": 29,
   "id": "7670960a-22f8-4951-9178-1c6b999c2095",
   "metadata": {},
   "outputs": [
    {
     "name": "stdout",
     "output_type": "stream",
     "text": [
      "10\n",
      "11\n",
      "12\n",
      "13\n",
      "14\n",
      "15\n",
      "out side the loop\n"
     ]
    }
   ],
   "source": [
    "r=10\n",
    "while r<=22:\n",
    "    print(r)\n",
    "    r+=1\n",
    "    if r==16:\n",
    "        break\n",
    "    \n",
    "\n",
    "print('out side the loop')"
   ]
  },
  {
   "cell_type": "code",
   "execution_count": 61,
   "id": "1f2f427c-24be-43aa-a95b-27ecdb60f08b",
   "metadata": {},
   "outputs": [
    {
     "name": "stdout",
     "output_type": "stream",
     "text": [
      "* * * * * * * \n",
      " * * * * * * \n",
      "  * * * * * \n",
      "   * * * * \n",
      "    * * * \n",
      "     * * \n",
      "      * \n"
     ]
    }
   ],
   "source": [
    "i=7\n",
    "sp=0\n",
    "st=i\n",
    "for x in range(i):\n",
    "    for y in range(sp):\n",
    "        print('',end=' ')\n",
    "    for z in range (st):\n",
    "        print('*',end=' ')\n",
    "    print()\n",
    "    sp+=1\n",
    "    st-=1"
   ]
  },
  {
   "cell_type": "code",
   "execution_count": 62,
   "id": "dc58c47f-f4b5-4379-afe3-02b49b089e81",
   "metadata": {},
   "outputs": [
    {
     "name": "stdout",
     "output_type": "stream",
     "text": [
      "* * * * * \n",
      "  * * * * \n",
      "    * * * \n",
      "      * * \n",
      "        * \n"
     ]
    }
   ],
   "source": [
    "i=5\n",
    "sp=0\n",
    "st=i\n",
    "for x in range(i):\n",
    "    for y in range(sp):\n",
    "        print(' ',end=' ')\n",
    "    for z in range (st):\n",
    "        print('*',end=' ')\n",
    "    print()\n",
    "    sp+=1\n",
    "    st-=1"
   ]
  },
  {
   "cell_type": "code",
   "execution_count": 79,
   "id": "6a7db7e3-5b1b-43f5-8a1f-d820fd81ba76",
   "metadata": {},
   "outputs": [
    {
     "name": "stdout",
     "output_type": "stream",
     "text": [
      "* * * * * * * * * \n",
      "* * * * * * * * * * \n",
      "* * * * * * * * * * * \n",
      "* * * * * * * * * * * * \n",
      "* * * * * * * * * * * * * \n"
     ]
    }
   ],
   "source": [
    "i=5\n",
    "st=9\n",
    "sp=0\n",
    "for x in range(i):\n",
    "    for y in range(sp):\n",
    "        \n",
    "        print(' ',end=' ')\n",
    "    for z in range (st):\n",
    "        print('*',end=' ')\n",
    "    print()\n",
    "    st+=1\n",
    "    sp-=1\n",
    "    \n"
   ]
  },
  {
   "cell_type": "code",
   "execution_count": 2,
   "id": "28ffcae2-933e-425e-b244-4bd48b13135b",
   "metadata": {},
   "outputs": [
    {
     "name": "stdout",
     "output_type": "stream",
     "text": [
      "* * * * * * * * * \n",
      "* * * * * * * * * * \n",
      "* * * * * * * * * * * \n",
      "* * * * * * * * * * * * \n",
      "* * * * * * * * * * * * * \n",
      "* * * * * * * * * * * * * * \n",
      "* * * * * * * * * * * * * * * \n",
      "* * * * * * * * * * * * * * * * \n",
      "* * * * * * * * * * * * * * * * * \n"
     ]
    }
   ],
   "source": [
    "i=9\n",
    "st=9\n",
    "sp=0\n",
    "for x in range(i):\n",
    "    for y in range(sp):\n",
    "        \n",
    "        print(' ',end=' ')\n",
    "    for z in range (st):\n",
    "        print('*',end=' ')\n",
    "    print()\n",
    "    st+=1\n",
    "    sp-=1\n",
    "    \n"
   ]
  },
  {
   "cell_type": "code",
   "execution_count": 5,
   "id": "2fe145a6-aa2a-4d9f-85f7-ff06b9109ae3",
   "metadata": {},
   "outputs": [
    {
     "name": "stdout",
     "output_type": "stream",
     "text": [
      "* * * * * * * * \n",
      "  * * * * * * * \n",
      "    * * * * * * \n",
      "      * * * * * \n",
      "        * * * * \n",
      "          * * * \n",
      "            * * \n",
      "              * \n"
     ]
    }
   ],
   "source": [
    "n=8\n",
    "sp=0\n",
    "st=n\n",
    "for a in range(n):\n",
    "    for b in range (sp):\n",
    "        print(' ',end=' ')\n",
    "    for c in range(st):\n",
    "        print(\"*\",end=' ')\n",
    "    print()\n",
    "    sp+=1\n",
    "    st-=1"
   ]
  },
  {
   "cell_type": "code",
   "execution_count": 19,
   "id": "c75c3de3-615e-4313-8c80-47aa211e720b",
   "metadata": {},
   "outputs": [
    {
     "name": "stdout",
     "output_type": "stream",
     "text": [
      "        * \n",
      "      * * * \n",
      "    * * * * * \n",
      "  * * * * * * * \n",
      "* * * * * * * * * \n"
     ]
    }
   ],
   "source": [
    "n=5\n",
    "st=1\n",
    "sp=4\n",
    "for a in range(n):\n",
    "    for b in range(sp):\n",
    "        print(' ',end=' ')\n",
    "    for c in range(st):\n",
    "        print('*',end=' ')\n",
    "    print()\n",
    "    sp-=1\n",
    "    st+=2\n",
    "   \n"
   ]
  },
  {
   "cell_type": "code",
   "execution_count": 24,
   "id": "17384a83-b68c-45ac-807d-16c9fdb038f7",
   "metadata": {},
   "outputs": [
    {
     "name": "stdout",
     "output_type": "stream",
     "text": [
      "                  * \n",
      "                * * * \n",
      "              * * * * * \n",
      "            * * * * * * * \n",
      "          * * * * * * * * * \n",
      "        * * * * * * * * * * * \n",
      "      * * * * * * * * * * * * * \n",
      "    * * * * * * * * * * * * * * * \n",
      "  * * * * * * * * * * * * * * * * * \n",
      "* * * * * * * * * * * * * * * * * * * \n",
      "* * * * * * * * * \n",
      "  \n",
      "    * \n",
      "      * * \n",
      "        * * * \n",
      "          * * * * \n",
      "            * * * * * \n",
      "              * * * * * * \n",
      "                * * * * * * * \n",
      "                  * * * * * * * * \n"
     ]
    }
   ],
   "source": [
    "n=10\n",
    "r=n-1\n",
    "s=1\n",
    "for a in range(n):\n",
    "    for b in range(r):\n",
    "        print(' ',end=' ')\n",
    "    for c in range(s):\n",
    "        print('*',end=' ')\n",
    "    print()\n",
    "    r-=1\n",
    "    s+=2\n",
    "m=n\n",
    "a=0\n",
    "b=9\n",
    "for a in range(m):\n",
    "    for b in range(a):\n",
    "        print(' ',end=' ')\n",
    "    for c in range(b):\n",
    "        print('*',end=' ')\n",
    "    print()\n",
    "    a+=1\n",
    "    b-=2"
   ]
  },
  {
   "cell_type": "code",
   "execution_count": 11,
   "id": "23af491e-56ef-4350-8d8f-6ba9a0d133f4",
   "metadata": {},
   "outputs": [
    {
     "name": "stdout",
     "output_type": "stream",
     "text": [
      "* * * * * * * * * * \n",
      "  * * * * * * * * \n",
      "    * * * * * * \n",
      "      * * * * \n",
      "        * * \n",
      "          \n",
      "            \n",
      "              \n",
      "                \n",
      "                  \n"
     ]
    }
   ],
   "source": [
    "n=10\n",
    "r=0\n",
    "s=n\n",
    "for a in range(n):\n",
    "    for b in range(r):\n",
    "        print(' ',end=' ')\n",
    "    for c in range(s):\n",
    "        print('*',end=' ')\n",
    "    print()\n",
    "    r+=1\n",
    "    s-=2"
   ]
  },
  {
   "cell_type": "code",
   "execution_count": 21,
   "id": "2579e1b4-3431-4c8e-a01e-7496352ad078",
   "metadata": {},
   "outputs": [
    {
     "name": "stdout",
     "output_type": "stream",
     "text": [
      "* \n",
      "* * \n",
      "* * * \n",
      "* * * * \n",
      "* * * * * \n"
     ]
    }
   ],
   "source": [
    "n=5\n",
    "s=1\n",
    "for x in range(n):\n",
    "    for y in range(s):\n",
    "        print('*',end=\" \")\n",
    "    print()\n",
    "    s+=1\n",
    "    \n"
   ]
  },
  {
   "cell_type": "code",
   "execution_count": 22,
   "id": "9c1a2860-8c50-4e1f-9040-407c0eae8046",
   "metadata": {},
   "outputs": [
    {
     "name": "stdout",
     "output_type": "stream",
     "text": [
      "* * * * * \n",
      "* * * * \n",
      "* * * \n",
      "* * \n",
      "* \n"
     ]
    }
   ],
   "source": [
    "n=5\n",
    "s=n\n",
    "for x in range(n):\n",
    "    for y in range(s):\n",
    "        print('*',end=\" \")\n",
    "    print()\n",
    "    s-=1"
   ]
  },
  {
   "cell_type": "code",
   "execution_count": 33,
   "id": "f479454d-6c01-4ed1-a38e-4a0c8b3041d2",
   "metadata": {},
   "outputs": [
    {
     "name": "stdout",
     "output_type": "stream",
     "text": [
      "        * \n",
      "      * * \n",
      "    * * * \n",
      "  * * * * \n",
      "* * * * * \n"
     ]
    }
   ],
   "source": [
    "n=5\n",
    "sp=n-1\n",
    "st=1\n",
    "for a in range(n):\n",
    "    for b in range(sp):\n",
    "        print(' ',end=' ')\n",
    "    for c in range(st):\n",
    "        print('*',end=\" \")\n",
    "    print()\n",
    "    sp-=1\n",
    "    st+=1\n",
    "        \n",
    "    "
   ]
  },
  {
   "cell_type": "code",
   "execution_count": 34,
   "id": "f56f343a-9a58-4896-bf75-e76ef503b4b8",
   "metadata": {},
   "outputs": [
    {
     "name": "stdout",
     "output_type": "stream",
     "text": [
      "* * * * * \n",
      "  * * * * \n",
      "    * * * \n",
      "      * * \n",
      "        * \n"
     ]
    }
   ],
   "source": [
    "n=5\n",
    "sp=0\n",
    "st=n\n",
    "for a in range(n):\n",
    "    for b in range(sp):\n",
    "        print(' ',end=' ')\n",
    "    for c in range(st):\n",
    "        print('*',end=' ')\n",
    "    print()\n",
    "    sp+=1\n",
    "    st-=1"
   ]
  },
  {
   "cell_type": "code",
   "execution_count": 5,
   "id": "3936459c-16f0-428f-8269-dbcb92c04832",
   "metadata": {},
   "outputs": [
    {
     "name": "stdout",
     "output_type": "stream",
     "text": [
      "      * \n",
      "    * * * \n",
      "  * * * * * \n",
      "* * * * * * * \n",
      "  * * * * * \n",
      "    * * * \n",
      "      * \n"
     ]
    }
   ],
   "source": [
    "\n",
    "n=4\n",
    "sp=n-1\n",
    "st=1\n",
    "for a in range(n):\n",
    "    for b in range(sp):\n",
    "        print(' ',end=' ')\n",
    "    for c in range(st):\n",
    "        print('*',end=' ')\n",
    "    print()\n",
    "    sp-=1\n",
    "    st+=2\n",
    "a=3\n",
    "b=1\n",
    "c=5\n",
    "for d in range(a):\n",
    "    for e in range(b):\n",
    "        print(' ',end=' ')\n",
    "    for f in range(c):\n",
    "        print('*',end=' ')\n",
    "    print()\n",
    "    b+=1\n",
    "    c-=2"
   ]
  },
  {
   "cell_type": "code",
   "execution_count": 75,
   "id": "f8e49c80-45da-443f-b9d1-a3e5c657f1d6",
   "metadata": {},
   "outputs": [
    {
     "name": "stdout",
     "output_type": "stream",
     "text": [
      "* * * * * * * * * \n",
      "  * * * * * * * \n",
      "    * * * * * \n",
      "      * * * \n",
      "        * \n"
     ]
    }
   ],
   "source": [
    "a=5\n",
    "b=0\n",
    "c=9\n",
    "for d in range(a):\n",
    "    for e in range(b):\n",
    "        print(' ',end=' ')\n",
    "    for f in range(c):\n",
    "        print('*',end=' ')\n",
    "    print()\n",
    "    b+=1\n",
    "    c-=2"
   ]
  },
  {
   "cell_type": "code",
   "execution_count": 2,
   "id": "2e7522b4-477a-4e8c-aca0-89f3f17f5cb9",
   "metadata": {},
   "outputs": [
    {
     "name": "stdout",
     "output_type": "stream",
     "text": [
      "* * * * * \n",
      "*       * \n",
      "*       * \n",
      "*       * \n",
      "* * * * * \n"
     ]
    }
   ],
   "source": [
    "n=5\n",
    "st=n\n",
    "for x in range(n):\n",
    "    for y in range(st):\n",
    "        if x>0 and x<4:\n",
    "            if y>0 and y<4:\n",
    "                print(' ',end=' ')\n",
    "            else:\n",
    "                print('*',end=' ')\n",
    "        else:\n",
    "            print('*',end=' ')\n",
    "            \n",
    "    print()"
   ]
  },
  {
   "cell_type": "code",
   "execution_count": 3,
   "id": "86ce28a0-f723-4e69-ad56-35a3cab04852",
   "metadata": {},
   "outputs": [
    {
     "name": "stdout",
     "output_type": "stream",
     "text": [
      "* * * * * \n",
      "*       * \n",
      "*       * \n",
      "*       * \n",
      "* * * * * \n"
     ]
    }
   ],
   "source": [
    "n=5\n",
    "st=n\n",
    "for x in range(n):\n",
    "    for y in range(st):\n",
    "        if x>0 and x<4:\n",
    "            if y>0 and y<4:print(' ',end=' ')\n",
    "            else:print('*',end=' ')\n",
    "        else:print('*',end=' ')\n",
    "    print()"
   ]
  },
  {
   "cell_type": "code",
   "execution_count": 8,
   "id": "d7983a4a-d707-4a8a-b8ca-8ca6df356e65",
   "metadata": {},
   "outputs": [
    {
     "name": "stdout",
     "output_type": "stream",
     "text": [
      "* * * * * \n",
      "* * * * * \n",
      "* * * * * \n",
      "* * * * * \n",
      "*       * \n"
     ]
    }
   ],
   "source": [
    "n=5\n",
    "st=n\n",
    "for x in range(n):\n",
    "    for y in range(st):\n",
    "        if x==n-1 and y>0 and y<n-1:\n",
    "            print(' ',end=' ')\n",
    "        else:\n",
    "            print('*',end=' ')\n",
    "    print()"
   ]
  },
  {
   "cell_type": "code",
   "execution_count": 2,
   "id": "db46e5d8-b016-4790-863a-6b816d1f75e5",
   "metadata": {},
   "outputs": [
    {
     "name": "stdout",
     "output_type": "stream",
     "text": [
      "malayalam\n",
      "ala\n",
      "alayala\n",
      "layal\n",
      "aya\n",
      "ala\n"
     ]
    }
   ],
   "source": [
    "s='malayalam'\n",
    "for x in range(len(s)):\n",
    "    for y in range(x+1,len(s)+1):\n",
    "        n=s[x:y]\n",
    "        #print(n[::-1])\n",
    "        if n==n[::-1] and len(n)>1:\n",
    "            print(n)"
   ]
  },
  {
   "cell_type": "code",
   "execution_count": 3,
   "id": "855d04b6-436c-48a3-8428-c59909749b86",
   "metadata": {},
   "outputs": [
    {
     "name": "stdout",
     "output_type": "stream",
     "text": [
      "0\n",
      "1\n",
      "1\n",
      "2\n",
      "3\n",
      "5\n",
      "8\n",
      "13\n"
     ]
    }
   ],
   "source": [
    "n=10\n",
    "f,s=0,1\n",
    "for x in range(n-2):\n",
    "    print(f)\n",
    "    t=f+s\n",
    "    f,s=s,t"
   ]
  },
  {
   "cell_type": "code",
   "execution_count": null,
   "id": "7eaeab60-3671-4595-85c3-31281593296e",
   "metadata": {},
   "outputs": [],
   "source": []
  }
 ],
 "metadata": {
  "kernelspec": {
   "display_name": "Python 3 (ipykernel)",
   "language": "python",
   "name": "python3"
  },
  "language_info": {
   "codemirror_mode": {
    "name": "ipython",
    "version": 3
   },
   "file_extension": ".py",
   "mimetype": "text/x-python",
   "name": "python",
   "nbconvert_exporter": "python",
   "pygments_lexer": "ipython3",
   "version": "3.9.13"
  }
 },
 "nbformat": 4,
 "nbformat_minor": 5
}
