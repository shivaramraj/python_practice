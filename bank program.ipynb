'''class Bank:
    bankName = 'sbi'
    branch   = 'adoni'
    def __init__(self,name,accno,mobilno,bal,pin):
        self.name=name
        self.accno=accno
        self.mobilno=mobilno
        self.bal=bal
        self.pin=pin
    def Deposit(self):
        amt=int(input('enter the deposit amount:'))
        self.bal+=amt
    def checkbalance(self):
        if self.pin==self.getpin():
            print(f'{self.name} current balance is:{self.bal}')
    def Withdraw(self):
        if self.pin==self.getpin():
            amt=int(input('enter the withdraw amount:'))
            if self.bal>amt:
                self.bal-=amt
                print('amt debited sucessfully')
            else:
                print('insufficeant balance')
        else:
            print('wrong pin')
    @classmethod
    def change(cls,n):
        cls.branch=n
    @staticmethod
    def getpin():
        return int(input('enter the pin:'))
    
ob1=Bank('shiva',222222,929299292,20000,2222)
ob2=Bank('ram',22233,432745,12000,0000)
ob3=Bank('arjun',834987,4364365,12343,9999)
ob1.checkbalance()
#ob1.Withdraw()
#ob1.checkbalance()
#ob1.Deposit()
#ob1.checkbalance()'''
class Bank():
    BankName = 'SBI'
    Branch    = 'Alur'
    def __init__(self,name,accno,mobilno,bal,pin):
        self.name=name
        self.accno=accno
        self.mobilno=mobilno
        self.bal=bal
        self.pin=pin
    def Check_balance(self):
        if self.pin==self.Getpin():
            print(f'your current balance is {self.bal}')
        else:
            print('incorrect pin')
    def Deposite(self):
        amt=int(input('enter the deposite amount:'))
        self.bal+=amt
        print('amount credited sucessfully')
    def Withdraw(self):
        amt=int(input('enter withdraw amount:'))
        if self.pin==self.Getpin():
            if self.bal>amt:
                self.bal-=amt
                print('amount debited sucessfully')
                print(f'your current balance is {self.bal}')
            else:
                print('insufficent balance')
        else:
            print('incorrect pin')
    @staticmethod
    def Getpin():
        return int(input('enter pin:'))
    
Ram=Bank('Shiva',298475975,4787578465,85996,8804)
Shiva=Bank('Arjun',32498375,48734566,895000,2001)
print(Ram.name)
#Shiva.Check_balance()
#Shiva.Deposite()
Shiva.Check_balance()
Shiva.Withdraw()
#Shiva.Check_balance()



