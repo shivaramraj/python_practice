{
 "cells": [
  {
   "cell_type": "code",
   "execution_count": 6,
   "id": "3e02bf9b-7101-42b8-9283-eea6e9bc6775",
   "metadata": {},
   "outputs": [
    {
     "name": "stdin",
     "output_type": "stream",
     "text": [
      "enter the n value 21\n"
     ]
    },
    {
     "name": "stdout",
     "output_type": "stream",
     "text": [
      "21:buzzfizz\n"
     ]
    }
   ],
   "source": [
    "n=int(input('enter the n value'))\n",
    "if n%3==0 and n%5==0:\n",
    "    print(f'{n}:fizz')\n",
    "elif n%5==0 and n%3!=0:\n",
    "    print(f'{n}:buzz')\n",
    "elif n%3==0 and n%5==0:\n",
    "    print(f'{n}:fizzbuzz')\n",
    "else:\n",
    "    print(f'{n}:buzzfizz')\n"
   ]
  },
  {
   "cell_type": "code",
   "execution_count": 14,
   "id": "b73367f2-1625-44bf-be1f-737eda1f3525",
   "metadata": {},
   "outputs": [
    {
     "name": "stdin",
     "output_type": "stream",
     "text": [
      "enter the year 2017\n"
     ]
    },
    {
     "name": "stdout",
     "output_type": "stream",
     "text": [
      "not a leap year\n"
     ]
    }
   ],
   "source": [
    "year=int(input('enter the year'))\n",
    "if year%4==0 and year%400!=0:\n",
    "         print(' leap year')\n",
    "elif year%400==0:\n",
    "         print('century leap year')\n",
    "else:\n",
    "    print('not a leap year')"
   ]
  },
  {
   "cell_type": "code",
   "execution_count": null,
   "id": "72469fa7-3917-4e73-acac-11e85bd6d0a3",
   "metadata": {},
   "outputs": [],
   "source": []
  }
 ],
 "metadata": {
  "kernelspec": {
   "display_name": "Python 3 (ipykernel)",
   "language": "python",
   "name": "python3"
  },
  "language_info": {
   "codemirror_mode": {
    "name": "ipython",
    "version": 3
   },
   "file_extension": ".py",
   "mimetype": "text/x-python",
   "name": "python",
   "nbconvert_exporter": "python",
   "pygments_lexer": "ipython3",
   "version": "3.9.13"
  }
 },
 "nbformat": 4,
 "nbformat_minor": 5
}
