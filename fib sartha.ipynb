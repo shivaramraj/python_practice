{
 "cells": [
  {
   "cell_type": "code",
   "execution_count": null,
   "id": "87838f79-27c3-4e8a-9edc-b9174bc44692",
   "metadata": {},
   "outputs": [
    {
     "data": {
      "text/plain": [
       "34"
      ]
     },
     "execution_count": 1,
     "metadata": {},
     "output_type": "execute_result"
    }
   ],
   "source": [
    "def fib(n):\n",
    "    if n==1 or n==2:\n",
    "        return n-1\n",
    "    return fib(n-1)+fib(n-2)\n",
    "fib(10)"
   ]
  },
  {
   "cell_type": "code",
   "execution_count": 11,
   "id": "2c089b7d-f9e7-4935-8ce6-3fe071202016",
   "metadata": {},
   "outputs": [
    {
     "name": "stdout",
     "output_type": "stream",
     "text": [
      "enter the number 5\n"
     ]
    },
    {
     "name": "stdout",
     "output_type": "stream",
     "text": [
      "0\n",
      "1\n",
      "1\n",
      "2\n",
      "3\n"
     ]
    }
   ],
   "source": [
    "n=int(input('enter the number'))\n",
    "f,s=0,1\n",
    "for x in range(0,n):\n",
    "    print(f)\n",
    "    t=f+s\n",
    "    f,s=s,t"
   ]
  },
  {
   "cell_type": "code",
   "execution_count": 7,
   "id": "0ac91f24-96d5-4f94-baac-f83d7d43c6ba",
   "metadata": {},
   "outputs": [
    {
     "name": "stdout",
     "output_type": "stream",
     "text": [
      "enter the first number of fib: 13\n",
      "enter second number of finb: 21\n"
     ]
    },
    {
     "name": "stdout",
     "output_type": "stream",
     "text": [
      "13 \n",
      "  34 \n",
      "    89 \n",
      "      233 \n",
      "        610 \n",
      "      377 \n",
      "    144 \n",
      "  55 \n",
      "21 \n"
     ]
    }
   ],
   "source": [
    "n=9\n",
    "l=[]\n",
    "f,s=int(input('enter the first number of fib:')),int(input('enter second number of finb:')) \n",
    "for x in range(0,n):\n",
    "    r=l.append(f)\n",
    "    t=f+s\n",
    "    f,s=s,t\n",
    "l1=[]\n",
    "l2=[]\n",
    "for e in range(len(l)):\n",
    "    if e%2==0:\n",
    "        l1.append(l[e])\n",
    "    else:\n",
    "        l2.append(l[e])\n",
    "l3=l2[::-1]\n",
    "# print(l1)\n",
    "# print(l2)\n",
    "# print(l3)\n",
    "sp=0\n",
    "st=1\n",
    "r=0\n",
    "m=0\n",
    "n=9\n",
    "for g in range(n):\n",
    "    for y in range(sp):\n",
    "        print(' ',end=' ')\n",
    "    for z in range(st):\n",
    "            if g<n//2+1:\n",
    "                print(l1[r],end=' ')\n",
    "            else:\n",
    "                print(l3[m],end=' ')\n",
    "                m+=1\n",
    "            r+=1\n",
    "    print()\n",
    "    if g<n//2:\n",
    "        sp+=1\n",
    "    else:\n",
    "        sp-=1"
   ]
  },
  {
   "cell_type": "code",
   "execution_count": 44,
   "id": "ac1e78f5-a95d-4e91-a912-063353b4f192",
   "metadata": {},
   "outputs": [
    {
     "name": "stdout",
     "output_type": "stream",
     "text": [
      "[2, 3]\n"
     ]
    }
   ],
   "source": [
    "l=[2,3,4,3,2]\n",
    "c=[]\n",
    "for x in range(len(l)):\n",
    "    if l.count(l[x])>1:\n",
    "        if l[x] not in c:\n",
    "            c.append(l[x])\n",
    "print(c)"
   ]
  },
  {
   "cell_type": "code",
   "execution_count": 33,
   "id": "e0c3e7bc-9dea-46ea-b362-ba523e6810a7",
   "metadata": {},
   "outputs": [
    {
     "name": "stdout",
     "output_type": "stream",
     "text": [
      "[1, 2, 3, 5, 8, 13, 21, 34, 55]\n",
      "[1, 3, 8, 21, 55]\n",
      "[2, 5, 13, 34]\n",
      "[34, 13, 5, 2]\n",
      "1 \n",
      "  3 \n",
      "    8 \n",
      "      34 \n",
      "        34 \n",
      "      34 \n",
      "    "
     ]
    },
    {
     "ename": "IndexError",
     "evalue": "list index out of range",
     "output_type": "error",
     "traceback": [
      "\u001b[1;31m---------------------------------------------------------------------------\u001b[0m",
      "\u001b[1;31mIndexError\u001b[0m                                Traceback (most recent call last)",
      "\u001b[1;32m~\\AppData\\Local\\Temp\\ipykernel_15132\\2239870378.py\u001b[0m in \u001b[0;36m<module>\u001b[1;34m\u001b[0m\n\u001b[0;32m     19\u001b[0m             \u001b[0mr\u001b[0m\u001b[1;33m=\u001b[0m\u001b[1;36m0\u001b[0m\u001b[1;33m\u001b[0m\u001b[1;33m\u001b[0m\u001b[0m\n\u001b[0;32m     20\u001b[0m             \u001b[1;32mif\u001b[0m \u001b[0mst\u001b[0m\u001b[1;33m<\u001b[0m\u001b[0mn\u001b[0m\u001b[1;33m//\u001b[0m\u001b[1;36m2\u001b[0m\u001b[1;33m:\u001b[0m\u001b[1;33m\u001b[0m\u001b[1;33m\u001b[0m\u001b[0m\n\u001b[1;32m---> 21\u001b[1;33m                 \u001b[0mprint\u001b[0m\u001b[1;33m(\u001b[0m\u001b[0ml1\u001b[0m\u001b[1;33m[\u001b[0m\u001b[0mx\u001b[0m\u001b[1;33m]\u001b[0m\u001b[1;33m,\u001b[0m\u001b[0mend\u001b[0m\u001b[1;33m=\u001b[0m\u001b[1;34m' '\u001b[0m\u001b[1;33m)\u001b[0m\u001b[1;33m\u001b[0m\u001b[1;33m\u001b[0m\u001b[0m\n\u001b[0m\u001b[0;32m     22\u001b[0m             \u001b[1;32melse\u001b[0m\u001b[1;33m:\u001b[0m\u001b[1;33m\u001b[0m\u001b[1;33m\u001b[0m\u001b[0m\n\u001b[0;32m     23\u001b[0m                 \u001b[0mprint\u001b[0m\u001b[1;33m(\u001b[0m\u001b[0ml3\u001b[0m\u001b[1;33m[\u001b[0m\u001b[0mr\u001b[0m\u001b[1;33m]\u001b[0m\u001b[1;33m,\u001b[0m\u001b[0mend\u001b[0m\u001b[1;33m=\u001b[0m\u001b[1;34m' '\u001b[0m\u001b[1;33m)\u001b[0m\u001b[1;33m\u001b[0m\u001b[1;33m\u001b[0m\u001b[0m\n",
      "\u001b[1;31mIndexError\u001b[0m: list index out of range"
     ]
    }
   ],
   "source": [
    "\n",
    "n=9\n",
    "st=1\n",
    "f,s=1,2\n",
    "l=[]\n",
    "for x in range(n):\n",
    "    l.append(f)\n",
    "    t=f+s\n",
    "    f,s=s,t\n",
    "print(l)\n",
    "l1=l[::2]\n",
    "l2=l[1::2]\n",
    "l3=l2[::-1]\n",
    "print(l1)\n",
    "print(l2)\n",
    "print(l3)\n",
    "for x in range(n):\n",
    "    for y in range(st):\n",
    "        if y==st-1:\n",
    "            r=0\n",
    "            if st<n//2:\n",
    "                print(l1[x],end=' ')\n",
    "            else:\n",
    "                print(l3[r],end=' ')\n",
    "            r+=1\n",
    "        else:\n",
    "            print(' ',end=' ')\n",
    "    print()\n",
    "    if x<n//2:\n",
    "        \n",
    "        st+=1\n",
    "    else:\n",
    "        st-=1"
   ]
  },
  {
   "cell_type": "code",
   "execution_count": 19,
   "id": "17ebdee6-b19d-4a1d-93d8-104b8507962a",
   "metadata": {},
   "outputs": [
    {
     "name": "stdout",
     "output_type": "stream",
     "text": [
      "ejwf 7\n"
     ]
    },
    {
     "name": "stdout",
     "output_type": "stream",
     "text": [
      "Weird\n"
     ]
    }
   ],
   "source": [
    "n=int(input('ejwf'))\n",
    "if n>=1 and n<=5 and n%2==0:\n",
    "    print('Not Weird')\n",
    "elif n>5 and n<=20 and n%2!=0:\n",
    "    print('Weird')\n",
    "elif n>20 and n%2==0:\n",
    "    print('Not Weird')\n",
    "else:\n",
    "    print('Weird')\n",
    "           \n",
    "                    "
   ]
  },
  {
   "cell_type": "code",
   "execution_count": 4,
   "id": "5ac9adb4-623f-4a66-a7ea-00cf76c91772",
   "metadata": {},
   "outputs": [
    {
     "name": "stdout",
     "output_type": "stream",
     "text": [
      "[0, 1, 2, 3, 4]\n"
     ]
    }
   ],
   "source": [
    "a=[i for i in range(0,5)]\n",
    "print(a)"
   ]
  },
  {
   "cell_type": "code",
   "execution_count": 6,
   "id": "85cdca09-8935-4184-b2d3-15f605001f64",
   "metadata": {},
   "outputs": [
    {
     "ename": "SyntaxError",
     "evalue": "invalid syntax (713689935.py, line 4)",
     "output_type": "error",
     "traceback": [
      "\u001b[1;36m  File \u001b[1;32m\"C:\\Users\\shiva\\AppData\\Local\\Temp\\ipykernel_17268\\713689935.py\"\u001b[1;36m, line \u001b[1;32m4\u001b[0m\n\u001b[1;33m    a=[[x:y] for x in range(x+1) [y:x] for y in range(y+1)]\u001b[0m\n\u001b[1;37m         ^\u001b[0m\n\u001b[1;31mSyntaxError\u001b[0m\u001b[1;31m:\u001b[0m invalid syntax\n"
     ]
    }
   ],
   "source": [
    "x=3\n",
    "y=3\n",
    "z=3\n",
    "a=[[x:y] for x in range(x+1) [y:x] for y in range(y+1)]\n",
    "print(a)\n"
   ]
  },
  {
   "cell_type": "code",
   "execution_count": 2,
   "id": "566413bf-113f-4332-b7ce-6138c6fa700d",
   "metadata": {},
   "outputs": [
    {
     "name": "stdout",
     "output_type": "stream",
     "text": [
      "[[0, 1, 2, 3, 4], [0, 1, 2, 3, 4], [0, 1, 2, 3, 4]]\n"
     ]
    }
   ],
   "source": [
    "a=[]\n",
    "for x in range(3):\n",
    "    a.append([])\n",
    "    for y in range(5):\n",
    "        a[x].append(y)\n",
    "print(a)"
   ]
  },
  {
   "cell_type": "code",
   "execution_count": 10,
   "id": "b7fe496f-40f8-400d-bba6-d7d8a59a4570",
   "metadata": {},
   "outputs": [
    {
     "ename": "SyntaxError",
     "evalue": "invalid syntax (2341348493.py, line 1)",
     "output_type": "error",
     "traceback": [
      "\u001b[1;36m  File \u001b[1;32m\"C:\\Users\\shiva\\AppData\\Local\\Temp\\ipykernel_24700\\2341348493.py\"\u001b[1;36m, line \u001b[1;32m1\u001b[0m\n\u001b[1;33m    b=[[i for i range(5)]]\u001b[0m\n\u001b[1;37m                ^\u001b[0m\n\u001b[1;31mSyntaxError\u001b[0m\u001b[1;31m:\u001b[0m invalid syntax\n"
     ]
    }
   ],
   "source": [
    "b=[[i for i range(5)]]\n",
    "print(b)"
   ]
  },
  {
   "cell_type": "code",
   "execution_count": 14,
   "id": "83ae538a-09cc-4e14-bc2d-681b6d09b89e",
   "metadata": {},
   "outputs": [
    {
     "ename": "SyntaxError",
     "evalue": "invalid syntax (3335637483.py, line 2)",
     "output_type": "error",
     "traceback": [
      "\u001b[1;36m  File \u001b[1;32m\"C:\\Users\\shiva\\AppData\\Local\\Temp\\ipykernel_24700\\3335637483.py\"\u001b[1;36m, line \u001b[1;32m2\u001b[0m\n\u001b[1;33m    n=[for val in sublist]\u001b[0m\n\u001b[1;37m       ^\u001b[0m\n\u001b[1;31mSyntaxError\u001b[0m\u001b[1;31m:\u001b[0m invalid syntax\n"
     ]
    }
   ],
   "source": [
    "m=[[1,2,3],[4,5],[6,7,8]]\n",
    "n=[for val in sublist]\n",
    "print(n)\n",
    "f=[val for sublist in m for val in sublist]\n",
    "print(f)"
   ]
  },
  {
   "cell_type": "code",
   "execution_count": 25,
   "id": "0847a124-1586-470d-9999-0f285e15cd6b",
   "metadata": {},
   "outputs": [
    {
     "name": "stdout",
     "output_type": "stream",
     "text": [
      "True\n",
      "False\n",
      "True\n",
      "False\n",
      "True\n",
      "False\n",
      "True\n",
      "False\n",
      "True\n",
      "False\n"
     ]
    }
   ],
   "source": [
    "l=[]\n",
    "for x in range(10):\n",
    "    # l.append(x%2==0)\n",
    "    if print(x%2==0):\n",
    "        pass\n",
    "# print(l)"
   ]
  },
  {
   "cell_type": "code",
   "execution_count": 27,
   "id": "2eda3045-46b2-4e10-a0d7-e9a136ac1d28",
   "metadata": {},
   "outputs": [
    {
     "name": "stdout",
     "output_type": "stream",
     "text": [
      "[[0, 0, 0], [0, 0, 1], [0, 1, 0], [0, 1, 1], [1, 0, 0], [1, 0, 1], [1, 1, 0]]\n"
     ]
    }
   ],
   "source": [
    "l=[[x,y,z] for x in range(2) for y in range(2) for z in range(2) if x+y+z!=3]\n",
    "print(l)"
   ]
  },
  {
   "cell_type": "code",
   "execution_count": 31,
   "id": "4d34d3ba-419c-499d-962f-44429c4b6f54",
   "metadata": {},
   "outputs": [
    {
     "name": "stdout",
     "output_type": "stream",
     "text": [
      " 1\n",
      " 1\n",
      " 1\n",
      " 2\n"
     ]
    },
    {
     "name": "stdout",
     "output_type": "stream",
     "text": [
      "[[0, 0, 0], [0, 0, 1], [0, 1, 0], [1, 0, 0], [1, 1, 1]]\n"
     ]
    }
   ],
   "source": [
    "x = int(input())\n",
    "y = int(input())\n",
    "z = int(input())\n",
    "n = int(input())\n",
    "l=[[a,b,c] for a in range(x+1) for b in range(y+1) for c in range(z+1) if a+b+c!=n]\n",
    "print(l)"
   ]
  },
  {
   "cell_type": "code",
   "execution_count": 42,
   "id": "3055216e-4696-4b5c-bd88-9fe08d10d5ab",
   "metadata": {},
   "outputs": [
    {
     "ename": "AttributeError",
     "evalue": "'list' object attribute 'reverse' is read-only",
     "output_type": "error",
     "traceback": [
      "\u001b[1;31m---------------------------------------------------------------------------\u001b[0m",
      "\u001b[1;31mAttributeError\u001b[0m                            Traceback (most recent call last)",
      "\u001b[1;32m~\\AppData\\Local\\Temp\\ipykernel_24700\\180546806.py\u001b[0m in \u001b[0;36m<module>\u001b[1;34m\u001b[0m\n\u001b[0;32m      2\u001b[0m \u001b[0marr\u001b[0m \u001b[1;33m=\u001b[0m\u001b[1;33m[\u001b[0m\u001b[1;36m1\u001b[0m\u001b[1;33m,\u001b[0m\u001b[1;36m3\u001b[0m\u001b[1;33m,\u001b[0m\u001b[1;36m4\u001b[0m\u001b[1;33m,\u001b[0m\u001b[1;36m5\u001b[0m\u001b[1;33m,\u001b[0m\u001b[1;36m6\u001b[0m\u001b[1;33m]\u001b[0m\u001b[1;33m\u001b[0m\u001b[1;33m\u001b[0m\u001b[0m\n\u001b[0;32m      3\u001b[0m \u001b[0marr1\u001b[0m\u001b[1;33m=\u001b[0m\u001b[0mlist\u001b[0m\u001b[1;33m(\u001b[0m\u001b[0mset\u001b[0m\u001b[1;33m(\u001b[0m\u001b[0marr\u001b[0m\u001b[1;33m)\u001b[0m\u001b[1;33m)\u001b[0m\u001b[1;33m\u001b[0m\u001b[1;33m\u001b[0m\u001b[0m\n\u001b[1;32m----> 4\u001b[1;33m \u001b[0marr1\u001b[0m\u001b[1;33m.\u001b[0m\u001b[0mreverse\u001b[0m\u001b[1;33m=\u001b[0m\u001b[1;32mTrue\u001b[0m\u001b[1;33m\u001b[0m\u001b[1;33m\u001b[0m\u001b[0m\n\u001b[0m\u001b[0;32m      5\u001b[0m \u001b[0mprint\u001b[0m\u001b[1;33m(\u001b[0m\u001b[0marr1\u001b[0m\u001b[1;33m[\u001b[0m\u001b[1;33m-\u001b[0m\u001b[1;36m2\u001b[0m\u001b[1;33m]\u001b[0m\u001b[1;33m)\u001b[0m\u001b[1;33m\u001b[0m\u001b[1;33m\u001b[0m\u001b[0m\n",
      "\u001b[1;31mAttributeError\u001b[0m: 'list' object attribute 'reverse' is read-only"
     ]
    }
   ],
   "source": [
    "n =5\n",
    "arr =[1,3,4,5,6]\n",
    "arr1=list(set(arr))\n",
    "arr1.reverse=True\n",
    "print(arr1[-2])"
   ]
  },
  {
   "cell_type": "code",
   "execution_count": 43,
   "id": "7fa4ceb7-d4a5-45c5-be78-7bd033163e67",
   "metadata": {},
   "outputs": [
    {
     "ename": "AttributeError",
     "evalue": "'list' object attribute 'reverse' is read-only",
     "output_type": "error",
     "traceback": [
      "\u001b[1;31m---------------------------------------------------------------------------\u001b[0m",
      "\u001b[1;31mAttributeError\u001b[0m                            Traceback (most recent call last)",
      "\u001b[1;32m~\\AppData\\Local\\Temp\\ipykernel_24700\\2826278300.py\u001b[0m in \u001b[0;36m<module>\u001b[1;34m\u001b[0m\n\u001b[0;32m      1\u001b[0m \u001b[0mn\u001b[0m \u001b[1;33m=\u001b[0m\u001b[1;36m5\u001b[0m\u001b[1;33m\u001b[0m\u001b[1;33m\u001b[0m\u001b[0m\n\u001b[0;32m      2\u001b[0m \u001b[0marr\u001b[0m \u001b[1;33m=\u001b[0m\u001b[1;33m[\u001b[0m\u001b[1;36m1\u001b[0m\u001b[1;33m,\u001b[0m\u001b[1;36m3\u001b[0m\u001b[1;33m,\u001b[0m\u001b[1;36m4\u001b[0m\u001b[1;33m,\u001b[0m\u001b[1;36m5\u001b[0m\u001b[1;33m,\u001b[0m\u001b[1;36m6\u001b[0m\u001b[1;33m]\u001b[0m\u001b[1;33m\u001b[0m\u001b[1;33m\u001b[0m\u001b[0m\n\u001b[1;32m----> 3\u001b[1;33m \u001b[0marr\u001b[0m\u001b[1;33m.\u001b[0m\u001b[0mreverse\u001b[0m\u001b[1;33m=\u001b[0m\u001b[1;32mTrue\u001b[0m\u001b[1;33m\u001b[0m\u001b[1;33m\u001b[0m\u001b[0m\n\u001b[0m\u001b[0;32m      4\u001b[0m \u001b[0mprint\u001b[0m\u001b[1;33m(\u001b[0m\u001b[0marr\u001b[0m\u001b[1;33m)\u001b[0m\u001b[1;33m\u001b[0m\u001b[1;33m\u001b[0m\u001b[0m\n",
      "\u001b[1;31mAttributeError\u001b[0m: 'list' object attribute 'reverse' is read-only"
     ]
    }
   ],
   "source": [
    "n =5\n",
    "arr =[1,3,4,5,6]\n",
    "arr.reverse=True\n",
    "print(arr)"
   ]
  },
  {
   "cell_type": "code",
   "execution_count": 52,
   "id": "3962be4d-987c-4847-b142-559aa64b6401",
   "metadata": {},
   "outputs": [
    {
     "name": "stdout",
     "output_type": "stream",
     "text": [
      "8\n",
      "[1, 5, 3, 5, 6, 8]\n",
      "[1, 3, 5, 6, 8]\n"
     ]
    }
   ],
   "source": [
    "l=[1,5,3,5,6,8]\n",
    "r=list(set(l))\n",
    "r.sort()\n",
    "h=max(l)\n",
    "print(h)\n",
    "print(l)\n",
    "print(r)"
   ]
  },
  {
   "cell_type": "code",
   "execution_count": 8,
   "id": "f0b4b0bb-bb47-46cc-b4d2-a0672562b27f",
   "metadata": {},
   "outputs": [
    {
     "name": "stdout",
     "output_type": "stream",
     "text": [
      "[[[['harry', 'berry', 'tina', 'akriti', 'harsh'], [37, 37, 37, 41, 39]], [['harry', 'berry', 'tina', 'akriti', 'harsh'], [37, 37, 37, 41, 39]]]]\n",
      "[[['harry', 'berry', 'tina', 'akriti', 'harsh'], [37, 37, 37, 41, 39]]]\n"
     ]
    }
   ],
   "source": [
    "# Harry\n",
    "# 37.21\n",
    "# Berry\n",
    "# 37.21\n",
    "# Tina\n",
    "# 37.2\n",
    "# Akriti\n",
    "# 41\n",
    "# Harsh\n",
    "# 39\n",
    "name=['harry','berry','tina','akriti','harsh']\n",
    "score=[37,37,37,41,39]\n",
    "l=[[name,score]]\n",
    "r=[[x,y]for x in l for y in l]\n",
    "print(r)\n",
    "print(l)"
   ]
  },
  {
   "cell_type": "code",
   "execution_count": 13,
   "id": "ccad6dd4-7ef1-4bde-9af0-f1a0606b5ae2",
   "metadata": {},
   "outputs": [
    {
     "name": "stdout",
     "output_type": "stream",
     "text": [
      "39\n"
     ]
    }
   ],
   "source": [
    "# name=['harry','berry','tina','akriti','harsh']\n",
    "# score=[37,37,37,41,39]\n",
    "# r=[[name[x],score[x]]for x in range(len(name))]\n",
    "# g=dict(r)\n",
    "# val=list(g.values())\n",
    "# val.sort()\n",
    "# print(val[-2])\n",
    "# # print(val)"
   ]
  },
  {
   "cell_type": "code",
   "execution_count": 18,
   "id": "5a5e95a8-5b8f-40da-afa9-b5e877065d53",
   "metadata": {},
   "outputs": [
    {
     "name": "stdout",
     "output_type": "stream",
     "text": [
      "harry\n",
      "berry\n"
     ]
    }
   ],
   "source": [
    "name=['harry','berry','tina','akriti','harsh']\n",
    "score=[37.21,37.21,37.2,41,39]\n",
    "l=[[name[x],score[x]]for x in range(len(name))]\n",
    "d=dict(l)\n",
    "val=list(d.values())\n",
    "val.sort()\n",
    "for k,v in d.items():\n",
    "    if v==val[1]:\n",
    "        print(k)\n",
    "            "
   ]
  },
  {
   "cell_type": "code",
   "execution_count": 48,
   "id": "3881fa57-eb71-4854-aacf-e810f0d98b3a",
   "metadata": {},
   "outputs": [
    {
     "name": "stdout",
     "output_type": "stream",
     "text": [
      "        * \n",
      "      *     \n",
      "    *         \n",
      "  *             \n",
      "* * * * * * * * * \n"
     ]
    }
   ],
   "source": [
    "n=5\n",
    "st=1\n",
    "sp=n-1\n",
    "for x in range(n):\n",
    "    for z in range(sp):\n",
    "        print(' ',end=' ')\n",
    "    for y in range(st):\n",
    "        if x>0 and x<n-1 and (y>0 and y-1<y):\n",
    "            print(' ',end=' ')\n",
    "        else:\n",
    "            print('*',end=' ')\n",
    "    print()\n",
    "    st+=2\n",
    "    sp-=1"
   ]
  },
  {
   "cell_type": "code",
   "execution_count": 107,
   "id": "85f7cfa7-9837-49b8-8fd8-7d580bd2064c",
   "metadata": {},
   "outputs": [
    {
     "name": "stdout",
     "output_type": "stream",
     "text": [
      "15 \n",
      "14 13 \n",
      "12 11 10 \n",
      "9  8  7  6  \n",
      "5  4  3  2  1  \n"
     ]
    }
   ],
   "source": [
    "n=5\n",
    "st=1\n",
    "num=15\n",
    "for x in range(n):\n",
    "    for y in range(st):\n",
    "        if len(str(num))==1:\n",
    "            print(num,end='  ')\n",
    "            num-=1\n",
    "        else:\n",
    "            print(num,end=' ')\n",
    "            num-=1\n",
    "    print()\n",
    "    st+=1"
   ]
  },
  {
   "cell_type": "code",
   "execution_count": 77,
   "id": "89ba6bee-2837-45ef-a726-c10bbfd8d27c",
   "metadata": {},
   "outputs": [
    {
     "name": "stdout",
     "output_type": "stream",
     "text": [
      "2\n"
     ]
    }
   ],
   "source": [
    "n=15\n",
    "print(len(str(n)))"
   ]
  },
  {
   "cell_type": "code",
   "execution_count": 21,
   "id": "1a3e0327-0b55-41be-a3c7-43ec27735bff",
   "metadata": {},
   "outputs": [
    {
     "name": "stdout",
     "output_type": "stream",
     "text": [
      " 1\n",
      " 12.3\n"
     ]
    },
    {
     "ename": "TypeError",
     "evalue": "'float' object is not subscriptable",
     "output_type": "error",
     "traceback": [
      "\u001b[1;31m---------------------------------------------------------------------------\u001b[0m",
      "\u001b[1;31mTypeError\u001b[0m                                 Traceback (most recent call last)",
      "\u001b[1;32m~\\AppData\\Local\\Temp\\ipykernel_15932\\785750610.py\u001b[0m in \u001b[0;36m<module>\u001b[1;34m\u001b[0m\n\u001b[0;32m      1\u001b[0m \u001b[0mname\u001b[0m \u001b[1;33m=\u001b[0m \u001b[0minput\u001b[0m\u001b[1;33m(\u001b[0m\u001b[1;33m)\u001b[0m\u001b[1;33m\u001b[0m\u001b[1;33m\u001b[0m\u001b[0m\n\u001b[0;32m      2\u001b[0m \u001b[0mscore\u001b[0m \u001b[1;33m=\u001b[0m \u001b[0mfloat\u001b[0m\u001b[1;33m(\u001b[0m\u001b[0minput\u001b[0m\u001b[1;33m(\u001b[0m\u001b[1;33m)\u001b[0m\u001b[1;33m)\u001b[0m\u001b[1;33m\u001b[0m\u001b[1;33m\u001b[0m\u001b[0m\n\u001b[1;32m----> 3\u001b[1;33m \u001b[0ml\u001b[0m\u001b[1;33m=\u001b[0m\u001b[1;33m[\u001b[0m\u001b[1;33m[\u001b[0m\u001b[0mname\u001b[0m\u001b[1;33m[\u001b[0m\u001b[0mx\u001b[0m\u001b[1;33m]\u001b[0m\u001b[1;33m,\u001b[0m\u001b[0mscore\u001b[0m\u001b[1;33m[\u001b[0m\u001b[0mx\u001b[0m\u001b[1;33m]\u001b[0m\u001b[1;33m]\u001b[0m\u001b[1;32mfor\u001b[0m \u001b[0mx\u001b[0m \u001b[1;32min\u001b[0m \u001b[0mrange\u001b[0m\u001b[1;33m(\u001b[0m\u001b[0mlen\u001b[0m\u001b[1;33m(\u001b[0m\u001b[0mname\u001b[0m\u001b[1;33m)\u001b[0m\u001b[1;33m)\u001b[0m\u001b[1;33m]\u001b[0m\u001b[1;33m\u001b[0m\u001b[1;33m\u001b[0m\u001b[0m\n\u001b[0m\u001b[0;32m      4\u001b[0m \u001b[0md\u001b[0m\u001b[1;33m=\u001b[0m\u001b[0mdict\u001b[0m\u001b[1;33m(\u001b[0m\u001b[0ml\u001b[0m\u001b[1;33m)\u001b[0m\u001b[1;33m\u001b[0m\u001b[1;33m\u001b[0m\u001b[0m\n\u001b[0;32m      5\u001b[0m \u001b[0mval\u001b[0m\u001b[1;33m=\u001b[0m\u001b[0mlist\u001b[0m\u001b[1;33m(\u001b[0m\u001b[0md\u001b[0m\u001b[1;33m.\u001b[0m\u001b[0mvalues\u001b[0m\u001b[1;33m(\u001b[0m\u001b[1;33m)\u001b[0m\u001b[1;33m)\u001b[0m\u001b[1;33m\u001b[0m\u001b[1;33m\u001b[0m\u001b[0m\n",
      "\u001b[1;32m~\\AppData\\Local\\Temp\\ipykernel_15932\\785750610.py\u001b[0m in \u001b[0;36m<listcomp>\u001b[1;34m(.0)\u001b[0m\n\u001b[0;32m      1\u001b[0m \u001b[0mname\u001b[0m \u001b[1;33m=\u001b[0m \u001b[0minput\u001b[0m\u001b[1;33m(\u001b[0m\u001b[1;33m)\u001b[0m\u001b[1;33m\u001b[0m\u001b[1;33m\u001b[0m\u001b[0m\n\u001b[0;32m      2\u001b[0m \u001b[0mscore\u001b[0m \u001b[1;33m=\u001b[0m \u001b[0mfloat\u001b[0m\u001b[1;33m(\u001b[0m\u001b[0minput\u001b[0m\u001b[1;33m(\u001b[0m\u001b[1;33m)\u001b[0m\u001b[1;33m)\u001b[0m\u001b[1;33m\u001b[0m\u001b[1;33m\u001b[0m\u001b[0m\n\u001b[1;32m----> 3\u001b[1;33m \u001b[0ml\u001b[0m\u001b[1;33m=\u001b[0m\u001b[1;33m[\u001b[0m\u001b[1;33m[\u001b[0m\u001b[0mname\u001b[0m\u001b[1;33m[\u001b[0m\u001b[0mx\u001b[0m\u001b[1;33m]\u001b[0m\u001b[1;33m,\u001b[0m\u001b[0mscore\u001b[0m\u001b[1;33m[\u001b[0m\u001b[0mx\u001b[0m\u001b[1;33m]\u001b[0m\u001b[1;33m]\u001b[0m\u001b[1;32mfor\u001b[0m \u001b[0mx\u001b[0m \u001b[1;32min\u001b[0m \u001b[0mrange\u001b[0m\u001b[1;33m(\u001b[0m\u001b[0mlen\u001b[0m\u001b[1;33m(\u001b[0m\u001b[0mname\u001b[0m\u001b[1;33m)\u001b[0m\u001b[1;33m)\u001b[0m\u001b[1;33m]\u001b[0m\u001b[1;33m\u001b[0m\u001b[1;33m\u001b[0m\u001b[0m\n\u001b[0m\u001b[0;32m      4\u001b[0m \u001b[0md\u001b[0m\u001b[1;33m=\u001b[0m\u001b[0mdict\u001b[0m\u001b[1;33m(\u001b[0m\u001b[0ml\u001b[0m\u001b[1;33m)\u001b[0m\u001b[1;33m\u001b[0m\u001b[1;33m\u001b[0m\u001b[0m\n\u001b[0;32m      5\u001b[0m \u001b[0mval\u001b[0m\u001b[1;33m=\u001b[0m\u001b[0mlist\u001b[0m\u001b[1;33m(\u001b[0m\u001b[0md\u001b[0m\u001b[1;33m.\u001b[0m\u001b[0mvalues\u001b[0m\u001b[1;33m(\u001b[0m\u001b[1;33m)\u001b[0m\u001b[1;33m)\u001b[0m\u001b[1;33m\u001b[0m\u001b[1;33m\u001b[0m\u001b[0m\n",
      "\u001b[1;31mTypeError\u001b[0m: 'float' object is not subscriptable"
     ]
    }
   ],
   "source": [
    "name = input()\n",
    "score = float(input())\n",
    "l=[[name[x],score[x]]for x in range(len(name))]\n",
    "d=dict(l)\n",
    "val=list(d.values())\n",
    "val.sort()\n",
    "for k,v in d.items():\n",
    "    if v==val[-2]:\n",
    "        print(k)"
   ]
  },
  {
   "cell_type": "code",
   "execution_count": 40,
   "id": "0ef562f2-2b62-4201-894a-b2cc45efd8a0",
   "metadata": {},
   "outputs": [
    {
     "name": "stdout",
     "output_type": "stream",
     "text": [
      "[52.0, 56.0, 60.0]\n",
      "56.00\n"
     ]
    }
   ],
   "source": [
    "d={'Krishna': [67.0, 68.0, 69.0], 'Arjun': [70.0, 98.0, 63.0], 'Malika': [52.0, 56.0, 60.0]}\n",
    "a=d['Malika']\n",
    "c=sum(a)/len(a)\n",
    "print(a)\n",
    "print(f'{c:.2f}')"
   ]
  },
  {
   "cell_type": "code",
   "execution_count": 16,
   "id": "72e95951-57b7-4c97-8ce5-5e09672436d4",
   "metadata": {},
   "outputs": [
    {
     "name": "stdout",
     "output_type": "stream",
     "text": [
      "* * * * * * * * \n",
      "    *   *       \n",
      "    *   *       \n",
      "    *   *       \n",
      "    *   *       \n",
      "    * * *       \n"
     ]
    }
   ],
   "source": [
    "n=6\n",
    "st=8\n",
    "for x in range(n):\n",
    "    for y in range(st):\n",
    "        if x==0 or y==st//2-2 or y==st//2 or x==0 and y!=3:\n",
    "            print('*',end=' ')\n",
    "        else:\n",
    "            if (x==n-1 and y==st-5) or (x==0 and y!=4) or x==0 and y!=3: \n",
    "                print('*',end=' ')\n",
    "            else:\n",
    "                \n",
    "                print(' ',end=' ')\n",
    "    print()"
   ]
  },
  {
   "cell_type": "code",
   "execution_count": null,
   "id": "cba4630b-3903-4d7e-92e3-644bfc280a92",
   "metadata": {},
   "outputs": [],
   "source": []
  }
 ],
 "metadata": {
  "kernelspec": {
   "display_name": "base",
   "language": "python",
   "name": "python3"
  },
  "language_info": {
   "codemirror_mode": {
    "name": "ipython",
    "version": 3
   },
   "file_extension": ".py",
   "mimetype": "text/x-python",
   "name": "python",
   "nbconvert_exporter": "python",
   "pygments_lexer": "ipython3",
   "version": "3.9.13"
  },
  "vscode": {
   "interpreter": {
    "hash": "3844a49c18a74871cca5193e45c5e4b46b25b0886fff53449ea495a2f93c944d"
   }
  }
 },
 "nbformat": 4,
 "nbformat_minor": 5
}
