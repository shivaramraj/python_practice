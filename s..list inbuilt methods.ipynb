{
 "cells": [
  {
   "cell_type": "code",
   "execution_count": null,
   "id": "584df17f-b974-4b40-b285-d9fe18a14f07",
   "metadata": {},
   "outputs": [],
   "source": [
    "# inbuilt methods for collection data types"
   ]
  },
  {
   "cell_type": "markdown",
   "id": "6e8992d3-0f88-4963-b4b7-c6cfcbe6c5ca",
   "metadata": {},
   "source": [
    "### list"
   ]
  },
  {
   "cell_type": "code",
   "execution_count": 2,
   "id": "13b921c2-9174-4bba-987e-b280303d4c6b",
   "metadata": {},
   "outputs": [],
   "source": [
    "# to add values in list \n",
    "# @ # append,insert,extend\n",
    "# to remove values \n",
    "# @ # remove,pop,clear"
   ]
  },
  {
   "cell_type": "code",
   "execution_count": 16,
   "id": "f9efb0a0-a6a9-42f6-8571-a21dd65ee9b7",
   "metadata": {},
   "outputs": [
    {
     "name": "stdout",
     "output_type": "stream",
     "text": [
      "[20, 13, 14, 15, 27]\n",
      "[20, 13, 34, 14, 15, 27]\n",
      "[20, 13, 34, 14, 15, 27, 's', 'h', 'i', 'v', 'a']\n",
      "[20, 13, 34, 14, 15, 27, 's', 'h', 'i', 'v', 'a', [20, 30, 40, 'ram']]\n",
      "[20, 13, 34, 14, 15, 27, 's', 'h', 'i', 'v', 'a', [20, 30, 40, 'ram'], 'c', 'b', 'a']\n",
      "[20, 13, 34, 14, 15, 27, 's', 'h', 'i', 'v', 'a', [20, 30, 40, 'ram'], 'c', 'b', 'a', 20, 30, 40, 'ram']\n"
     ]
    }
   ],
   "source": [
    "# add values in list\n",
    "l=[20,13,14, 15]\n",
    "l.append(27)\n",
    "print(l)\n",
    "l.insert(2,34)\n",
    "print(l)\n",
    "l.extend('shiva')\n",
    "print(l)\n",
    "l.extend([[20,30,40,'ram']])\n",
    "print(l)\n",
    "l.extend({'c':20,'b':40,'a':50})\n",
    "print(l)\n",
    "l.extend([20,30,40,'ram'])\n",
    "print(l)"
   ]
  },
  {
   "cell_type": "code",
   "execution_count": 34,
   "id": "20961173-dd20-474e-8a2c-b5a0b7c91414",
   "metadata": {},
   "outputs": [
    {
     "name": "stdout",
     "output_type": "stream",
     "text": [
      "[13, 14, 15, 34, 54, 67, 87, 20, 13, 14, 15, 34, 54, 67, 87]\n",
      "14\n",
      "[13, 15, 34, 54, 67, 87, 20, 13, 14, 15, 34, 54, 67, 87]\n",
      "87\n",
      "[13, 15, 34, 54, 67, 87, 20, 13, 14, 15, 34, 54, 67]\n",
      "[]\n"
     ]
    }
   ],
   "source": [
    "# to remove values in list\n",
    "l=[20,13,14, 15,34,54,67,87]*2\n",
    "l.remove(20)\n",
    "print(l)\n",
    "a=l.pop(1)\n",
    "print(a)\n",
    "print(l)\n",
    "b=l.pop()\n",
    "print(b)\n",
    "print(l)\n",
    "l.clear()\n",
    "print(l)"
   ]
  },
  {
   "cell_type": "code",
   "execution_count": 42,
   "id": "e2951b3e-7d0c-4933-9cda-5fa901ccf955",
   "metadata": {},
   "outputs": [
    {
     "name": "stdout",
     "output_type": "stream",
     "text": [
      "{34, 'i', 'h', 13, 14, 15, 'a', 20, 27, 'v', 's'}\n",
      "{34, 'i', 67, 'h', 13, 14, 15, 'a', 20, 27, 'v', 's'}\n",
      "{34, 'i', 67, 'h', 13, 14, 15, 78, 'a', 20, 27, 'v', 29, 's'}\n",
      "{34, 'i', 67, 'm', 'h', 13, 14, 15, 78, 'a', 'r', 20, 27, 'v', 29, 's'}\n",
      "{34, 'i', 67, 'm', 'h', 290, 780, 13, 14, 15, 78, 'a', 'r', 20, 27, 'v', 29, 's'}\n"
     ]
    }
   ],
   "source": [
    "# set inbuilt methods\n",
    "# to add values in list \n",
    "## add, update\n",
    "s={20, 13, 34, 14, 15, 27, 's', 'h', 'i', 'v', 'a', }\n",
    "print(s)\n",
    "s.add(67)\n",
    "print(s)\n",
    "s.update([29,78])\n",
    "print(s)\n",
    "s.update('ram')\n",
    "print(s)\n",
    "s.update((290,780))\n",
    "print(s)"
   ]
  },
  {
   "cell_type": "code",
   "execution_count": 52,
   "id": "852582de-b31e-48bc-b112-70d5294b710d",
   "metadata": {},
   "outputs": [
    {
     "name": "stdout",
     "output_type": "stream",
     "text": [
      "{67, 780, 13, 14, 15, 78, 'a', 20, 27, 29, 34, 'i', 'm', 'h', 'r', 'v', 's'}\n",
      "{67, 13, 14, 15, 78, 'a', 20, 27, 29, 34, 'i', 'm', 'h', 'r', 'v', 's'}\n",
      "{67, 13, 14, 15, 78, 'a', 20, 27, 29, 34, 'i', 'm', 'h', 'r', 'v', 's'}\n",
      "{13, 14, 15, 78, 'a', 20, 27, 29, 34, 'i', 'm', 'h', 'r', 'v', 's'}\n",
      "{14, 15, 78, 'a', 20, 27, 29, 34, 'i', 'm', 'h', 'r', 'v', 's'}\n",
      "set()\n"
     ]
    }
   ],
   "source": [
    "# to remove values in set\n",
    "# remove,discard,pop,clear\n",
    "r={34, 'i', 67, 'm', 'h', 290, 780, 13, 14, 15, 78, 'a', 'r', 20, 27, 'v', 29, 's'}\n",
    "r.remove(290)\n",
    "print(r)\n",
    "#r.remove(2900)#KeyError: 2900\n",
    "#print(r)\n",
    "r.discard(780)\n",
    "print(r)\n",
    "r.discard(7800)\n",
    "print(r)\n",
    "#r.pop(3)\n",
    "#print(r)#TypeError: set.pop() takes no arguments (1 given)\n",
    "r.pop()\n",
    "print(r)\n",
    "r.pop()\n",
    "print(r)\n",
    "r.clear()\n",
    "print(r)"
   ]
  },
  {
   "cell_type": "code",
   "execution_count": 1,
   "id": "c9d8e53d-251f-4c7a-a5a2-b97d076d6ae1",
   "metadata": {},
   "outputs": [
    {
     "name": "stdout",
     "output_type": "stream",
     "text": [
      "{'a': 30, 'b': 40, (20,): 45}\n",
      "{'a': 30, 'b': 40, (20,): 45, 'c': 30}\n",
      "{'a': 30, 'b': 40, (20,): 45, 'c': 30, 'd': 36, 'f': 47}\n"
     ]
    }
   ],
   "source": [
    "# dictonary inbuilt methods\n",
    "# to add values(i)(VN[key]=value(ii)update\n",
    "d={'a':30,'b':40}\n",
    "d[(20,)]=45\n",
    "print(d)\n",
    "d.update({'c':30})\n",
    "print(d)\n",
    "f={'d':36,'f':47}\n",
    "d.update(f)\n",
    "print(d)"
   ]
  },
  {
   "cell_type": "code",
   "execution_count": null,
   "id": "78d4262a-e119-4bd0-92b9-ce14ae62207c",
   "metadata": {},
   "outputs": [],
   "source": [
    "v={'a': 30, 'b': 40, (20,): 45, 'c': 30, 'd': 36, 'f': 47}\n",
    "n=v.pop('b')\n",
    "print(v)\n",
    "print(n)\n",
    "g=v.popitem()\n",
    "print(v)\n",
    "print(g)\n",
    "print(v.get('r',35))\n",
    "print(v)\n",
    "print(v.setdefault('m',200))\n",
    "print(v)\n",
    "print(v.setdefault('k',45))\n",
    "print(v)"
   ]
  },
  {
   "cell_type": "markdown",
   "id": "e64d4795-37e1-4e6c-b6e6-4fc739c78e4f",
   "metadata": {
    "tags": []
   },
   "source": [
    "# type converstion methods\n",
    "# single value data type\n",
    "# int\n",
    "float(20)\n"
   ]
  },
  {
   "cell_type": "code",
   "execution_count": 24,
   "id": "3d69123b-d157-42aa-972c-70636284cefb",
   "metadata": {},
   "outputs": [
    {
     "data": {
      "text/plain": [
       "20"
      ]
     },
     "execution_count": 24,
     "metadata": {},
     "output_type": "execute_result"
    }
   ],
   "source": [
    "int(20)"
   ]
  },
  {
   "cell_type": "code",
   "execution_count": 25,
   "id": "d4d0fdb4-2e79-40a3-985d-e588113ec341",
   "metadata": {},
   "outputs": [
    {
     "data": {
      "text/plain": [
       "True"
      ]
     },
     "execution_count": 25,
     "metadata": {},
     "output_type": "execute_result"
    }
   ],
   "source": [
    "bool(20)"
   ]
  },
  {
   "cell_type": "code",
   "execution_count": 26,
   "id": "a8a10ac3-4583-4db8-8ec0-3566ff970e85",
   "metadata": {},
   "outputs": [
    {
     "data": {
      "text/plain": [
       "False"
      ]
     },
     "execution_count": 26,
     "metadata": {},
     "output_type": "execute_result"
    }
   ],
   "source": [
    "bool()\n"
   ]
  },
  {
   "cell_type": "code",
   "execution_count": 29,
   "id": "478ddbb6-24d3-4b41-8357-a88dfdf7af3b",
   "metadata": {},
   "outputs": [
    {
     "data": {
      "text/plain": [
       "False"
      ]
     },
     "execution_count": 29,
     "metadata": {},
     "output_type": "execute_result"
    }
   ],
   "source": [
    "bool(0)"
   ]
  },
  {
   "cell_type": "code",
   "execution_count": 30,
   "id": "97a14ec4-d9b4-436e-9013-6b59704c99ac",
   "metadata": {},
   "outputs": [
    {
     "data": {
      "text/plain": [
       "20"
      ]
     },
     "execution_count": 30,
     "metadata": {},
     "output_type": "execute_result"
    }
   ],
   "source": [
    "int(20.5)"
   ]
  },
  {
   "cell_type": "code",
   "execution_count": 37,
   "id": "e0c1d322-2edc-44bd-85c6-c20664e8f342",
   "metadata": {},
   "outputs": [
    {
     "name": "stdout",
     "output_type": "stream",
     "text": [
      "<class 'bool'>\n",
      "140713311926376\n",
      "True\n",
      "(1+0j)\n",
      "True\n"
     ]
    }
   ],
   "source": [
    "x=bool(20)\n",
    "print(type(x))\n",
    "print(id(x))\n",
    "print(x)\n",
    "print(complex(x))\n",
    "print(x)"
   ]
  },
  {
   "cell_type": "code",
   "execution_count": 38,
   "id": "4daa66e5-bdee-44a9-8a6b-94d1aaa3ad5d",
   "metadata": {},
   "outputs": [
    {
     "data": {
      "text/plain": [
       "True"
      ]
     },
     "execution_count": 38,
     "metadata": {},
     "output_type": "execute_result"
    }
   ],
   "source": [
    "bool(20.5)"
   ]
  },
  {
   "cell_type": "code",
   "execution_count": 42,
   "id": "ebd1bcf4-2a25-4664-9b75-46621802f422",
   "metadata": {},
   "outputs": [
    {
     "data": {
      "text/plain": [
       "(20.5+10j)"
      ]
     },
     "execution_count": 42,
     "metadata": {},
     "output_type": "execute_result"
    }
   ],
   "source": [
    "complex(20.5,10)"
   ]
  },
  {
   "cell_type": "code",
   "execution_count": 43,
   "id": "04e2d0dd-d216-4f06-a9d5-e1172f8245d4",
   "metadata": {},
   "outputs": [
    {
     "data": {
      "text/plain": [
       "1"
      ]
     },
     "execution_count": 43,
     "metadata": {},
     "output_type": "execute_result"
    }
   ],
   "source": [
    "int(True)"
   ]
  },
  {
   "cell_type": "code",
   "execution_count": 44,
   "id": "a319afc1-b25c-4942-affa-f49c3e96dc9a",
   "metadata": {},
   "outputs": [
    {
     "data": {
      "text/plain": [
       "1.0"
      ]
     },
     "execution_count": 44,
     "metadata": {},
     "output_type": "execute_result"
    }
   ],
   "source": [
    "float(True)"
   ]
  },
  {
   "cell_type": "code",
   "execution_count": 45,
   "id": "728c21e8-7e5d-4edf-81f7-d965644b63b4",
   "metadata": {},
   "outputs": [
    {
     "data": {
      "text/plain": [
       "0.0"
      ]
     },
     "execution_count": 45,
     "metadata": {},
     "output_type": "execute_result"
    }
   ],
   "source": [
    "float(False)"
   ]
  },
  {
   "cell_type": "code",
   "execution_count": 46,
   "id": "a35962d3-13bc-4c25-bea1-9fdcd14e9cb9",
   "metadata": {},
   "outputs": [
    {
     "data": {
      "text/plain": [
       "(1+0j)"
      ]
     },
     "execution_count": 46,
     "metadata": {},
     "output_type": "execute_result"
    }
   ],
   "source": [
    "complex(True)"
   ]
  },
  {
   "cell_type": "code",
   "execution_count": 47,
   "id": "0eb64f50-56b5-4def-bf07-1d6fdd220a68",
   "metadata": {},
   "outputs": [
    {
     "data": {
      "text/plain": [
       "0j"
      ]
     },
     "execution_count": 47,
     "metadata": {},
     "output_type": "execute_result"
    }
   ],
   "source": [
    "complex(False)"
   ]
  },
  {
   "cell_type": "code",
   "execution_count": 48,
   "id": "e8a6e3be-f7b9-4231-96e2-d82a6f228372",
   "metadata": {},
   "outputs": [
    {
     "ename": "TypeError",
     "evalue": "can't convert complex to int",
     "output_type": "error",
     "traceback": [
      "\u001b[1;31m---------------------------------------------------------------------------\u001b[0m",
      "\u001b[1;31mTypeError\u001b[0m                                 Traceback (most recent call last)",
      "\u001b[1;32m~\\AppData\\Local\\Temp\\ipykernel_19728\\2189727595.py\u001b[0m in \u001b[0;36m<module>\u001b[1;34m\u001b[0m\n\u001b[1;32m----> 1\u001b[1;33m \u001b[0mint\u001b[0m\u001b[1;33m(\u001b[0m\u001b[1;36m10\u001b[0m\u001b[1;33m+\u001b[0m\u001b[1;36m5j\u001b[0m\u001b[1;33m)\u001b[0m\u001b[1;33m\u001b[0m\u001b[1;33m\u001b[0m\u001b[0m\n\u001b[0m",
      "\u001b[1;31mTypeError\u001b[0m: can't convert complex to int"
     ]
    }
   ],
   "source": [
    "int(10+5j)"
   ]
  },
  {
   "cell_type": "code",
   "execution_count": 49,
   "id": "afc9c886-b90b-47c5-835e-95994315fe0a",
   "metadata": {},
   "outputs": [
    {
     "ename": "TypeError",
     "evalue": "can't convert complex to float",
     "output_type": "error",
     "traceback": [
      "\u001b[1;31m---------------------------------------------------------------------------\u001b[0m",
      "\u001b[1;31mTypeError\u001b[0m                                 Traceback (most recent call last)",
      "\u001b[1;32m~\\AppData\\Local\\Temp\\ipykernel_19728\\1145906427.py\u001b[0m in \u001b[0;36m<module>\u001b[1;34m\u001b[0m\n\u001b[1;32m----> 1\u001b[1;33m \u001b[0mfloat\u001b[0m\u001b[1;33m(\u001b[0m\u001b[1;36m10\u001b[0m\u001b[1;33m+\u001b[0m\u001b[1;36m5j\u001b[0m\u001b[1;33m)\u001b[0m\u001b[1;33m\u001b[0m\u001b[1;33m\u001b[0m\u001b[0m\n\u001b[0m",
      "\u001b[1;31mTypeError\u001b[0m: can't convert complex to float"
     ]
    }
   ],
   "source": [
    "float(10+5j)"
   ]
  },
  {
   "cell_type": "code",
   "execution_count": 50,
   "id": "9ff894b8-1412-41d2-a826-a9fd6e936f40",
   "metadata": {},
   "outputs": [
    {
     "data": {
      "text/plain": [
       "True"
      ]
     },
     "execution_count": 50,
     "metadata": {},
     "output_type": "execute_result"
    }
   ],
   "source": [
    "bool(10+5j)"
   ]
  },
  {
   "cell_type": "markdown",
   "id": "9190430f-69d8-426d-bd53-8ea66966085a",
   "metadata": {
    "tags": []
   },
   "source": [
    "### collection value data type"
   ]
  },
  {
   "cell_type": "code",
   "execution_count": 88,
   "id": "7ec490a2-6ffb-4d1f-ba22-b64a3727e480",
   "metadata": {},
   "outputs": [
    {
     "data": {
      "text/plain": [
       "{'2': '0', '5': '0', (20,): 20}"
      ]
     },
     "execution_count": 88,
     "metadata": {},
     "output_type": "execute_result"
    }
   ],
   "source": [
    "dict(['20','50',((20,),20)])"
   ]
  },
  {
   "cell_type": "code",
   "execution_count": 96,
   "id": "a0b7cde5-5a4f-4dc4-a689-598e72c33bb3",
   "metadata": {},
   "outputs": [
    {
     "data": {
      "text/plain": [
       "'(20, 30, 40)'"
      ]
     },
     "execution_count": 96,
     "metadata": {},
     "output_type": "execute_result"
    }
   ],
   "source": [
    "str((20,30,40))"
   ]
  },
  {
   "cell_type": "code",
   "execution_count": 9,
   "id": "5c3c3072-b491-447f-bf3e-9255a871c043",
   "metadata": {},
   "outputs": [
    {
     "name": "stdout",
     "output_type": "stream",
     "text": [
      "3\n"
     ]
    }
   ],
   "source": [
    "a=list((20,30,40))\n",
    "print(len(a))"
   ]
  },
  {
   "cell_type": "code",
   "execution_count": 101,
   "id": "0f226c17-3d6e-4ec1-bffd-bd01246547dd",
   "metadata": {},
   "outputs": [
    {
     "data": {
      "text/plain": [
       "{(25, 34), 20, 30, 'shiva'}"
      ]
     },
     "execution_count": 101,
     "metadata": {},
     "output_type": "execute_result"
    }
   ],
   "source": [
    "set((20,30,(25,34),'shiva'))"
   ]
  },
  {
   "cell_type": "code",
   "execution_count": 131,
   "id": "63546382-332a-4d3b-a967-e107937bb961",
   "metadata": {},
   "outputs": [
    {
     "ename": "TypeError",
     "evalue": "dict expected at most 1 argument, got 2",
     "output_type": "error",
     "traceback": [
      "\u001b[1;31m---------------------------------------------------------------------------\u001b[0m",
      "\u001b[1;31mTypeError\u001b[0m                                 Traceback (most recent call last)",
      "\u001b[1;32m~\\AppData\\Local\\Temp\\ipykernel_19728\\3652414686.py\u001b[0m in \u001b[0;36m<module>\u001b[1;34m\u001b[0m\n\u001b[1;32m----> 1\u001b[1;33m \u001b[0mdict\u001b[0m\u001b[1;33m(\u001b[0m\u001b[1;34m'ab'\u001b[0m\u001b[1;33m,\u001b[0m\u001b[1;34m'cd'\u001b[0m\u001b[1;33m)\u001b[0m\u001b[1;33m\u001b[0m\u001b[1;33m\u001b[0m\u001b[0m\n\u001b[0m",
      "\u001b[1;31mTypeError\u001b[0m: dict expected at most 1 argument, got 2"
     ]
    }
   ],
   "source": [
    "dict('ab','cd')"
   ]
  },
  {
   "cell_type": "code",
   "execution_count": 133,
   "id": "437c634d-6410-4cc3-b983-bda026f3039f",
   "metadata": {},
   "outputs": [
    {
     "name": "stdout",
     "output_type": "stream",
     "text": [
      "{'a': 'b', 'c': 'd'}\n"
     ]
    }
   ],
   "source": [
    "a='ab','cd'\n",
    "print(dict(a))"
   ]
  },
  {
   "cell_type": "code",
   "execution_count": 7,
   "id": "9d6a18c2-2dfd-4754-91c7-46b96a8b2515",
   "metadata": {},
   "outputs": [
    {
     "name": "stdout",
     "output_type": "stream",
     "text": [
      "2\n",
      "{'a': 'b', '2': '0'}\n"
     ]
    }
   ],
   "source": [
    "a='ab','20'\n",
    "print(len(a))\n",
    "print(dict(a))"
   ]
  },
  {
   "cell_type": "code",
   "execution_count": 10,
   "id": "68250167-2a6d-4843-a8b5-216d0c608300",
   "metadata": {},
   "outputs": [
    {
     "data": {
      "text/plain": [
       "'10'"
      ]
     },
     "execution_count": 10,
     "metadata": {},
     "output_type": "execute_result"
    }
   ],
   "source": [
    "a=10\n",
    "str(a)"
   ]
  },
  {
   "cell_type": "code",
   "execution_count": 11,
   "id": "0982522c-975a-4c8d-b9dd-b269ab62d4b8",
   "metadata": {},
   "outputs": [
    {
     "data": {
      "text/plain": [
       "'10.5'"
      ]
     },
     "execution_count": 11,
     "metadata": {},
     "output_type": "execute_result"
    }
   ],
   "source": [
    "str(10.5)"
   ]
  },
  {
   "cell_type": "code",
   "execution_count": 14,
   "id": "f242a984-fe7e-4b0c-a80d-051810c56834",
   "metadata": {},
   "outputs": [
    {
     "data": {
      "text/plain": [
       "'(10+5j)'"
      ]
     },
     "execution_count": 14,
     "metadata": {},
     "output_type": "execute_result"
    }
   ],
   "source": [
    "str(10+5j)"
   ]
  },
  {
   "cell_type": "code",
   "execution_count": 26,
   "id": "b1035ee1-773f-47e1-853a-c58d6c656858",
   "metadata": {},
   "outputs": [
    {
     "data": {
      "text/plain": [
       "(20+0j)"
      ]
     },
     "execution_count": 26,
     "metadata": {},
     "output_type": "execute_result"
    }
   ],
   "source": [
    "complex('20')"
   ]
  },
  {
   "cell_type": "code",
   "execution_count": 29,
   "id": "5f21da07-5615-42d3-9e50-2dfa83f20f3e",
   "metadata": {},
   "outputs": [
    {
     "data": {
      "text/plain": [
       "('a', '2')"
      ]
     },
     "execution_count": 29,
     "metadata": {},
     "output_type": "execute_result"
    }
   ],
   "source": [
    "tuple({'a': 'b', '2': '0'})"
   ]
  },
  {
   "cell_type": "code",
   "execution_count": 43,
   "id": "bbe14e8f-93ff-42cd-886c-46352f547ba0",
   "metadata": {},
   "outputs": [
    {
     "data": {
      "text/plain": [
       "{(20,): 30, 'a': 244}"
      ]
     },
     "execution_count": 43,
     "metadata": {},
     "output_type": "execute_result"
    }
   ],
   "source": [
    "dict({((20,),30),('a',244)})"
   ]
  },
  {
   "cell_type": "code",
   "execution_count": 59,
   "id": "f8afcd25-f7d7-4679-8771-0019fa26a194",
   "metadata": {},
   "outputs": [
    {
     "data": {
      "text/plain": [
       "2"
      ]
     },
     "execution_count": 59,
     "metadata": {},
     "output_type": "execute_result"
    }
   ],
   "source": [
    "a='ab'\n",
    "len(a)"
   ]
  },
  {
   "cell_type": "code",
   "execution_count": 63,
   "id": "1eae5736-88f5-4f0f-a530-6b5dbec3c0fc",
   "metadata": {},
   "outputs": [
    {
     "name": "stdout",
     "output_type": "stream",
     "text": [
      "{'a': 10}\n"
     ]
    },
    {
     "data": {
      "text/plain": [
       "1"
      ]
     },
     "execution_count": 63,
     "metadata": {},
     "output_type": "execute_result"
    }
   ],
   "source": [
    "d={}\n",
    "d['a']=10\n",
    "print(d)\n",
    "dict(d)\n",
    "len(d)"
   ]
  },
  {
   "cell_type": "code",
   "execution_count": 83,
   "id": "bb519ead-00bb-4ef8-aa26-7b497b6360e7",
   "metadata": {},
   "outputs": [
    {
     "data": {
      "text/plain": [
       "{'c': 'd', 'a': 'd', (20,): 30, 'd': 'd'}"
      ]
     },
     "execution_count": 83,
     "metadata": {},
     "output_type": "execute_result"
    }
   ],
   "source": [
    "a={'ad',((20,),30),'cd','dd'}\n",
    "len(a)\n",
    "dict(a)"
   ]
  },
  {
   "cell_type": "code",
   "execution_count": 69,
   "id": "d98a183c-e462-4bb3-816e-321bf630b467",
   "metadata": {},
   "outputs": [
    {
     "name": "stdout",
     "output_type": "stream",
     "text": [
      "<class 'set'>\n"
     ]
    }
   ],
   "source": [
    "a={1,2,3,'string'}\n",
    "print(type(a))"
   ]
  },
  {
   "cell_type": "code",
   "execution_count": 89,
   "id": "ac8c1250-0457-427a-9fbd-bdd9745394c2",
   "metadata": {},
   "outputs": [
    {
     "data": {
      "text/plain": [
       "{20: [200], 30: [200], 'r': [200]}"
      ]
     },
     "execution_count": 89,
     "metadata": {},
     "output_type": "execute_result"
    }
   ],
   "source": [
    "d={}\n",
    "d.fromkeys((20,30,'r'),[200])"
   ]
  },
  {
   "cell_type": "code",
   "execution_count": null,
   "id": "a1b04db5-3a7d-4142-a07d-fbe80f4d3dfe",
   "metadata": {},
   "outputs": [],
   "source": []
  }
 ],
 "metadata": {
  "kernelspec": {
   "display_name": "Python 3 (ipykernel)",
   "language": "python",
   "name": "python3"
  },
  "language_info": {
   "codemirror_mode": {
    "name": "ipython",
    "version": 3
   },
   "file_extension": ".py",
   "mimetype": "text/x-python",
   "name": "python",
   "nbconvert_exporter": "python",
   "pygments_lexer": "ipython3",
   "version": "3.9.13"
  }
 },
 "nbformat": 4,
 "nbformat_minor": 5
}
