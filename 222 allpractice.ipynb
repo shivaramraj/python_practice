{
 "cells": [
  {
   "cell_type": "code",
   "execution_count": 7,
   "id": "407a5c7c-bf32-421e-985d-4b0ddc6bed24",
   "metadata": {},
   "outputs": [
    {
     "name": "stdout",
     "output_type": "stream",
     "text": [
      "jarmaravihs\n"
     ]
    }
   ],
   "source": [
    "#wap to reversing a sting with out using slicing\n",
    "s='shivaramraj'\n",
    "r=''\n",
    "for a in range(-1,-(len(s)+1),-1):\n",
    "    r+=s[a]\n",
    "print(r) "
   ]
  },
  {
   "cell_type": "code",
   "execution_count": 10,
   "id": "9a5caf7b-3c31-4422-9dc3-c241819750e8",
   "metadata": {},
   "outputs": [
    {
     "name": "stdout",
     "output_type": "stream",
     "text": [
      "its pallindrome\n"
     ]
    }
   ],
   "source": [
    "# wap to check given string is pallindrome or not\n",
    "s='madam'\n",
    "r=''\n",
    "for a in range(-1,-(len(s)+1),-1):\n",
    "    r+=s[a]\n",
    "if r==s:\n",
    "    print('its pallindrome')\n",
    "else:\n",
    "    print('not pallindrome')"
   ]
  },
  {
   "cell_type": "code",
   "execution_count": 15,
   "id": "091e5bc3-c6e3-4b71-a6c5-d8990b234c92",
   "metadata": {},
   "outputs": [
    {
     "name": "stdout",
     "output_type": "stream",
     "text": [
      "auiaaieieu\n"
     ]
    }
   ],
   "source": [
    "# wap to print vowals in given string\n",
    "s='arjun is an aintelligent guy'\n",
    "a='AEIOUaeiou'\n",
    "r=''\n",
    "for x in s:\n",
    "    if x in a:\n",
    "        r+=x\n",
    "print(r)"
   ]
  },
  {
   "cell_type": "code",
   "execution_count": 17,
   "id": "493fc38b-1096-4eea-860e-9c0c369d786b",
   "metadata": {},
   "outputs": [
    {
     "name": "stdout",
     "output_type": "stream",
     "text": [
      "10\n"
     ]
    }
   ],
   "source": [
    "# wap to count vowals in given string\n",
    "s='arjun is an aintelligent guy'\n",
    "a='AEIOUaeiou'\n",
    "b=0\n",
    "for x in s:\n",
    "    if x in a:\n",
    "        b+=1\n",
    "print(b)"
   ]
  },
  {
   "cell_type": "code",
   "execution_count": 21,
   "id": "8b61836a-2334-4b57-8684-73c97ec058c2",
   "metadata": {},
   "outputs": [
    {
     "name": "stdout",
     "output_type": "stream",
     "text": [
      "9\n"
     ]
    }
   ],
   "source": [
    "s='!shi@va#ram$raj%is^a&arjun*~'\n",
    "r='!@#$%^&*~'\n",
    "a=0\n",
    "for c in s:\n",
    "    if c in r:\n",
    "        a+=1\n",
    "print(a)\n"
   ]
  },
  {
   "cell_type": "code",
   "execution_count": 23,
   "id": "8a94bd85-4c33-4a7d-9963-c308c41a8e62",
   "metadata": {},
   "outputs": [
    {
     "name": "stdout",
     "output_type": "stream",
     "text": [
      "10\n"
     ]
    }
   ],
   "source": [
    "s='s0h1va2ra3mraj4 is5 an6 d7ec8ent 9guy'\n",
    "r='0123456789'\n",
    "d=0\n",
    "for f in s:\n",
    "    if f in r:\n",
    "        d+=1\n",
    "print(d)"
   ]
  },
  {
   "cell_type": "code",
   "execution_count": 24,
   "id": "0736d0af-b383-44a5-9bf6-c080524ed16d",
   "metadata": {},
   "outputs": [
    {
     "name": "stdout",
     "output_type": "stream",
     "text": [
      "arjun istelgy\n"
     ]
    }
   ],
   "source": [
    "#wap to remove duplicates in given string\n",
    "s='arjun is an aintelligent guy'\n",
    "r=''\n",
    "for b in s:\n",
    "    if b not in r:\n",
    "        r+=b\n",
    "print(r)"
   ]
  },
  {
   "cell_type": "code",
   "execution_count": 7,
   "id": "46310e8f-2cac-480f-895a-65d05487d310",
   "metadata": {},
   "outputs": [
    {
     "name": "stdout",
     "output_type": "stream",
     "text": [
      "a=3\n",
      "r=1\n",
      "j=1\n",
      "u=2\n",
      "n=4\n",
      " =4\n",
      "i=3\n",
      "s=1\n",
      "t=2\n",
      "e=2\n",
      "l=2\n",
      "g=2\n",
      "y=1\n"
     ]
    }
   ],
   "source": [
    "#wap to count each charechter in given string\n",
    "s='arjun is an aintelligent guy'\n",
    "r=''\n",
    "for v in s:\n",
    "    if v not in r:\n",
    "        r+=v\n",
    "        print(f'{v}={s.count(v)}')"
   ]
  },
  {
   "cell_type": "code",
   "execution_count": 31,
   "id": "98004f39-719c-4662-8c4b-754ebd29559a",
   "metadata": {},
   "outputs": [
    {
     "name": "stdout",
     "output_type": "stream",
     "text": [
      "a=3\n",
      "r=1\n",
      "j=1\n",
      "u=2\n",
      "n=4\n",
      " =4\n",
      "i=3\n",
      "s=1\n",
      "t=2\n",
      "e=2\n",
      "l=2\n",
      "g=2\n",
      "y=1\n"
     ]
    },
    {
     "data": {
      "text/plain": [
       "2"
      ]
     },
     "execution_count": 3,
     "metadata": {},
     "output_type": "execute_result"
    }
   ],
   "source": [
    "s='engineering'\n",
    "r=''\n",
    "for v in s:\n",
    "    if v not in r:\n",
    "        r=r+v\n",
    "        print(f'{v}={s.count(v)}')\n",
    "s.count('e')"
   ]
  },
  {
   "cell_type": "code",
   "execution_count": 3,
   "id": "e9b2a338-d16b-444f-ba06-b59db5bd925d",
   "metadata": {},
   "outputs": [
    {
     "name": "stdout",
     "output_type": "stream",
     "text": [
      "malayalam\n",
      "ala\n",
      "alayala\n",
      "layal\n",
      "aya\n",
      "ala\n"
     ]
    }
   ],
   "source": [
    "# wap to print sub pallindromes in given string\n",
    "s='malayalam'\n",
    "for x in range(0,len(s)):\n",
    "    for y in range(x+1,len(s)+1):\n",
    "        n=(s[x:y])\n",
    "        if n==n[::-1] and len(n)>1:\n",
    "            print(n)\n",
    "        "
   ]
  },
  {
   "cell_type": "code",
   "execution_count": 6,
   "id": "da05537f-38fe-49af-9f9a-c8dfd8d445ed",
   "metadata": {},
   "outputs": [
    {
     "name": "stdout",
     "output_type": "stream",
     "text": [
      "s = 1\n",
      "h = 1\n",
      "i = 1\n",
      "v = 1\n",
      "a = 3\n",
      "r = 2\n",
      "m = 1\n",
      "j = 1\n"
     ]
    }
   ],
   "source": [
    "s='shivaramraj'\n",
    "r=''\n",
    "for x in range(0,len(s)):\n",
    "    if s[x] not in r:\n",
    "        r+=s[x]\n",
    "        print(f'{s[x]} = {s.count(s[x])}')"
   ]
  },
  {
   "cell_type": "code",
   "execution_count": 79,
   "id": "5ed0d151-0ae3-44e0-89e9-9ff0b455854d",
   "metadata": {},
   "outputs": [
    {
     "name": "stdout",
     "output_type": "stream",
     "text": [
      "30\n"
     ]
    }
   ],
   "source": [
    "s=[10,20,30,10,20]\n",
    "r=[]\n",
    "for x in s:\n",
    "    if x not in r:\n",
    "        r+=[x]\n",
    "        if s.count(x)<=1:\n",
    "            print(x)\n"
   ]
  },
  {
   "cell_type": "code",
   "execution_count": 21,
   "id": "cab0ceac-8239-4562-9803-85f5bb0e0438",
   "metadata": {},
   "outputs": [
    {
     "name": "stdout",
     "output_type": "stream",
     "text": [
      "e=3\n",
      "o=1\n",
      "i=2\n",
      "u=2\n",
      "w=1\n",
      "h=1\n"
     ]
    }
   ],
   "source": [
    "s='eoieuiuewh'\n",
    "d={}\n",
    "for x in s:\n",
    "    if x not in d:\n",
    "        d[x]=1\n",
    "    else:\n",
    "        d[x]+=1\n",
    "for k,v in d.items():\n",
    "    print(f'{k}={v}')"
   ]
  },
  {
   "cell_type": "markdown",
   "id": "e3be0200-14bb-440b-9c19-d4131dce63e7",
   "metadata": {},
   "source": [
    "#### practicing from starting (number programs) "
   ]
  },
  {
   "cell_type": "code",
   "execution_count": 1,
   "id": "d82432e1-6134-4e30-88ef-298e6106b496",
   "metadata": {},
   "outputs": [
    {
     "name": "stdin",
     "output_type": "stream",
     "text": [
      "enter the value of n: 8\n"
     ]
    },
    {
     "name": "stdout",
     "output_type": "stream",
     "text": [
      "not prime\n"
     ]
    }
   ],
   "source": [
    "# wap to check given number is prime or not\n",
    "n=int(input('enter the value of n:'))\n",
    "if n>1:\n",
    "    for g in range(2,n//2+1):\n",
    "        if n%g==0:\n",
    "            print('not prime')\n",
    "            break\n",
    "    else:\n",
    "        print('prime number')\n",
    "else:\n",
    "    print('not prime')"
   ]
  },
  {
   "cell_type": "code",
   "execution_count": 2,
   "id": "f49c4db7-b18f-4350-9434-6850afd18c12",
   "metadata": {},
   "outputs": [
    {
     "name": "stdin",
     "output_type": "stream",
     "text": [
      "enter the value of n: 12\n"
     ]
    },
    {
     "name": "stdout",
     "output_type": "stream",
     "text": [
      "3\n"
     ]
    }
   ],
   "source": [
    "# wap to find sum of digits\n",
    "n=int(input('enter the value of n:'))\n",
    "r=0\n",
    "while n!=0:\n",
    "    rem=n%10\n",
    "    n//=10\n",
    "    r+=rem\n",
    "print(r)"
   ]
  },
  {
   "cell_type": "code",
   "execution_count": 3,
   "id": "217f11cb-c6e2-4ffa-ab1b-9e6d6779896b",
   "metadata": {},
   "outputs": [
    {
     "name": "stdin",
     "output_type": "stream",
     "text": [
      "enter the value of n: 45\n"
     ]
    },
    {
     "name": "stdout",
     "output_type": "stream",
     "text": [
      "20\n"
     ]
    }
   ],
   "source": [
    "# wap to find product of given number\n",
    "n=int(input('enter the value of n:'))\n",
    "r=1\n",
    "while n!=0:\n",
    "    m=n%10\n",
    "    n//=10\n",
    "    r*=m\n",
    "print(r)"
   ]
  },
  {
   "cell_type": "code",
   "execution_count": 16,
   "id": "5e8fab3a-bf60-407c-bdee-09cd26ce8370",
   "metadata": {},
   "outputs": [
    {
     "name": "stdin",
     "output_type": "stream",
     "text": [
      "enter the value of n: 2358746\n"
     ]
    },
    {
     "name": "stdout",
     "output_type": "stream",
     "text": [
      "5\n"
     ]
    }
   ],
   "source": [
    "# wap to print sum of even digits and substract odd digts\n",
    "n=int(input('enter the value of n:'))\n",
    "r=0\n",
    "while n!=0:\n",
    "    d=n%10\n",
    "    n//=10\n",
    "    if d%2==0:\n",
    "        r+=d\n",
    "    else:\n",
    "        r-=d\n",
    "print(r)"
   ]
  },
  {
   "cell_type": "code",
   "execution_count": 18,
   "id": "5bb3a170-2ff6-4266-b7e2-6afd76611190",
   "metadata": {},
   "outputs": [
    {
     "name": "stdin",
     "output_type": "stream",
     "text": [
      "enter the value of n: 2358746\n"
     ]
    },
    {
     "name": "stdout",
     "output_type": "stream",
     "text": [
      "3\n",
      "2\n",
      "2\n",
      "2\n"
     ]
    }
   ],
   "source": [
    "#wap to print prime digits in given number\n",
    "n=int(input('enter the value of n:'))\n",
    "while n!=0:\n",
    "    rem=n%10\n",
    "    n//=10\n",
    "    if rem>1:\n",
    "        for x in range(2,rem//2+1):\n",
    "            if rem%x==0:\n",
    "                break\n",
    "        else:\n",
    "            print(x)\n",
    "    "
   ]
  },
  {
   "cell_type": "code",
   "execution_count": 36,
   "id": "699ca94e-a4f6-4dac-a049-2050aa5c8d64",
   "metadata": {},
   "outputs": [
    {
     "name": "stdin",
     "output_type": "stream",
     "text": [
      "enter the value of n: 132\n"
     ]
    },
    {
     "name": "stdout",
     "output_type": "stream",
     "text": [
      "its niven number\n"
     ]
    }
   ],
   "source": [
    "# wap to check given number is niven number or not\n",
    "n=int(input('enter the value of n:'))\n",
    "r=0\n",
    "num=n\n",
    "while n!=0:\n",
    "    rem=n%10\n",
    "    n//=10\n",
    "    r+=rem\n",
    "if num%r==0:\n",
    "    print('its niven number')\n",
    "else:\n",
    "    print('not niven number')"
   ]
  },
  {
   "cell_type": "code",
   "execution_count": 42,
   "id": "3ff49f42-d662-43d8-985c-3d45accc93a0",
   "metadata": {},
   "outputs": [
    {
     "name": "stdin",
     "output_type": "stream",
     "text": [
      "enter the value of n: 153\n"
     ]
    },
    {
     "name": "stdout",
     "output_type": "stream",
     "text": [
      "amstrong\n"
     ]
    }
   ],
   "source": [
    "# wap to check given number is amstrong number or not\n",
    "n=int(input('enter the value of n:'))\n",
    "num=n\n",
    "res=0\n",
    "p=len(str(num))\n",
    "while n!=0:\n",
    "    rem=n%10\n",
    "    n//=10\n",
    "    res+=rem**p\n",
    "if num==res:\n",
    "    print('amstrong')\n",
    "else:\n",
    "    print('not amstrong')"
   ]
  },
  {
   "cell_type": "code",
   "execution_count": 43,
   "id": "4de3a272-5252-4a35-8f07-083be73a6c34",
   "metadata": {},
   "outputs": [
    {
     "name": "stdin",
     "output_type": "stream",
     "text": [
      "enter the value of n: 153\n"
     ]
    },
    {
     "name": "stdout",
     "output_type": "stream",
     "text": [
      "amstrong\n"
     ]
    }
   ],
   "source": [
    "# wap to know given number is amstrong number or not\n",
    "n=int(input('enter the value of n:'))\n",
    "num=n\n",
    "p=len(str(num))\n",
    "res=0\n",
    "while n!=0:\n",
    "    rem=n%10\n",
    "    n//=10\n",
    "    res+=rem**p\n",
    "if res==num:\n",
    "    print('amstrong')\n",
    "else:\n",
    "    print('not amstrong')"
   ]
  },
  {
   "cell_type": "code",
   "execution_count": 48,
   "id": "2ac186da-7b46-4a15-b585-2f5bd3850b91",
   "metadata": {},
   "outputs": [
    {
     "name": "stdout",
     "output_type": "stream",
     "text": [
      "23\n",
      "29\n"
     ]
    }
   ],
   "source": [
    "# wap to print prime numbers in between 20,30\n",
    "for x in range(20,31):\n",
    "    for y in range(2,x//2+1):\n",
    "        if x%y==0:\n",
    "            break\n",
    "    else:\n",
    "        print(x)"
   ]
  },
  {
   "cell_type": "code",
   "execution_count": 49,
   "id": "e6b51c28-70f3-4d20-aaf3-3e33d8944dff",
   "metadata": {},
   "outputs": [
    {
     "name": "stdout",
     "output_type": "stream",
     "text": [
      "29\n",
      "23\n"
     ]
    }
   ],
   "source": [
    "# wap to print prime numbers in between 30,20\n",
    "for x in range(30,20,-1):\n",
    "    for y in range(2,x//2+1):\n",
    "        if x%y==0:\n",
    "            break\n",
    "    else:\n",
    "        print(x)"
   ]
  },
  {
   "cell_type": "code",
   "execution_count": 56,
   "id": "812850e9-92c4-426d-b73e-056c97207417",
   "metadata": {},
   "outputs": [
    {
     "name": "stdin",
     "output_type": "stream",
     "text": [
      "enter the value of n: 135\n"
     ]
    },
    {
     "name": "stdout",
     "output_type": "stream",
     "text": [
      "disarum number\n"
     ]
    }
   ],
   "source": [
    "##1 wap to know given number is disarum number or not\n",
    "n=int(input('enter the value of n:'))\n",
    "num=n\n",
    "p=len(str(num))\n",
    "res=0\n",
    "while n!=0:\n",
    "    rem=n%10\n",
    "    n//=10\n",
    "    res+=rem**p\n",
    "    p-=1\n",
    "if num==res:\n",
    "    print('disarum number')\n",
    "else:\n",
    "    print('not disarum number')"
   ]
  },
  {
   "cell_type": "code",
   "execution_count": 4,
   "id": "bfef3885-8b56-4684-afe5-cc6f69019cc2",
   "metadata": {},
   "outputs": [
    {
     "name": "stdin",
     "output_type": "stream",
     "text": [
      "enter the value of n: 123\n"
     ]
    },
    {
     "name": "stdout",
     "output_type": "stream",
     "text": [
      "321\n"
     ]
    }
   ],
   "source": [
    "# wap to reverse the number\n",
    "n=int(input('enter the value of n:'))\n",
    "num=n\n",
    "res=0\n",
    "while n!=0:\n",
    "    rem=n%10\n",
    "    n//=10\n",
    "    res=res*10+rem\n",
    "print(res)"
   ]
  },
  {
   "cell_type": "code",
   "execution_count": 69,
   "id": "f212db49-e8ae-40d3-9d91-ba31ec1fbdf2",
   "metadata": {},
   "outputs": [
    {
     "name": "stdout",
     "output_type": "stream",
     "text": [
      "12\n",
      "4\n"
     ]
    }
   ],
   "source": [
    "a=[1,2,34,12,34,1,4,2,1]\n",
    "pc=[]\n",
    "for x in range(0,len(a)):\n",
    "    if a[x] not in pc:\n",
    "        pc+=[a[x]]\n",
    "        if a.count(a[x])<=1:\n",
    "            print(a[x])"
   ]
  },
  {
   "cell_type": "code",
   "execution_count": 85,
   "id": "d5f348aa-be22-4733-a00f-5db705511c50",
   "metadata": {},
   "outputs": [
    {
     "name": "stdout",
     "output_type": "stream",
     "text": [
      "12\n",
      "4\n"
     ]
    }
   ],
   "source": [
    "a=[1,2,34,12,34,1,4,2,1]\n",
    "for x in range(0,len(a)):\n",
    "    if a.count(a[x])<=1:\n",
    "        print(a[x])"
   ]
  },
  {
   "cell_type": "code",
   "execution_count": 77,
   "id": "466b3526-0ee5-4195-8b21-14bd9916345d",
   "metadata": {},
   "outputs": [
    {
     "name": "stdout",
     "output_type": "stream",
     "text": [
      "12\n",
      "4\n"
     ]
    }
   ],
   "source": [
    "a=[1,2,34,12,34,1,4,2,1]\n",
    "i=[]\n",
    "for x in a:\n",
    "    if x not in i:\n",
    "        i.append(x)\n",
    "        if a.count(x)<=1:\n",
    "            print(x)"
   ]
  },
  {
   "cell_type": "code",
   "execution_count": 81,
   "id": "5f7a0dd9-ec1a-4ec2-a0de-510c83df2bd8",
   "metadata": {},
   "outputs": [
    {
     "name": "stdout",
     "output_type": "stream",
     "text": [
      "not pallindrome\n"
     ]
    }
   ],
   "source": [
    "# wap to check given number is pallindrome or not \n",
    "n=121\n",
    "num=n\n",
    "r=0\n",
    "while n!=0:\n",
    "    rem=n%10\n",
    "    n//=10\n",
    "    res=res*10+rem\n",
    "if num==res:\n",
    "    print('pallindrome')\n",
    "else:\n",
    "    print('not pallindrome')"
   ]
  },
  {
   "cell_type": "code",
   "execution_count": 82,
   "id": "158eeed9-8e2c-4113-b814-950eb058545f",
   "metadata": {},
   "outputs": [
    {
     "data": {
      "text/plain": [
       "5"
      ]
     },
     "execution_count": 82,
     "metadata": {},
     "output_type": "execute_result"
    }
   ],
   "source": [
    "l=[10,9,8,7,6]\n",
    "len(l)"
   ]
  },
  {
   "cell_type": "code",
   "execution_count": 95,
   "id": "06683141-0046-49e7-a980-9447b9c8865c",
   "metadata": {},
   "outputs": [
    {
     "name": "stdout",
     "output_type": "stream",
     "text": [
      "1=3\n",
      "2=2\n",
      "34=2\n",
      "12=1\n",
      "34=2\n",
      "1=3\n",
      "4=1\n",
      "2=2\n",
      "1=3\n"
     ]
    }
   ],
   "source": [
    "a=[1,2,34,12,34,1,4,2,1]\n",
    "for x in a:\n",
    "        print(f'{x}={a.count(x)}')"
   ]
  },
  {
   "cell_type": "code",
   "execution_count": 102,
   "id": "f700bad3-8546-49a8-8f9f-ee49fa02322b",
   "metadata": {},
   "outputs": [
    {
     "name": "stdout",
     "output_type": "stream",
     "text": [
      "not palindrome\n"
     ]
    }
   ],
   "source": [
    "s='shivaramraj'\n",
    "p=''\n",
    "for x in range(-1,-(len(s)+1),-1):\n",
    "    p=p+s[x]\n",
    "if p==s:\n",
    "    print('pallindrome')\n",
    "else:\n",
    "    print('not palindrome')"
   ]
  },
  {
   "cell_type": "code",
   "execution_count": 112,
   "id": "8babccc1-687a-4eeb-9458-e007b6d86333",
   "metadata": {},
   "outputs": [
    {
     "name": "stdout",
     "output_type": "stream",
     "text": [
      "i\n",
      "a\n",
      "a\n",
      "a\n"
     ]
    }
   ],
   "source": [
    "s='shivaramraj'\n",
    "p='AEIOUaeiou'\n",
    "for a in s:\n",
    "    if a in p:\n",
    "        print(a)"
   ]
  },
  {
   "cell_type": "code",
   "execution_count": 132,
   "id": "cfb3e6b7-7ece-48e4-be3d-5e5fcec6a617",
   "metadata": {},
   "outputs": [
    {
     "name": "stdout",
     "output_type": "stream",
     "text": [
      "s=2\n",
      "h=1\n",
      "i=2\n",
      "v=1\n",
      "a=4\n",
      "r=2\n",
      "m=1\n",
      "j=1\n",
      " =4\n",
      "g=1\n",
      "o=3\n",
      "d=1\n",
      "b=1\n",
      "y=1\n"
     ]
    }
   ],
   "source": [
    "s='shivaramraj is a good boy'\n",
    "d=''\n",
    "for a in s:\n",
    "    if a not in d:\n",
    "        d+=a\n",
    "        print(f'{a}={s.count(a)}')"
   ]
  },
  {
   "cell_type": "code",
   "execution_count": 135,
   "id": "b3f62f3f-8fb3-4772-a43d-2aa50ca0215a",
   "metadata": {},
   "outputs": [
    {
     "name": "stdout",
     "output_type": "stream",
     "text": [
      "malayalam\n",
      "ala\n",
      "alayala\n",
      "layal\n",
      "aya\n",
      "ala\n"
     ]
    }
   ],
   "source": [
    "s='malayalam'\n",
    "for x in range(0,len(s)):\n",
    "    for y in range(x+1,len(s)+1):\n",
    "        n=s[x:y]\n",
    "        if n==n[::-1] and len(n)>1:\n",
    "            print(n)"
   ]
  },
  {
   "cell_type": "code",
   "execution_count": 142,
   "id": "89047982-16aa-4199-a454-f3844aa24042",
   "metadata": {},
   "outputs": [
    {
     "ename": "IndentationError",
     "evalue": "expected an indented block (4247483114.py, line 3)",
     "output_type": "error",
     "traceback": [
      "\u001b[1;36m  File \u001b[1;32m\"C:\\Users\\shiva\\AppData\\Local\\Temp\\ipykernel_19112\\4247483114.py\"\u001b[1;36m, line \u001b[1;32m3\u001b[0m\n\u001b[1;33m    for y in range(0,len(l)-1-x):\u001b[0m\n\u001b[1;37m                                 ^\u001b[0m\n\u001b[1;31mIndentationError\u001b[0m\u001b[1;31m:\u001b[0m expected an indented block\n"
     ]
    }
   ],
   "source": [
    "l=[1,2,3,4,5]\n",
    "for x in range(0,len(l)-1):\n",
    "    for y in range(0,len(l)-1-x):\n"
   ]
  },
  {
   "cell_type": "code",
   "execution_count": 152,
   "id": "52d81ebd-c036-4945-8950-f64a4e9daf2a",
   "metadata": {},
   "outputs": [
    {
     "name": "stdout",
     "output_type": "stream",
     "text": [
      "['siva', 'ram', 'raj']\n"
     ]
    }
   ],
   "source": [
    "s='siva ram raj'\n",
    "l=[]\n",
    "r=''\n",
    "for x in range(0,len(s)):\n",
    "    if s[x]!=' ':\n",
    "        r+=s[x]\n",
    "    else:\n",
    "        l.append(r)\n",
    "        r=''\n",
    "l.append(r)\n",
    "print(l)"
   ]
  },
  {
   "cell_type": "code",
   "execution_count": 158,
   "id": "dfe9f166-521f-4946-b0da-87d21a555516",
   "metadata": {},
   "outputs": [
    {
     "name": "stdout",
     "output_type": "stream",
     "text": [
      "[10, 20, 30]\n"
     ]
    }
   ],
   "source": [
    "l=[10,20,30,30,20]\n",
    "r=[]\n",
    "for x in l:\n",
    "    if x not in r:\n",
    "        r.append(x)\n",
    "print(r)"
   ]
  },
  {
   "cell_type": "code",
   "execution_count": 177,
   "id": "58e5f210-00c3-4049-9553-b1943ab4e0db",
   "metadata": {},
   "outputs": [
    {
     "name": "stdout",
     "output_type": "stream",
     "text": [
      "[40, 30, 20, 10]\n"
     ]
    }
   ],
   "source": [
    "l=[10,20,30,40]\n",
    "r=[]\n",
    "for x in range(-1,-(len(l)+1),-1):\n",
    "    r.append(l[x])\n",
    "print(r)"
   ]
  },
  {
   "cell_type": "code",
   "execution_count": 171,
   "id": "b82f2e2c-9ae4-42cb-9588-02ad04714c75",
   "metadata": {},
   "outputs": [
    {
     "name": "stdout",
     "output_type": "stream",
     "text": [
      "jarmaravihs\n"
     ]
    }
   ],
   "source": [
    "m='shivaramraj'\n",
    "r=''\n",
    "for x in range(-1,-(len(m)+1),-1):\n",
    "    r+=m[x]\n",
    "print(r)\n",
    "    "
   ]
  },
  {
   "cell_type": "code",
   "execution_count": 178,
   "id": "93b66403-c572-4c30-bea2-5263c1a16ddf",
   "metadata": {},
   "outputs": [
    {
     "name": "stdout",
     "output_type": "stream",
     "text": [
      "10\n",
      "40\n"
     ]
    }
   ],
   "source": [
    "l=[10,20,40,30]\n",
    "for x in range(0,len(l)):\n",
    "    if x%2==0:\n",
    "        print(l[x])"
   ]
  },
  {
   "cell_type": "code",
   "execution_count": 179,
   "id": "d6eea2f2-463a-4a9d-aec6-4856f0659841",
   "metadata": {},
   "outputs": [
    {
     "name": "stdout",
     "output_type": "stream",
     "text": [
      "20\n",
      "30\n",
      "78\n"
     ]
    }
   ],
   "source": [
    "l=[20,30,45,65,78]\n",
    "for x in range(0,len(l)):\n",
    "    if l[x]%2==0:\n",
    "        print(l[x])"
   ]
  },
  {
   "cell_type": "code",
   "execution_count": 180,
   "id": "d60f0dce-60d6-4bcc-83ee-d80f70c0263b",
   "metadata": {},
   "outputs": [
    {
     "name": "stdout",
     "output_type": "stream",
     "text": [
      "[20, 30, 78, 45, 65]\n"
     ]
    }
   ],
   "source": [
    "l=[20,30,45,65,78]\n",
    "odd=[]\n",
    "even=[]\n",
    "for x in range(0,len(l)):\n",
    "    if l[x]%2==0:\n",
    "        even.append(l[x])\n",
    "    else:\n",
    "        odd.append(l[x])\n",
    "print(even+odd)"
   ]
  },
  {
   "cell_type": "code",
   "execution_count": 182,
   "id": "de0c7ec7-4663-4cfb-9909-cb4f9851c2be",
   "metadata": {},
   "outputs": [
    {
     "name": "stdout",
     "output_type": "stream",
     "text": [
      "78\n"
     ]
    }
   ],
   "source": [
    "l=[20,30,45,65,78]\n",
    "h=l[0]\n",
    "for x in range(1,len(l)):\n",
    "    if h<l[x]:\n",
    "        h=l[x]\n",
    "print(h)"
   ]
  },
  {
   "cell_type": "code",
   "execution_count": 185,
   "id": "9f3f7f7f-b5ba-439a-a75b-0a8872a14f13",
   "metadata": {},
   "outputs": [
    {
     "name": "stdout",
     "output_type": "stream",
     "text": [
      "[6, 20, 30, 45, 78]\n"
     ]
    }
   ],
   "source": [
    "l=[20,30,45,6,78]\n",
    "for x in range(0,len(l)-1):\n",
    "    for y in range(0,len(l)-1-x):\n",
    "        if l[y]>l[y+1]:\n",
    "            l[y],l[y+1]=l[y+1],l[y]\n",
    "print(l)"
   ]
  },
  {
   "cell_type": "code",
   "execution_count": 2,
   "id": "23427439-7257-4f7c-af2e-5e1feecbe7c9",
   "metadata": {},
   "outputs": [
    {
     "name": "stdout",
     "output_type": "stream",
     "text": [
      "[2, 8, 10, 15, 25]\n"
     ]
    }
   ],
   "source": [
    "l=[10,2,8,15,25]\n",
    "for x in range(0,(len(l)-1)):\n",
    "    for y in range(0,(len(l))-1-x):\n",
    "        if l[y]>l[y+1]:\n",
    "            l[y],l[y+1]=l[y+1],l[y]\n",
    "print(l)"
   ]
  },
  {
   "cell_type": "code",
   "execution_count": 3,
   "id": "f7f320d9-597e-4260-b612-3e5c14023765",
   "metadata": {},
   "outputs": [
    {
     "name": "stdout",
     "output_type": "stream",
     "text": [
      "[19, 85, 45, 10, 35]\n"
     ]
    }
   ],
   "source": [
    "l=[35,10,45,85,19]\n",
    "for x in range(0,len(l)//2):\n",
    "    l[x],l[-(x+1)]=l[-(x+1)],l[x]\n",
    "print(l)"
   ]
  },
  {
   "cell_type": "code",
   "execution_count": 10,
   "id": "97fe7b0e-1f69-4e8d-96ce-a19195c7a96b",
   "metadata": {},
   "outputs": [
    {
     "name": "stdout",
     "output_type": "stream",
     "text": [
      "[12, 12, 20, 34, 34, 42]\n"
     ]
    }
   ],
   "source": [
    "l=[20,42,12,34,34,12]\n",
    "for x in range(0,len(l)-1):\n",
    "    for y in range(0,len(l)-1-x):\n",
    "        if l[y]>l[y+1]:\n",
    "            l[y],l[y+1]=l[y+1],l[y]\n",
    "print(l)"
   ]
  },
  {
   "cell_type": "code",
   "execution_count": 11,
   "id": "486a69ff-405d-4f00-880b-3cc2a3b7d471",
   "metadata": {},
   "outputs": [
    {
     "name": "stdout",
     "output_type": "stream",
     "text": [
      "[12, 12, 20, 34, 34, 42]\n"
     ]
    }
   ],
   "source": [
    "for r in range(0,len(l)-1):\n",
    "    for n in range(0,len(l)-1-x):\n",
    "        if l[n]>l[n+1]:\n",
    "            l[n],l[n+1]=l[n+1],l[n]\n",
    "print(l)"
   ]
  },
  {
   "cell_type": "code",
   "execution_count": 12,
   "id": "f29f4ac4-6739-4163-972e-245567194ea0",
   "metadata": {},
   "outputs": [
    {
     "name": "stdout",
     "output_type": "stream",
     "text": [
      "[12, 12, 20, 34, 34, 42]\n"
     ]
    }
   ],
   "source": [
    "for z in range(0,len(l)-1):\n",
    "    for y in range(0,len(l)-1-z):\n",
    "        if l[y]>l[y+1]:\n",
    "            l[y],l[y+1]=l[y+1],l[y]\n",
    "print(l)"
   ]
  },
  {
   "cell_type": "code",
   "execution_count": 13,
   "id": "2803c872-4a78-4ebf-8417-1e9357484846",
   "metadata": {},
   "outputs": [
    {
     "name": "stdout",
     "output_type": "stream",
     "text": [
      "[42, 34, 34, 20, 12, 12]\n"
     ]
    }
   ],
   "source": [
    "for n in range(0,len(l)//2):\n",
    "    l[n],l[-(n+1)]=l[-(n+1)],l[n]\n",
    "print(l)"
   ]
  },
  {
   "cell_type": "code",
   "execution_count": 14,
   "id": "2331b9c8-45bd-4979-9d5b-c6308f558b61",
   "metadata": {},
   "outputs": [
    {
     "name": "stdout",
     "output_type": "stream",
     "text": [
      "42\n"
     ]
    }
   ],
   "source": [
    "h=l[0]\n",
    "for x in range(0,len(l)):\n",
    "    if h<l[x]:\n",
    "        h=l[x]\n",
    "print(h)"
   ]
  },
  {
   "cell_type": "code",
   "execution_count": 15,
   "id": "d72f7048-3e88-46f6-a123-3e4519b97408",
   "metadata": {},
   "outputs": [
    {
     "name": "stdout",
     "output_type": "stream",
     "text": [
      "12\n"
     ]
    }
   ],
   "source": [
    "print(l[-1])"
   ]
  },
  {
   "cell_type": "code",
   "execution_count": 17,
   "id": "a2119808-e22b-4a00-9077-ddc8fc391615",
   "metadata": {},
   "outputs": [
    {
     "name": "stdout",
     "output_type": "stream",
     "text": [
      "42\n",
      "20\n"
     ]
    }
   ],
   "source": [
    "n=[42, 34, 34, 20, 12, 12]\n",
    "for x in n:\n",
    "    if n.count(x)==1:\n",
    "        print(x)"
   ]
  },
  {
   "cell_type": "code",
   "execution_count": 31,
   "id": "fadda6f6-b183-4be6-8f93-231b97e33789",
   "metadata": {},
   "outputs": [
    {
     "name": "stdout",
     "output_type": "stream",
     "text": [
      "        * \n",
      "      * * * \n",
      "    * * * * * \n",
      "  * * * * * * * \n",
      "* * * * * * * * * \n"
     ]
    }
   ],
   "source": [
    "n=5\n",
    "st=1\n",
    "sp=n-1\n",
    "for x in range(n):\n",
    "    for y in range(sp):\n",
    "        print(' ',end=' ')\n",
    "    for z in range(st):\n",
    "        print('*',end=' ')\n",
    "    print()\n",
    "    sp-=1\n",
    "    st+=2"
   ]
  },
  {
   "cell_type": "code",
   "execution_count": 32,
   "id": "65ed9a92-9fa9-47b6-8888-25d1d55fc409",
   "metadata": {},
   "outputs": [
    {
     "name": "stdout",
     "output_type": "stream",
     "text": [
      "* * * * * * * * * \n",
      "  * * * * * * * \n",
      "    * * * * * \n",
      "      * * * \n",
      "        * \n"
     ]
    }
   ],
   "source": [
    "n=5\n",
    "st=n*2-1\n",
    "sp=0\n",
    "for x in range(n):\n",
    "    for y in range(sp):\n",
    "        print(' ',end=' ')\n",
    "    for z in range(st):\n",
    "        print('*',end=' ')\n",
    "    print()\n",
    "    sp+=1\n",
    "    st-=2"
   ]
  },
  {
   "cell_type": "code",
   "execution_count": 34,
   "id": "672c4df1-d0cb-4a9f-baeb-e92d6ed59f5b",
   "metadata": {},
   "outputs": [
    {
     "name": "stdout",
     "output_type": "stream",
     "text": [
      "    * \n",
      "  * * * \n",
      "* * * * * \n",
      "  * * * \n",
      "    * \n"
     ]
    }
   ],
   "source": [
    "n=5\n",
    "st=1\n",
    "sp=n//2\n",
    "for x in range(n):\n",
    "    for y in range(sp):\n",
    "        print(' ',end=' ')\n",
    "    for z in range(st):\n",
    "        print('*',end=' ')\n",
    "    print()\n",
    "    if x<n//2:\n",
    "        st+=2\n",
    "        sp-=1\n",
    "    else:\n",
    "        st-=2\n",
    "        sp+=1\n",
    "        "
   ]
  },
  {
   "cell_type": "code",
   "execution_count": 36,
   "id": "6b1a8746-715d-4a81-86f1-9ee6b6ccc8fd",
   "metadata": {},
   "outputs": [
    {
     "name": "stdout",
     "output_type": "stream",
     "text": [
      "* \n",
      "* * \n",
      "* * * \n",
      "* * \n",
      "* \n"
     ]
    }
   ],
   "source": [
    "n=5\n",
    "st=1\n",
    "for x in range(n):\n",
    "    for z in range(st):\n",
    "        print('*',end=' ')\n",
    "    print()\n",
    "    if x<n//2:\n",
    "        st+=1\n",
    "    else:\n",
    "        st-=1"
   ]
  },
  {
   "cell_type": "code",
   "execution_count": 43,
   "id": "9350a775-ee78-434b-908a-7f0708af286f",
   "metadata": {},
   "outputs": [
    {
     "name": "stdout",
     "output_type": "stream",
     "text": [
      "A B C D E \n",
      "A B C D E \n",
      "A B C D E \n",
      "A B C D E \n",
      "A B C D E \n"
     ]
    }
   ],
   "source": [
    "n=5\n",
    "st=n\n",
    "for x in range(n):\n",
    "    num=1\n",
    "    for y in range(st):\n",
    "        print(chr(num+64),end=' ')\n",
    "        num+=1\n",
    "    print()"
   ]
  },
  {
   "cell_type": "code",
   "execution_count": 6,
   "id": "87f6b16e-375a-4cff-9a69-454998de4bc1",
   "metadata": {},
   "outputs": [
    {
     "name": "stdout",
     "output_type": "stream",
     "text": [
      "      1 \n",
      "    2 1 2 \n",
      "  3 2 1 2 3 \n",
      "4 3 2 1 2 3 4 \n",
      "  3 2 1 2 3 \n",
      "    2 1 2 \n",
      "      1 \n"
     ]
    }
   ],
   "source": [
    "n=7\n",
    "st=1\n",
    "sp=n//2\n",
    "# num=st//2+1\n",
    "for x in range(n):\n",
    "    num=st//2+1\n",
    "    for y in range(sp):\n",
    "        print(' ',end=' ')\n",
    "    for z in range(st):\n",
    "        print(num,end=' ')\n",
    "        if z<st//2:\n",
    "            num-=1\n",
    "        else:\n",
    "            num+=1\n",
    "    print()\n",
    "    # num=st//2+1\n",
    "    if x<n//2:\n",
    "        st+=2\n",
    "        sp-=1\n",
    "    else:\n",
    "        st-=2\n",
    "        sp+=1"
   ]
  },
  {
   "cell_type": "code",
   "execution_count": 49,
   "id": "dbf8a91b-7ef6-401a-8701-025d2a1b6c45",
   "metadata": {},
   "outputs": [
    {
     "name": "stdout",
     "output_type": "stream",
     "text": [
      "prime number\n"
     ]
    }
   ],
   "source": [
    "# wap to check given number is prime or not\n",
    "n=11\n",
    "if n>1:\n",
    "    for x in range(2,n//2+1):\n",
    "        if n%x==0:\n",
    "            print('not prime')\n",
    "            break\n",
    "    else:\n",
    "        print('prime number')\n",
    "else:\n",
    "    print('not prime')"
   ]
  },
  {
   "cell_type": "code",
   "execution_count": 52,
   "id": "a7263a30-9cd3-454a-a4dd-dbbdd63bef57",
   "metadata": {},
   "outputs": [
    {
     "name": "stdout",
     "output_type": "stream",
     "text": [
      "not composite\n"
     ]
    }
   ],
   "source": [
    "n=131\n",
    "if n>1:\n",
    "    for x in range(2,n//2+1):\n",
    "        if n%x==0:\n",
    "            print('composite number')\n",
    "            break\n",
    "    else:\n",
    "        print('not composite')\n",
    "else:\n",
    "    print('not composite')\n",
    "        "
   ]
  },
  {
   "cell_type": "code",
   "execution_count": 54,
   "id": "db51a792-9cbe-49fe-8764-fd1d82a8a3cf",
   "metadata": {},
   "outputs": [
    {
     "name": "stdout",
     "output_type": "stream",
     "text": [
      "10\n"
     ]
    }
   ],
   "source": [
    "# wap to add all digits in given number\n",
    "n=1234\n",
    "res=0\n",
    "while n!=0:\n",
    "    rem=n%10\n",
    "    n//=10\n",
    "    res+=rem\n",
    "print(res)"
   ]
  },
  {
   "cell_type": "code",
   "execution_count": 56,
   "id": "a8512fe0-1fe4-4b20-a653-3ddf1659d535",
   "metadata": {},
   "outputs": [
    {
     "name": "stdout",
     "output_type": "stream",
     "text": [
      "24\n"
     ]
    }
   ],
   "source": [
    "n=1234\n",
    "res=1\n",
    "while n!=0:\n",
    "    rem=n%10\n",
    "    n//=10\n",
    "    res*=rem\n",
    "print(res)"
   ]
  },
  {
   "cell_type": "code",
   "execution_count": 57,
   "id": "fe592d1d-d00f-4dd9-ac35-e57638858d87",
   "metadata": {},
   "outputs": [
    {
     "name": "stdout",
     "output_type": "stream",
     "text": [
      "not niven number\n"
     ]
    }
   ],
   "source": [
    "n=1234\n",
    "num=n\n",
    "res=1\n",
    "while n!=0:\n",
    "    rem=n%10\n",
    "    n//=10\n",
    "    res+=rem\n",
    "if num%res==0:\n",
    "    print('niven number')\n",
    "else:\n",
    "    print('not niven number')"
   ]
  },
  {
   "cell_type": "code",
   "execution_count": 65,
   "id": "d1c8643a-1fde-4cfb-ab20-1b54bfd28bcd",
   "metadata": {},
   "outputs": [
    {
     "name": "stdout",
     "output_type": "stream",
     "text": [
      "amstrong\n"
     ]
    }
   ],
   "source": [
    "# wap to know given number is amstrong or not\n",
    "n=153\n",
    "num=n\n",
    "res=0\n",
    "p=len(str(num))\n",
    "while n!=0:\n",
    "    rem=n%10\n",
    "    n//=10\n",
    "    res=res+rem**p\n",
    "if num==res:\n",
    "    print('amstrong')\n",
    "else:\n",
    "    print('not amstrong')"
   ]
  },
  {
   "cell_type": "code",
   "execution_count": 67,
   "id": "8061f4eb-7741-484d-94db-c33343f315be",
   "metadata": {},
   "outputs": [
    {
     "name": "stdout",
     "output_type": "stream",
     "text": [
      "not disarum\n"
     ]
    }
   ],
   "source": [
    "n=134\n",
    "num=n\n",
    "res=0\n",
    "p=len(str(num))\n",
    "while n!=0:\n",
    "    rem=n%10\n",
    "    n//=10\n",
    "    res=res+rem**p\n",
    "    p=p-1\n",
    "if num==res:\n",
    "    print('disarum')\n",
    "else:\n",
    "    print('not disarum')"
   ]
  },
  {
   "cell_type": "code",
   "execution_count": 72,
   "id": "9e2f6743-803e-461c-aaea-4abe893e500a",
   "metadata": {},
   "outputs": [
    {
     "name": "stdout",
     "output_type": "stream",
     "text": [
      "40585\n"
     ]
    }
   ],
   "source": [
    "#wap to know spl number or not\n",
    "n=40585\n",
    "res=0\n",
    "while n!=0:\n",
    "    rem=n%10\n",
    "    n//=10\n",
    "    fact=1\n",
    "    for x in range(1,rem+1):\n",
    "        fact=fact*x\n",
    "    res=res+fact\n",
    "print(res)"
   ]
  },
  {
   "cell_type": "code",
   "execution_count": 81,
   "id": "9f9a06f5-b7d0-43bd-8545-45a9ce6fe9d0",
   "metadata": {},
   "outputs": [
    {
     "name": "stdout",
     "output_type": "stream",
     "text": [
      "not primt=e\n"
     ]
    }
   ],
   "source": [
    "n=31\n",
    "num=n\n",
    "res=0\n",
    "while n!=0:\n",
    "    rem=n%10\n",
    "    n//=10\n",
    "    res=res*10+rem\n",
    "if num==res and num>1:\n",
    "    for x in range(2,num//2+1):\n",
    "            if num%x==0:\n",
    "                print('not prime')\n",
    "                break\n",
    "    else:\n",
    "        print('prime nmber')\n",
    "else:\n",
    "    print('not primt=e')"
   ]
  },
  {
   "cell_type": "code",
   "execution_count": 84,
   "id": "c5e6008f-dd52-4307-bb9e-9c992f3ab4c3",
   "metadata": {},
   "outputs": [
    {
     "name": "stdout",
     "output_type": "stream",
     "text": [
      "not emirip prime\n"
     ]
    }
   ],
   "source": [
    "n=19\n",
    "num=n\n",
    "res=0\n",
    "while n!=0:\n",
    "    rem=n%10\n",
    "    n//=10\n",
    "    res=res*10+rem\n",
    "if num!=res and num>1:\n",
    "    for x in range(2,num//2+1):\n",
    "            if num%x==0:\n",
    "                print('not emirip prime')\n",
    "                break\n",
    "    else:\n",
    "        for y in range(2,res//2+1):\n",
    "            if res%y==0:\n",
    "                print('not emirip prime')\n",
    "                break\n",
    "        else:\n",
    "            print('emrip prime')\n",
    "else:\n",
    "    print('not emrip')"
   ]
  },
  {
   "cell_type": "code",
   "execution_count": 85,
   "id": "470f0a98-2b3e-431c-827e-9f35141bea77",
   "metadata": {},
   "outputs": [
    {
     "name": "stdout",
     "output_type": "stream",
     "text": [
      "strong\n"
     ]
    }
   ],
   "source": [
    "n=6\n",
    "f=0\n",
    "for x in range(1,n):\n",
    "    if n%x==0:\n",
    "        f+=x\n",
    "if n==f:\n",
    "    print('strong')\n",
    "else:\n",
    "    print('not strong')"
   ]
  },
  {
   "cell_type": "code",
   "execution_count": 96,
   "id": "cccd0dca-32ac-42c7-b6b5-35647c36b08e",
   "metadata": {},
   "outputs": [
    {
     "name": "stdout",
     "output_type": "stream",
     "text": [
      "1000\n"
     ]
    }
   ],
   "source": [
    "#wap to convert decimal to binary\n",
    "n=8\n",
    "x=0\n",
    "y=1\n",
    "while n!=0:\n",
    "    rem=n%2\n",
    "    n//=2\n",
    "    x=x+(rem*y)\n",
    "    y*=10\n",
    "print(x)"
   ]
  },
  {
   "cell_type": "code",
   "execution_count": 100,
   "id": "ccb4a81f-b16b-4c89-97c7-d329fe3d7631",
   "metadata": {},
   "outputs": [
    {
     "name": "stdout",
     "output_type": "stream",
     "text": [
      "not pallindrome\n"
     ]
    }
   ],
   "source": [
    "s='shivaramraj'\n",
    "r=''\n",
    "for x in range(-1,-(len(s)+1),-1):\n",
    "    r+=s[x]\n",
    "if s==r:\n",
    "    print('pallindrome')\n",
    "else:\n",
    "    print('not pallindrome')"
   ]
  },
  {
   "cell_type": "code",
   "execution_count": 107,
   "id": "bbb647fc-1ee1-48a3-b93b-dc43a64c3f46",
   "metadata": {},
   "outputs": [
    {
     "name": "stdout",
     "output_type": "stream",
     "text": [
      "4\n"
     ]
    }
   ],
   "source": [
    "s='shivaramraj'\n",
    "v='AEIOUaeiou'\n",
    "r=''\n",
    "c=0\n",
    "for x in s:\n",
    "    if x in v:\n",
    "        c+=1\n",
    "print(c)  "
   ]
  },
  {
   "cell_type": "code",
   "execution_count": 108,
   "id": "36a935d6-1bf7-4ff2-bfdc-288eb1b530ed",
   "metadata": {},
   "outputs": [
    {
     "name": "stdout",
     "output_type": "stream",
     "text": [
      "shivarmj\n"
     ]
    }
   ],
   "source": [
    "s='shivaramraj'\n",
    "r=''\n",
    "for x in s:\n",
    "    if x not in r:\n",
    "        r+=x\n",
    "print(r)  "
   ]
  },
  {
   "cell_type": "code",
   "execution_count": 111,
   "id": "633122e4-2a82-465b-9be5-36be2869f9b6",
   "metadata": {},
   "outputs": [
    {
     "name": "stdout",
     "output_type": "stream",
     "text": [
      "abcd\n"
     ]
    }
   ],
   "source": [
    "s='ABCD'\n",
    "r=''\n",
    "for x in s:\n",
    "    if 'A'<=x<='Z':\n",
    "        r+=chr(ord(x)+32)\n",
    "print(r)"
   ]
  },
  {
   "cell_type": "code",
   "execution_count": 112,
   "id": "875b2039-1ce1-44a7-b7b5-8e30e093bebb",
   "metadata": {},
   "outputs": [
    {
     "name": "stdout",
     "output_type": "stream",
     "text": [
      "SHIVARAMRAJ\n"
     ]
    }
   ],
   "source": [
    "s='shivaramraj'\n",
    "r=''\n",
    "for n in s:\n",
    "    if 'a'<=n<='z':\n",
    "        r+=chr(ord(n)-32)\n",
    "print(r)"
   ]
  },
  {
   "cell_type": "code",
   "execution_count": 114,
   "id": "d5f907e6-53cb-4b5c-9925-1d609d2bfd7c",
   "metadata": {},
   "outputs": [
    {
     "name": "stdout",
     "output_type": "stream",
     "text": [
      "shivarAMRAJ\n"
     ]
    }
   ],
   "source": [
    "s='SHIVARamraj'\n",
    "r=''\n",
    "for n in s:\n",
    "    if 'A'<=n<='Z':\n",
    "        r+=chr(ord(n)+32)\n",
    "    else:\n",
    "        r+=chr(ord(n)-32)\n",
    "print(r)"
   ]
  },
  {
   "cell_type": "code",
   "execution_count": 119,
   "id": "5a78f8a1-f6e9-40b6-994c-c5663c5f0ed6",
   "metadata": {},
   "outputs": [
    {
     "name": "stdout",
     "output_type": "stream",
     "text": [
      "malayalam\n",
      "ala\n",
      "alayala\n",
      "layal\n",
      "aya\n",
      "ala\n"
     ]
    }
   ],
   "source": [
    "s='malayalam'\n",
    "for x in range(0,len(s)):\n",
    "    for y in range(0,len(s)+1):\n",
    "        n=s[x:y]\n",
    "        if n==n[::-1] and len(n)>1:\n",
    "            print(n)\n",
    "            "
   ]
  },
  {
   "cell_type": "code",
   "execution_count": 122,
   "id": "0d3f7871-184c-40f4-80b1-50582e596fdd",
   "metadata": {},
   "outputs": [
    {
     "name": "stdout",
     "output_type": "stream",
     "text": [
      "m=2\n",
      "a=4\n",
      "l=2\n",
      "y=1\n"
     ]
    }
   ],
   "source": [
    "s='malayalam'\n",
    "r=''\n",
    "for x in s:\n",
    "    if x not in r:\n",
    "        r+=x\n",
    "        print(f'{x}={s.count(x)}')"
   ]
  },
  {
   "cell_type": "code",
   "execution_count": 126,
   "id": "b80742bb-fa00-435f-a611-52d1117b6d09",
   "metadata": {},
   "outputs": [
    {
     "name": "stdout",
     "output_type": "stream",
     "text": [
      "m=1\n",
      "a=1\n",
      "l=1\n",
      "y=1\n"
     ]
    }
   ],
   "source": [
    "s='malayalam'\n",
    "d={}\n",
    "for x in s:\n",
    "    if x not in d:\n",
    "        d[x]=1\n",
    "    else:\n",
    "        d[x]=1\n",
    "for k,v in d.items():\n",
    "    print(f'{k}={v}')"
   ]
  },
  {
   "cell_type": "code",
   "execution_count": 127,
   "id": "c6d21ae7-015b-44b5-8428-63bbb72effd3",
   "metadata": {},
   "outputs": [
    {
     "name": "stdout",
     "output_type": "stream",
     "text": [
      "[11, 12, 13, 14]\n"
     ]
    }
   ],
   "source": [
    "l=[11,12,11,12,13,14]\n",
    "res=[]\n",
    "for x in l:\n",
    "    if x not in res:\n",
    "        res.append(x)\n",
    "print(res)"
   ]
  },
  {
   "cell_type": "code",
   "execution_count": 130,
   "id": "417dbc37-776c-4838-9ae9-0251aaf14040",
   "metadata": {},
   "outputs": [
    {
     "name": "stdout",
     "output_type": "stream",
     "text": [
      "[11, 11, 13]\n"
     ]
    }
   ],
   "source": [
    "l=[11,12,11,12,13,14]\n",
    "res=[]\n",
    "for x in l:\n",
    "    if x%2!=0:\n",
    "        res.append(x)\n",
    "print(res)"
   ]
  },
  {
   "cell_type": "code",
   "execution_count": 132,
   "id": "e5f94498-91fb-40c6-8f72-87247a88cb52",
   "metadata": {},
   "outputs": [
    {
     "name": "stdout",
     "output_type": "stream",
     "text": [
      "[12, 12, 14]\n"
     ]
    }
   ],
   "source": [
    "l=[11,12,11,12,13,14]\n",
    "res=[]\n",
    "for x in range(0,len(l)):\n",
    "    if x%2!=0:\n",
    "        res.append(l[x])\n",
    "print(res)"
   ]
  },
  {
   "cell_type": "code",
   "execution_count": 133,
   "id": "77993fe3-8419-4c9a-84d4-a9ae07c1fae2",
   "metadata": {},
   "outputs": [
    {
     "name": "stdout",
     "output_type": "stream",
     "text": [
      "[12, 12, 14, 11, 11, 13]\n"
     ]
    }
   ],
   "source": [
    "l=[11,12,11,12,13,14]\n",
    "even=[]\n",
    "odd=[]\n",
    "for x in l:\n",
    "    if x%2==0:\n",
    "        even.append(x)\n",
    "    else:\n",
    "        odd.append(x)\n",
    "print(even+odd)"
   ]
  },
  {
   "cell_type": "code",
   "execution_count": 134,
   "id": "099ff539-2249-49e3-b1ed-33f144105216",
   "metadata": {},
   "outputs": [
    {
     "name": "stdout",
     "output_type": "stream",
     "text": [
      "14\n"
     ]
    }
   ],
   "source": [
    "l=[11,12,11,12,13,14]\n",
    "h=l[0]\n",
    "for x in l:\n",
    "    if h<x:\n",
    "        h=x\n",
    "print(h)"
   ]
  },
  {
   "cell_type": "code",
   "execution_count": 136,
   "id": "4d5719b5-99e2-4a27-b108-f2e4eed252cb",
   "metadata": {},
   "outputs": [
    {
     "name": "stdout",
     "output_type": "stream",
     "text": [
      "[11, 12, 13, 14, 15, 19]\n"
     ]
    }
   ],
   "source": [
    "l=[15,19,11,12,13,14]\n",
    "for x in range(0,len(l)-1):\n",
    "    for y in range(0,len(l)-1-x):\n",
    "        if l[y]>l[y+1]:\n",
    "            l[y],l[y+1]=l[y+1],l[y]\n",
    "print(l)"
   ]
  },
  {
   "cell_type": "code",
   "execution_count": 138,
   "id": "3e09e3e9-073d-4201-86d8-46f73b527ea5",
   "metadata": {},
   "outputs": [
    {
     "name": "stdout",
     "output_type": "stream",
     "text": [
      "[14, 13, 12, 11, 19, 15]\n"
     ]
    }
   ],
   "source": [
    "l=[15,19,11,12,13,14]\n",
    "for x in range(0,len(l)//2):\n",
    "    l[x],l[-(x+1)]=l[-(x+1)],l[x]\n",
    "print(l)"
   ]
  },
  {
   "cell_type": "code",
   "execution_count": 16,
   "id": "2e815d3f-a4b7-45fe-80eb-9ba54efac9c4",
   "metadata": {},
   "outputs": [
    {
     "name": "stdout",
     "output_type": "stream",
     "text": [
      "e\n",
      "n\n"
     ]
    }
   ],
   "source": [
    "l='engineearingam'\n",
    "d={}\n",
    "for x in l:\n",
    "    if x not in d:\n",
    "        d[x]=1\n",
    "    else:\n",
    "        d[x]+=1\n",
    "vl=list(d.values())\n",
    "h=vl[0]\n",
    "for r in range(1,len(vl)):\n",
    "    if h<vl[r]:\n",
    "        h=vl[r]\n",
    "for k,v in d.items():\n",
    "    if v==h:\n",
    "        print(k)"
   ]
  },
  {
   "cell_type": "code",
   "execution_count": 12,
   "id": "2cae6c60-fccb-4d73-85f5-c0ad81c18efc",
   "metadata": {},
   "outputs": [
    {
     "name": "stdout",
     "output_type": "stream",
     "text": [
      "WE\n",
      "WANT\n"
     ]
    }
   ],
   "source": [
    "s='WE WANT TO ATTEND CLASS EVERYDAY BECAUSE WE WANT JOB SOON'\n",
    "l=s.split()\n",
    "d={}\n",
    "for x in l:\n",
    "    if x not in d:\n",
    "        d[x]=l.count(x)\n",
    "vl=list(d.values())\n",
    "h=vl[0]\n",
    "for r in range(1,len(vl)):\n",
    "    if h<vl[r]:\n",
    "        h=vl[r]\n",
    "for k,v in d.items():\n",
    "    if v==h:\n",
    "        print(k)"
   ]
  },
  {
   "cell_type": "code",
   "execution_count": 25,
   "id": "12c5df5c-fe28-4bfa-b157-f9c56ff7654a",
   "metadata": {},
   "outputs": [
    {
     "name": "stdout",
     "output_type": "stream",
     "text": [
      "EVERYDAY\n"
     ]
    }
   ],
   "source": [
    "s='WE WANT TO ATTEND CLASS EVERYDAY BECAUSE WE WANT JOB SOON'\n",
    "l=[]\n",
    "g=''\n",
    "for x in s:\n",
    "    if x!=' ':\n",
    "        g+=x\n",
    "    else:\n",
    "        l.append(g)\n",
    "        g=''\n",
    "l.append(g)\n",
    "d={}\n",
    "for m in range(0,len(l)):\n",
    "    if l[m] not in d:\n",
    "        d[l[m]]=len(l[m])\n",
    "    else:\n",
    "        d[l[m]]+=1\n",
    "vl=list(d.values())\n",
    "h=vl[0]\n",
    "for r in range(1,len(vl)):\n",
    "    if h<vl[r]:\n",
    "        h=vl[r]\n",
    "for k,v in d.items():\n",
    "    if v==h:\n",
    "        print(k)"
   ]
  },
  {
   "cell_type": "code",
   "execution_count": 15,
   "id": "8846c2cd-c8c6-44e2-8327-75959ba3d61b",
   "metadata": {},
   "outputs": [
    {
     "name": "stdout",
     "output_type": "stream",
     "text": [
      "20\n",
      "30\n"
     ]
    }
   ],
   "source": [
    "n=[20,30,40,30,20,45]\n",
    "d={}\n",
    "for m in range(0,len(n)):\n",
    "    if n[m] not in d:\n",
    "        d[n[m]]=1\n",
    "    else:\n",
    "        d[n[m]]+=1\n",
    "vl=list(d.values())\n",
    "h=vl[0]\n",
    "for r in range(1,len(vl)):\n",
    "    if h<vl[r]:\n",
    "        h=vl[r]\n",
    "for k,v in d.items():\n",
    "    if v==h:\n",
    "        print(k)"
   ]
  },
  {
   "cell_type": "code",
   "execution_count": 15,
   "id": "d1fef8be-edfc-425b-8722-2b3121119a94",
   "metadata": {},
   "outputs": [
    {
     "name": "stdout",
     "output_type": "stream",
     "text": [
      "3 6 9 \n",
      "2 5 8 \n",
      "1 4 7 \n"
     ]
    }
   ],
   "source": [
    "l=[[1,2,3],[4,5,6],[7,8,9]]\n",
    "for y in range(len(l)):\n",
    "    for x in range(len(l)):\n",
    "        print(l[x][len(l)-1-y],end=' ')\n",
    "    print()"
   ]
  },
  {
   "cell_type": "code",
   "execution_count": null,
   "id": "0ceecde5-906b-4442-9efa-ac56d683ea0e",
   "metadata": {},
   "outputs": [],
   "source": []
  }
 ],
 "metadata": {
  "kernelspec": {
   "display_name": "Python 3 (ipykernel)",
   "language": "python",
   "name": "python3"
  },
  "language_info": {
   "codemirror_mode": {
    "name": "ipython",
    "version": 3
   },
   "file_extension": ".py",
   "mimetype": "text/x-python",
   "name": "python",
   "nbconvert_exporter": "python",
   "pygments_lexer": "ipython3",
   "version": "3.9.13"
  }
 },
 "nbformat": 4,
 "nbformat_minor": 5
}
