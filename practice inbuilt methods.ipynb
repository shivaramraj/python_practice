{
 "cells": [
  {
   "cell_type": "code",
   "execution_count": 27,
   "id": "a59b72e5-6c8f-4f97-a2dd-77b99bb82855",
   "metadata": {},
   "outputs": [
    {
     "name": "stdout",
     "output_type": "stream",
     "text": [
      "hello world!!!"
     ]
    },
    {
     "data": {
      "text/plain": [
       "14"
      ]
     },
     "execution_count": 27,
     "metadata": {},
     "output_type": "execute_result"
    }
   ],
   "source": [
    " import sys\n",
    "sys.stdout.write('hello world!!!')"
   ]
  },
  {
   "cell_type": "code",
   "execution_count": 4,
   "id": "6dcc5f16-a0bb-4ea5-be6f-482ab77e02f0",
   "metadata": {},
   "outputs": [
    {
     "name": "stdout",
     "output_type": "stream",
     "text": [
      "[20, 30, 40, 'shiva', 20.7, True, 30]\n"
     ]
    }
   ],
   "source": [
    "l=[20,30,40,'shiva',20.7,True]\n",
    "l.append(30)\n",
    "print(l)"
   ]
  },
  {
   "cell_type": "code",
   "execution_count": 5,
   "id": "63d7cf3e-0a5e-4a36-ac96-3b886a2309f7",
   "metadata": {},
   "outputs": [
    {
     "name": "stdout",
     "output_type": "stream",
     "text": [
      "[20, 30, 40, 30, 'shiva', 20.7, True]\n"
     ]
    }
   ],
   "source": [
    "l=[20,30,40,'shiva',20.7,True]\n",
    "l.insert(3,30)\n",
    "print(l)"
   ]
  },
  {
   "cell_type": "code",
   "execution_count": 6,
   "id": "49a7cb2d-f5b2-4413-b84c-69af22483839",
   "metadata": {},
   "outputs": [
    {
     "name": "stdout",
     "output_type": "stream",
     "text": [
      "[20, 30, 40, 'shiva', 20.7, True, 30, 40, 50, 's', 'h', 'i', 'v', 'a']\n"
     ]
    }
   ],
   "source": [
    "l=[20,30,40,'shiva',20.7,True]\n",
    "l.extend([30,40,50])\n",
    "l.extend('shiva')\n",
    "print(l)"
   ]
  },
  {
   "cell_type": "code",
   "execution_count": 7,
   "id": "f0b07562-6302-4386-9b4d-06c0137b162a",
   "metadata": {},
   "outputs": [
    {
     "name": "stdout",
     "output_type": "stream",
     "text": [
      "[20, 40, 'shiva', 20.7, True]\n"
     ]
    }
   ],
   "source": [
    "l=[20,30,40,'shiva',20.7,True]\n",
    "l.remove(30)\n",
    "print(l)"
   ]
  },
  {
   "cell_type": "code",
   "execution_count": 14,
   "id": "3932dbfd-2f12-46e6-a640-23cae5cf785a",
   "metadata": {},
   "outputs": [
    {
     "name": "stdout",
     "output_type": "stream",
     "text": [
      "[20, 30, 40, 'shiva', 20.7]\n",
      "True\n"
     ]
    }
   ],
   "source": [
    "l=[20,30,40,'shiva',20.7,True]\n",
    "a=l.pop()\n",
    "print(l)\n",
    "print(a)"
   ]
  },
  {
   "cell_type": "code",
   "execution_count": 9,
   "id": "822b334f-4116-4150-b7f2-ceea7e48d4bb",
   "metadata": {},
   "outputs": [
    {
     "name": "stdout",
     "output_type": "stream",
     "text": [
      "[]\n"
     ]
    }
   ],
   "source": [
    "l=[20,30,40,'shiva',20.7,True]\n",
    "l.clear()\n",
    "print(l)"
   ]
  },
  {
   "cell_type": "code",
   "execution_count": 10,
   "id": "77c2ce6d-e945-4360-aeee-89e401e27fe9",
   "metadata": {},
   "outputs": [
    {
     "name": "stdout",
     "output_type": "stream",
     "text": [
      "{True, 'shiva', 20, 20.7, 40, 25, 30}\n"
     ]
    }
   ],
   "source": [
    "s={20,30,40,'shiva',20.7,True}\n",
    "s.add(25)\n",
    "print(s)"
   ]
  },
  {
   "cell_type": "code",
   "execution_count": 11,
   "id": "ea049728-b9cd-4000-a336-ce3cbcaad04c",
   "metadata": {},
   "outputs": [
    {
     "name": "stdout",
     "output_type": "stream",
     "text": [
      "{True, 20, 20.7, 25, 30, 'shiva', 40, 'a', 'h', 'i', 'v', 's'}\n"
     ]
    }
   ],
   "source": [
    "s.update('shiva')\n",
    "print(s)"
   ]
  },
  {
   "cell_type": "code",
   "execution_count": 12,
   "id": "21d0b440-4b4c-483b-93da-77019845f688",
   "metadata": {},
   "outputs": [
    {
     "name": "stdout",
     "output_type": "stream",
     "text": [
      "{True, 20, 20.7, 25, 'shiva', 40, 'a', 'h', 'i', 'v', 's'}\n"
     ]
    }
   ],
   "source": [
    "s.remove(30)\n",
    "print(s)"
   ]
  },
  {
   "cell_type": "code",
   "execution_count": 13,
   "id": "0ea0aed9-e106-42c8-90d2-6db44dd428d5",
   "metadata": {},
   "outputs": [
    {
     "name": "stdout",
     "output_type": "stream",
     "text": [
      "{20, 20.7, 25, 'shiva', 40, 'a', 'h', 'i', 'v', 's'}\n",
      "True\n"
     ]
    }
   ],
   "source": [
    "a=s.pop()\n",
    "print(s)\n",
    "print(a)"
   ]
  },
  {
   "cell_type": "code",
   "execution_count": 21,
   "id": "136614a0-8fbd-497a-8317-75b83de5b11c",
   "metadata": {},
   "outputs": [
    {
     "name": "stdout",
     "output_type": "stream",
     "text": [
      "{20: 30, 30: 30, 'a': 30}\n"
     ]
    }
   ],
   "source": [
    "d={}\n",
    "d=d.fromkeys([20,30,'a'],30)\n",
    "print(d)"
   ]
  },
  {
   "cell_type": "code",
   "execution_count": 23,
   "id": "3a572229-7656-4e08-b54c-999ca39aea66",
   "metadata": {},
   "outputs": [
    {
     "data": {
      "text/plain": [
       "'ahiva'"
      ]
     },
     "execution_count": 23,
     "metadata": {},
     "output_type": "execute_result"
    }
   ],
   "source": [
    "s='shiva'\n",
    "s.replace('s','a')"
   ]
  },
  {
   "cell_type": "code",
   "execution_count": 24,
   "id": "0737c350-b9ce-4fcf-86d0-e948c174b411",
   "metadata": {},
   "outputs": [
    {
     "name": "stdout",
     "output_type": "stream",
     "text": [
      "{20: 30, 30: 30, 'a': 30}\n"
     ]
    }
   ],
   "source": [
    "print(d)"
   ]
  },
  {
   "cell_type": "code",
   "execution_count": 25,
   "id": "b05864e1-697a-4c04-bfac-d83697a46d9c",
   "metadata": {},
   "outputs": [
    {
     "data": {
      "text/plain": [
       "30"
      ]
     },
     "execution_count": 25,
     "metadata": {},
     "output_type": "execute_result"
    }
   ],
   "source": [
    "d.pop(20)"
   ]
  },
  {
   "cell_type": "code",
   "execution_count": 26,
   "id": "7f692e83-f92f-4acf-9b17-3608d11561e4",
   "metadata": {},
   "outputs": [
    {
     "data": {
      "text/plain": [
       "('a', 30)"
      ]
     },
     "execution_count": 26,
     "metadata": {},
     "output_type": "execute_result"
    }
   ],
   "source": [
    "d.popitem()"
   ]
  },
  {
   "cell_type": "code",
   "execution_count": 8,
   "id": "cf2a230f-0517-4334-a339-2d0ad3679705",
   "metadata": {
    "jp-MarkdownHeadingCollapsed": true,
    "tags": []
   },
   "outputs": [
    {
     "name": "stdout",
     "output_type": "stream",
     "text": [
      "20,30,40\n"
     ]
    }
   ],
   "source": [
    "s,h,i=20,30,40\n",
    "print(s,end=',')\n",
    "print(h,end=',')\n",
    "print(i)"
   ]
  },
  {
   "cell_type": "code",
   "execution_count": 14,
   "id": "7fd738f6-3537-4acd-8044-b730b63555be",
   "metadata": {},
   "outputs": [
    {
     "name": "stdout",
     "output_type": "stream",
     "text": [
      "20,21,22,23,24,25,26,27,28,29,30,31,32,33,34,35,36,37,38,39,"
     ]
    }
   ],
   "source": [
    "for a in range(20,40):\n",
    "    print(a,end=',')"
   ]
  },
  {
   "cell_type": "code",
   "execution_count": null,
   "id": "706e0142-5acf-4998-8889-630adb1b7e5a",
   "metadata": {},
   "outputs": [],
   "source": []
  }
 ],
 "metadata": {
  "kernelspec": {
   "display_name": "Python 3 (ipykernel)",
   "language": "python",
   "name": "python3"
  },
  "language_info": {
   "codemirror_mode": {
    "name": "ipython",
    "version": 3
   },
   "file_extension": ".py",
   "mimetype": "text/x-python",
   "name": "python",
   "nbconvert_exporter": "python",
   "pygments_lexer": "ipython3",
   "version": "3.9.13"
  }
 },
 "nbformat": 4,
 "nbformat_minor": 5
}
