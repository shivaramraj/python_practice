{
 "cells": [
  {
   "cell_type": "code",
   "execution_count": 9,
   "id": "1f4908d6-2da2-4737-873e-14ab6ebba009",
   "metadata": {},
   "outputs": [
    {
     "name": "stdout",
     "output_type": "stream",
     "text": [
      "1 \n",
      "1 2 \n",
      "1 2 3 \n",
      "1 2 3 4 \n",
      "1 2 3 4 5 \n"
     ]
    }
   ],
   "source": [
    "a=5\n",
    "st=1\n",
    "num=1\n",
    "for x in range(a):\n",
    "    for y in range(st):\n",
    "        print(num,end=' ')\n",
    "        num+=1\n",
    "    print()\n",
    "    num=1\n",
    "    st+=1\n",
    "    \n"
   ]
  },
  {
   "cell_type": "code",
   "execution_count": 13,
   "id": "d10779c7-cd82-467e-9f63-492ca2de8893",
   "metadata": {},
   "outputs": [
    {
     "name": "stdout",
     "output_type": "stream",
     "text": [
      "5 4 3 2 1 \n",
      "  5 4 3 2 \n",
      "    5 4 3 \n",
      "      5 4 \n",
      "        5 \n"
     ]
    }
   ],
   "source": [
    "a=5\n",
    "st=a\n",
    "num=5\n",
    "sp=0\n",
    "for x in range(a):\n",
    "    for y in range(sp):\n",
    "        print(' ',end=' ')\n",
    "    for z in range(st):\n",
    "        print(num,end=' ')\n",
    "        num-=1\n",
    "    print()\n",
    "    st-=1\n",
    "    sp+=1\n",
    "    num=5"
   ]
  },
  {
   "cell_type": "code",
   "execution_count": 14,
   "id": "8b62facf-4f8a-482d-9855-53af2d106e43",
   "metadata": {},
   "outputs": [
    {
     "name": "stdout",
     "output_type": "stream",
     "text": [
      "5 4 3 2 1 \n",
      "  4 3 2 1 \n",
      "    3 2 1 \n",
      "      2 1 \n",
      "        1 \n"
     ]
    }
   ],
   "source": [
    "r=5\n",
    "sp=0\n",
    "st=r\n",
    "for x in range(r):\n",
    "    num=st\n",
    "    for y in range(sp):\n",
    "        print(' ',end=' ')\n",
    "    for z in range(st):\n",
    "        print(num,end=' ')\n",
    "        num-=1\n",
    "    print()\n",
    "    st-=1\n",
    "    sp+=1"
   ]
  },
  {
   "cell_type": "code",
   "execution_count": null,
   "id": "9b4dc77c-f034-4ef5-bc24-f880f585f4a3",
   "metadata": {},
   "outputs": [],
   "source": [
    "r=4\n",
    "sp=r//2"
   ]
  }
 ],
 "metadata": {
  "kernelspec": {
   "display_name": "Python 3 (ipykernel)",
   "language": "python",
   "name": "python3"
  },
  "language_info": {
   "codemirror_mode": {
    "name": "ipython",
    "version": 3
   },
   "file_extension": ".py",
   "mimetype": "text/x-python",
   "name": "python",
   "nbconvert_exporter": "python",
   "pygments_lexer": "ipython3",
   "version": "3.9.13"
  }
 },
 "nbformat": 4,
 "nbformat_minor": 5
}
