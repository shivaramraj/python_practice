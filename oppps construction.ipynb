{
 "cells": [
  {
   "cell_type": "code",
   "execution_count": 3,
   "id": "a8704b10-ecc7-47d9-b13c-459344af686b",
   "metadata": {},
   "outputs": [
    {
     "name": "stdout",
     "output_type": "stream",
     "text": [
      "30\n"
     ]
    }
   ],
   "source": [
    "class shiva():\n",
    "    def __init__(self):\n",
    "        self.__x=30\n",
    "    def details(self):\n",
    "        print(self.__x)\n",
    "        \n",
    "    # def getter(self):\n",
    "    #     return self.__x\n",
    "obj=shiva()\n",
    "\n",
    "obj.details()"
   ]
  },
  {
   "cell_type": "code",
   "execution_count": 18,
   "id": "6df1a74a-7a08-4f73-b3ee-d34f3a66a8fc",
   "metadata": {},
   "outputs": [
    {
     "data": {
      "text/plain": [
       "20"
      ]
     },
     "execution_count": 18,
     "metadata": {},
     "output_type": "execute_result"
    }
   ],
   "source": [
    "class A():\n",
    "    x=20\n",
    "class B():\n",
    "    y=30\n",
    "class C(A,B):\n",
    "    d=465\n",
    "class E(A,B):\n",
    "    r=34\n",
    "\n",
    "obj=E()\n",
    "obj.x\n",
    "        "
   ]
  },
  {
   "cell_type": "code",
   "execution_count": null,
   "id": "a0bbd3f3-38dd-492c-912a-0a59fd805a91",
   "metadata": {},
   "outputs": [],
   "source": []
  },
  {
   "cell_type": "code",
   "execution_count": 3,
   "id": "5b876148-d56f-451b-8bb0-9f09e8300f09",
   "metadata": {},
   "outputs": [
    {
     "name": "stdout",
     "output_type": "stream",
     "text": [
      "tickets are conformed sucessfully\n",
      "the avilable tickests are :280\n",
      "tickets are conformed sucessfully\n",
      "the avilable tickests are :278\n"
     ]
    }
   ],
   "source": [
    "def shiva(arg):\n",
    "    d={}\n",
    "    def inner():\n",
    "        if arg not in d:\n",
    "            d[arg]=arg()\n",
    "        return d[arg]\n",
    "    \n",
    "    return inner\n",
    "\n",
    "class movie():\n",
    "    def booking(self,n):\n",
    "        if self.amountcheck(n)>=self.amount*n:\n",
    "            if self.Tickets>=n:\n",
    "                self.Tickets-=n\n",
    "                print('tickets are conformed sucessfully')\n",
    "                print(f'the avilable tickests are :{self.Tickets}')\n",
    "            else:\n",
    "                print('tickets are not avilable')\n",
    "        else:\n",
    "            print('amount is not sufficiant to book tickets')\n",
    "    @staticmethod\n",
    "    def amountcheck(self):\n",
    "        return (int(input('enter the amount')))\n",
    "        \n",
    "            \n",
    "@shiva\n",
    "class dhamaka(movie):\n",
    "    def __init__(self):\n",
    "        self.Tickets=300\n",
    "        self.amount=200\n",
    "@shiva\n",
    "class adhurs(movie):\n",
    "    def __init__(self):\n",
    "        self.Tickets=260\n",
    "        self.amount=300\n",
    "@shiva\n",
    "class yagnam(movie):\n",
    "    def __init__(self):\n",
    "        self.Tickets=160\n",
    "        self.amount=250\n",
    "def show():\n",
    "    obj=int(input('enter movie 1.dhamaka 2.adhurs 3.yagnam:'))\n",
    "    movie1=1\n",
    "    movie2=2\n",
    "    movie3=3\n",
    "    if obj==movie1:\n",
    "        obj1=dhamaka()\n",
    "        obj1.booking((int(input('enter the number of tickets:'))))\n",
    "        o=dhamaka()\n",
    "        o.booking (int(input('enter tickets')))\n",
    "    elif obj==movie2:\n",
    "        obj2=adhurs()\n",
    "        obj2.booking((int(input('enter the number of tickets:'))))\n",
    "    elif obj==movie3:\n",
    "        obj3=yagnam()\n",
    "        obj3.booking((int(input('enter the number of tickets:'))))\n",
    "    else:\n",
    "        print('the avilable movies are 1.dhamaka,2.adhurs,3.yagnam')\n",
    "        print('so please select the movie in above list')\n",
    "        \n",
    "obj1=show()\n",
    "# boj2=show()\n",
    "# boj3=show()"
   ]
  },
  {
   "cell_type": "code",
   "execution_count": 1,
   "id": "093c5d4e-ced0-4915-8311-21429aeb42ba",
   "metadata": {},
   "outputs": [
    {
     "name": "stdout",
     "output_type": "stream",
     "text": [
      "shiva current balance is:20000\n"
     ]
    }
   ],
   "source": [
    "class Bank:\n",
    "    bankName = 'sbi'\n",
    "    branch   = 'adoni'\n",
    "    def __init__(self,name,accno,mobilno,bal,pin):\n",
    "        self.name=name\n",
    "        self.accno=accno\n",
    "        self.mobilno=mobilno\n",
    "        self.bal=bal\n",
    "        self.pin=pin\n",
    "    def Deposit(self):\n",
    "        amt=int(input('enter the deposit amount:'))\n",
    "        self.bal+=amt\n",
    "    def checkbalance(self):\n",
    "        if self.pin==self.getpin():\n",
    "            print(f'{self.name} current balance is:{self.bal}')\n",
    "    def Withdraw(self):\n",
    "        if self.pin==Bank.getpin():\n",
    "            amt=int(input('enter the withdraw amount:'))\n",
    "            if self.bal>amt:\n",
    "                self.bal-=amt\n",
    "                print('amt debited sucessfully')\n",
    "            else:\n",
    "                print('insufficeant balance')\n",
    "        else:\n",
    "            print('wrong pin')\n",
    "    @classmethod\n",
    "    def change(cls,n):\n",
    "        cls.branch=n\n",
    "    @staticmethod\n",
    "    def getpin():\n",
    "        return int(input('enter the pin:'))\n",
    "    \n",
    "ob1=Bank('shiva',222222,929299292,20000,2222)\n",
    "ob2=Bank('ram',22233,432745,12000,2000)\n",
    "ob3=Bank('arjun',834987,4364365,12343,9999)\n",
    "ob1.checkbalance()\n",
    "#ob1.Withdraw()\n",
    "#ob1.checkbalance()\n",
    "#ob1.Deposit()\n",
    "#ob1.checkbalance()"
   ]
  },
  {
   "cell_type": "code",
   "execution_count": 2,
   "id": "00d51bdf-508c-4c15-b731-cdefffb51663",
   "metadata": {},
   "outputs": [
    {
     "name": "stdout",
     "output_type": "stream",
     "text": [
      "Shiva\n",
      "your current balance is 895000\n",
      "amount debited sucessfully\n",
      "your current balance is 894998\n"
     ]
    }
   ],
   "source": [
    "class Bank():\n",
    "    BankName = 'SBI'\n",
    "    Branch    = 'Alur'\n",
    "    def __init__(self,name,accno,mobilno,bal,pin):\n",
    "        self.name=name\n",
    "        self.accno=accno\n",
    "        self.mobilno=mobilno\n",
    "        self.bal=bal\n",
    "        self.pin=pin\n",
    "    def Check_balance(self):\n",
    "        if self.pin==self.Getpin():\n",
    "            print(f'your current balance is {self.bal}')\n",
    "        else:\n",
    "            print('incorrect pin')\n",
    "    def Deposite(self):\n",
    "        amt=int(input('enter the deposite amount:'))\n",
    "        self.bal+=amt\n",
    "        print('amount credited sucessfully')\n",
    "    def Withdraw(self):\n",
    "        amt=int(input('enter withdraw amount:'))\n",
    "        if self.pin==self.Getpin():\n",
    "            if self.bal>amt:\n",
    "                self.bal-=amt\n",
    "                print('amount debited sucessfully')\n",
    "                print(f'your current balance is {self.bal}')\n",
    "            else:\n",
    "                print('insufficent balance')\n",
    "        else:\n",
    "            print('incorrect pin')\n",
    "    @staticmethod\n",
    "    def Getpin():\n",
    "        return int(input('enter pin:'))\n",
    "    \n",
    "Ram=Bank('Shiva',298475975,4787578465,85996,8804)\n",
    "Shiva=Bank('Arjun',32498375,48734566,895000,2001)\n",
    "print(Ram.name)\n",
    "#Shiva.Check_balance()\n",
    "#Shiva.Deposite()\n",
    "Shiva.Check_balance()\n",
    "Shiva.Withdraw()\n",
    "#Shiva.Check_balance()\n"
   ]
  },
  {
   "cell_type": "code",
   "execution_count": null,
   "id": "645742e3-5f53-477c-a778-3c082ba41c76",
   "metadata": {},
   "outputs": [],
   "source": []
  }
 ],
 "metadata": {
  "kernelspec": {
   "display_name": "base",
   "language": "python",
   "name": "python3"
  },
  "language_info": {
   "codemirror_mode": {
    "name": "ipython",
    "version": 3
   },
   "file_extension": ".py",
   "mimetype": "text/x-python",
   "name": "python",
   "nbconvert_exporter": "python",
   "pygments_lexer": "ipython3",
   "version": "3.9.13"
  },
  "vscode": {
   "interpreter": {
    "hash": "3844a49c18a74871cca5193e45c5e4b46b25b0886fff53449ea495a2f93c944d"
   }
  }
 },
 "nbformat": 4,
 "nbformat_minor": 5
}
