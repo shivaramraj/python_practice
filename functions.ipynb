{
 "cells": [
  {
   "cell_type": "markdown",
   "id": "028e06a2-8d96-4dac-9e61-816ff8eb8564",
   "metadata": {},
   "source": [
    "### programs using functions function "
   ]
  },
  {
   "cell_type": "code",
   "execution_count": 4,
   "id": "36df9398-5667-4a6e-9ed6-a969f1bd88ee",
   "metadata": {},
   "outputs": [
    {
     "name": "stdin",
     "output_type": "stream",
     "text": [
      "enter the value of k: 11\n"
     ]
    },
    {
     "name": "stdout",
     "output_type": "stream",
     "text": [
      "prime\n"
     ]
    }
   ],
   "source": [
    "# wap to check given number is prime or not\n",
    "def prime(n):\n",
    "    if n<=1:\n",
    "        return False\n",
    "    for x in range(2,n//2+1):\n",
    "        if n%x==0:\n",
    "            return False\n",
    "    return True\n",
    "#x=prime(11)\n",
    "#k=int(input('enter the value of k:'))\n",
    "#m=prime(k)\n",
    "if k:\n",
    "    print('prime')\n",
    "else:\n",
    "    print('not prime')\n",
    "    "
   ]
  },
  {
   "cell_type": "code",
   "execution_count": 2,
   "id": "de11f955-62a5-4856-a6fc-309b638e7467",
   "metadata": {},
   "outputs": [
    {
     "name": "stdout",
     "output_type": "stream",
     "text": [
      "2\n",
      "3\n",
      "5\n",
      "7\n",
      "11\n",
      "13\n",
      "17\n",
      "19\n"
     ]
    }
   ],
   "source": [
    "def prime(n):\n",
    "    if n<=1:\n",
    "        return False\n",
    "    for x in range(2,n//2+1):\n",
    "        if n%x==0:\n",
    "            return False\n",
    "    return True\n",
    "for y in range(2,21):\n",
    "    if prime(y):\n",
    "        print((y))\n",
    "        "
   ]
  },
  {
   "cell_type": "code",
   "execution_count": 8,
   "id": "3d02c1c2-84dc-46af-aae7-8943566b15ce",
   "metadata": {},
   "outputs": [
    {
     "name": "stdout",
     "output_type": "stream",
     "text": [
      "2\n",
      "3\n",
      "5\n",
      "7\n",
      "11\n",
      "13\n",
      "17\n",
      "19\n"
     ]
    }
   ],
   "source": [
    "def prime(n):\n",
    "    if n<=1:\n",
    "        return False\n",
    "    for x in range(2,n//2+1):\n",
    "        if n%x==0:\n",
    "            return False\n",
    "    return True\n",
    "for x in range(1,21):\n",
    "    if prime(x):\n",
    "        print(x)"
   ]
  },
  {
   "cell_type": "code",
   "execution_count": 10,
   "id": "5da1443d-7bc0-4e7b-a4b1-cfaaaa80cfbe",
   "metadata": {},
   "outputs": [
    {
     "name": "stdin",
     "output_type": "stream",
     "text": [
      "enter the value of k: 123\n"
     ]
    },
    {
     "name": "stdout",
     "output_type": "stream",
     "text": [
      "123 is 321\n"
     ]
    }
   ],
   "source": [
    "def reverse(N):\n",
    "    res=0\n",
    "    while N!=0:\n",
    "        rem=N%10\n",
    "        res=res*10+rem\n",
    "        N//=10\n",
    "    return res\n",
    "k=int(input('enter the value of k:'))\n",
    "x=reverse(k)\n",
    "print(f'{k} is {x}')"
   ]
  },
  {
   "cell_type": "code",
   "execution_count": 13,
   "id": "ae90c7d0-8ad1-4b3b-8254-fd7a5cfb7fb9",
   "metadata": {},
   "outputs": [
    {
     "name": "stdin",
     "output_type": "stream",
     "text": [
      "enter the value of k: 11\n"
     ]
    },
    {
     "name": "stdout",
     "output_type": "stream",
     "text": [
      "pallindrome\n",
      "11 is 11\n"
     ]
    }
   ],
   "source": [
    "def reverse(N):\n",
    "    res=0\n",
    "    while N!=0:\n",
    "        rem=N%10\n",
    "        res=res*10+rem\n",
    "        N//=10\n",
    "    return res\n",
    "k=int(input('enter the value of k:'))\n",
    "x=reverse(k)\n",
    "if x==k:\n",
    "    print('pallindrome')\n",
    "else:\n",
    "    print('not pallindrome')\n",
    "print(f'{k} is {x}')"
   ]
  },
  {
   "cell_type": "code",
   "execution_count": 23,
   "id": "90966f3a-c432-4f65-b356-8d60bad361c3",
   "metadata": {},
   "outputs": [
    {
     "name": "stdin",
     "output_type": "stream",
     "text": [
      "enter the value of h: 11\n"
     ]
    },
    {
     "name": "stdout",
     "output_type": "stream",
     "text": [
      "True\n",
      "11\n",
      "True\n",
      "11\n",
      "palyprime\n"
     ]
    }
   ],
   "source": [
    "def prime(n):\n",
    "    if n<=1:\n",
    "        return False\n",
    "    for x in range(2,n//2+1):\n",
    "        if n%x==0:\n",
    "            return False\n",
    "    return True\n",
    "def reverse(m):\n",
    "    r=0\n",
    "    while m!=0:\n",
    "        rem=m%10\n",
    "        r=r*10+rem\n",
    "        m//=10\n",
    "    return r\n",
    "h=int(input('enter the value of h:'))\n",
    "k=reverse(h)\n",
    "f=prime(h)\n",
    "print(f)\n",
    "print(h)\n",
    "print(prime(h))\n",
    "print(reverse(h))\n",
    "if h==k and f:\n",
    "    print('palyprime')\n",
    "else:\n",
    "    print('not a palyprime')"
   ]
  },
  {
   "cell_type": "code",
   "execution_count": 22,
   "id": "c64f7318-2678-4732-8326-9611812625e0",
   "metadata": {},
   "outputs": [
    {
     "name": "stdout",
     "output_type": "stream",
     "text": [
      "87\n"
     ]
    }
   ],
   "source": [
    "#wap to reverse a given number\n",
    "def rev(m):\n",
    "    res=0\n",
    "    while m!=0:\n",
    "        rem=m%10\n",
    "        m//=10\n",
    "        res=res*10+rem\n",
    "    return(res)\n",
    "print(rev(78))\n"
   ]
  },
  {
   "cell_type": "code",
   "execution_count": 31,
   "id": "6700f66e-855d-4630-811c-16237c72bf44",
   "metadata": {},
   "outputs": [
    {
     "name": "stdin",
     "output_type": "stream",
     "text": [
      "enter the value of n: 19\n"
     ]
    },
    {
     "name": "stdout",
     "output_type": "stream",
     "text": [
      "True\n",
      "91\n",
      "19\n",
      "Emrip\n"
     ]
    }
   ],
   "source": [
    "def rev(m):\n",
    "    res=0\n",
    "    while m!=0:\n",
    "        rem=m%10\n",
    "        m//=10\n",
    "        res=res*10+rem\n",
    "    return(res)\n",
    "def prime(n):\n",
    "    if n<=1:\n",
    "        return False\n",
    "    for x in range(2,n//2+1):\n",
    "        if n%x==0:\n",
    "            return False\n",
    "    return True\n",
    "n=int(input('enter the value of n:'))\n",
    "k=(prime(n))\n",
    "j=(rev(n))\n",
    "print(k)\n",
    "print(j)\n",
    "print(n)\n",
    "if j!=n and k:\n",
    "    print('Emrip')\n",
    "else:\n",
    "    print('not Emrip')"
   ]
  },
  {
   "cell_type": "code",
   "execution_count": 34,
   "id": "a254e414-5716-4c41-a730-3827ba7bf5c2",
   "metadata": {},
   "outputs": [
    {
     "name": "stdin",
     "output_type": "stream",
     "text": [
      "enter the value of n: 123\n"
     ]
    },
    {
     "name": "stdout",
     "output_type": "stream",
     "text": [
      "6\n"
     ]
    }
   ],
   "source": [
    "def Add(r):\n",
    "    d=0\n",
    "    while r!=0:\n",
    "        t=r%10\n",
    "        r//=10\n",
    "        d+=t\n",
    "    return d\n",
    "e=int(input('enter the value of n:'))\n",
    "w=Add(e)\n",
    "print(w)"
   ]
  },
  {
   "cell_type": "code",
   "execution_count": 54,
   "id": "f5903110-f25a-407e-bf47-01549c1cf9c4",
   "metadata": {},
   "outputs": [
    {
     "name": "stdin",
     "output_type": "stream",
     "text": [
      "enter the value of gh: 12\n"
     ]
    },
    {
     "name": "stdout",
     "output_type": "stream",
     "text": [
      "479001600\n"
     ]
    }
   ],
   "source": [
    "def Factorial(m):\n",
    "    fact=1\n",
    "    for x in range(1,m+1):\n",
    "        fact=fact*x\n",
    "    return fact\n",
    "gh=int(input('enter the value of gh:'))\n",
    "ft=Factorial(gh)\n",
    "print(ft)"
   ]
  },
  {
   "cell_type": "code",
   "execution_count": 52,
   "id": "acc600a0-256a-4ce0-8fb7-6ace4e370c34",
   "metadata": {},
   "outputs": [
    {
     "name": "stdin",
     "output_type": "stream",
     "text": [
      "enter the value of fk: 145\n"
     ]
    },
    {
     "name": "stdout",
     "output_type": "stream",
     "text": [
      "145\n",
      "145\n",
      "spl\n"
     ]
    }
   ],
   "source": [
    "def Spl(h):\n",
    "    rs=0\n",
    "    while h!=0:\n",
    "        g=h%10\n",
    "        h//=10\n",
    "        rs=rs+Factorial(g)\n",
    "    return rs\n",
    "fk=int(input('enter the value of fk:'))\n",
    "sw=Spl(fk)\n",
    "print(sw)\n",
    "print(fk)\n",
    "if fk==sw:\n",
    "    print('spl')\n",
    "else:\n",
    "    print('not spl')"
   ]
  },
  {
   "cell_type": "code",
   "execution_count": 53,
   "id": "9561f3ed-2499-4dc7-9561-37908e0f7ffb",
   "metadata": {},
   "outputs": [
    {
     "data": {
      "text/plain": [
       "0"
      ]
     },
     "execution_count": 53,
     "metadata": {},
     "output_type": "execute_result"
    }
   ],
   "source": [
    "135%9\n"
   ]
  },
  {
   "cell_type": "code",
   "execution_count": 63,
   "id": "9d6abf60-37bf-43bc-92e2-b0057e518abd",
   "metadata": {},
   "outputs": [
    {
     "name": "stdout",
     "output_type": "stream",
     "text": [
      "1\n",
      "2\n",
      "3\n",
      "4\n",
      "6\n",
      "12\n"
     ]
    }
   ],
   "source": [
    "def Factors(r):\n",
    "    for x in range(1,r+1):\n",
    "        if r%x==0:\n",
    "            print(x)\n",
    "Factors(12)\n"
   ]
  },
  {
   "cell_type": "code",
   "execution_count": 26,
   "id": "4c50edb9-7b95-4e55-b98c-18c1e3be5090",
   "metadata": {},
   "outputs": [
    {
     "name": "stdout",
     "output_type": "stream",
     "text": [
      "6\n",
      "7\n",
      "5\n",
      "3\n",
      "2\n"
     ]
    }
   ],
   "source": [
    "def prime(kr):\n",
    "    if kr<=1:\n",
    "        pass\n",
    "    for gf in range(2,kr//2+1):\n",
    "        if kr%gf==0:\n",
    "            break\n",
    "    return kr\n",
    "def Getprime(n):\n",
    "    l=[]\n",
    "    res=0\n",
    "    while n!=0:\n",
    "        rem=n%10\n",
    "        n//=10\n",
    "        l.append(prime(rem))\n",
    "        print(prime(rem))\n",
    "x=Getprime(23576)"
   ]
  },
  {
   "cell_type": "code",
   "execution_count": 18,
   "id": "a539e63c-861d-49ad-bf75-88b7df72c1df",
   "metadata": {},
   "outputs": [
    {
     "name": "stdout",
     "output_type": "stream",
     "text": [
      "[11, 13, 17, 19]\n"
     ]
    }
   ],
   "source": [
    "def prime(n):\n",
    "    if n<=1:\n",
    "        return False\n",
    "    for r in range(2,n//2+1):\n",
    "        if n%r==0:\n",
    "            return False\n",
    "    return True\n",
    "l=[11,12,13,14,15,16,17,18,19]\n",
    "x=list(filter(prime,l))\n",
    "print(x)"
   ]
  },
  {
   "cell_type": "code",
   "execution_count": 5,
   "id": "a9967889-384b-4b77-9a2e-c7cff8872c42",
   "metadata": {},
   "outputs": [
    {
     "data": {
      "text/plain": [
       "1"
      ]
     },
     "execution_count": 5,
     "metadata": {},
     "output_type": "execute_result"
    }
   ],
   "source": [
    "-4-(-5)"
   ]
  },
  {
   "cell_type": "code",
   "execution_count": 17,
   "id": "aba43fc2-1e85-499e-be44-f01591e49fa2",
   "metadata": {},
   "outputs": [
    {
     "name": "stdout",
     "output_type": "stream",
     "text": [
      "896\n"
     ]
    }
   ],
   "source": [
    "#l=[10,30,40,30]\n",
    "nl=lambda k,n,x,y:x+y+n+k\n",
    "print(nl(200,500,98,98))"
   ]
  },
  {
   "cell_type": "code",
   "execution_count": 26,
   "id": "7cf4604e-8850-4932-bbf5-741cae0c71e4",
   "metadata": {},
   "outputs": [
    {
     "data": {
      "text/plain": [
       "-25"
      ]
     },
     "execution_count": 26,
     "metadata": {},
     "output_type": "execute_result"
    }
   ],
   "source": [
    "-5-(20)"
   ]
  },
  {
   "cell_type": "code",
   "execution_count": null,
   "id": "105acf2e-2c15-4408-bbb7-397bf2dc43b4",
   "metadata": {},
   "outputs": [],
   "source": []
  }
 ],
 "metadata": {
  "kernelspec": {
   "display_name": "Python 3 (ipykernel)",
   "language": "python",
   "name": "python3"
  },
  "language_info": {
   "codemirror_mode": {
    "name": "ipython",
    "version": 3
   },
   "file_extension": ".py",
   "mimetype": "text/x-python",
   "name": "python",
   "nbconvert_exporter": "python",
   "pygments_lexer": "ipython3",
   "version": "3.9.13"
  }
 },
 "nbformat": 4,
 "nbformat_minor": 5
}
