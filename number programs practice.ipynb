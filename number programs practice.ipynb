{
 "cells": [
  {
   "cell_type": "code",
   "execution_count": 6,
   "id": "44d798ab-fa86-4087-891f-0795a97fefec",
   "metadata": {},
   "outputs": [
    {
     "name": "stdout",
     "output_type": "stream",
     "text": [
      "is prime number\n"
     ]
    }
   ],
   "source": [
    "# WAP to print given number is prime or not\n",
    "n=127\n",
    "if n>1:\n",
    "    for h in range(2,n//2+1):\n",
    "        if n%h==0:\n",
    "            print('is not prime')\n",
    "            break\n",
    "    else:\n",
    "        print('is prime number')\n",
    "else:\n",
    "    print('not prime')"
   ]
  },
  {
   "cell_type": "code",
   "execution_count": 5,
   "id": "3edb35f4-c680-4ed4-bdad-8569d9ab2deb",
   "metadata": {},
   "outputs": [
    {
     "name": "stdout",
     "output_type": "stream",
     "text": [
      "1\n",
      "127\n"
     ]
    }
   ],
   "source": [
    "#factors of given number\n",
    "n=127\n",
    "for v in range(1,n+1):\n",
    "    if n%v==0:\n",
    "        print(v)"
   ]
  },
  {
   "cell_type": "code",
   "execution_count": 9,
   "id": "ee18a80a-f313-4566-8b15-da22eed393f7",
   "metadata": {},
   "outputs": [
    {
     "name": "stdout",
     "output_type": "stream",
     "text": [
      "not composite\n"
     ]
    }
   ],
   "source": [
    "# WAp to know a composite number or not\n",
    "n=1\n",
    "if n>1:\n",
    "    for b in range(1,n+1):\n",
    "        if n%b==0:\n",
    "            print('composite')\n",
    "            break\n",
    "    else:\n",
    "        print('not composite')\n",
    "else:\n",
    "    print('not composite')"
   ]
  },
  {
   "cell_type": "code",
   "execution_count": 25,
   "id": "9239075b-f448-47f4-bc1e-9459afb2c538",
   "metadata": {},
   "outputs": [
    {
     "name": "stdout",
     "output_type": "stream",
     "text": [
      "3\n",
      "2\n",
      "7\n"
     ]
    }
   ],
   "source": [
    "# WAP to print prime numbers in given number\n",
    "n=18967423\n",
    "res=0\n",
    "num=n\n",
    "while n!=0:\n",
    "    rem=n%10\n",
    "    n//=10\n",
    "    if rem>1:\n",
    "        for y in range(2,rem//2+1):\n",
    "            if rem%y==0:\n",
    "                break\n",
    "        else:\n",
    "            print(rem)"
   ]
  },
  {
   "cell_type": "code",
   "execution_count": 11,
   "id": "7b5e0074-bf1c-453b-aa53-50b2d13d411d",
   "metadata": {},
   "outputs": [
    {
     "name": "stdout",
     "output_type": "stream",
     "text": [
      "25\n"
     ]
    }
   ],
   "source": [
    "#WAP to add even digits and multiply the odd digits\n",
    "n=1534264\n",
    "res=0\n",
    "num=n\n",
    "while n!=0:\n",
    "    rem=n%10\n",
    "    n//=10\n",
    "    res=res+rem\n",
    "else:\n",
    "    print(res)\n"
   ]
  },
  {
   "cell_type": "code",
   "execution_count": 12,
   "id": "c3022ac3-f564-4f97-8961-6883e9a2783b",
   "metadata": {},
   "outputs": [
    {
     "name": "stdout",
     "output_type": "stream",
     "text": [
      "240\n"
     ]
    }
   ],
   "source": [
    "#WAP to add even digits and multiply the odd digits\n",
    "n=1534264\n",
    "res=0\n",
    "num=n\n",
    "while n!=0:\n",
    "    rem=n%10\n",
    "    n//=10\n",
    "    if rem%2==0:\n",
    "        res+=rem\n",
    "    else:\n",
    "        res*=rem\n",
    "print(res)"
   ]
  },
  {
   "cell_type": "code",
   "execution_count": 25,
   "id": "38d49e18-7aa5-4d29-87b9-246b0ceaf8b0",
   "metadata": {},
   "outputs": [
    {
     "name": "stdout",
     "output_type": "stream",
     "text": [
      "not  niven number\n"
     ]
    }
   ],
   "source": [
    "#WAP to know given number is niven or not\n",
    "x=124\n",
    "r=0\n",
    "y=x\n",
    "while x!=0:\n",
    "    a=x%10\n",
    "    x//=10\n",
    "    r+=a\n",
    "if y%r==0:\n",
    "    print('it is niven number')\n",
    "else:\n",
    "    print('not  niven number')\n",
    "    \n"
   ]
  },
  {
   "cell_type": "code",
   "execution_count": 4,
   "id": "6c20b90a-cfbb-45e1-a7b6-f25823cf8523",
   "metadata": {},
   "outputs": [
    {
     "name": "stdout",
     "output_type": "stream",
     "text": [
      "it is amstrong number\n"
     ]
    }
   ],
   "source": [
    "# wap to know the given number is amstrong number or not\n",
    "x=153\n",
    "p=len(str(x))\n",
    "r=0\n",
    "y=x\n",
    "while x!=0:\n",
    "    a=x%10\n",
    "    x//=10\n",
    "    r+=a**p\n",
    "if y==r:\n",
    "    print('it is amstrong number')\n",
    "else:\n",
    "    print('not  amstrong number')\n",
    "    \n"
   ]
  },
  {
   "cell_type": "code",
   "execution_count": 32,
   "id": "47b1243e-c61d-4ed0-840c-1445f4ed5c1e",
   "metadata": {},
   "outputs": [
    {
     "name": "stdout",
     "output_type": "stream",
     "text": [
      "it is diserum number\n"
     ]
    }
   ],
   "source": [
    "# wap to know the given number is niven number or not\n",
    "x=135\n",
    "p=len(str(x))\n",
    "r=0\n",
    "y=x\n",
    "while x!=0:\n",
    "    a=x%10\n",
    "    x//=10\n",
    "    r+=a**p\n",
    "    p=p-1\n",
    "if y%r==0:\n",
    "    print('it is diserum number')\n",
    "else:\n",
    "    print('not  disarum number')\n",
    "    \n"
   ]
  },
  {
   "cell_type": "code",
   "execution_count": 40,
   "id": "b0be869b-bee0-40d9-a50b-59b447bf60de",
   "metadata": {},
   "outputs": [
    {
     "name": "stdout",
     "output_type": "stream",
     "text": [
      "101,103,107,109,113,127,131,137,139,149,151,157,163,167,173,179,181,191,193,197,199,211,223,227,229,233,239,241,251,257,263,269,271,277,281,283,293,307,311,313,317,331,337,347,349,353,359,367,373,379,383,389,397,401,409,419,421,431,433,439,443,449,457,461,463,467,479,487,491,499,503,509,521,523,541,547,557,563,569,571,577,587,593,599,601,607,613,617,619,631,641,643,647,653,659,661,673,677,683,691,701,709,719,727,733,739,743,751,757,761,769,773,787,797,809,811,821,823,827,829,839,853,857,859,863,877,881,883,887,907,911,919,929,937,941,947,953,967,971,977,983,991,997,"
     ]
    }
   ],
   "source": [
    "for x in range(100,1000):\n",
    "    if x>1: \n",
    "        for y in range(2,x//2+1):\n",
    "            if x%y==0:\n",
    "                break\n",
    "        else:\n",
    "            print(x,end=\",\")\n",
    "    "
   ]
  },
  {
   "cell_type": "code",
   "execution_count": 27,
   "id": "5c3b52bd-dd33-47e0-b8d9-39cb53b97419",
   "metadata": {},
   "outputs": [
    {
     "name": "stdout",
     "output_type": "stream",
     "text": [
      "135,175,518,598,"
     ]
    }
   ],
   "source": [
    "for x in range(100,1000):\n",
    "    res=0\n",
    "    num=x\n",
    "    p=len(str(num))\n",
    "    while x!=0:\n",
    "        rem=x%10\n",
    "        x//=10\n",
    "        res=res+rem**p\n",
    "        p=p-1\n",
    "    if res==num:\n",
    "            print(res,end=',')"
   ]
  },
  {
   "cell_type": "code",
   "execution_count": 17,
   "id": "72f65413-1ee0-48fc-add2-e37baa58867e",
   "metadata": {},
   "outputs": [
    {
     "name": "stdin",
     "output_type": "stream",
     "text": [
      "enter the value of n: 729\n"
     ]
    },
    {
     "name": "stdout",
     "output_type": "stream",
     "text": [
      "it is not disarum number\n"
     ]
    }
   ],
   "source": [
    "n=int(input('enter the value of n:'))\n",
    "res=0\n",
    "num=n\n",
    "p=len(str(num))\n",
    "while n!=0:\n",
    "    rem=n%10\n",
    "    n//=10\n",
    "    res=res+rem**p\n",
    "    p=p-1\n",
    "if res==num:\n",
    "    print('it is disarum number')\n",
    "else:\n",
    "    print('it is not disarum number')"
   ]
  },
  {
   "cell_type": "code",
   "execution_count": 29,
   "id": "6513952f-8e9d-43e5-b31a-0bc90add3604",
   "metadata": {},
   "outputs": [
    {
     "name": "stdout",
     "output_type": "stream",
     "text": [
      "321\n"
     ]
    }
   ],
   "source": [
    "n=123\n",
    "res=0\n",
    "while n!=0:\n",
    "    rem=n%10\n",
    "    n//=10\n",
    "    res=res*10+rem\n",
    "print(res)"
   ]
  },
  {
   "cell_type": "code",
   "execution_count": 40,
   "id": "147fde4c-2e5d-475e-b63a-0bcd57086cca",
   "metadata": {},
   "outputs": [
    {
     "name": "stdout",
     "output_type": "stream",
     "text": [
      "120\n"
     ]
    }
   ],
   "source": [
    "n=5\n",
    "r=1\n",
    "for x in range(1,n+1):\n",
    "    r*=x\n",
    "print(r)"
   ]
  },
  {
   "cell_type": "markdown",
   "id": "142f9351-6c0b-46db-835e-8a7eeea3d745",
   "metadata": {},
   "source": [
    "## WAP to check given number is PRIME or not"
   ]
  },
  {
   "cell_type": "code",
   "execution_count": 7,
   "id": "e735b11e-bc0c-431c-8260-8a4d2b8d08b1",
   "metadata": {},
   "outputs": [
    {
     "name": "stdout",
     "output_type": "stream",
     "text": [
      "given number is prime number\n"
     ]
    }
   ],
   "source": [
    "#WAP to check given number is prime or not\n",
    "n=131\n",
    "if n>1:\n",
    "    for a in range(2,n//2+1):\n",
    "        if n%a==0:\n",
    "            print('its not prime number')\n",
    "            break\n",
    "    else:\n",
    "        print('given number is prime number')\n",
    "else:\n",
    "    print('given number is not prime number')"
   ]
  },
  {
   "cell_type": "markdown",
   "id": "30aa6cce-0475-400c-9630-c66d6d77c976",
   "metadata": {},
   "source": [
    "## WAP to print FACTORS of given number "
   ]
  },
  {
   "cell_type": "code",
   "execution_count": 6,
   "id": "edf874ee-da25-4a5a-acaf-0aadb1fe4439",
   "metadata": {},
   "outputs": [
    {
     "name": "stdout",
     "output_type": "stream",
     "text": [
      "1\n",
      "131\n"
     ]
    }
   ],
   "source": [
    "n=131\n",
    "for d in range(1,n+1):\n",
    "    if n%d==0:\n",
    "        print(d)"
   ]
  },
  {
   "cell_type": "markdown",
   "id": "30378ce6-2851-4ea2-84e3-bd5f59b71002",
   "metadata": {},
   "source": [
    "## WAP to add a digits in given number "
   ]
  },
  {
   "cell_type": "markdown",
   "id": "2c8d6c8a-1bf7-4d9a-954d-08146f5628b8",
   "metadata": {},
   "source": [
    "# WAP to add a digits in given number\n",
    "n=18674\n",
    "num=n\n",
    "res=0\n",
    "while n!=0:\n",
    "    rem=n%10\n",
    "    n//=10\n",
    "    res+=rem\n",
    "print(res)"
   ]
  },
  {
   "cell_type": "markdown",
   "id": "fd986f77-b993-46a1-bfc6-5201f23721eb",
   "metadata": {},
   "source": [
    "## WAP to print prime digts in given number "
   ]
  },
  {
   "cell_type": "code",
   "execution_count": 27,
   "id": "c4f51bcf-1667-4e1d-8e5d-3b373908d222",
   "metadata": {},
   "outputs": [
    {
     "name": "stdout",
     "output_type": "stream",
     "text": [
      "3\n",
      "2\n",
      "7\n"
     ]
    }
   ],
   "source": [
    "#WAP to print prime digts in given number\n",
    "n=18967423\n",
    "while n!=0:\n",
    "    rem=n%10\n",
    "    n//=10\n",
    "    if rem>1:\n",
    "        for y in range (2,rem//2+1):\n",
    "            if rem%y==0:\n",
    "                break\n",
    "        else:\n",
    "\n",
    "            print(rem)\n"
   ]
  },
  {
   "cell_type": "markdown",
   "id": "af294545-d5c8-4c85-83d0-9c031dc5c132",
   "metadata": {},
   "source": [
    "## WAP to check given number is NIVEN or not"
   ]
  },
  {
   "cell_type": "code",
   "execution_count": 32,
   "id": "df2e915f-c66c-4264-8fec-e7c6cd9ed5b9",
   "metadata": {},
   "outputs": [
    {
     "name": "stdout",
     "output_type": "stream",
     "text": [
      "given number is niven number\n"
     ]
    }
   ],
   "source": [
    "#WAP to check given number is niven or not\n",
    "n=123\n",
    "res=0\n",
    "num=n\n",
    "while n!=0:\n",
    "    rem=n%10\n",
    "    n//=10\n",
    "    res+=rem\n",
    "if num%rem==0:\n",
    "    print('given number is niven number')\n",
    "else:\n",
    "    print('given number is not a niven number')"
   ]
  },
  {
   "cell_type": "markdown",
   "id": "dff1e528-ca23-4aae-99c8-7f1cf93339ff",
   "metadata": {},
   "source": [
    "## ## WAP to check given number is AMSTRONG or not\n",
    " "
   ]
  },
  {
   "cell_type": "code",
   "execution_count": 1,
   "id": "9190a01a-5a00-46a4-b16e-1210941fc58d",
   "metadata": {},
   "outputs": [
    {
     "name": "stdout",
     "output_type": "stream",
     "text": [
      "amstrong\n"
     ]
    }
   ],
   "source": [
    "#WAP to check given number is amstrong number or not\n",
    "n=371\n",
    "num=n\n",
    "p=len(str(n))\n",
    "res=0\n",
    "while n!=0:\n",
    "    rem=n%10\n",
    "    n//=10\n",
    "    res=res+rem**p\n",
    "if num==res:\n",
    "    print('amstrong')\n",
    "else:\n",
    "    print('not amstrong')"
   ]
  },
  {
   "cell_type": "markdown",
   "id": "cce80496-ca8f-4cbb-82db-88c442db9d94",
   "metadata": {},
   "source": [
    "## WAP to check given number is DISARUM or not "
   ]
  },
  {
   "cell_type": "code",
   "execution_count": 3,
   "id": "cf81089f-8b95-4f6c-84fc-124bad461d56",
   "metadata": {},
   "outputs": [
    {
     "name": "stdout",
     "output_type": "stream",
     "text": [
      "disarum\n"
     ]
    }
   ],
   "source": [
    "#wap to check given number is diserum number or not\n",
    "n=135\n",
    "num=n\n",
    "res=0\n",
    "p=len(str(num))\n",
    "while n!=0:\n",
    "    rem=n%10\n",
    "    n//=10\n",
    "    res=res+rem**p\n",
    "    p=p-1\n",
    "if res==num:\n",
    "    print('disarum')\n",
    "else:\n",
    "    print('not disarum')"
   ]
  },
  {
   "cell_type": "markdown",
   "id": "ea053148-57f2-4604-b416-38e19ae5d72b",
   "metadata": {},
   "source": [
    "## WAp to get FACTORIAL of given number "
   ]
  },
  {
   "cell_type": "code",
   "execution_count": 3,
   "id": "6686c988-ece0-4c48-84e6-925482d97045",
   "metadata": {},
   "outputs": [
    {
     "name": "stdout",
     "output_type": "stream",
     "text": [
      "120\n"
     ]
    }
   ],
   "source": [
    "n=5\n",
    "fact=1\n",
    "for x in range(1,n+1):\n",
    "    fact=fact*x\n",
    "print(fact)\n",
    "    "
   ]
  },
  {
   "cell_type": "markdown",
   "id": "bb319624-07f8-4e57-b003-5d5eced4fab3",
   "metadata": {},
   "source": [
    "### WAP to check gien number is STRONG NUMBER or not "
   ]
  },
  {
   "cell_type": "code",
   "execution_count": 8,
   "id": "4af4b875-36c2-4981-b772-e6b6912b7628",
   "metadata": {},
   "outputs": [
    {
     "name": "stdin",
     "output_type": "stream",
     "text": [
      "enter the value of n: 6\n"
     ]
    },
    {
     "name": "stdout",
     "output_type": "stream",
     "text": [
      "strong number\n"
     ]
    }
   ],
   "source": [
    "n=int(input('enter the value of n:'))\n",
    "num=n\n",
    "f=0\n",
    "for o in range(1,n):\n",
    "    if n%o==0:\n",
    "        f+=o\n",
    "if f==num:\n",
    "    print('strong number')\n",
    "else:\n",
    "    print('not strong number')\n",
    "    \n",
    "        "
   ]
  },
  {
   "cell_type": "markdown",
   "id": "3081fbd5-815d-4bb8-afe8-073907ea6062",
   "metadata": {},
   "source": [
    "### wap to check give number is EMRIP or not\n"
   ]
  },
  {
   "cell_type": "code",
   "execution_count": 3,
   "id": "e7c5b1f6-202e-4535-aad0-168d00130a45",
   "metadata": {},
   "outputs": [
    {
     "ename": "SyntaxError",
     "evalue": "invalid syntax (1753661049.py, line 16)",
     "output_type": "error",
     "traceback": [
      "\u001b[1;36m  File \u001b[1;32m\"C:\\Users\\shiva\\AppData\\Local\\Temp\\ipykernel_2596\\1753661049.py\"\u001b[1;36m, line \u001b[1;32m16\u001b[0m\n\u001b[1;33m    else:\u001b[0m\n\u001b[1;37m    ^\u001b[0m\n\u001b[1;31mSyntaxError\u001b[0m\u001b[1;31m:\u001b[0m invalid syntax\n"
     ]
    }
   ],
   "source": [
    "n=13\n",
    "res=0\n",
    "num=n\n",
    "while n!=0:\n",
    "    rem=n%10\n",
    "    n//=10\n",
    "    res=res*10+rem\n",
    "if res!=num:\n",
    "    if num>1:\n",
    "        for y in range(2,num//2+1):\n",
    "            if num%y==0:\n",
    "                print('NOT EMRIP')\n",
    "                break\n",
    "        else:\n",
    "            print('not EMRIP')\n",
    "        e\n",
    "    "
   ]
  },
  {
   "cell_type": "markdown",
   "id": "15f9b2e6-12ed-4a20-8145-03b9c363b957",
   "metadata": {},
   "source": [
    "## WAP to change and update number "
   ]
  },
  {
   "cell_type": "code",
   "execution_count": 5,
   "id": "5c4fba57-7a91-46d4-a32f-6c794026833c",
   "metadata": {},
   "outputs": [
    {
     "name": "stdout",
     "output_type": "stream",
     "text": [
      "26567\n"
     ]
    }
   ],
   "source": [
    "n=23537\n",
    "res=0\n",
    "pos=1\n",
    "while n!=0:\n",
    "    rem=n%10\n",
    "    n//=10\n",
    "    if rem==3:\n",
    "        res=res+(6*pos)\n",
    "    else:\n",
    "        res=res+rem*pos\n",
    "    pos=pos*10\n",
    "print(res)"
   ]
  },
  {
   "cell_type": "markdown",
   "id": "dd762995-2dc0-4bf5-90a4-d588de66d4d9",
   "metadata": {},
   "source": [
    "##  reversing a string"
   ]
  },
  {
   "cell_type": "code",
   "execution_count": 15,
   "id": "a1b4cee2-8fe8-4d31-8ea7-fb85b9db9a53",
   "metadata": {},
   "outputs": [
    {
     "name": "stdout",
     "output_type": "stream",
     "text": [
      "gnireenigne"
     ]
    }
   ],
   "source": [
    "s='engineering'\n",
    "res=''\n",
    "for x in range(-1,-(len(s)+1),-1):\n",
    "    print (s[x],end='')\n",
    "    "
   ]
  },
  {
   "cell_type": "code",
   "execution_count": 17,
   "id": "571745c3-2555-4764-ba55-b91a36300678",
   "metadata": {},
   "outputs": [
    {
     "name": "stdout",
     "output_type": "stream",
     "text": [
      "gnireenigne\n"
     ]
    }
   ],
   "source": [
    "s='engineering'\n",
    "res=''\n",
    "for x in range(-1,-(len(s)+1),-1):\n",
    "    res=res+s[x]\n",
    "print(res)\n",
    "            \n",
    "    "
   ]
  },
  {
   "cell_type": "markdown",
   "id": "617cda25-1248-4a0e-9e2c-2acd8452c3e2",
   "metadata": {},
   "source": [
    "#### WAP to check given string is pallindrome or not"
   ]
  },
  {
   "cell_type": "code",
   "execution_count": 20,
   "id": "bbf4c322-4c7c-4927-b8b0-0dc797e5a993",
   "metadata": {},
   "outputs": [
    {
     "name": "stdout",
     "output_type": "stream",
     "text": [
      "shivaramraj is not pallindrome\n"
     ]
    }
   ],
   "source": [
    "s='shivaramraj'\n",
    "res=''\n",
    "for x in range(-1,-(len(s)+1),-1):\n",
    "    res=res+s[x]\n",
    "if res==s:\n",
    "    print(f'{s} is pallindrome')\n",
    "else:\n",
    "    print(f'{s} is not pallindrome')\n"
   ]
  },
  {
   "cell_type": "markdown",
   "id": "46c9de77-0df8-44c9-8fe8-6dcb7236fa11",
   "metadata": {},
   "source": [
    "### wap to print a vowals in given string\n"
   ]
  },
  {
   "cell_type": "code",
   "execution_count": 21,
   "id": "da5af8a8-1e7d-419b-bb15-ef37b91ba77b",
   "metadata": {},
   "outputs": [
    {
     "name": "stdout",
     "output_type": "stream",
     "text": [
      "iaaaaau\n"
     ]
    }
   ],
   "source": [
    "s='shivaramrajasarjun'\n",
    "res=\"\"\n",
    "vow='AEIOUaeiou'\n",
    "for x in s:\n",
    "    if x in vow:\n",
    "        res=res+x\n",
    "print(res)\n"
   ]
  },
  {
   "cell_type": "markdown",
   "id": "01da8355-20ba-4329-bfa4-518633bf81ba",
   "metadata": {},
   "source": [
    "###  WAP to COUNT a vowls in string"
   ]
  },
  {
   "cell_type": "code",
   "execution_count": 6,
   "id": "ca41dff0-0bf4-4fcd-bca3-087dcc0d0cf9",
   "metadata": {},
   "outputs": [
    {
     "name": "stdout",
     "output_type": "stream",
     "text": [
      "9\n",
      "iaaaaauoo\n"
     ]
    }
   ],
   "source": [
    "s='shivaramrajasarjunoo'\n",
    "res=''\n",
    "count=0\n",
    "vow='AEIOUaeiou'\n",
    "for z in s:\n",
    "    if z in vow:\n",
    "        count=count+1\n",
    "        res=res+z\n",
    "print(count)\n",
    "print(res)"
   ]
  },
  {
   "cell_type": "markdown",
   "id": "5efea96f-a42f-4edc-8e30-0cbac6f00415",
   "metadata": {},
   "source": [
    "### WAP to REMOVE DUPLICATES in given string "
   ]
  },
  {
   "cell_type": "code",
   "execution_count": 33,
   "id": "ed2ce2d0-7c08-433b-9bdf-572613f39390",
   "metadata": {},
   "outputs": [
    {
     "name": "stdout",
     "output_type": "stream",
     "text": [
      "shivarmjuno\n"
     ]
    }
   ],
   "source": [
    "s='shivaramrajasarjunoo'\n",
    "res=''\n",
    "for m in s :\n",
    "    if m not in res:\n",
    "        res=res+m\n",
    "print(res)"
   ]
  },
  {
   "cell_type": "markdown",
   "id": "1da14763-008d-4bd4-bc7b-38dbba46bc06",
   "metadata": {},
   "source": [
    "### WAp to print shapes "
   ]
  },
  {
   "cell_type": "code",
   "execution_count": 38,
   "id": "d5063166-e077-48b5-bde5-94ec08c0a52d",
   "metadata": {},
   "outputs": [
    {
     "name": "stdout",
     "output_type": "stream",
     "text": [
      "* * * * * \n",
      "* * * * * \n",
      "* * * * * \n",
      "* * * * * \n",
      "* * * * * \n"
     ]
    }
   ],
   "source": [
    "# WAp to print a squre\n",
    "n=5\n",
    "st=n\n",
    "for x in range(n):\n",
    "    for y in range(st):\n",
    "        print('*',end=' ')\n",
    "    print()\n",
    "        \n"
   ]
  },
  {
   "cell_type": "code",
   "execution_count": 40,
   "id": "783ad19a-a412-4866-82ee-ec728472983b",
   "metadata": {},
   "outputs": [
    {
     "name": "stdout",
     "output_type": "stream",
     "text": [
      "* * * * * * * * * \n",
      "* * * * * * * * * \n",
      "* * * * * * * * * \n",
      "* * * * * * * * * \n",
      "* * * * * * * * * \n"
     ]
    }
   ],
   "source": [
    "# WAp to print rectangle\n",
    "shiva=5\n",
    "ram=9\n",
    "for arun in range(shiva):\n",
    "    for raju in range(ram):\n",
    "        print('*',end=' ')\n",
    "    print()"
   ]
  },
  {
   "cell_type": "markdown",
   "id": "61b37b93-d160-4d1d-bddc-7fe24a2a801c",
   "metadata": {},
   "source": [
    "### wap to print trangles"
   ]
  },
  {
   "cell_type": "code",
   "execution_count": 41,
   "id": "3824d1b8-3085-4d2d-8329-28de8c85ee79",
   "metadata": {},
   "outputs": [
    {
     "name": "stdout",
     "output_type": "stream",
     "text": [
      "* \n",
      "* * \n",
      "* * * \n",
      "* * * * \n",
      "* * * * * \n",
      "* * * * * * \n"
     ]
    }
   ],
   "source": [
    "shiva=6\n",
    "ram=1\n",
    "for x in range(shiva):\n",
    "    for raj in range(ram):\n",
    "        print('*',end=' ')\n",
    "    print()\n",
    "    ram+=1"
   ]
  },
  {
   "cell_type": "code",
   "execution_count": 43,
   "id": "13a5cb44-74df-4939-be76-76385a70c417",
   "metadata": {},
   "outputs": [
    {
     "name": "stdout",
     "output_type": "stream",
     "text": [
      "          * \n",
      "        * * \n",
      "      * * * \n",
      "    * * * * \n",
      "  * * * * * \n",
      "* * * * * * \n"
     ]
    }
   ],
   "source": [
    "s=6 \n",
    "r=1\n",
    "n=s-1\n",
    "for z in range(s):\n",
    "    for v in range(n):\n",
    "        print(' ', end=' ')\n",
    "    for b in range(r):\n",
    "        print('*', end=\" \")\n",
    "    print()\n",
    "    r+=1\n",
    "    n-=1"
   ]
  },
  {
   "cell_type": "code",
   "execution_count": 48,
   "id": "c53adc3c-488c-4075-9d2d-4de8d046e7b0",
   "metadata": {},
   "outputs": [
    {
     "name": "stdout",
     "output_type": "stream",
     "text": [
      "* * * * * * \n",
      "* * * * * \n",
      "* * * * \n",
      "* * * \n",
      "* * \n",
      "* \n"
     ]
    }
   ],
   "source": [
    "s=6 \n",
    "r=s\n",
    "for z in range(s):\n",
    "    for b in range(r):\n",
    "        print('*', end=\" \")\n",
    "    print()\n",
    "    r-=1"
   ]
  },
  {
   "cell_type": "code",
   "execution_count": 54,
   "id": "cf685726-ed8d-462e-a03a-c066be1bc94c",
   "metadata": {},
   "outputs": [
    {
     "name": "stdout",
     "output_type": "stream",
     "text": [
      "* * * * * * \n",
      "  * * * * * \n",
      "    * * * * \n",
      "      * * * \n",
      "        * * \n",
      "          * \n"
     ]
    }
   ],
   "source": [
    "s=6 \n",
    "r=s\n",
    "n=0\n",
    "for z in range(s):\n",
    "    for v in range(n):\n",
    "        print(' ', end=' ')\n",
    "    for b in range(r):\n",
    "        print('*', end=\" \")\n",
    "    print()\n",
    "    r-=1\n",
    "    n+=1"
   ]
  },
  {
   "cell_type": "code",
   "execution_count": 56,
   "id": "5f69ed5c-4dcf-4fdb-9a83-5ed8a28c7384",
   "metadata": {},
   "outputs": [
    {
     "name": "stdout",
     "output_type": "stream",
     "text": [
      "          * \n",
      "        * * * \n",
      "      * * * * * \n",
      "    * * * * * * * \n",
      "  * * * * * * * * * \n",
      "* * * * * * * * * * * \n"
     ]
    }
   ],
   "source": [
    "s=6 \n",
    "n=s-1\n",
    "r=1\n",
    "for z in range(s):\n",
    "    for v in range(n):\n",
    "        print(' ', end=' ')\n",
    "    for b in range(r):\n",
    "        print('*', end=\" \")\n",
    "    print()\n",
    "    r+=2\n",
    "    n-=1"
   ]
  },
  {
   "cell_type": "code",
   "execution_count": 58,
   "id": "57658a87-799a-46fa-bfed-71a5a39d6ba0",
   "metadata": {},
   "outputs": [
    {
     "name": "stdout",
     "output_type": "stream",
     "text": [
      "* * * * * * * * * * * \n",
      "  * * * * * * * * * \n",
      "    * * * * * * * \n",
      "      * * * * * \n",
      "        * * * \n",
      "          * \n"
     ]
    }
   ],
   "source": [
    "s=6 \n",
    "n=0\n",
    "r=s*2-1\n",
    "for z in range(s):\n",
    "    for v in range(n):\n",
    "        print(' ', end=' ')\n",
    "    for b in range(r):\n",
    "        print('*', end=\" \")\n",
    "    print()\n",
    "    r-=2\n",
    "    n+=1"
   ]
  },
  {
   "cell_type": "code",
   "execution_count": 65,
   "id": "25de3d4e-82da-42b7-b3bb-fe9fd7a67b39",
   "metadata": {},
   "outputs": [
    {
     "name": "stdout",
     "output_type": "stream",
     "text": [
      "    * \n",
      "  * * * \n",
      "* * * * * \n",
      "  * * * \n",
      "    * \n"
     ]
    }
   ],
   "source": [
    "s=5\n",
    "n=s//2\n",
    "r=1\n",
    "for z in range(s):\n",
    "    for v in range(n):\n",
    "        print(' ', end=' ')\n",
    "    for b in range(r):\n",
    "        print('*', end=\" \")\n",
    "    print()\n",
    "    if z<s//2:\n",
    "        r+=2\n",
    "        n-=1\n",
    "    else:\n",
    "        r-=2\n",
    "        n+=1"
   ]
  },
  {
   "cell_type": "code",
   "execution_count": 66,
   "id": "0989d526-8170-4265-9c9c-86fb378fb25a",
   "metadata": {},
   "outputs": [
    {
     "name": "stdout",
     "output_type": "stream",
     "text": [
      "    * \n",
      "  * * \n",
      "* * * \n",
      "  * * \n",
      "    * \n"
     ]
    }
   ],
   "source": [
    "s=5\n",
    "n=s//2\n",
    "r=1\n",
    "for z in range(s):\n",
    "    for v in range(n):\n",
    "        print(' ', end=' ')\n",
    "    for b in range(r):\n",
    "        print('*', end=\" \")\n",
    "    print()\n",
    "    if z<s//2:\n",
    "        r+=1\n",
    "        n-=1\n",
    "    else:\n",
    "        r-=1\n",
    "        n+=1"
   ]
  },
  {
   "cell_type": "code",
   "execution_count": 68,
   "id": "85241685-8ac4-4698-aba1-9c51b109deaf",
   "metadata": {},
   "outputs": [
    {
     "name": "stdout",
     "output_type": "stream",
     "text": [
      "* \n",
      "* * \n",
      "* * * \n",
      "* * \n",
      "* \n"
     ]
    }
   ],
   "source": [
    "s=5\n",
    "r=1\n",
    "for z in range(s):\n",
    "    for b in range(r):\n",
    "        print('*', end=\" \")\n",
    "    print()\n",
    "    if z<s//2:\n",
    "        r+=1\n",
    "        n-=1\n",
    "    else:\n",
    "        r-=1\n",
    "        n+=1"
   ]
  },
  {
   "cell_type": "code",
   "execution_count": 79,
   "id": "40700eb9-33c8-49e2-b138-2630f070c812",
   "metadata": {},
   "outputs": [
    {
     "name": "stdout",
     "output_type": "stream",
     "text": [
      "1 1 1 1 1 \n",
      "2 2 2 2 2 \n",
      "3 3 3 3 3 \n",
      "4 4 4 4 4 \n",
      "5 5 5 5 5 \n"
     ]
    }
   ],
   "source": [
    "n=5\n",
    "st=1\n",
    "s=n\n",
    "for x in range(n):\n",
    "    for y in range(s):\n",
    "        print(st,end=' ')\n",
    "    print()\n",
    "    st+=1\n",
    "        "
   ]
  },
  {
   "cell_type": "code",
   "execution_count": 83,
   "id": "d43caf1a-ff50-4d88-af13-01d3b06f4678",
   "metadata": {},
   "outputs": [
    {
     "name": "stdout",
     "output_type": "stream",
     "text": [
      "1 2 3 4 5 \n",
      "1 2 3 4 5 \n",
      "1 2 3 4 5 \n",
      "1 2 3 4 5 \n",
      "1 2 3 4 5 \n"
     ]
    }
   ],
   "source": [
    "n=5\n",
    "st=1\n",
    "s=n\n",
    "for x in range(n):\n",
    "    for y in range(s):\n",
    "        print(st,end=' ')\n",
    "        st+=1\n",
    "    print()\n",
    "    st=1"
   ]
  },
  {
   "cell_type": "code",
   "execution_count": 9,
   "id": "a19a56e6-d521-4219-b9ba-68c74e16dbde",
   "metadata": {},
   "outputs": [
    {
     "name": "stdin",
     "output_type": "stream",
     "text": [
      "enter the value of n: 145\n"
     ]
    },
    {
     "name": "stdout",
     "output_type": "stream",
     "text": [
      "spl number\n"
     ]
    }
   ],
   "source": [
    "n=int(input('enter the value of n:'))\n",
    "num=n\n",
    "res=0\n",
    "while n!=0:\n",
    "    rem=n%10\n",
    "    fact=1\n",
    "    for x in range(1,rem+1):\n",
    "        fact*=x\n",
    "    res+=fact\n",
    "    n//=10\n",
    "if num==res:\n",
    "    print('spl number')\n",
    "else:\n",
    "    print('not spl')"
   ]
  },
  {
   "cell_type": "code",
   "execution_count": 10,
   "id": "0fbd797e-571e-459a-b3cc-1f27a02ea9db",
   "metadata": {},
   "outputs": [
    {
     "data": {
      "text/plain": [
       "0"
      ]
     },
     "execution_count": 10,
     "metadata": {},
     "output_type": "execute_result"
    }
   ],
   "source": [
    "8&6"
   ]
  },
  {
   "cell_type": "code",
   "execution_count": 11,
   "id": "781b5b86-f901-4175-9a27-053a43a1ada0",
   "metadata": {},
   "outputs": [
    {
     "data": {
      "text/plain": [
       "7"
      ]
     },
     "execution_count": 11,
     "metadata": {},
     "output_type": "execute_result"
    }
   ],
   "source": [
    "12^11"
   ]
  },
  {
   "cell_type": "code",
   "execution_count": null,
   "id": "90d23ab6-d93e-4d83-bfbd-edac9d2f3371",
   "metadata": {},
   "outputs": [],
   "source": []
  }
 ],
 "metadata": {
  "kernelspec": {
   "display_name": "Python 3 (ipykernel)",
   "language": "python",
   "name": "python3"
  },
  "language_info": {
   "codemirror_mode": {
    "name": "ipython",
    "version": 3
   },
   "file_extension": ".py",
   "mimetype": "text/x-python",
   "name": "python",
   "nbconvert_exporter": "python",
   "pygments_lexer": "ipython3",
   "version": "3.9.13"
  }
 },
 "nbformat": 4,
 "nbformat_minor": 5
}
