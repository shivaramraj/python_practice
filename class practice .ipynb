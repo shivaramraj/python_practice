{
 "cells": [
  {
   "cell_type": "code",
   "execution_count": 4,
   "id": "0c195f4c-393b-4dc2-94df-b385a57f7b68",
   "metadata": {},
   "outputs": [
    {
     "name": "stdin",
     "output_type": "stream",
     "text": [
      "enter the value of n: 5\n"
     ]
    },
    {
     "name": "stdout",
     "output_type": "stream",
     "text": [
      "1 \n",
      "1 2 \n",
      "1 2 3 \n",
      "1 2 3 4 \n",
      "1 2 3 4 5 \n"
     ]
    }
   ],
   "source": [
    "n=int(input('enter the value of n:'))\n",
    "st=1\n",
    "for x in range(n):\n",
    "    num=1\n",
    "    for y in range(st):\n",
    "        print(num,end=' ')\n",
    "        num+=1\n",
    "    print()\n",
    "    st+=1"
   ]
  },
  {
   "cell_type": "code",
   "execution_count": 7,
   "id": "106ee0c9-178f-4adf-b881-6bc6690c73c5",
   "metadata": {},
   "outputs": [
    {
     "name": "stdin",
     "output_type": "stream",
     "text": [
      "enter the value of n: 5\n"
     ]
    },
    {
     "name": "stdout",
     "output_type": "stream",
     "text": [
      "5 4 3 2 1 \n",
      "  5 4 3 2 \n",
      "    5 4 3 \n",
      "      5 4 \n",
      "        5 \n"
     ]
    }
   ],
   "source": [
    "n=int(input('enter the value of n:'))\n",
    "st=n\n",
    "sp=0\n",
    "for x in range(n):\n",
    "    num=n\n",
    "    for y in range(sp):\n",
    "        print(' ',end=' ')\n",
    "    for z in range(st):\n",
    "        print(num,end=' ')\n",
    "        num-=1\n",
    "    print()\n",
    "    st-=1\n",
    "    sp+=1"
   ]
  },
  {
   "cell_type": "code",
   "execution_count": 8,
   "id": "1dcb8a2d-c37a-437e-9255-696c73b5bf86",
   "metadata": {},
   "outputs": [
    {
     "name": "stdin",
     "output_type": "stream",
     "text": [
      "enter the value of n: 5\n"
     ]
    },
    {
     "name": "stdout",
     "output_type": "stream",
     "text": [
      "5 4 3 2 1 \n",
      "  4 3 2 1 \n",
      "    3 2 1 \n",
      "      2 1 \n",
      "        1 \n"
     ]
    }
   ],
   "source": [
    "n=int(input('enter the value of n:'))\n",
    "st=n\n",
    "sp=0\n",
    "for x in range(n):\n",
    "    num=st\n",
    "    for y in range(sp):\n",
    "        print(' ',end=' ')\n",
    "    for z in range(st):\n",
    "        print(num,end=' ')\n",
    "        num-=1\n",
    "    print()\n",
    "    st-=1\n",
    "    sp+=1"
   ]
  },
  {
   "cell_type": "code",
   "execution_count": 14,
   "id": "87aa4be6-b582-403f-867f-88e848c3d4a7",
   "metadata": {},
   "outputs": [
    {
     "name": "stdin",
     "output_type": "stream",
     "text": [
      "enter the value of n: 4\n"
     ]
    },
    {
     "name": "stdout",
     "output_type": "stream",
     "text": [
      "      1 \n",
      "    1 2 3 \n",
      "  1 2 3 4 5 \n",
      "1 2 3 4 5 6 7 \n"
     ]
    }
   ],
   "source": [
    "n=int(input('enter the value of n:'))\n",
    "st=1\n",
    "sp=n-1\n",
    "for x in range(n):\n",
    "    num=1\n",
    "    for y in range(sp):\n",
    "        print(' ',end=' ')\n",
    "    for z in range(st):\n",
    "        print(num,end=' ')\n",
    "        num+=1\n",
    "    print()\n",
    "    st+=2\n",
    "    sp-=1"
   ]
  },
  {
   "cell_type": "code",
   "execution_count": 16,
   "id": "ac5d92c0-4f93-48a2-88af-3e1bf3e48f77",
   "metadata": {},
   "outputs": [
    {
     "name": "stdin",
     "output_type": "stream",
     "text": [
      "enter the value of n: 4\n"
     ]
    },
    {
     "name": "stdout",
     "output_type": "stream",
     "text": [
      "      1 \n",
      "    3 2 1 \n",
      "  5 4 3 2 1 \n",
      "7 6 5 4 3 2 1 \n"
     ]
    }
   ],
   "source": [
    "n=int(input('enter the value of n:'))\n",
    "st=1\n",
    "sp=n-1\n",
    "for x in range(n):\n",
    "    num=st\n",
    "    for y in range(sp):\n",
    "        print(' ',end=' ')\n",
    "    for z in range(st):\n",
    "        print(num,end=' ')\n",
    "        num-=1\n",
    "    print()\n",
    "    st+=2\n",
    "    sp-=1"
   ]
  },
  {
   "cell_type": "code",
   "execution_count": 18,
   "id": "a4a5a212-515a-41d8-ab76-41353aefe8c4",
   "metadata": {},
   "outputs": [
    {
     "name": "stdin",
     "output_type": "stream",
     "text": [
      "enter the value of n: 5\n"
     ]
    },
    {
     "name": "stdout",
     "output_type": "stream",
     "text": [
      "    5 \n",
      "  5 4 3 \n",
      "5 4 3 2 1 \n",
      "  5 4 3 \n",
      "    5 \n"
     ]
    }
   ],
   "source": [
    "n=int(input('enter the value of n:'))\n",
    "st=1\n",
    "sp=n//2\n",
    "for x in range(n):\n",
    "    num=5\n",
    "    for y in range(sp):\n",
    "        print(' ',end=' ')\n",
    "    for z in range(st):\n",
    "        print(num,end=' ')\n",
    "        num-=1\n",
    "    print()\n",
    "    if x<n//2:\n",
    "        \n",
    "        st+=2\n",
    "        sp-=1\n",
    "    else:\n",
    "        st-=2\n",
    "        sp+=1\n",
    "        \n"
   ]
  },
  {
   "cell_type": "code",
   "execution_count": 24,
   "id": "50e273c5-505f-4984-be2c-9b0b4622beef",
   "metadata": {},
   "outputs": [
    {
     "name": "stdin",
     "output_type": "stream",
     "text": [
      "enter the value of n: 5\n"
     ]
    },
    {
     "name": "stdout",
     "output_type": "stream",
     "text": [
      "        A \n",
      "      A B C \n",
      "    A B C D E \n",
      "  A B C D E F G \n",
      "A B C D E F G H I \n"
     ]
    }
   ],
   "source": [
    "n=int(input('enter the value of n:'))\n",
    "st=1\n",
    "sp=n-1\n",
    "for x in range(n):\n",
    "    num=1\n",
    "    for y in range(sp):\n",
    "        print(' ',end=' ')\n",
    "    for z in range(st):\n",
    "        print(chr(num+64),end=' ')\n",
    "        num+=1\n",
    "    print()\n",
    "    st+=2\n",
    "    sp-=1"
   ]
  },
  {
   "cell_type": "code",
   "execution_count": 2,
   "id": "e1667110-7447-4eb1-acad-7f6c0ffd843f",
   "metadata": {},
   "outputs": [
    {
     "name": "stdin",
     "output_type": "stream",
     "text": [
      "enter the value of n: 5\n"
     ]
    },
    {
     "name": "stdout",
     "output_type": "stream",
     "text": [
      "        1 \n",
      "      3 3 3 \n",
      "    5 5 5 5 5 \n",
      "  7 7 7 7 7 7 7 \n",
      "9 9 9 9 9 9 9 9 9 \n"
     ]
    }
   ],
   "source": [
    "n=int(input('enter the value of n:'))\n",
    "st=1\n",
    "sp=n-1\n",
    "for a in range(n):\n",
    "    num=st\n",
    "    for c in range(sp):\n",
    "        print(' ',end=' ')\n",
    "    for b in range(st):\n",
    "        print(num,end=' ')\n",
    "    print()\n",
    "    st+=2\n",
    "    num+=1\n",
    "    sp-=1"
   ]
  },
  {
   "cell_type": "code",
   "execution_count": 11,
   "id": "723e0f4e-c0c0-48be-8c09-d3320f9c11e6",
   "metadata": {},
   "outputs": [
    {
     "name": "stdin",
     "output_type": "stream",
     "text": [
      "enter the value of n: 5\n"
     ]
    },
    {
     "name": "stdout",
     "output_type": "stream",
     "text": [
      "        1 \n",
      "      2 2 2 \n",
      "    3 3 3 3 3 \n",
      "  4 4 4 4 4 4 4 \n",
      "5 5 5 5 5 5 5 5 5 \n"
     ]
    }
   ],
   "source": [
    "n=int(input('enter the value of n:'))\n",
    "st=1\n",
    "sp=n-1\n",
    "num=1\n",
    "for a in range(n):\n",
    "    for b in range(sp):\n",
    "        print(' ',end=' ')\n",
    "    for c in range(st):\n",
    "        print(num,end=' ')\n",
    "    print()\n",
    "    num+=1\n",
    "    sp-=1\n",
    "    st+=2\n",
    "        "
   ]
  },
  {
   "cell_type": "code",
   "execution_count": 7,
   "id": "7b534298-c304-4966-b3ea-11cd9bb6c513",
   "metadata": {},
   "outputs": [
    {
     "name": "stdin",
     "output_type": "stream",
     "text": [
      "enter the value of n: 4\n"
     ]
    },
    {
     "name": "stdout",
     "output_type": "stream",
     "text": [
      "      1 \n",
      "    2 3 \n",
      "  4 5 6 \n",
      "7 8 9 10 \n"
     ]
    }
   ],
   "source": [
    "n=int(input('enter the value of n:'))\n",
    "st=1\n",
    "sp=n-1\n",
    "num=1\n",
    "for x in range(n):\n",
    "    for y in range(sp):\n",
    "        print(' ',end=' ')\n",
    "    for z in range(st):\n",
    "        print(num,end=' ')\n",
    "        num+=1\n",
    "    print()\n",
    "    sp-=1\n",
    "    st+=1\n",
    "    "
   ]
  },
  {
   "cell_type": "code",
   "execution_count": 16,
   "id": "5d2be414-54f0-4657-b265-11e26993c821",
   "metadata": {},
   "outputs": [
    {
     "name": "stdin",
     "output_type": "stream",
     "text": [
      "enter the value of n: 1\n"
     ]
    },
    {
     "name": "stdout",
     "output_type": "stream",
     "text": [
      "1: is not a prime number\n"
     ]
    }
   ],
   "source": [
    "#wap for given number is prime or not\n",
    "n=int(input('enter the value of n:'))\n",
    "if n>1:\n",
    "    for x in range(2,n//2+1):\n",
    "         if n%x==0:\n",
    "            print(f'{n}: is not a prime number')\n",
    "            break\n",
    "    else:\n",
    "        print(f'{n}:is a prime number') \n",
    "else:\n",
    "    print(f'{n}: is not a prime number')"
   ]
  },
  {
   "cell_type": "code",
   "execution_count": null,
   "id": "0b17b8cb-d817-4c54-8a69-395ab713942a",
   "metadata": {},
   "outputs": [],
   "source": [
    "# wapfor given number is composite or not\n",
    "n=int(input('enter the value of n:'))\n",
    "for i in range(2,n//2+1):\n",
    "    if n%i==0:\n",
    "        print(f{}\n"
   ]
  },
  {
   "cell_type": "code",
   "execution_count": 1,
   "id": "5a66d3fb-67f6-466c-88de-8278d6f6726d",
   "metadata": {},
   "outputs": [
    {
     "name": "stdin",
     "output_type": "stream",
     "text": [
      "enter the value of n: 2456\n"
     ]
    },
    {
     "name": "stdout",
     "output_type": "stream",
     "text": [
      "even sum:12\n",
      "odd sum:5\n"
     ]
    }
   ],
   "source": [
    "n=int(input('enter the value of n:'))\n",
    "Eres=0\n",
    "Ores=0\n",
    "while n!=0:\n",
    "    rem=n%10\n",
    "    if rem%2==0:\n",
    "        Eres=Eres+rem\n",
    "    else:\n",
    "        Ores=Ores+rem\n",
    "    n=n//10\n",
    "print(f'even sum:{Eres}')\n",
    "print(f'odd sum:{Ores}')\n",
    "\n",
    "    \n",
    "        "
   ]
  },
  {
   "cell_type": "code",
   "execution_count": 1,
   "id": "46827aaf-c639-4639-96fb-cbc0d1771185",
   "metadata": {},
   "outputs": [
    {
     "ename": "SyntaxError",
     "evalue": "invalid syntax (2034263170.py, line 6)",
     "output_type": "error",
     "traceback": [
      "\u001b[1;36m  File \u001b[1;32m\"C:\\Users\\shiva\\AppData\\Local\\Temp\\ipykernel_20712\\2034263170.py\"\u001b[1;36m, line \u001b[1;32m6\u001b[0m\n\u001b[1;33m    print(x)\u001b[0m\n\u001b[1;37m    ^\u001b[0m\n\u001b[1;31mSyntaxError\u001b[0m\u001b[1;31m:\u001b[0m invalid syntax\n"
     ]
    }
   ],
   "source": [
    "n=int(input('enter the value of n:'))\n",
    "res=0\n",
    "while n!=0:\n",
    "    rem=n%10\n",
    "    for x in range(2,rem//2+1):\n",
    "        if rem%x==0\n",
    "        break\n",
    "      \n",
    "    \n",
    "    "
   ]
  },
  {
   "cell_type": "markdown",
   "id": "6a66930f-4bef-4ed8-8caf-5063e4a02d2d",
   "metadata": {},
   "source": [
    "## wap to add all digits in given number"
   ]
  },
  {
   "cell_type": "code",
   "execution_count": 2,
   "id": "0c0f8643-5787-4981-b2f4-468f0a90e7b6",
   "metadata": {},
   "outputs": [
    {
     "name": "stdin",
     "output_type": "stream",
     "text": [
      "enter the value of n: 342\n"
     ]
    },
    {
     "name": "stdout",
     "output_type": "stream",
     "text": [
      "sum of 342 is 9\n"
     ]
    }
   ],
   "source": [
    "n=int(input('enter the value of n:'))\n",
    "num=n\n",
    "res=0\n",
    "while n!=0:\n",
    "    rem=n%10\n",
    "    res+=rem\n",
    "    n=n//10\n",
    "print(f'sum of {num} is {res}')\n",
    "    "
   ]
  },
  {
   "cell_type": "code",
   "execution_count": 9,
   "id": "aa2331a1-5741-497c-8ba1-107a184e9ce4",
   "metadata": {},
   "outputs": [
    {
     "name": "stdin",
     "output_type": "stream",
     "text": [
      "enter the value of n: 123\n"
     ]
    },
    {
     "name": "stdout",
     "output_type": "stream",
     "text": [
      "123 is not niven number\n"
     ]
    }
   ],
   "source": [
    "n=int(input('enter the value of n:'))\n",
    "num=n\n",
    "res=0\n",
    "while n!=0:\n",
    "    rem=n%10\n",
    "    res+=rem\n",
    "    n=n//10\n",
    "if num%res==0:\n",
    "    print(f'{num} is niven number')\n",
    "else:\n",
    "    print(f'{num} is not niven number')"
   ]
  },
  {
   "cell_type": "code",
   "execution_count": 6,
   "id": "c316cbc4-7fbc-4f77-86fa-d2a54d57c05c",
   "metadata": {},
   "outputs": [
    {
     "name": "stdin",
     "output_type": "stream",
     "text": [
      "enter the value of n: 123\n"
     ]
    },
    {
     "name": "stdout",
     "output_type": "stream",
     "text": [
      "love of123=6\n"
     ]
    }
   ],
   "source": [
    "n=int(input('enter the value of n:'))\n",
    "num=n\n",
    "res=1\n",
    "while n!=0:\n",
    "    rem=n%10\n",
    "    res=rem*res\n",
    "    n=n//10\n",
    "print(f' of{num}={res}')"
   ]
  },
  {
   "cell_type": "code",
   "execution_count": 1,
   "id": "bc0b84d4-37c8-4e80-860d-a95dee38fa6d",
   "metadata": {},
   "outputs": [
    {
     "data": {
      "text/plain": [
       "3"
      ]
     },
     "execution_count": 1,
     "metadata": {},
     "output_type": "execute_result"
    }
   ],
   "source": [
    "123%10\n"
   ]
  },
  {
   "cell_type": "markdown",
   "id": "5794995d-757f-4e7e-beb5-6bd0cb12a216",
   "metadata": {},
   "source": [
    "# prime number"
   ]
  },
  {
   "cell_type": "code",
   "execution_count": null,
   "id": "331a3f96-afb2-4d3d-a83f-fb1d208c4d1b",
   "metadata": {},
   "outputs": [],
   "source": [
    "n=int(input('enter the value of n:'))\n",
    "if n>1:\n",
    "    for x in range(2,n//2+1):\n",
    "        if n%x==0:\n",
    "            print(f'{n} is not a prime number')\n",
    "            break\n",
    "    else:\n",
    "        print(f'{n} is a prime number')\n",
    "else:\n",
    "    print(f'{n} is not a prime number')\n",
    "        \n",
    "            "
   ]
  },
  {
   "cell_type": "code",
   "execution_count": 1,
   "id": "7e790037-952c-4ece-97f9-b91c5d6171d5",
   "metadata": {},
   "outputs": [
    {
     "name": "stdin",
     "output_type": "stream",
     "text": [
      "enter the value of n: 5\n"
     ]
    },
    {
     "name": "stdout",
     "output_type": "stream",
     "text": [
      "* * * * * \n",
      "* * * * * \n",
      "* * * * * \n",
      "* * * * * \n",
      "* * * * * \n"
     ]
    }
   ],
   "source": [
    "n=int(input('enter the value of n:'))\n",
    "st=n\n",
    "for x in range(n):\n",
    "    for y in range(st):\n",
    "        print('*',end=' ')\n",
    "    print()"
   ]
  },
  {
   "cell_type": "code",
   "execution_count": 3,
   "id": "3df3ad26-ece1-4a10-8a20-f1976e215467",
   "metadata": {},
   "outputs": [
    {
     "name": "stdin",
     "output_type": "stream",
     "text": [
      "enter the value of n: 5\n"
     ]
    },
    {
     "name": "stdout",
     "output_type": "stream",
     "text": [
      "* \n",
      "* * \n",
      "* * * \n",
      "* * * * \n",
      "* * * * * \n"
     ]
    }
   ],
   "source": [
    "n=int(input('enter the value of n:'))\n",
    "st=1\n",
    "for x in range(n):\n",
    "    for y in range(st):\n",
    "        print('*',end=' ')\n",
    "    print()\n",
    "    st+=1"
   ]
  },
  {
   "cell_type": "code",
   "execution_count": 4,
   "id": "b800809e-6244-4bc3-a00b-55aba15fd467",
   "metadata": {},
   "outputs": [
    {
     "name": "stdin",
     "output_type": "stream",
     "text": [
      "enter the value of n: 5\n"
     ]
    },
    {
     "name": "stdout",
     "output_type": "stream",
     "text": [
      "* * * * * \n",
      "* * * * \n",
      "* * * \n",
      "* * \n",
      "* \n"
     ]
    }
   ],
   "source": [
    "n=int(input('enter the value of n:'))\n",
    "st=n\n",
    "for x in range(n):\n",
    "    for y in range(st):\n",
    "        print('*',end=' ')\n",
    "    print()\n",
    "    st-=1"
   ]
  },
  {
   "cell_type": "code",
   "execution_count": 6,
   "id": "699f034a-be7b-424c-99bf-557325bf506c",
   "metadata": {},
   "outputs": [
    {
     "name": "stdin",
     "output_type": "stream",
     "text": [
      "enter the value of n: 5\n"
     ]
    },
    {
     "name": "stdout",
     "output_type": "stream",
     "text": [
      "        * \n",
      "      * * \n",
      "    * * * \n",
      "  * * * * \n",
      "* * * * * \n"
     ]
    }
   ],
   "source": [
    "n=int(input('enter the value of n:'))\n",
    "st=1\n",
    "sp=n-1\n",
    "for x in range(n):\n",
    "    for z in range(sp):\n",
    "        print(' ',end=' ')\n",
    "    for y in range(st):\n",
    "        print('*',end=' ')\n",
    "    print()\n",
    "    st+=1\n",
    "    sp-=1"
   ]
  },
  {
   "cell_type": "code",
   "execution_count": 8,
   "id": "0b0db297-c7e2-4e18-8e18-a652e499853c",
   "metadata": {},
   "outputs": [
    {
     "name": "stdin",
     "output_type": "stream",
     "text": [
      "enter the value of n: 5\n"
     ]
    },
    {
     "name": "stdout",
     "output_type": "stream",
     "text": [
      "* * * * * \n",
      "  * * * * \n",
      "    * * * \n",
      "      * * \n",
      "        * \n"
     ]
    }
   ],
   "source": [
    "n=int(input('enter the value of n:'))\n",
    "st=n\n",
    "sp=0\n",
    "for x in range(n):\n",
    "    for z in range(sp):\n",
    "        print(' ',end=' ')\n",
    "    for y in range(st):\n",
    "        print('*',end=' ')\n",
    "    print()\n",
    "    st-=1\n",
    "    sp+=1"
   ]
  },
  {
   "cell_type": "code",
   "execution_count": 9,
   "id": "a93e3ba2-05a4-4db5-b9bc-5d00f99c70a6",
   "metadata": {},
   "outputs": [
    {
     "name": "stdin",
     "output_type": "stream",
     "text": [
      "enter the value of n: 5\n"
     ]
    },
    {
     "name": "stdout",
     "output_type": "stream",
     "text": [
      "        * \n",
      "      * * * \n",
      "    * * * * * \n",
      "  * * * * * * * \n",
      "* * * * * * * * * \n"
     ]
    }
   ],
   "source": [
    "n=int(input('enter the value of n:'))\n",
    "st=1\n",
    "sp=n-1\n",
    "for x in range(n):\n",
    "    for z in range(sp):\n",
    "        print(' ',end=' ')\n",
    "    for y in range(st):\n",
    "        print('*',end=' ')\n",
    "    print()\n",
    "    st+=2\n",
    "    sp-=1"
   ]
  },
  {
   "cell_type": "code",
   "execution_count": 10,
   "id": "5b973cf8-638f-42b1-ae2c-50bc93f9ddfb",
   "metadata": {},
   "outputs": [
    {
     "name": "stdin",
     "output_type": "stream",
     "text": [
      "enter the value of n: 5\n"
     ]
    },
    {
     "name": "stdout",
     "output_type": "stream",
     "text": [
      "* * * * * * * * * \n",
      "  * * * * * * * \n",
      "    * * * * * \n",
      "      * * * \n",
      "        * \n"
     ]
    }
   ],
   "source": [
    "n=int(input('enter the value of n:'))\n",
    "st=n*2-1\n",
    "sp=0\n",
    "for x in range(n):\n",
    "    for z in range(sp):\n",
    "        print(' ',end=' ')\n",
    "    for y in range(st):\n",
    "        print('*',end=' ')\n",
    "    print()\n",
    "    st-=2\n",
    "    sp+=1"
   ]
  },
  {
   "cell_type": "code",
   "execution_count": 13,
   "id": "038d23dd-b5f6-4599-816d-9ece6fa6afb0",
   "metadata": {},
   "outputs": [
    {
     "name": "stdin",
     "output_type": "stream",
     "text": [
      "enter the value of n: 5\n"
     ]
    },
    {
     "name": "stdout",
     "output_type": "stream",
     "text": [
      "    * \n",
      "  * * * \n",
      "* * * * * \n",
      "  * * * \n",
      "    * \n"
     ]
    }
   ],
   "source": [
    "n=int(input('enter the value of n:'))\n",
    "st=1\n",
    "sp=n//2\n",
    "for x in range(n):\n",
    "    for z in range(sp):\n",
    "        print(' ',end=' ')\n",
    "    for y in range(st):\n",
    "        print('*',end=' ')\n",
    "    print()\n",
    "    if x<n//2:\n",
    "        st+=2\n",
    "        sp-=1\n",
    "    else:\n",
    "        st-=2\n",
    "        sp+=1\n",
    "        "
   ]
  },
  {
   "cell_type": "code",
   "execution_count": 15,
   "id": "01389853-8fc9-4422-8c48-86796f69a8a6",
   "metadata": {},
   "outputs": [
    {
     "name": "stdin",
     "output_type": "stream",
     "text": [
      "enter the value of n: 5\n"
     ]
    },
    {
     "name": "stdout",
     "output_type": "stream",
     "text": [
      "* \n",
      "* * \n",
      "* * * \n",
      "* * \n",
      "* \n"
     ]
    }
   ],
   "source": [
    "n=int(input('enter the value of n:'))\n",
    "st=1\n",
    "sp=0\n",
    "for x in range(n):\n",
    "    for z in range(sp):\n",
    "        print(' ',end=' ')\n",
    "    for y in range(st):\n",
    "        print('*',end=' ')\n",
    "    print()\n",
    "    if x<n//2:\n",
    "        st+=1\n",
    "        sp-=1\n",
    "    else:\n",
    "        st-=1\n",
    "        sp+=1\n",
    "        "
   ]
  },
  {
   "cell_type": "code",
   "execution_count": 16,
   "id": "40a1a1be-7a28-4ab8-a890-99e0589bbbf9",
   "metadata": {},
   "outputs": [
    {
     "name": "stdin",
     "output_type": "stream",
     "text": [
      "enter the value of n: 5\n"
     ]
    },
    {
     "name": "stdout",
     "output_type": "stream",
     "text": [
      "    * \n",
      "  * * \n",
      "* * * \n",
      "  * * \n",
      "    * \n"
     ]
    }
   ],
   "source": [
    "n=int(input('enter the value of n:'))\n",
    "st=1\n",
    "sp=n//2\n",
    "for x in range(n):\n",
    "    for z in range(sp):\n",
    "        print(' ',end=' ')\n",
    "    for y in range(st):\n",
    "        print('*',end=' ')\n",
    "    print()\n",
    "    if x<n//2:\n",
    "        st+=1\n",
    "        sp-=1\n",
    "    else:\n",
    "        st-=1\n",
    "        sp+=1\n",
    "        "
   ]
  },
  {
   "cell_type": "code",
   "execution_count": 20,
   "id": "9ba0f160-0c81-4d15-8a96-2e9828a3ea28",
   "metadata": {},
   "outputs": [
    {
     "name": "stdin",
     "output_type": "stream",
     "text": [
      "enter the value of n: 5\n"
     ]
    },
    {
     "name": "stdout",
     "output_type": "stream",
     "text": [
      "1 2 3 4 5 \n",
      "1 2 3 4 5 \n",
      "1 2 3 4 5 \n",
      "1 2 3 4 5 \n",
      "1 2 3 4 5 \n"
     ]
    }
   ],
   "source": [
    "n=int(input('enter the value of n:'))\n",
    "st=n\n",
    "for x in range(n):\n",
    "    num=1\n",
    "    for y in range(st):\n",
    "        print(num,end=' ')\n",
    "        num+=1\n",
    "    print()\n",
    "    "
   ]
  },
  {
   "cell_type": "code",
   "execution_count": 21,
   "id": "65ddf4e6-58aa-42c2-bbd0-7291bd0668b2",
   "metadata": {},
   "outputs": [
    {
     "name": "stdin",
     "output_type": "stream",
     "text": [
      "enter the value of n: 5\n"
     ]
    },
    {
     "name": "stdout",
     "output_type": "stream",
     "text": [
      "1 \n",
      "1 2 \n",
      "1 2 3 \n",
      "1 2 3 4 \n",
      "1 2 3 4 5 \n"
     ]
    }
   ],
   "source": [
    "n=int(input('enter the value of n:'))\n",
    "st=1\n",
    "for x in range(n):\n",
    "    num=1\n",
    "    for y in range(st):\n",
    "        print(num,end=' ')\n",
    "        num+=1\n",
    "    print()\n",
    "    st+=1"
   ]
  },
  {
   "cell_type": "code",
   "execution_count": 22,
   "id": "9f753dd6-56d1-48c5-a287-4f752f2b209a",
   "metadata": {},
   "outputs": [
    {
     "name": "stdin",
     "output_type": "stream",
     "text": [
      "enter the value of n: 5\n"
     ]
    },
    {
     "name": "stdout",
     "output_type": "stream",
     "text": [
      "5 \n",
      "5 4 \n",
      "5 4 3 \n",
      "5 4 3 2 \n",
      "5 4 3 2 1 \n"
     ]
    }
   ],
   "source": [
    "n=int(input('enter the value of n:'))\n",
    "st=1\n",
    "for x in range(n):\n",
    "    num=5\n",
    "    for y in range(st):\n",
    "        print(num,end=' ')\n",
    "        num-=1\n",
    "    print()\n",
    "    st+=1"
   ]
  },
  {
   "cell_type": "code",
   "execution_count": 24,
   "id": "eee7faaf-dba6-4147-8f7c-a1a7270bb861",
   "metadata": {},
   "outputs": [
    {
     "name": "stdin",
     "output_type": "stream",
     "text": [
      "enter the value of n: 5\n"
     ]
    },
    {
     "name": "stdout",
     "output_type": "stream",
     "text": [
      "        A \n",
      "      A B C \n",
      "    A B C D E \n",
      "  A B C D E F G \n",
      "A B C D E F G H I \n"
     ]
    }
   ],
   "source": [
    "n=int(input('enter the value of n:'))\n",
    "st=1\n",
    "sp=n-1\n",
    "for x in range(n):\n",
    "    num=1\n",
    "    for z in range(sp):\n",
    "        print(' ',end=' ')\n",
    "    for y in range(st):\n",
    "        print(chr(num+64),end=' ')\n",
    "        num+=1\n",
    "    print()\n",
    "    st+=2\n",
    "    sp-=1"
   ]
  },
  {
   "cell_type": "code",
   "execution_count": 26,
   "id": "12611cc7-2718-45cf-90a3-7cf0a8648fcd",
   "metadata": {},
   "outputs": [
    {
     "name": "stdin",
     "output_type": "stream",
     "text": [
      "enter the value of n: 5\n"
     ]
    },
    {
     "name": "stdout",
     "output_type": "stream",
     "text": [
      "        E \n",
      "      E D \n",
      "    E D C \n",
      "  E D C B \n",
      "E D C B A \n"
     ]
    }
   ],
   "source": [
    "n=int(input('enter the value of n:'))\n",
    "st=1\n",
    "sp=n-1\n",
    "for x in range(n):\n",
    "    num=5\n",
    "    for z in range(sp):\n",
    "        print(' ',end=' ')\n",
    "    for y in range(st):\n",
    "        print(chr(num+64),end=' ')\n",
    "        num-=1\n",
    "    print()\n",
    "    st+=1\n",
    "    sp-=1"
   ]
  },
  {
   "cell_type": "code",
   "execution_count": 30,
   "id": "0a6b8971-d73f-4e51-9887-09854ea88835",
   "metadata": {},
   "outputs": [
    {
     "name": "stdin",
     "output_type": "stream",
     "text": [
      "enter the value of n: 5\n"
     ]
    },
    {
     "name": "stdout",
     "output_type": "stream",
     "text": [
      "        1 \n",
      "      2 1 \n",
      "    3 2 1 \n",
      "  4 3 2 1 \n",
      "5 4 3 2 1 \n"
     ]
    }
   ],
   "source": [
    "n=int(input('enter the value of n:'))\n",
    "st=1\n",
    "sp=n-1\n",
    "for x in range(n):\n",
    "    num=st\n",
    "    for z in range(sp):\n",
    "        print(' ',end=' ')\n",
    "    for y in range(st):\n",
    "        print(num,end=' ')\n",
    "        num-=1\n",
    "    print()\n",
    "    num+=1\n",
    "    st+=1\n",
    "    sp-=1"
   ]
  },
  {
   "cell_type": "code",
   "execution_count": 34,
   "id": "c526d2f7-a29e-434b-8f8d-30dd4f814d11",
   "metadata": {},
   "outputs": [
    {
     "name": "stdin",
     "output_type": "stream",
     "text": [
      "enter the value of n: 7\n"
     ]
    },
    {
     "name": "stdout",
     "output_type": "stream",
     "text": [
      "      1 \n",
      "    3 2 1 \n",
      "  5 4 3 2 1 \n",
      "7 6 5 4 3 2 1 \n",
      "  5 4 3 2 1 \n",
      "    3 2 1 \n",
      "      1 \n"
     ]
    }
   ],
   "source": [
    "n=int(input('enter the value of n:'))\n",
    "st=1\n",
    "sp=n//2\n",
    "for x in range(n):\n",
    "    num=st\n",
    "    for z in range(sp):\n",
    "        print(' ',end=' ')\n",
    "    for y in range(st):\n",
    "        print(num,end=' ')\n",
    "        num-=1\n",
    "    print()\n",
    "    if x<n//2:\n",
    "        st+=2\n",
    "        sp-=1\n",
    "    else:\n",
    "        st-=2\n",
    "        sp+=1\n",
    "        "
   ]
  },
  {
   "cell_type": "code",
   "execution_count": 35,
   "id": "a4b3b2e3-7fb7-401a-b6f3-1c6493faa9b3",
   "metadata": {},
   "outputs": [
    {
     "name": "stdin",
     "output_type": "stream",
     "text": [
      "enter the value of n: 5\n"
     ]
    },
    {
     "name": "stdout",
     "output_type": "stream",
     "text": [
      "1 \n",
      "1 2 \n",
      "1 2 3 \n",
      "1 2 3 4 \n",
      "1 2 3 4 5 \n"
     ]
    }
   ],
   "source": [
    "n=int(input('enter the value of n:'))\n",
    "st=1\n",
    "for x in range(n):\n",
    "    num=1\n",
    "    for y in range(st):\n",
    "        print(num,end=' ')\n",
    "        num+=1\n",
    "    print()\n",
    "    st+=1"
   ]
  },
  {
   "cell_type": "code",
   "execution_count": 41,
   "id": "0c73ee49-8abb-440f-8aa6-963759851300",
   "metadata": {},
   "outputs": [
    {
     "name": "stdin",
     "output_type": "stream",
     "text": [
      "enter the value of n: 5\n"
     ]
    },
    {
     "name": "stdout",
     "output_type": "stream",
     "text": [
      "5 4 3 2 1 \n",
      "  4 3 2 1 \n",
      "    3 2 1 \n",
      "      2 1 \n",
      "        1 \n"
     ]
    }
   ],
   "source": [
    "n=int(input('enter the value of n:'))\n",
    "st=5\n",
    "sp=0\n",
    "for x in range(n):\n",
    "    num=st\n",
    "    for z in range(sp):\n",
    "        print(' ',end=' ')\n",
    "    for y in range(st):\n",
    "        print(num,end=' ')\n",
    "        num-=1\n",
    "    print()\n",
    "    st-=1\n",
    "    sp+=1"
   ]
  },
  {
   "cell_type": "code",
   "execution_count": 42,
   "id": "6530a365-83e4-482a-b7d7-53e644bc5bf6",
   "metadata": {},
   "outputs": [
    {
     "name": "stdin",
     "output_type": "stream",
     "text": [
      "enter the value of n: 5\n"
     ]
    },
    {
     "name": "stdout",
     "output_type": "stream",
     "text": [
      "    5 \n",
      "  5 4 3 \n",
      "5 4 3 2 1 \n",
      "  5 4 3 \n",
      "    5 \n"
     ]
    }
   ],
   "source": [
    "n=int(input('enter the value of n:'))\n",
    "st=1\n",
    "sp=n//2\n",
    "for x in range(n):\n",
    "    num=5\n",
    "    for z in range(sp):\n",
    "        print(' ',end=' ')\n",
    "    for y in range(st):\n",
    "        print(num,end=' ')\n",
    "        num-=1\n",
    "    print()\n",
    "    if x<n//2:\n",
    "        st+=2\n",
    "        sp-=1\n",
    "    else:\n",
    "        st-=2\n",
    "        sp+=1\n",
    "        "
   ]
  },
  {
   "cell_type": "code",
   "execution_count": 35,
   "id": "dd2d2e49-eac2-479f-9b41-736317a284ad",
   "metadata": {},
   "outputs": [
    {
     "name": "stdin",
     "output_type": "stream",
     "text": [
      "enter the value of n: 7\n"
     ]
    },
    {
     "name": "stdout",
     "output_type": "stream",
     "text": [
      "      1 \n",
      "    2 4 2 \n",
      "  1 2 3 2 1 \n",
      "2 4 6 8 6 4 2 \n",
      "  1 2 3 2 1 \n",
      "    2 4 2 \n",
      "      1 \n"
     ]
    }
   ],
   "source": [
    "n=int(input('enter the value of n:'))\n",
    "st=1\n",
    "sp=n//2\n",
    "for x in range(n):\n",
    "    if x%2==0:\n",
    "        num=1\n",
    "    else:\n",
    "        num=2\n",
    "    for z in range(sp):\n",
    "        print(' ',end=' ')\n",
    "    for y in range(st):\n",
    "        print(num,end=' ')\n",
    "        if x%2==0:\n",
    "            num=num+1 if y<st//2 else num-1\n",
    "        else:\n",
    "            num=num+2 if y<st//2 else num-2\n",
    "    print()\n",
    "    if x<n//2:\n",
    "        st+=2\n",
    "        sp-=1\n",
    "    else:\n",
    "        st-=2\n",
    "        sp+=1\n",
    "        "
   ]
  },
  {
   "cell_type": "code",
   "execution_count": 11,
   "id": "3954f978-36b5-4d93-9d88-66e3e208b9ab",
   "metadata": {},
   "outputs": [
    {
     "data": {
      "text/plain": [
       "1"
      ]
     },
     "execution_count": 11,
     "metadata": {},
     "output_type": "execute_result"
    }
   ],
   "source": [
    "3%2"
   ]
  },
  {
   "cell_type": "code",
   "execution_count": 39,
   "id": "92246faa-d980-4a31-9303-74c030190264",
   "metadata": {},
   "outputs": [
    {
     "name": "stdin",
     "output_type": "stream",
     "text": [
      "enter the value of n: 100\n"
     ]
    },
    {
     "name": "stdout",
     "output_type": "stream",
     "text": [
      "1\n",
      "2\n",
      "4\n",
      "5\n",
      "10\n",
      "20\n",
      "25\n",
      "50\n",
      "100\n"
     ]
    }
   ],
   "source": [
    "n=int(input('enter the value of n:'))\n",
    "for x in range(1,n+1):\n",
    "    if n%x==0:\n",
    "        print(x)"
   ]
  },
  {
   "cell_type": "code",
   "execution_count": 46,
   "id": "396a0b01-29c8-453b-9135-1e57372f0bdc",
   "metadata": {},
   "outputs": [
    {
     "name": "stdin",
     "output_type": "stream",
     "text": [
      "enter the value of n: 4\n"
     ]
    },
    {
     "name": "stdout",
     "output_type": "stream",
     "text": [
      "4 is not prime\n"
     ]
    }
   ],
   "source": [
    "n=int(input('enter the value of n:'))\n",
    "if n>1:\n",
    "    for x in range(2,n//2+1):\n",
    "        if n%x==0:\n",
    "            print(f'{n} is not prime')\n",
    "            break\n",
    "    else:\n",
    "        print(f'{n} is a prime')\n",
    "else:\n",
    "    print(f'{n} is not prime')\n",
    "        "
   ]
  },
  {
   "cell_type": "markdown",
   "id": "01d39526-3785-4868-b1a4-8c76bb4e2b50",
   "metadata": {},
   "source": [
    "#  prime number "
   ]
  },
  {
   "cell_type": "code",
   "execution_count": 5,
   "id": "d2aa9433-74a8-400e-a948-5ced776a5f45",
   "metadata": {},
   "outputs": [
    {
     "name": "stdout",
     "output_type": "stream",
     "text": [
      "given number is not prime number\n"
     ]
    }
   ],
   "source": [
    "n=123\n",
    "if n>1:\n",
    "    for x in range(2,n//2+1):\n",
    "        if n%x==0:\n",
    "            print('given number is not prime number')\n",
    "            break\n",
    "    else:\n",
    "        print('given number is prime')\n",
    "else:\n",
    "    print('given number is not prime')"
   ]
  },
  {
   "cell_type": "code",
   "execution_count": 4,
   "id": "35e05f38-7a47-420a-8335-d48e342830da",
   "metadata": {},
   "outputs": [
    {
     "name": "stdout",
     "output_type": "stream",
     "text": [
      "1\n",
      "3\n",
      "41\n",
      "123\n"
     ]
    }
   ],
   "source": [
    "n=123\n",
    "for x in range(1,n+1):\n",
    "    if n%x==0:\n",
    "        print(x)"
   ]
  },
  {
   "cell_type": "code",
   "execution_count": 14,
   "id": "b3fc4b11-8040-4d4e-b8c9-6ea56241fcf5",
   "metadata": {},
   "outputs": [
    {
     "name": "stdout",
     "output_type": "stream",
     "text": [
      "24\n"
     ]
    }
   ],
   "source": [
    "n=4\n",
    "fact=1\n",
    "for x in range(1,n+1):\n",
    "    fact=fact*x\n",
    "print(fact)\n",
    "    "
   ]
  },
  {
   "cell_type": "code",
   "execution_count": null,
   "id": "8788182e-2d53-4828-92bf-1111e8f8659e",
   "metadata": {},
   "outputs": [],
   "source": []
  }
 ],
 "metadata": {
  "kernelspec": {
   "display_name": "Python 3 (ipykernel)",
   "language": "python",
   "name": "python3"
  },
  "language_info": {
   "codemirror_mode": {
    "name": "ipython",
    "version": 3
   },
   "file_extension": ".py",
   "mimetype": "text/x-python",
   "name": "python",
   "nbconvert_exporter": "python",
   "pygments_lexer": "ipython3",
   "version": "3.9.13"
  }
 },
 "nbformat": 4,
 "nbformat_minor": 5
}
