{
 "cells": [
  {
   "cell_type": "code",
   "execution_count": null,
   "id": "8bd5660e-6b80-460f-884e-85432b553945",
   "metadata": {},
   "outputs": [],
   "source": [
    "# wap to print prime using functions\n",
    "\n",
    "def prime(a):\n",
    "    if a<=1:\n",
    "        for x in range"
   ]
  }
 ],
 "metadata": {
  "kernelspec": {
   "display_name": "Python 3 (ipykernel)",
   "language": "python",
   "name": "python3"
  },
  "language_info": {
   "codemirror_mode": {
    "name": "ipython",
    "version": 3
   },
   "file_extension": ".py",
   "mimetype": "text/x-python",
   "name": "python",
   "nbconvert_exporter": "python",
   "pygments_lexer": "ipython3",
   "version": "3.9.13"
  }
 },
 "nbformat": 4,
 "nbformat_minor": 5
}
