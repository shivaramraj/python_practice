{
 "cells": [
  {
   "cell_type": "markdown",
   "id": "4c3d937a-496d-4692-82e1-c12c2b1f2b38",
   "metadata": {},
   "source": [
    "### reversing the string with out slicing "
   ]
  },
  {
   "cell_type": "code",
   "execution_count": 16,
   "id": "c8765c3f-3409-4efe-a554-88ffc281ac1a",
   "metadata": {},
   "outputs": [
    {
     "name": "stdout",
     "output_type": "stream",
     "text": [
      "jarmaravihs\n",
      "jarmaravihs\n",
      "11\n"
     ]
    }
   ],
   "source": [
    "s='shivaramraj'\n",
    "# with slicing\n",
    "print(s[::-1])\n",
    "#with out using slicing\n",
    "r=''\n",
    "for v in range(-1,-(len(s)+1),-1):\n",
    "    r+=s[v]\n",
    "print(r)\n",
    "print(len(s)) "
   ]
  },
  {
   "cell_type": "code",
   "execution_count": null,
   "id": "63a049ae-8285-4809-b592-aa33b6a88af3",
   "metadata": {},
   "outputs": [],
   "source": []
  },
  {
   "cell_type": "markdown",
   "id": "0cf4953f-304f-4cb9-ba21-bdb1d07cdd82",
   "metadata": {},
   "source": [
    "### wap to  check given string is pallindrome or not"
   ]
  },
  {
   "cell_type": "code",
   "execution_count": 24,
   "id": "3d45525f-3ea2-4da4-8912-6a301495a439",
   "metadata": {},
   "outputs": [
    {
     "name": "stdout",
     "output_type": "stream",
     "text": [
      "jarmaravihs\n",
      "not pallindrome\n"
     ]
    }
   ],
   "source": [
    "s='shivaramraj'\n",
    "r=''\n",
    "for c in range(-1,-(len(s)+1),-1):\n",
    "    r+=s[c]\n",
    "print(r)\n",
    "if r==s:\n",
    "    print('pallindrome')\n",
    "else:\n",
    "    print('not pallindrome')"
   ]
  },
  {
   "cell_type": "markdown",
   "id": "d44d991f-7895-4490-930d-47c7ef64bd67",
   "metadata": {},
   "source": [
    "### wap to print vowals in given string "
   ]
  },
  {
   "cell_type": "code",
   "execution_count": 26,
   "id": "4dc0f115-0e51-46c8-91c2-27bc73385b22",
   "metadata": {},
   "outputs": [
    {
     "name": "stdout",
     "output_type": "stream",
     "text": [
      "iaaaioo\n"
     ]
    }
   ],
   "source": [
    "s='shivaramraj is groot'\n",
    "r='AEIOUaeiou'\n",
    "g=''\n",
    "for c in s:\n",
    "    if c in r:\n",
    "        g+=c\n",
    "print(g)"
   ]
  },
  {
   "cell_type": "code",
   "execution_count": 29,
   "id": "818d2509-c251-4ee5-a75a-79958f0f628e",
   "metadata": {},
   "outputs": [
    {
     "name": "stdout",
     "output_type": "stream",
     "text": [
      "iaaaioo\n"
     ]
    }
   ],
   "source": [
    "s='shivaramraj is groot'\n",
    "r='AEIOUaeiou'\n",
    "g=''\n",
    "for z in range(0,len(s)):\n",
    "    if s[z] in r:\n",
    "        g+=s[z]\n",
    "print(g)"
   ]
  },
  {
   "cell_type": "markdown",
   "id": "96618674-aa21-4649-8654-b348af4110cf",
   "metadata": {},
   "source": [
    "### wap to count a vowals in given string"
   ]
  },
  {
   "cell_type": "code",
   "execution_count": 28,
   "id": "d47c76aa-c4c1-472f-bc60-767db8caa29e",
   "metadata": {},
   "outputs": [
    {
     "name": "stdout",
     "output_type": "stream",
     "text": [
      "7\n"
     ]
    }
   ],
   "source": [
    "s='shivaramraj is groot'\n",
    "r='AEIOUaeiou'\n",
    "m=0\n",
    "for c in s:\n",
    "    if c in r:\n",
    "        m+=1\n",
    "print(m)"
   ]
  },
  {
   "cell_type": "markdown",
   "id": "0230388e-3d2d-4eb1-ad4e-5001693c828f",
   "metadata": {},
   "source": [
    "### wap to remove duplicates in given string "
   ]
  },
  {
   "cell_type": "code",
   "execution_count": 30,
   "id": "5e59f033-30cf-4225-9c33-3011a8897d3f",
   "metadata": {},
   "outputs": [
    {
     "name": "stdout",
     "output_type": "stream",
     "text": [
      "shivarmj got\n"
     ]
    }
   ],
   "source": [
    "s='shivaramraj is groot'\n",
    "r=''\n",
    "for z in s:\n",
    "    if z not in r:\n",
    "        r+=z\n",
    "print(r)"
   ]
  },
  {
   "cell_type": "code",
   "execution_count": 33,
   "id": "f74fa9b5-53c0-461f-8ec1-c9f206acc1ce",
   "metadata": {},
   "outputs": [
    {
     "data": {
      "text/plain": [
       "122"
      ]
     },
     "execution_count": 33,
     "metadata": {},
     "output_type": "execute_result"
    }
   ],
   "source": [
    "ord('z')"
   ]
  },
  {
   "cell_type": "markdown",
   "id": "7c98f5f0-0023-4942-901a-3c2537567cf0",
   "metadata": {},
   "source": [
    "### wap to convert lower case to upper case "
   ]
  },
  {
   "cell_type": "code",
   "execution_count": 36,
   "id": "8b30bb10-4da2-4eec-9c4b-a6dfe384dc8f",
   "metadata": {},
   "outputs": [
    {
     "name": "stdout",
     "output_type": "stream",
     "text": [
      "SHIVARAMRAJ\n"
     ]
    }
   ],
   "source": [
    "s='SHIVAramrAJ'\n",
    "r=''\n",
    "for x in s:\n",
    "    if 'a'<=x<='z':\n",
    "        r+=chr(ord(x)-32)\n",
    "    else:\n",
    "        r+=x\n",
    "print(r)"
   ]
  },
  {
   "cell_type": "markdown",
   "id": "a86534cc-7dd1-493c-affc-d6758a322df6",
   "metadata": {},
   "source": [
    "### wap to convert upper to lower "
   ]
  },
  {
   "cell_type": "code",
   "execution_count": 37,
   "id": "979cbb86-84d2-406d-bd52-3553b02bbb6f",
   "metadata": {},
   "outputs": [
    {
     "name": "stdout",
     "output_type": "stream",
     "text": [
      "shivaramraj\n"
     ]
    }
   ],
   "source": [
    "s='SHIVAramrAJ'\n",
    "r=''\n",
    "for x in s:\n",
    "    if 'A'<=x<='Z':\n",
    "        r+=chr(ord(x)+32)\n",
    "    else:\n",
    "        r+=x\n",
    "print(r)"
   ]
  },
  {
   "cell_type": "markdown",
   "id": "b7cb450f-f917-499f-aeb1-b9f0cad2eef7",
   "metadata": {},
   "source": [
    "### wap to convert all upper to lower and lower to upper "
   ]
  },
  {
   "cell_type": "code",
   "execution_count": 38,
   "id": "b57b0adb-1d0c-48be-b2fa-becd1d1844cc",
   "metadata": {},
   "outputs": [
    {
     "name": "stdout",
     "output_type": "stream",
     "text": [
      "shivaRAMRaj\n"
     ]
    }
   ],
   "source": [
    "s='SHIVAramrAJ'\n",
    "r=''\n",
    "for x in s:\n",
    "    if 'A'<=x<='Z':\n",
    "        r+=chr(ord(x)+32)\n",
    "    elif 'a'<=x<='z':\n",
    "        r+=chr(ord(x)-32)\n",
    "    else:\n",
    "        r+=x\n",
    "print(r)"
   ]
  },
  {
   "cell_type": "markdown",
   "id": "33b1792c-23ef-4475-923a-eeb5d55b63d3",
   "metadata": {},
   "source": [
    "### wap to print sub pallindromes in a given string"
   ]
  },
  {
   "cell_type": "code",
   "execution_count": 53,
   "id": "527e113b-90e0-4729-b780-2699aadc107c",
   "metadata": {},
   "outputs": [
    {
     "name": "stdout",
     "output_type": "stream",
     "text": [
      "malayalam\n",
      "ala\n",
      "alayala\n",
      "layal\n",
      "aya\n",
      "ala\n"
     ]
    }
   ],
   "source": [
    "s='malayalam'\n",
    "for x in range(0,len(s)):\n",
    "    for y in range(x+1,(len(s)+1)):\n",
    "        n=s[x:y]\n",
    "        if n==n[::-1] and len(n)>1:\n",
    "            print(n)\n",
    "            \n",
    "        "
   ]
  },
  {
   "cell_type": "markdown",
   "id": "d1a41e1e-062f-4445-a763-9dd39bda5d4f",
   "metadata": {},
   "source": [
    "### wap to count each charachter in given string "
   ]
  },
  {
   "cell_type": "code",
   "execution_count": 1,
   "id": "25a60c63-6bac-45e1-af10-142145aa9a7d",
   "metadata": {},
   "outputs": [
    {
     "name": "stdout",
     "output_type": "stream",
     "text": [
      "e=3\n",
      "n=3\n",
      "g=2\n",
      "i=2\n",
      "r=1\n"
     ]
    }
   ],
   "source": [
    "s='engineering'\n",
    "r=''\n",
    "for v in range(0,len(s)):\n",
    "    if s[v] not in r:\n",
    "        r=r+s[v]\n",
    "        print(f'{s[v]}={s.count(s[v])}')"
   ]
  },
  {
   "cell_type": "code",
   "execution_count": 29,
   "id": "11fddc21-5ffc-49bf-960d-68f76b5e7e76",
   "metadata": {},
   "outputs": [
    {
     "name": "stdout",
     "output_type": "stream",
     "text": [
      "e=3\n",
      "n=3\n",
      "g=2\n",
      "i=2\n",
      "r=1\n"
     ]
    },
    {
     "data": {
      "text/plain": [
       "3"
      ]
     },
     "execution_count": 29,
     "metadata": {},
     "output_type": "execute_result"
    }
   ],
   "source": [
    "s='engineering'\n",
    "r=''\n",
    "for v in s:\n",
    "    if v not in r:\n",
    "        r=r+v\n",
    "        print(f'{v}={s.count(v)}')\n",
    "s.count('e')"
   ]
  },
  {
   "cell_type": "code",
   "execution_count": 31,
   "id": "0049244f-8ef4-4e77-8e3b-66b08bc140db",
   "metadata": {},
   "outputs": [
    {
     "name": "stdout",
     "output_type": "stream",
     "text": [
      "e=3\n",
      "n=3\n",
      "g=2\n",
      "i=2\n",
      "r=1\n"
     ]
    }
   ],
   "source": [
    "s='engineering'\n",
    "d={}\n",
    "for v in s:\n",
    "    if v not in d:\n",
    "        d[v]=1\n",
    "    else:\n",
    "        d[v]+=1\n",
    "for k,v in d.items():\n",
    "    print(f'{k}={v}')"
   ]
  },
  {
   "cell_type": "markdown",
   "id": "58d23b08-01c0-4bb0-acb0-58c31a1e106d",
   "metadata": {},
   "source": [
    "### wap to split given string\n"
   ]
  },
  {
   "cell_type": "code",
   "execution_count": 54,
   "id": "560212f0-a814-49cb-bb8d-6e5181287150",
   "metadata": {},
   "outputs": [
    {
     "name": "stdout",
     "output_type": "stream",
     "text": [
      "['shiva', 'ram', 'raj', 'is', 'a', 'bad', 'boy']\n"
     ]
    }
   ],
   "source": [
    "s='shiva ram raj is a bad boy '\n",
    "l=[]\n",
    "r=''\n",
    "for z in s:\n",
    "    if z!=' ':\n",
    "        r+=z\n",
    "    else:\n",
    "        l.append(r)\n",
    "        r=''\n",
    "l.append(r)\n",
    "print(l)\n",
    "        "
   ]
  },
  {
   "cell_type": "code",
   "execution_count": 50,
   "id": "c6b33ce1-0f3f-428c-83e7-a4be68236488",
   "metadata": {},
   "outputs": [
    {
     "name": "stdout",
     "output_type": "stream",
     "text": [
      "['shiva', 'ram', 'raj']\n"
     ]
    }
   ],
   "source": [
    "s='shiva ram raj'\n",
    "l=[]\n",
    "f=''\n",
    "for v in range(0,len(s)):\n",
    "    if s[v]!=' ':\n",
    "        f+=s[v]\n",
    "    else:\n",
    "        l.append(f)\n",
    "        f=''\n",
    "l.append(f)\n",
    "print(l)"
   ]
  },
  {
   "cell_type": "code",
   "execution_count": null,
   "id": "985f6535-38d9-40a3-a23b-7a26d348181a",
   "metadata": {},
   "outputs": [],
   "source": []
  },
  {
   "cell_type": "code",
   "execution_count": null,
   "id": "8b3887d5-f5ba-4ae3-8526-277f77f565a8",
   "metadata": {},
   "outputs": [],
   "source": []
  }
 ],
 "metadata": {
  "kernelspec": {
   "display_name": "base",
   "language": "python",
   "name": "python3"
  },
  "language_info": {
   "codemirror_mode": {
    "name": "ipython",
    "version": 3
   },
   "file_extension": ".py",
   "mimetype": "text/x-python",
   "name": "python",
   "nbconvert_exporter": "python",
   "pygments_lexer": "ipython3",
   "version": "3.9.13 (main, Aug 25 2022, 23:51:50) [MSC v.1916 64 bit (AMD64)]"
  },
  "vscode": {
   "interpreter": {
    "hash": "3844a49c18a74871cca5193e45c5e4b46b25b0886fff53449ea495a2f93c944d"
   }
  }
 },
 "nbformat": 4,
 "nbformat_minor": 5
}
