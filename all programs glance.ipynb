{
 "cells": [
  {
   "cell_type": "code",
   "execution_count": null,
   "id": "0c1ac6a1-f625-4e95-88b3-91402b25f1eb",
   "metadata": {},
   "outputs": [],
   "source": [
    "#3reversing a string without using slicing\n",
    "s='shivaramraj'\n",
    "# with slicing\n",
    "print(s[::-1])\n",
    "#with out using slicing\n",
    "r=''\n",
    "for v in range(-1,-(len(s)+1),-1):\n",
    "    r+=s[v]\n",
    "print(r)\n",
    "print(len(s)) \n"
   ]
  },
  {
   "cell_type": "code",
   "execution_count": null,
   "id": "f59e2a57-494e-41f9-865e-d6e3fd5f35e9",
   "metadata": {},
   "outputs": [],
   "source": [
    "#wap to check vowels in string\n",
    "s='shivaramraj is groot'\n",
    "r='AEIOUaeiou'\n",
    "g=''\n",
    "for c in s:\n",
    "    if c in r:\n",
    "        g+=c\n",
    "print(g)"
   ]
  },
  {
   "cell_type": "code",
   "execution_count": null,
   "id": "49588296-7de0-4290-9345-b4234b3e27e3",
   "metadata": {},
   "outputs": [],
   "source": [
    "#wap to count a vowels\n",
    "s='shivaramraj'\n",
    "vow='aeiouAEIOU'\n",
    "d={}\n",
    "for x in s:\n",
    "    if x not in d:\n",
    "        d[x]=1\n",
    "    else:\n",
    "        d[x]+=1\n",
    "print(d)"
   ]
  },
  {
   "cell_type": "code",
   "execution_count": null,
   "id": "37c724b3-3b6a-42ae-a6a8-4c1e7884d1af",
   "metadata": {},
   "outputs": [],
   "source": [
    "#remove duplicates in string\n",
    "s='shivaramraj'\n",
    "res=''\n",
    "for x in s:\n",
    "    if x not in res:\n",
    "        res+=x\n",
    "print(res)\n",
    "        "
   ]
  },
  {
   "cell_type": "code",
   "execution_count": null,
   "id": "6b72e829-7f74-4dea-ab83-1834aff7b3b4",
   "metadata": {},
   "outputs": [],
   "source": [
    "ord('a')"
   ]
  },
  {
   "cell_type": "code",
   "execution_count": null,
   "id": "61990373-2c84-4338-acf2-db3ad17574b2",
   "metadata": {},
   "outputs": [],
   "source": [
    "# wap to convert uppercase to lower case\n",
    "s='SHIVramraj'\n",
    "r=''\n",
    "for z in s:\n",
    "    if 'A' <=z<= 'Z':\n",
    "        r+=chr(ord(z)+32)\n",
    "    else:\n",
    "        r+=z\n",
    "print(r)"
   ]
  },
  {
   "cell_type": "code",
   "execution_count": null,
   "id": "1be63e45-5c0f-47db-bf5c-4f14ba2b7a1e",
   "metadata": {},
   "outputs": [],
   "source": [
    "# wap to convert all upper to lower lower to upper\n",
    "s='shivara28376@#mraj'\n",
    "r=''\n",
    "for j in s:\n",
    "    if 'a'<=j<='z':\n",
    "        r+=chr(ord(j)-32)\n",
    "    elif 'A'<=j<='Z':\n",
    "        r+=chr(ord(j)+32)\n",
    "    else:\n",
    "        r+=j\n",
    "print(r)"
   ]
  },
  {
   "cell_type": "code",
   "execution_count": null,
   "id": "aef36f6a-dbb0-420c-a54e-5f336f477990",
   "metadata": {},
   "outputs": [],
   "source": [
    "#wap to print subpallindromes in given string:\n",
    "q='malayalam'\n",
    "for x in range(len(q)):\n",
    "    for y in range(x+1,len(q)+1):\n",
    "        s=q[x:y]\n",
    "        if s==s[::-1] and len(s)>1:\n",
    "            print(s)"
   ]
  },
  {
   "cell_type": "code",
   "execution_count": null,
   "id": "5f824227-cf59-4b4a-8c63-e8afbdd2b06a",
   "metadata": {},
   "outputs": [],
   "source": [
    "#wap to count each charechter in a given string\n",
    "s='malayalam'\n",
    "r=''\n",
    "for x in s:\n",
    "    if x not in r:\n",
    "        r+=x\n",
    "        for a in r:\n",
    "            pass\n",
    "        print(f'{a}={s.count(x)}')\n",
    "# s='engineering'\n",
    "# r=''\n",
    "# c=0\n",
    "# for v in range(0,len(s)):\n",
    "#     if s[v] not in r:\n",
    "#         r=r+s[v]\n",
    "#         print(f'{s[v]}={s.count(s[v])}')\n",
    "# s='engineering'"
   ]
  },
  {
   "cell_type": "code",
   "execution_count": null,
   "id": "5e6f4bee-9e5b-46fc-84a2-fc3225266de0",
   "metadata": {},
   "outputs": [],
   "source": [
    "d={'a':'b','c':'b','d':'m'}\n",
    "d1={}\n",
    "for k,v in d.items():\n",
    "    if v in d1:\n",
    "        d1[v]+=k\n",
    "    else:\n",
    "        d1[v]=k\n",
    "print(d1)"
   ]
  },
  {
   "cell_type": "code",
   "execution_count": null,
   "id": "a418de61-6830-4c4b-a400-83bad84716a7",
   "metadata": {},
   "outputs": [],
   "source": []
  },
  {
   "cell_type": "code",
   "execution_count": null,
   "id": "4770ed0a-15e5-432d-ae1e-53f0c22bf283",
   "metadata": {},
   "outputs": [],
   "source": [
    "n=10\n",
    "f,s=0,1\n",
    "for x in range(0,n-2):\n",
    "    print(f,end=' ')\n",
    "    t=f+s\n",
    "    f,s=s,t\n",
    "# def fib(n):\n",
    "#     if n==1 or n==2:\n",
    "#         return n-1\n",
    "#     return fib(n-1)+fib(n-2)\n",
    "# print(fib(10))"
   ]
  },
  {
   "cell_type": "code",
   "execution_count": null,
   "id": "a55cc213-73c7-4aa3-a8e3-77bf002528bd",
   "metadata": {},
   "outputs": [],
   "source": [
    "l=['a',2,'b',3,'c',4,'d',10]\n",
    "for x in range(0,len(l),2):\n",
    "    print(l[x]*l[x+1])"
   ]
  },
  {
   "cell_type": "code",
   "execution_count": null,
   "id": "287ddd09-7d15-4cb2-9aa3-6ed1c3e1074d",
   "metadata": {},
   "outputs": [],
   "source": [
    "s={10,20,30,10}\n",
    "for x in range(0,len(s)):\n",
    "    print(s[x]"
   ]
  },
  {
   "cell_type": "code",
   "execution_count": null,
   "id": "b53cd8b4-8e66-4786-9b40-8588d81c858a",
   "metadata": {},
   "outputs": [],
   "source": [
    "l=[10,20,10,30,40,10]\n",
    "for x in l:\n",
    "    if l.count(x)>=1:\n",
    "        l.remove(x)\n",
    "print(l)"
   ]
  },
  {
   "cell_type": "code",
   "execution_count": null,
   "id": "78953eec-3e97-4557-a6c4-873184a7885b",
   "metadata": {},
   "outputs": [],
   "source": [
    "l=[[1,2,3],[4,5,6],[7,8,9]]\n",
    "d=0\n",
    "ad=0\n",
    "for x in range(len(l)):\n",
    "    d+=l[x][0]\n",
    "    #ad+=l[x][x]\n",
    "print(d)\n",
    "#print(ad)"
   ]
  },
  {
   "cell_type": "code",
   "execution_count": null,
   "id": "64ecccf2-01e1-4642-b27a-19a53211ce93",
   "metadata": {},
   "outputs": [],
   "source": [
    "l=[[1,2,3],[3,6,3],[7,8,9]]\n",
    "t=0\n",
    "for x in range(0,len(l)):\n",
    "    for y in range(0,len(l)):\n",
    "        t+=l[x][y]\n",
    "print(t)\n",
    "        \n",
    "        \n",
    "#         print(l[x][y],end=' ')\n",
    "#     print()\n",
    "                   \n"
   ]
  },
  {
   "cell_type": "code",
   "execution_count": null,
   "id": "5d4ceae7-983a-4ebb-9f4d-e3d495c6779f",
   "metadata": {},
   "outputs": [],
   "source": [
    "l=[[1,2,3],[3,6,3],[7,8,9]]\n",
    "t=0\n",
    "for i in range(len(l)):\n",
    "    for j in range(len(l)):\n",
    "        if i==len(l)-2:\n",
    "            print(l[i][j],end=' ')"
   ]
  },
  {
   "cell_type": "code",
   "execution_count": null,
   "id": "17688cb2-05c7-4f21-870c-cbd0864d8649",
   "metadata": {},
   "outputs": [],
   "source": [
    "l=[[1,2,3],[4,5,6],[7,8,9]]\n",
    "for i in range(len(l)):\n",
    "    for j in range(len(l)):\n",
    "        print(l[j][len(l)-1-i],end=' ')\n",
    "    print()"
   ]
  },
  {
   "cell_type": "code",
   "execution_count": null,
   "id": "200f97d6-a749-4aaf-b58f-127439a47c84",
   "metadata": {},
   "outputs": [],
   "source": [
    "l=[[1,2,3],[3,6,3],[7,8,9]]\n",
    "for x in range(len(l)):\n",
    "    print(l[x][0],end=' ')\n",
    "print()"
   ]
  },
  {
   "cell_type": "code",
   "execution_count": null,
   "id": "75127c4c-6659-4a1b-ba72-96bec3467e24",
   "metadata": {},
   "outputs": [],
   "source": [
    "n=3\n",
    "l=[[1,2,3],[3,6,3],[7,8,9]]\n",
    "for i in range(n):\n",
    "    print(l[2][i],end=' ')"
   ]
  },
  {
   "cell_type": "code",
   "execution_count": null,
   "id": "f871698f-1e2a-4a51-8b9b-aa691b5e8013",
   "metadata": {},
   "outputs": [],
   "source": [
    "l=[[1,2,3],[3,6,3],[7,8,9]]\n",
    "for x in range(0,len(l)):\n",
    "    print(l[x][len(l)-1],end=' ')\n",
    "    #print(l[x][len(l)-x-1])"
   ]
  },
  {
   "cell_type": "code",
   "execution_count": null,
   "id": "439122ad-463c-4b6f-ae58-29ef242de7b5",
   "metadata": {},
   "outputs": [],
   "source": [
    "def prime(n):\n",
    "    if n<=1:\n",
    "        return False\n",
    "    for x in range(2,n//2+1):\n",
    "        if n%x==0:\n",
    "            return False\n",
    "    return True\n",
    "n=int(input('enter the number:'))\n",
    "prime(n)\n",
    "# for x in range(0,20):\n",
    "#     if prime(x):\n",
    "#         print(x)\n"
   ]
  },
  {
   "cell_type": "code",
   "execution_count": null,
   "id": "2a42dcde-3d74-4c98-b829-2f7fcf546784",
   "metadata": {},
   "outputs": [],
   "source": [
    "#wap to check given number is niven or not:\n",
    "def niven(n):\n",
    "    if n==0:\n",
    "        return 0\n",
    "    return n%10+niven(n//10)\n",
    "m=int(input('enter the number:'))\n",
    "if m%niven(m)==0:\n",
    "    print('niven')\n",
    "else:\n",
    "    print('not niven')"
   ]
  },
  {
   "cell_type": "code",
   "execution_count": null,
   "id": "4f427987-c493-4c71-b70a-9adc82058067",
   "metadata": {},
   "outputs": [],
   "source": [
    "#wap to check given number is amstrong or not:\n",
    "def ams(n,p):\n",
    "    if n==0:\n",
    "        return 0\n",
    "    return (n%10)**p+ams(n//10,p)\n",
    "n=int(input('enter the number'))\n",
    "p=len(str(n))\n",
    "if n==ams(n,p):\n",
    "    print('amstrong')\n",
    "else:\n",
    "    print('not amstrong')"
   ]
  },
  {
   "cell_type": "code",
   "execution_count": null,
   "id": "993c92a5-403f-4b56-a059-841770f73fcc",
   "metadata": {},
   "outputs": [],
   "source": [
    "def ams(n,p):\n",
    "    if n==0:\n",
    "        return 0\n",
    "    return (n%10)**p+ams(n//10,p-1)\n",
    "n=int(input('enter the number'))\n",
    "p=len(str(n))\n",
    "if n==ams(n,p):\n",
    "    print('disarum')\n",
    "else:\n",
    "    print('not disarum')"
   ]
  },
  {
   "cell_type": "code",
   "execution_count": null,
   "id": "730f5526-4042-4eff-a07c-a0df2f45720c",
   "metadata": {},
   "outputs": [],
   "source": [
    "#wap to check given number is strong or not\n",
    "n=6\n",
    "r=0\n",
    "for x in range(1,n):\n",
    "    if n%x==0:\n",
    "        r+=x\n",
    "if r==n:\n",
    "    print('strong')\n",
    "else:\n",
    "    print('not strong')"
   ]
  },
  {
   "cell_type": "code",
   "execution_count": null,
   "id": "648437b3-f8bf-4668-98f1-9fafce004d1e",
   "metadata": {},
   "outputs": [],
   "source": [
    "n=5\n",
    "p=n*n\n",
    "r=len(str(n))\n",
    "s=n%10**r\n",
    "print(s)\n"
   ]
  },
  {
   "cell_type": "code",
   "execution_count": null,
   "id": "52668ea5-1c3a-4079-956a-973d95d58aa8",
   "metadata": {},
   "outputs": [],
   "source": [
    "def prime(n,i):\n",
    "    if i==n//2+1:\n",
    "        return True\n",
    "    if n%i==0:\n",
    "        return False\n",
    "    return prime(n,i+1)\n",
    "prime(int(input('enter the number:')),2)"
   ]
  },
  {
   "cell_type": "code",
   "execution_count": null,
   "id": "9127575a-e168-40a9-b5c3-d832e06cfb95",
   "metadata": {},
   "outputs": [],
   "source": [
    "l=[2,3,4,5]\n",
    "r=[]\n",
    "for x in range(0,len(l)):\n",
    "    if l[x]%2==0:\n",
    "        r.append(l[x])\n",
    "print(r)\n",
    "    "
   ]
  },
  {
   "cell_type": "code",
   "execution_count": null,
   "id": "81a27855-6807-4567-9097-24338bf16934",
   "metadata": {},
   "outputs": [],
   "source": [
    "l=[10,20,30,40]\n",
    "for x in range(0,len(l)-1):\n",
    "    for y in range(0,len(l)-1-x):\n",
    "        if l[y]<l[y+1]:\n",
    "            l[y],l[y+1]=l[y+1],l[y]\n",
    "print(l)"
   ]
  },
  {
   "cell_type": "code",
   "execution_count": null,
   "id": "6ac92947-ea91-450a-a763-4d8849f87987",
   "metadata": {},
   "outputs": [],
   "source": [
    "def rev(n,p):\n",
    "    if n==0:\n",
    "        return 0\n",
    "    return(n%10)*p+rev(n//10,p//10)\n",
    "n=int(input('enter the number'))\n",
    "p=len(str(n))-1\n",
    "r=10**p\n",
    "rev(n,r)"
   ]
  },
  {
   "cell_type": "code",
   "execution_count": null,
   "id": "377cf005-d9de-4fa8-9d0d-9610136e6836",
   "metadata": {},
   "outputs": [],
   "source": [
    "l=[[1,2,3],[4,5,6],[7,8,9]]\n",
    "for x in range(len(l)):\n",
    "    for y in range(len(l)):\n",
    "        print(l[len(l)-1-y][len(l)-1-x],end=' ')\n",
    "    print()"
   ]
  },
  {
   "cell_type": "code",
   "execution_count": null,
   "id": "1d99b63c-1c3a-4085-9f96-19c8a82060fc",
   "metadata": {},
   "outputs": [],
   "source": []
  }
 ],
 "metadata": {
  "kernelspec": {
   "display_name": "base",
   "language": "python",
   "name": "python3"
  },
  "language_info": {
   "codemirror_mode": {
    "name": "ipython",
    "version": 3
   },
   "file_extension": ".py",
   "mimetype": "text/x-python",
   "name": "python",
   "nbconvert_exporter": "python",
   "pygments_lexer": "ipython3",
   "version": "3.9.13"
  },
  "vscode": {
   "interpreter": {
    "hash": "3844a49c18a74871cca5193e45c5e4b46b25b0886fff53449ea495a2f93c944d"
   }
  }
 },
 "nbformat": 4,
 "nbformat_minor": 5
}
