{
 "cells": [
  {
   "cell_type": "code",
   "execution_count": 1,
   "id": "45d450bf-7f18-4cb9-ad39-0610a040f772",
   "metadata": {},
   "outputs": [
    {
     "name": "stdout",
     "output_type": "stream",
     "text": [
      "[7, 5, 3, 2]\n"
     ]
    }
   ],
   "source": [
    "def prime(n):\n",
    "    for x in range(2,n//2+1):\n",
    "        if n%x==0:\n",
    "            break\n",
    "    else:\n",
    "        l.append(n)\n",
    "        \n",
    "\n",
    "l=[]\n",
    "n=234156789\n",
    "while n!=0:\n",
    "    rem=n%10\n",
    "    n=n//10\n",
    "    if rem>1:\n",
    "        prime(rem)\n",
    "print(l)"
   ]
  },
  {
   "cell_type": "code",
   "execution_count": 16,
   "id": "e92d3c79-1d24-44d7-a8a7-568a5467b583",
   "metadata": {},
   "outputs": [
    {
     "name": "stdout",
     "output_type": "stream",
     "text": [
      "1100\n"
     ]
    }
   ],
   "source": [
    "n=12\n",
    "res=0\n",
    "x=1\n",
    "while n!=0:\n",
    "    rem=n%2\n",
    "    n//=2\n",
    "    res=res+rem*x\n",
    "    x=x*10\n",
    "print(res)"
   ]
  },
  {
   "cell_type": "code",
   "execution_count": 7,
   "id": "214038e7-bd53-4dc5-acce-1c9f58e209b3",
   "metadata": {},
   "outputs": [
    {
     "name": "stdout",
     "output_type": "stream",
     "text": [
      "12\n"
     ]
    }
   ],
   "source": [
    "n=1100\n",
    "num=n\n",
    "res=0\n",
    "p=0\n",
    "while n!=0:\n",
    "    rem=n%10\n",
    "    n//=10\n",
    "    res=res+rem*2**p\n",
    "    p=p+1\n",
    "print(res)"
   ]
  },
  {
   "cell_type": "code",
   "execution_count": 7,
   "id": "1364f83e-30a9-4458-b95f-c4cfadb783d4",
   "metadata": {},
   "outputs": [
    {
     "name": "stdout",
     "output_type": "stream",
     "text": [
      "153\n"
     ]
    }
   ],
   "source": [
    "def amstrong(a,p):\n",
    "    if a==0:\n",
    "        return 0\n",
    "    return (a%10)**p+amstrong(a//10,p)\n",
    "num=153\n",
    "p=len(str(num))\n",
    "x=amstrong(num,p)\n",
    "print(x)"
   ]
  },
  {
   "cell_type": "code",
   "execution_count": 2,
   "id": "2cd16ad4-6116-4739-9dd3-530675140985",
   "metadata": {},
   "outputs": [
    {
     "name": "stdout",
     "output_type": "stream",
     "text": [
      "135\n"
     ]
    }
   ],
   "source": [
    "def disarum(n,p):\n",
    "    if n==0:\n",
    "        return 0\n",
    "    return (n%10)**p+disarum(n//10,p-1)\n",
    "num=135\n",
    "p=len(str(num))\n",
    "x=disarum(num,p)\n",
    "print(x)"
   ]
  },
  {
   "cell_type": "code",
   "execution_count": 34,
   "id": "a5cf2b68-b59c-4b49-8c8b-1e91e6d4adc8",
   "metadata": {},
   "outputs": [
    {
     "name": "stdout",
     "output_type": "stream",
     "text": [
      "321\n"
     ]
    }
   ],
   "source": [
    "def revnum(n,p):\n",
    "    if n==0:\n",
    "        return 0\n",
    "    return (n%10)*p+revnum(n//10,p//10)\n",
    "num=123\n",
    "k=len(str(num))-1\n",
    "pos=10**k\n",
    "x=revnum(num,pos)\n",
    "print(x)"
   ]
  },
  {
   "cell_type": "code",
   "execution_count": 1,
   "id": "a99a155c-a68f-4152-8d2f-7d8316cf5ac6",
   "metadata": {},
   "outputs": [
    {
     "name": "stdout",
     "output_type": "stream",
     "text": [
      "120\n"
     ]
    }
   ],
   "source": [
    "def factorial(n):\n",
    "    if n==0 or n==1:\n",
    "        return 1\n",
    "    return n*factorial(n-1)\n",
    "x=factorial(5)\n",
    "print(x)"
   ]
  },
  {
   "cell_type": "code",
   "execution_count": null,
   "id": "a129ed0d-a956-457f-a1ed-c96be5dd8284",
   "metadata": {},
   "outputs": [],
   "source": [
    "n=4\n",
    "sp=n-1\n",
    "st=1\n",
    "num=1\n",
    "for x in range(n):\n",
    "    for y in range(sp):\n",
    "        if len(str(sp))>1:\n",
    "            print(' ',end=' ')\n",
    "        else:\n",
    "            print(' '*2,end=' ')\n",
    "    for z in range(st):\n",
    "        print(num*num,end=' ')\n",
    "        num+=1\n",
    "    print()\n",
    "    st+=1\n",
    "    sp-=1"
   ]
  },
  {
   "cell_type": "code",
   "execution_count": 8,
   "id": "adf2d983-193a-4f86-acb4-eba00ee36358",
   "metadata": {},
   "outputs": [
    {
     "name": "stdout",
     "output_type": "stream",
     "text": [
      "enter the year: 1700\n"
     ]
    },
    {
     "name": "stdout",
     "output_type": "stream",
     "text": [
      "not leap year\n"
     ]
    }
   ],
   "source": [
    "n=int(input('enter the year:'))\n",
    "if n%4==0:\n",
    "    if n%100==0:\n",
    "        if n%400==0:\n",
    "            print('leap year')\n",
    "        else:\n",
    "            print('not leap year')\n",
    "    else:\n",
    "        print('leap year')\n",
    "else:\n",
    "    print('not leap yera')"
   ]
  },
  {
   "cell_type": "code",
   "execution_count": 6,
   "id": "982c17e2-9166-45eb-a4f2-e7636434f10a",
   "metadata": {},
   "outputs": [
    {
     "name": "stdout",
     "output_type": "stream",
     "text": [
      "2\n",
      "3\n",
      "5\n",
      "7\n",
      "11\n",
      "13\n",
      "17\n",
      "19\n"
     ]
    }
   ],
   "source": [
    "for x in range(1,21):\n",
    "    if x>1:\n",
    "        for y in range(2,x//2+1):\n",
    "            if x%y==0:\n",
    "                break\n",
    "        else:\n",
    "            print(x)"
   ]
  },
  {
   "cell_type": "code",
   "execution_count": 2,
   "id": "40212212-1fd9-4c82-8c31-1e2e6b112fa2",
   "metadata": {},
   "outputs": [
    {
     "name": "stdout",
     "output_type": "stream",
     "text": [
      "jarmaravihs\n"
     ]
    }
   ],
   "source": [
    "s='shivaramraj'\n",
    "res=''\n",
    "for x in range(-1,-(len(s)+1),-1):\n",
    "    res+=s[x]\n",
    "print(res)"
   ]
  },
  {
   "cell_type": "code",
   "execution_count": 16,
   "id": "7d0f246c-4c61-44bf-9443-b4d3d8f6eb21",
   "metadata": {},
   "outputs": [
    {
     "name": "stdout",
     "output_type": "stream",
     "text": [
      "i a a a "
     ]
    }
   ],
   "source": [
    "s='shivaramraj'\n",
    "ovw='AEiouaeiou'\n",
    "res=''\n",
    "for x in s:\n",
    "    if x in ovw:\n",
    "        res+=x\n",
    "        print(x,end=' ')"
   ]
  },
  {
   "cell_type": "code",
   "execution_count": 9,
   "id": "3f11f7c7-d001-465f-b052-e0200ccef65d",
   "metadata": {},
   "outputs": [
    {
     "name": "stdout",
     "output_type": "stream",
     "text": [
      "shivarmj\n"
     ]
    }
   ],
   "source": [
    "s='shivaramraj'\n",
    "res=''\n",
    "for x in s:\n",
    "    if x not in res:\n",
    "        res+=x\n",
    "print(res)"
   ]
  },
  {
   "cell_type": "code",
   "execution_count": 21,
   "id": "0b3d3e69-c84c-4645-9bfd-b6aae054f602",
   "metadata": {},
   "outputs": [
    {
     "name": "stdout",
     "output_type": "stream",
     "text": [
      "s=1\n",
      "h=1\n",
      "i=1\n",
      "v=1\n",
      "a=3\n",
      "r=2\n",
      "m=1\n",
      "j=1\n"
     ]
    }
   ],
   "source": [
    "s='shivaramraj'\n",
    "res=''\n",
    "for x in s:\n",
    "    if x not in res:\n",
    "        res+=x\n",
    "        print(f'{x}={s.count(x)}')"
   ]
  },
  {
   "cell_type": "code",
   "execution_count": 29,
   "id": "7fdc6abe-008d-4bb1-9f6f-bc1a63b19873",
   "metadata": {},
   "outputs": [
    {
     "name": "stdout",
     "output_type": "stream",
     "text": [
      "a\n"
     ]
    }
   ],
   "source": [
    "s='shivaramraj'\n",
    "d={}\n",
    "for x in s:\n",
    "    if x not in d:\n",
    "        d[x]=1\n",
    "    else:\n",
    "        d[x]+=1\n",
    "vl=list(d.values())\n",
    "h=vl[0]\n",
    "for r in range(1,len(vl)):\n",
    "    if h<vl[r]:\n",
    "        h=vl[r]\n",
    "for k,v in d.items():\n",
    "    if v==h:\n",
    "        print(k)"
   ]
  },
  {
   "cell_type": "code",
   "execution_count": 33,
   "id": "bf552d28-0635-435e-af22-ad43bee1cfb9",
   "metadata": {},
   "outputs": [
    {
     "name": "stdout",
     "output_type": "stream",
     "text": [
      "u\n",
      "n\n",
      "u\n",
      "n\n",
      "u\n"
     ]
    }
   ],
   "source": [
    "s='arjununique'\n",
    "r=''\n",
    "for x in range(0,len(s)):\n",
    "    if s.count(s[x])>1:\n",
    "        print(s[x])"
   ]
  },
  {
   "cell_type": "code",
   "execution_count": 30,
   "id": "2c01394d-e010-4d5d-8def-f14b6167f347",
   "metadata": {},
   "outputs": [
    {
     "name": "stdout",
     "output_type": "stream",
     "text": [
      "* * * * * \n",
      "* * * * * \n",
      "* * * * * \n",
      "* * * * * \n",
      "*       * \n"
     ]
    }
   ],
   "source": [
    "r=5\n",
    "f=r\n",
    "for c in range(r):\n",
    "    for i in range(f):\n",
    "            if c==4 and i>=1 and i<=3:\n",
    "                    print(\" \",end=\" \")\n",
    "            else:\n",
    "                print('*',end=\" \")\n",
    "                \n",
    "    print()"
   ]
  },
  {
   "cell_type": "code",
   "execution_count": 15,
   "id": "5cd777c1-3fda-4e47-8945-c78330a755f2",
   "metadata": {},
   "outputs": [
    {
     "name": "stdout",
     "output_type": "stream",
     "text": [
      "2\n",
      "3\n",
      "5\n",
      "7\n",
      "11\n",
      "13\n",
      "17\n",
      "19\n",
      "23\n"
     ]
    }
   ],
   "source": [
    "for x in range(2,24):\n",
    "    for y in range(2,x//2+1):\n",
    "        if x%y==0:\n",
    "            break\n",
    "    else:\n",
    "        print(x)"
   ]
  },
  {
   "cell_type": "code",
   "execution_count": 11,
   "id": "248e1b1f-4135-4200-a7fc-acf77ef57e1f",
   "metadata": {},
   "outputs": [
    {
     "name": "stdout",
     "output_type": "stream",
     "text": [
      "1\n",
      "5\n"
     ]
    }
   ],
   "source": [
    "n=5\n",
    "f=1\n",
    "for x in range(1,n+1):\n",
    "    if n%x==0:\n",
    "        print(x)"
   ]
  },
  {
   "cell_type": "code",
   "execution_count": 14,
   "id": "5648d7bf-0ef7-4e60-ba0a-25b2a3b8edf1",
   "metadata": {},
   "outputs": [
    {
     "name": "stdout",
     "output_type": "stream",
     "text": [
      "26\n"
     ]
    }
   ],
   "source": [
    "n=2345678\n",
    "res=0\n",
    "while n!=0:\n",
    "    rem=n%10\n",
    "    n//=10\n",
    "    if rem%2==0:\n",
    "        res+=rem\n",
    "    else:\n",
    "        res*=rem\n",
    "print(res)"
   ]
  },
  {
   "cell_type": "code",
   "execution_count": 16,
   "id": "4c8878bc-2f19-437a-bc44-d6b4b71e87f8",
   "metadata": {},
   "outputs": [
    {
     "name": "stdout",
     "output_type": "stream",
     "text": [
      "120\n"
     ]
    }
   ],
   "source": [
    "n=5\n",
    "f=1\n",
    "for x in range(1,n+1):\n",
    "    f*=x\n",
    "print(f)"
   ]
  },
  {
   "cell_type": "code",
   "execution_count": 18,
   "id": "b2f8b0d0-b06d-4bc1-a661-3d515eba278b",
   "metadata": {},
   "outputs": [
    {
     "name": "stdout",
     "output_type": "stream",
     "text": [
      "palyprime\n"
     ]
    }
   ],
   "source": [
    "n=101\n",
    "num=n\n",
    "res=0\n",
    "while n!=0:\n",
    "    rem=n%10\n",
    "    n//=10\n",
    "    res=res*10+rem\n",
    "if res==num:\n",
    "    print('palyprime')\n",
    "else:\n",
    "    print('not palyprime')"
   ]
  },
  {
   "cell_type": "code",
   "execution_count": 19,
   "id": "a0d6f70b-532d-42bb-af6f-f48140320545",
   "metadata": {},
   "outputs": [
    {
     "name": "stdout",
     "output_type": "stream",
     "text": [
      "1100\n"
     ]
    }
   ],
   "source": [
    "n=12\n",
    "res=0\n",
    "x=1\n",
    "while n!=0:\n",
    "    rem=n%2\n",
    "    n//=2\n",
    "    res=res+rem*x\n",
    "    x=x*10\n",
    "print(res)"
   ]
  },
  {
   "cell_type": "code",
   "execution_count": 20,
   "id": "e254d139-788d-4cba-8f5b-375130da56a2",
   "metadata": {},
   "outputs": [
    {
     "name": "stdout",
     "output_type": "stream",
     "text": [
      "12\n"
     ]
    }
   ],
   "source": [
    "n=1100\n",
    "res=0\n",
    "x=0\n",
    "while n!=0:\n",
    "    rem=n%10\n",
    "    n//=10\n",
    "    res=res+rem*2**x\n",
    "    x+=1\n",
    "print(res)"
   ]
  },
  {
   "cell_type": "code",
   "execution_count": 30,
   "id": "bff0e0b1-689a-4661-b510-215f2c29c14e",
   "metadata": {},
   "outputs": [
    {
     "name": "stdout",
     "output_type": "stream",
     "text": [
      "625\n"
     ]
    }
   ],
   "source": [
    "n=225\n",
    "f=n*n\n",
    "r=len(str(n))\n",
    "res=f%10**r\n",
    "\n",
    "print(res)"
   ]
  },
  {
   "cell_type": "code",
   "execution_count": 32,
   "id": "49af0d37-c2c7-4a90-9925-30e7d0c3cbe5",
   "metadata": {},
   "outputs": [
    {
     "name": "stdout",
     "output_type": "stream",
     "text": [
      "sajarmaravihs\n"
     ]
    }
   ],
   "source": [
    "s='shivaramrajas'\n",
    "res=''\n",
    "for x in range(-1,-(len(s)+1),-1):\n",
    "    res+=s[x]\n",
    "print(res)"
   ]
  },
  {
   "cell_type": "code",
   "execution_count": 33,
   "id": "91fc709f-ca6a-4f89-a162-af89f6d52716",
   "metadata": {},
   "outputs": [
    {
     "name": "stdout",
     "output_type": "stream",
     "text": [
      "shivarmj\n"
     ]
    }
   ],
   "source": [
    "s='shivaramrajas'\n",
    "res=''\n",
    "for x in range(0,len(s)):\n",
    "    if s[x] not in res:\n",
    "        res+=s[x]\n",
    "print(res)"
   ]
  },
  {
   "cell_type": "code",
   "execution_count": 44,
   "id": "5c91d437-b0c2-44aa-a53a-3e5203f1737b",
   "metadata": {},
   "outputs": [
    {
     "name": "stdout",
     "output_type": "stream",
     "text": [
      "malayalam\n",
      "ala\n",
      "alayala\n",
      "layal\n",
      "aya\n",
      "ala\n"
     ]
    }
   ],
   "source": [
    "s='malayalam'\n",
    "for x in range(0,len(s)):\n",
    "    for y in range(x+1,len(s)+1):\n",
    "        n=s[x:y]\n",
    "        if n==n[::-1] and len(n)>1:\n",
    "            print(n)"
   ]
  },
  {
   "cell_type": "code",
   "execution_count": 49,
   "id": "89aa412f-cb3b-437e-a7ca-cb531c3ecd03",
   "metadata": {},
   "outputs": [
    {
     "name": "stdout",
     "output_type": "stream",
     "text": [
      "SHIVARAMRAJ\n"
     ]
    }
   ],
   "source": [
    "s='shivaramraj'\n",
    "res=''\n",
    "for x in s:\n",
    "    if 'a'<=x<='z':\n",
    "        res+=chr(ord(x)-32)\n",
    "print(res)"
   ]
  },
  {
   "cell_type": "code",
   "execution_count": 50,
   "id": "053435d9-259d-49e6-8800-612c079258ba",
   "metadata": {},
   "outputs": [
    {
     "name": "stdout",
     "output_type": "stream",
     "text": [
      "[10, 20, 30]\n"
     ]
    }
   ],
   "source": [
    "l=[10,10,20,30]\n",
    "r=[]\n",
    "for x in l:\n",
    "    if x not in r:\n",
    "        r.append(x)\n",
    "print(r)"
   ]
  },
  {
   "cell_type": "code",
   "execution_count": 8,
   "id": "bdfcffb3-5587-445a-ba12-06d49f23933b",
   "metadata": {},
   "outputs": [
    {
     "name": "stdout",
     "output_type": "stream",
     "text": [
      "1 2 3 4 5 6 7 8 9 10 "
     ]
    }
   ],
   "source": [
    "def num(n):\n",
    "    if n==11:\n",
    "        return \n",
    "    print(n,end=' ')\n",
    "    num(n+1)\n",
    "num(1)\n"
   ]
  },
  {
   "cell_type": "code",
   "execution_count": 63,
   "id": "07fe4467-6a8b-408c-ac6a-a36a9f7cb3e6",
   "metadata": {},
   "outputs": [
    {
     "name": "stdout",
     "output_type": "stream",
     "text": [
      "20\n",
      "30\n"
     ]
    }
   ],
   "source": [
    "l=[10,20,30,10]\n",
    "d={}\n",
    "for x in l:\n",
    "    if x not in d:\n",
    "        d[x]=1\n",
    "    else:\n",
    "        d[x]+=1\n",
    "vl=list(d.values())\n",
    "h=vl[0]\n",
    "for r in range(1,len(vl)):\n",
    "    if h>vl[r]:\n",
    "        h=vl[r]\n",
    "for k,v in d.items():\n",
    "    if h==v:\n",
    "        print(k)"
   ]
  },
  {
   "cell_type": "code",
   "execution_count": 1,
   "id": "3d278f4d-5289-4fb9-a3ad-3ce1a83d6175",
   "metadata": {},
   "outputs": [
    {
     "name": "stdout",
     "output_type": "stream",
     "text": [
      "5\n"
     ]
    }
   ],
   "source": [
    "\n",
    "s='shiva12345'\n",
    "n='1234567890'\n",
    "res=0\n",
    "for x in s:\n",
    "    if x in n:\n",
    "        res+=1\n",
    "print(res)"
   ]
  },
  {
   "cell_type": "code",
   "execution_count": 3,
   "id": "138ecb6d-681d-4526-91f8-11427839da07",
   "metadata": {},
   "outputs": [
    {
     "name": "stdout",
     "output_type": "stream",
     "text": [
      "malayalam\n",
      "ala\n",
      "alayala\n",
      "layal\n",
      "aya\n",
      "ala\n"
     ]
    }
   ],
   "source": [
    "s='malayalam'\n",
    "for x in range(0,len(s)):\n",
    "    for y in range(x+1,len(s)+1):\n",
    "        n=s[x:y]\n",
    "        if n==n[::-1] and len(n)>1:\n",
    "            print(n)"
   ]
  },
  {
   "cell_type": "code",
   "execution_count": 4,
   "id": "b3535572-ac49-4fd9-af34-8d993fb26920",
   "metadata": {},
   "outputs": [
    {
     "name": "stdout",
     "output_type": "stream",
     "text": [
      "['shivaram', 'raj', 'is', 'a', 'good', 'boy']\n"
     ]
    }
   ],
   "source": [
    "s='shivaram raj is a good boy'\n",
    "res=''\n",
    "l=[]\n",
    "for x in range(0,len(s)):\n",
    "    if s[x]!=' ':\n",
    "        res+=s[x]\n",
    "    else:\n",
    "        l.append(res)\n",
    "        res=''\n",
    "l.append(res)\n",
    "print(l)"
   ]
  },
  {
   "cell_type": "code",
   "execution_count": 24,
   "id": "a5f57958-0dbc-4750-8aad-355c2afd2b23",
   "metadata": {},
   "outputs": [
    {
     "name": "stdout",
     "output_type": "stream",
     "text": [
      "2\n",
      "3\n",
      "5\n",
      "7\n",
      "11\n",
      "13\n",
      "17\n",
      "19\n"
     ]
    }
   ],
   "source": [
    "def prime(n):\n",
    "    if n<=1:\n",
    "        return False\n",
    "    for y in range(2,n//2+1):\n",
    "        if n%y==0:\n",
    "            return False\n",
    "    return True\n",
    "for x in range(2,22):\n",
    "    if prime(x):\n",
    "        print(x)"
   ]
  },
  {
   "cell_type": "code",
   "execution_count": 28,
   "id": "a626a080-8820-400a-9410-f0e1811388cc",
   "metadata": {},
   "outputs": [
    {
     "data": {
      "text/plain": [
       "321"
      ]
     },
     "execution_count": 28,
     "metadata": {},
     "output_type": "execute_result"
    }
   ],
   "source": [
    "def rev(n):\n",
    "    res=0\n",
    "    while n!=0:\n",
    "        rem=n%10\n",
    "        n//=10\n",
    "        res=res*10+rem\n",
    "    return res\n",
    "rev(123)"
   ]
  },
  {
   "cell_type": "code",
   "execution_count": 29,
   "id": "5c886521-a280-4fee-a290-9d71f396037a",
   "metadata": {},
   "outputs": [
    {
     "data": {
      "text/plain": [
       "120"
      ]
     },
     "execution_count": 29,
     "metadata": {},
     "output_type": "execute_result"
    }
   ],
   "source": [
    "def fact(n):\n",
    "    f=1\n",
    "    for x in range(1,n+1):\n",
    "        f*=x\n",
    "    return f\n",
    "fact(5)\n",
    "        "
   ]
  },
  {
   "cell_type": "code",
   "execution_count": 31,
   "id": "307f1fb4-26a5-4bb7-abf7-58eecc035e5c",
   "metadata": {},
   "outputs": [
    {
     "data": {
      "text/plain": [
       "2"
      ]
     },
     "execution_count": 31,
     "metadata": {},
     "output_type": "execute_result"
    }
   ],
   "source": [
    "def fib(n):\n",
    "    f,s=0,1\n",
    "    if n==1 and n==2:\n",
    "        return n-1\n",
    "    for x in range(0,n-2):\n",
    "        t=f+s\n",
    "        f,s=s,t\n",
    "    return t\n",
    "fib(4)"
   ]
  },
  {
   "cell_type": "code",
   "execution_count": 50,
   "id": "0a57d0e3-d1fc-4594-aae2-ea1d672ce476",
   "metadata": {},
   "outputs": [
    {
     "name": "stdout",
     "output_type": "stream",
     "text": [
      "Emrip\n"
     ]
    }
   ],
   "source": [
    "def prime(p):\n",
    "    if p<=1:\n",
    "        return False\n",
    "    for x in range(2,p//2+1):\n",
    "        if p%x==0:\n",
    "            return False\n",
    "    return True\n",
    "def rev(n):\n",
    "    res=0\n",
    "    while n!=0:\n",
    "        rem=n%10\n",
    "        n//=10\n",
    "        res=res*10+rem\n",
    "    return res\n",
    "num=13\n",
    "x=rev(num)\n",
    "if x!=num and prime(x) and prime(num):\n",
    "    print('Emrip')\n",
    "else:\n",
    "    print('not emrip')\n",
    "    "
   ]
  },
  {
   "cell_type": "code",
   "execution_count": 52,
   "id": "402cabb0-447f-4c10-9f68-8cf22841b2d7",
   "metadata": {},
   "outputs": [
    {
     "name": "stdout",
     "output_type": "stream",
     "text": [
      "spl\n"
     ]
    }
   ],
   "source": [
    "def fact(n):\n",
    "    f=1\n",
    "    for x in range(1,n+1):\n",
    "        f*=x\n",
    "    return f\n",
    "def spl(m):\n",
    "    res=0\n",
    "    while m!=0:\n",
    "        rem=m%10\n",
    "        m//=10\n",
    "        res=res+fact(rem)\n",
    "    return(res)\n",
    "num=145\n",
    "x=spl(num)\n",
    "if num==x:\n",
    "    print('spl')\n",
    "else:\n",
    "    print('notspl')"
   ]
  },
  {
   "cell_type": "code",
   "execution_count": 1,
   "id": "f0bd5b38-609c-47a5-b3fc-9204dfe3222a",
   "metadata": {},
   "outputs": [
    {
     "name": "stdout",
     "output_type": "stream",
     "text": [
      "2 3 4 5 6 7 8 9 10 12 18 20 21 24 27 30 36 40 42 45 48 50 54 60 63 70 72 80 81 84 90 100 102 108 110 111 112 114 117 120 126 132 133 135 140 144 150 152 153 156 162 171 180 190 192 195 198 "
     ]
    }
   ],
   "source": [
    "def niven(n):\n",
    "    res=0\n",
    "    while n!=0:\n",
    "        rem=n%10\n",
    "        n//=10\n",
    "        res+=rem\n",
    "    return res\n",
    "for x in range(2,200):\n",
    "    if x%niven(x)==0:\n",
    "        print(x,end=' ')"
   ]
  },
  {
   "cell_type": "code",
   "execution_count": 62,
   "id": "3e71108f-4310-4523-9ebe-879d0aaea700",
   "metadata": {},
   "outputs": [
    {
     "name": "stdout",
     "output_type": "stream",
     "text": [
      "1\n",
      "2\n",
      "3\n",
      "4\n",
      "5\n",
      "6\n",
      "7\n",
      "8\n",
      "9\n",
      "10\n"
     ]
    }
   ],
   "source": [
    "def num(n):\n",
    "    if n==11:\n",
    "        return\n",
    "    print(n)\n",
    "    num(n+1)\n",
    "num(1)"
   ]
  },
  {
   "cell_type": "code",
   "execution_count": 63,
   "id": "745811a8-c403-40c0-9a51-6fc4358656a1",
   "metadata": {},
   "outputs": [
    {
     "data": {
      "text/plain": [
       "6"
      ]
     },
     "execution_count": 63,
     "metadata": {},
     "output_type": "execute_result"
    }
   ],
   "source": [
    "def sumdig(n):\n",
    "    if n==0:\n",
    "        return 0\n",
    "    return (n%10)+sumdig(n//10)\n",
    "sumdig(123)"
   ]
  },
  {
   "cell_type": "code",
   "execution_count": 1,
   "id": "fc911196-53c5-4d5a-8fec-278598c86c0c",
   "metadata": {},
   "outputs": [
    {
     "data": {
      "text/plain": [
       "120"
      ]
     },
     "execution_count": 1,
     "metadata": {},
     "output_type": "execute_result"
    }
   ],
   "source": [
    "def fact(n):\n",
    "    if n==0 or n==1:\n",
    "        return 1\n",
    "    return n*fact(n-1)\n",
    "fact(5)"
   ]
  },
  {
   "cell_type": "code",
   "execution_count": 3,
   "id": "07ac438a-6e29-4ac6-9f40-80ba59dcd6b1",
   "metadata": {},
   "outputs": [
    {
     "data": {
      "text/plain": [
       "120"
      ]
     },
     "execution_count": 3,
     "metadata": {},
     "output_type": "execute_result"
    }
   ],
   "source": [
    "def fact(n):\n",
    "    if n==0 or n==1:\n",
    "        return 1\n",
    "    return n*fact(n-1)\n",
    "fact(5)"
   ]
  },
  {
   "cell_type": "code",
   "execution_count": 17,
   "id": "04159c94-b5ab-4926-8205-bdc99dda0fee",
   "metadata": {},
   "outputs": [
    {
     "name": "stdout",
     "output_type": "stream",
     "text": [
      "3\n",
      "135\n",
      "amstrong\n"
     ]
    }
   ],
   "source": [
    "def niven(n,r):\n",
    "    if n==0:\n",
    "        return 0\n",
    "    return (n%10)**r+niven(n//10,r-1)\n",
    "x=135\n",
    "p=len(str(x))\n",
    "print(p)\n",
    "m=niven(x,p)\n",
    "print(m)\n",
    "if x==m:\n",
    "    print('amstrong')\n",
    "else:\n",
    "    print('not amstrong')"
   ]
  },
  {
   "cell_type": "code",
   "execution_count": 52,
   "id": "783a3391-40dd-4ba8-9801-98e44f2a30f6",
   "metadata": {},
   "outputs": [
    {
     "name": "stdout",
     "output_type": "stream",
     "text": [
      "3210\n"
     ]
    }
   ],
   "source": [
    "def prime(n,i):\n",
    "    if i==n//2+1:\n",
    "        return True\n",
    "    if n%i==0:\n",
    "        return False\n",
    "    return prime(n,i+1)\n",
    "def rev(r,t):\n",
    "    if r==0:\n",
    "        return 0\n",
    "    return(r%10)*t+rev(r//10,t//10)\n",
    "x=123\n",
    "l=len(str(x))\n",
    "g=10**l\n",
    "m=rev(x,g)\n",
    "print(m)"
   ]
  },
  {
   "cell_type": "code",
   "execution_count": 42,
   "id": "d4a02565-b3e2-43e1-82a3-a20dd5de1b7c",
   "metadata": {},
   "outputs": [
    {
     "name": "stdout",
     "output_type": "stream",
     "text": [
      "1100\n"
     ]
    }
   ],
   "source": [
    "def binary(n,s):\n",
    "    if n==0:\n",
    "        return 0\n",
    "    return (n%2)*s+binary(n//2,s*10)\n",
    "x=12\n",
    "r=1\n",
    "m=binary(x,r)\n",
    "print(m)"
   ]
  },
  {
   "cell_type": "code",
   "execution_count": 31,
   "id": "752c0cbe-2879-4f83-816b-90b231f31a38",
   "metadata": {},
   "outputs": [
    {
     "name": "stdout",
     "output_type": "stream",
     "text": [
      "12\n"
     ]
    }
   ],
   "source": [
    "def decimal(n,s):\n",
    "    if n==0:\n",
    "        return 0\n",
    "    return(n%10)*2**s+decimal(n//10,s+1)\n",
    "x=1100\n",
    "m=0\n",
    "r=decimal(x,m)\n",
    "print(r)\n"
   ]
  },
  {
   "cell_type": "code",
   "execution_count": 36,
   "id": "03b502fd-7496-4a74-a6b8-9cab4b9f8da7",
   "metadata": {},
   "outputs": [
    {
     "name": "stdout",
     "output_type": "stream",
     "text": [
      "['False', 'None', 'True', '__peg_parser__', 'and', 'as', 'assert', 'async', 'await', 'break', 'class', 'continue', 'def', 'del', 'elif', 'else', 'except', 'finally', 'for', 'from', 'global', 'if', 'import', 'in', 'is', 'lambda', 'nonlocal', 'not', 'or', 'pass', 'raise', 'return', 'try', 'while', 'with', 'yield']\n"
     ]
    }
   ],
   "source": [
    "import keyword\n",
    "print(keyword.kwlist)"
   ]
  },
  {
   "cell_type": "code",
   "execution_count": 1,
   "id": "10cb0a44-2800-4ab4-99ff-7bcf58e8f80d",
   "metadata": {},
   "outputs": [
    {
     "name": "stdout",
     "output_type": "stream",
     "text": [
      "!halloworld!!!"
     ]
    },
    {
     "data": {
      "text/plain": [
       "14"
      ]
     },
     "execution_count": 1,
     "metadata": {},
     "output_type": "execute_result"
    }
   ],
   "source": [
    "import sys\n",
    "sys.stdout.write('!halloworld!!!')"
   ]
  },
  {
   "cell_type": "code",
   "execution_count": 10,
   "id": "91aca0cd-bb89-4adc-9f62-58dbe48acac8",
   "metadata": {},
   "outputs": [
    {
     "name": "stdout",
     "output_type": "stream",
     "text": [
      "shivacurrent balance is20000\n"
     ]
    },
    {
     "name": "stdout",
     "output_type": "stream",
     "text": [
      "enter the withdraw amt u want: 20\n",
      "enter the pin: 8800\n"
     ]
    },
    {
     "name": "stdout",
     "output_type": "stream",
     "text": [
      "wrong pin\n",
      "shivacurrent balance is20000\n"
     ]
    }
   ],
   "source": [
    "class Bank:\n",
    "    cBankname='sbi'\n",
    "    Cbranch='alur'\n",
    "    def __init__(self,name,account,bal,mobil,pin):\n",
    "        self.name=name\n",
    "        self.account=account\n",
    "        self.bal=bal\n",
    "        self.mobil=mobil\n",
    "        self.pin=pin\n",
    "    def Checkbal(self):\n",
    "        print(f'{self.name}current balance is{self.bal}')\n",
    "    def Withdraw(self):\n",
    "        amt=int(input('enter the withdraw amt u want:'))\n",
    "        if self.pin==self.getpin():\n",
    "            if self.bal>amt:\n",
    "                self.bal-=amt\n",
    "                print('amt debited sucessfully')\n",
    "            else:\n",
    "                print('insafficiant bal')\n",
    "        else:\n",
    "            print('wrong pin')\n",
    "        \n",
    "    @staticmethod\n",
    "    def getpin():\n",
    "        return int(input('enter the pin:'))\n",
    "ob1=Bank('shiva',2238757,20000,9876557,8804)\n",
    "ob2=Bank('ram',46547934757,40000,37473653,8804)\n",
    "ob1.Checkbal()\n",
    "#ob1.Withdraw()\n",
    "ob1.Checkbal()"
   ]
  },
  {
   "cell_type": "code",
   "execution_count": 2,
   "id": "13556b4f-32c4-424b-98d5-cf29817c80f5",
   "metadata": {},
   "outputs": [
    {
     "data": {
      "text/plain": [
       "True"
      ]
     },
     "execution_count": 2,
     "metadata": {},
     "output_type": "execute_result"
    }
   ],
   "source": [
    "def prime(n,i):\n",
    "    if i==n//2+1:\n",
    "        return True\n",
    "    if n%2==0:\n",
    "        return False\n",
    "    return prime(n,i+1)\n",
    "prime(11,2)"
   ]
  },
  {
   "cell_type": "code",
   "execution_count": 5,
   "id": "03c82bbb-80ce-43e6-b303-3bdcc463797b",
   "metadata": {},
   "outputs": [
    {
     "name": "stdout",
     "output_type": "stream",
     "text": [
      "321\n"
     ]
    }
   ],
   "source": [
    "def rev(n,p):\n",
    "    if n==0:\n",
    "        return 0\n",
    "    return (n%10)*p+rev(n//10,p//10)\n",
    "num=123\n",
    "pos=len(str(num))-1\n",
    "r=10**pos\n",
    "x=rev(num,r)\n",
    "print(x)"
   ]
  },
  {
   "cell_type": "code",
   "execution_count": 15,
   "id": "2510bdb3-abc9-425c-945b-5fd4bdb22802",
   "metadata": {},
   "outputs": [
    {
     "name": "stdout",
     "output_type": "stream",
     "text": [
      "enter the withdraw amt: 222\n",
      "enter the pin: 2111\n"
     ]
    },
    {
     "name": "stdout",
     "output_type": "stream",
     "text": [
      "wrong pin\n"
     ]
    },
    {
     "name": "stdout",
     "output_type": "stream",
     "text": [
      "enter the pin: 5554\n"
     ]
    },
    {
     "name": "stdout",
     "output_type": "stream",
     "text": [
      "wrong pin\n"
     ]
    }
   ],
   "source": [
    "class bankv1():\n",
    "    def __init__(self,name,accno,mno,bal,pin):\n",
    "        self.name=name\n",
    "        self.accno=accno\n",
    "        self.mno=mno\n",
    "        self.bal=bal\n",
    "        self.pin=pin\n",
    "    def data(self):\n",
    "        print(f'Name:{self.name}')\n",
    "        print(f'AccountNo:{self.accno}')\n",
    "        print(f'MbilNo:{self.mno}')\n",
    "        print(f'Balance:{self.bal}')\n",
    "        print(f'Pin:{self.pin}')\n",
    "    def checkbal(self):\n",
    "        if self.getpin()==self.pin:\n",
    "            print(f'{self.name}!!your current balance is  {self.bal}')\n",
    "        else:\n",
    "            print('wrong pin')\n",
    "    def withdraw(self):\n",
    "        amt=int(input('enter the withdraw amt:'))\n",
    "        if self.getpin()==self.pin:\n",
    "            if self.bal>amt:\n",
    "                self.bal-=amt\n",
    "                print('collect cash')\n",
    "            else:\n",
    "                print('insufficiant balance')\n",
    "        else:\n",
    "            print('wrong pin')\n",
    "    @staticmethod\n",
    "    def getpin():\n",
    "        return int(input('enter the pin:'))\n",
    "obj=bankv1('shiva',43287587,575746376,33444,2222)\n",
    "#obj.checkbal()\n",
    "obj.withdraw()\n",
    "obj.checkbal()"
   ]
  },
  {
   "cell_type": "code",
   "execution_count": 20,
   "id": "59466b6b-6fe7-4add-be26-118b365608bf",
   "metadata": {},
   "outputs": [
    {
     "name": "stdout",
     "output_type": "stream",
     "text": [
      "Name:ram\n",
      "AccountNo:24238766\n",
      "MbilNo:567389\n",
      "Balance:222234\n",
      "Pin:2222\n",
      "mail:shivaramraj@gmail.com\n"
     ]
    }
   ],
   "source": [
    "class bankv1():\n",
    "    Bankname='ICICI'\n",
    "    branch  ='bengaloure' \n",
    "    def __init__(self,name,accno,mno,bal,pin):\n",
    "        self.name=name\n",
    "        self.accno=accno\n",
    "        self.mno=mno\n",
    "        self.bal=bal\n",
    "        self.pin=pin\n",
    "    def data(self):\n",
    "        print(f'Name:{self.name}')\n",
    "        print(f'AccountNo:{self.accno}')\n",
    "        print(f'MbilNo:{self.mno}')\n",
    "        print(f'Balance:{self.bal}')\n",
    "        print(f'Pin:{self.pin}')\n",
    "class bankv2(bankv1):\n",
    "    def __init__(self,name,accno,mno,bal,pin,mail):\n",
    "        bankv1.__init__(self,name,accno,mno,bal,pin)\n",
    "        self.mail=mail\n",
    "    def data2(self):\n",
    "        super().data()\n",
    "        print(f'mail:{self.mail}')\n",
    "obj=bankv2('ram',24238766,567389,222234,2222,'shivaramraj@gmail.com')\n",
    "obj.data2()"
   ]
  },
  {
   "cell_type": "code",
   "execution_count": null,
   "id": "87ba7422-deca-4abb-9e1c-47865a54a3f7",
   "metadata": {},
   "outputs": [],
   "source": []
  },
  {
   "cell_type": "code",
   "execution_count": 26,
   "id": "dec6d731-60be-48f2-bea4-f32640f3ff11",
   "metadata": {},
   "outputs": [
    {
     "name": "stdout",
     "output_type": "stream",
     "text": [
      "[6, 9, 8, 9]\n"
     ]
    }
   ],
   "source": [
    "l=[123,45,26,135]\n",
    "res=0\n",
    "r=[]\n",
    "for x in l:\n",
    "    while x!=0:\n",
    "        rem=x%10\n",
    "        res=res+rem\n",
    "        x//=10\n",
    "    r.append(res)\n",
    "    res=0\n",
    "print(r)"
   ]
  },
  {
   "cell_type": "code",
   "execution_count": 19,
   "id": "dc4f4fb7-0041-4076-87bd-965db92d7bac",
   "metadata": {},
   "outputs": [
    {
     "name": "stdout",
     "output_type": "stream",
     "text": [
      "[6, 9, 8, 9]\n"
     ]
    }
   ],
   "source": [
    "l=[123,45,26,135]\n",
    "for i in range(len(l)):\n",
    "    res=0\n",
    "    while l[i]>0:\n",
    "        rem=l[i]%10\n",
    "        res=res+rem\n",
    "        l[i]//=10\n",
    "        \n",
    "    l[i]=res\n",
    "print(l)"
   ]
  },
  {
   "cell_type": "code",
   "execution_count": 25,
   "id": "a7c3afb5-db5f-47bf-b8fc-35d7c910bcc8",
   "metadata": {},
   "outputs": [
    {
     "name": "stdout",
     "output_type": "stream",
     "text": [
      "[6, 9, 8, 9]\n"
     ]
    }
   ],
   "source": [
    "def sum(n):\n",
    "    if n==0:\n",
    "        return 0\n",
    "    return n%10+sum(n//10)\n",
    "l=[123,45,26,135]\n",
    "x=list(map(sum,l))\n",
    "print(x)\n"
   ]
  },
  {
   "cell_type": "code",
   "execution_count": 39,
   "id": "8827b8f7-b2c7-49e5-a89f-dde79c953cfc",
   "metadata": {},
   "outputs": [
    {
     "name": "stdout",
     "output_type": "stream",
     "text": [
      "[6, 6, 9, 7]\n"
     ]
    }
   ],
   "source": [
    "l=[4,5,6,7]\n",
    "l2=[2,1,3,0]\n",
    "for i in range(0,len(l2)//2):\n",
    "    l2[i],l2[-(i+1)]=l2[-(i+1)],l2[i]\n",
    "r=l+l2\n",
    "k=[]\n",
    "for x in range(0,len(r)//2):\n",
    "    res=r[x]+r[-(x+1)]\n",
    "    k.append(res)\n",
    "print(k)"
   ]
  },
  {
   "cell_type": "code",
   "execution_count": 46,
   "id": "9b5553b2-f9c8-4354-b0f4-51c59b24c9f6",
   "metadata": {},
   "outputs": [
    {
     "name": "stdout",
     "output_type": "stream",
     "text": [
      "[4, 8, 7, 9]\n"
     ]
    }
   ],
   "source": [
    "l=[4,5,6,7]\n",
    "l2=[2,1,3,0]\n",
    "r=l+l2\n",
    "k=[]\n",
    "for x in range(0,len(r)//2):\n",
    "    res=r[x]+r[-(x+1)]\n",
    "    k.append(res)\n",
    "print(k)"
   ]
  },
  {
   "cell_type": "code",
   "execution_count": 48,
   "id": "ffe50b1d-a0e9-483e-a1ea-042356ba2e37",
   "metadata": {},
   "outputs": [
    {
     "name": "stdout",
     "output_type": "stream",
     "text": [
      "[6, 6, 9, 7]\n"
     ]
    }
   ],
   "source": [
    "l1=[4,5,6,7]\n",
    "l2=[2,1,3,0]\n",
    "x=[]\n",
    "for i in range(len(l1)):\n",
    "    x.append(l1[i]+l2[i])\n",
    "print(x)"
   ]
  },
  {
   "cell_type": "code",
   "execution_count": 54,
   "id": "e76658cb-954e-45bc-8f3c-2b842978712e",
   "metadata": {},
   "outputs": [
    {
     "name": "stdout",
     "output_type": "stream",
     "text": [
      "[4, 8, 7, 9]\n"
     ]
    }
   ],
   "source": [
    "l1=[4,5,6,7]\n",
    "l2=[2,1,3,0]\n",
    "x=[]\n",
    "for i in range(len(l1)):\n",
    "    x.append(l1[i]+l2[-(i+1)])\n",
    "print(x)"
   ]
  },
  {
   "cell_type": "code",
   "execution_count": 58,
   "id": "b5c93006-fe81-44ce-9fa7-74c06de87592",
   "metadata": {},
   "outputs": [
    {
     "name": "stdout",
     "output_type": "stream",
     "text": [
      "[12, 14, 16]\n",
      "[11, 13, 15, 17]\n"
     ]
    }
   ],
   "source": [
    "l=[11,12,13,14,15,16,17]\n",
    "r1=[]\n",
    "r2=[]\n",
    "for x in l:\n",
    "    if x%2==0:\n",
    "        r1.append(x)\n",
    "    else:\n",
    "        r2.append(x)\n",
    "print(r1)\n",
    "print(r2)"
   ]
  },
  {
   "cell_type": "code",
   "execution_count": 64,
   "id": "09042877-8bd6-42af-9c86-8f5396d30a7d",
   "metadata": {},
   "outputs": [
    {
     "name": "stdout",
     "output_type": "stream",
     "text": [
      "[11, 10]\n"
     ]
    }
   ],
   "source": [
    "l=[11,10,12,11,10]\n",
    "r=[]\n",
    "m=[]\n",
    "for x in l:\n",
    "    if x not in r:\n",
    "        r.append(x)\n",
    "    else:\n",
    "        m.append(x)\n",
    "print(m)"
   ]
  },
  {
   "cell_type": "code",
   "execution_count": 10,
   "id": "81cd1040-a7c7-400c-bc79-dc794cb8f6f4",
   "metadata": {},
   "outputs": [
    {
     "name": "stdout",
     "output_type": "stream",
     "text": [
      "[12, 11, 10]\n"
     ]
    }
   ],
   "source": [
    "l=[11,10,12,11,10]\n",
    "for i in l:\n",
    "    if l.count(i)>1:\n",
    "        l.remove(i)\n",
    "print(l)\n",
    "# l=[10,20,10,30,40,10]\n",
    "# for x in l:\n",
    "#     if l.count(x)>1:\n",
    "#         l.remove(x)\n",
    "# print(l)"
   ]
  },
  {
   "cell_type": "code",
   "execution_count": 19,
   "id": "ce674434-a927-4fed-a9d2-8053b51948d8",
   "metadata": {},
   "outputs": [
    {
     "name": "stdout",
     "output_type": "stream",
     "text": [
      "enter the value of n: 514\n"
     ]
    },
    {
     "name": "stdout",
     "output_type": "stream",
     "text": [
      "not\n"
     ]
    }
   ],
   "source": [
    "n=int(input('enter the value of n:'))\n",
    "for x in range(n):\n",
    "    if 2**x==n and x<=(2**x)+1:\n",
    "        print('power of two')\n",
    "        break\n",
    "else:\n",
    "    print('not')"
   ]
  },
  {
   "cell_type": "code",
   "execution_count": 1,
   "id": "f94826b2-9ba7-4834-bccf-dd0ccd24e76c",
   "metadata": {},
   "outputs": [
    {
     "data": {
      "text/plain": [
       "34"
      ]
     },
     "execution_count": 1,
     "metadata": {},
     "output_type": "execute_result"
    }
   ],
   "source": [
    "def fib(n):\n",
    "    if n==1 or n==2:\n",
    "        return n-1\n",
    "    return fib(n-1)+fib(n-2)\n",
    "fib(10)"
   ]
  },
  {
   "cell_type": "code",
   "execution_count": 4,
   "id": "a929191e-416e-481f-95b0-f6591654d510",
   "metadata": {},
   "outputs": [
    {
     "name": "stdout",
     "output_type": "stream",
     "text": [
      "0 1 1 2 3 5 8 13 21 34 55 89 "
     ]
    }
   ],
   "source": [
    "f,s=0,1\n",
    "for x in range(12):\n",
    "    print(f,end=' ')\n",
    "    t=f+s\n",
    "    f,s=s,t\n",
    "    # print(f)"
   ]
  },
  {
   "cell_type": "code",
   "execution_count": 5,
   "id": "33b93beb-5ecc-45bb-9379-11f6aef0059c",
   "metadata": {},
   "outputs": [
    {
     "name": "stdout",
     "output_type": "stream",
     "text": [
      "not fib\n"
     ]
    }
   ],
   "source": [
    "n=12\n",
    "f,s=0,1\n",
    "if n==f or n==s:\n",
    "    print('fib')\n",
    "else:\n",
    "    for x in range(n-2):\n",
    "        t=f+s\n",
    "        f,s=s,t\n",
    "        if n==t:\n",
    "            print('fib')\n",
    "            break\n",
    "    else:\n",
    "        print('not fib')"
   ]
  },
  {
   "cell_type": "code",
   "execution_count": 13,
   "id": "88c61d4e-b738-4f96-a53a-b3dc896a47d1",
   "metadata": {},
   "outputs": [
    {
     "name": "stdout",
     "output_type": "stream",
     "text": [
      "[0, 1, 0, 1, 1]\n"
     ]
    }
   ],
   "source": [
    "a=[12,16,18,32,64]\n",
    "b=0\n",
    "for x in range(len(a)):\n",
    "    while 2**b<=a[x]:\n",
    "        if a[x]==2**b: \n",
    "            a[x]=1\n",
    "            break\n",
    "        b+=1\n",
    "    else:\n",
    "        a[x]=0\n",
    "print(a)"
   ]
  },
  {
   "cell_type": "code",
   "execution_count": 1,
   "id": "729b98a7-928d-4ffc-b109-831c4317f017",
   "metadata": {},
   "outputs": [
    {
     "name": "stdout",
     "output_type": "stream",
     "text": [
      "enter the value of y: 4\n"
     ]
    },
    {
     "name": "stdout",
     "output_type": "stream",
     "text": [
      "True\n"
     ]
    }
   ],
   "source": [
    "def pow(n,p):\n",
    "    if n<2**p:\n",
    "        return False\n",
    "    if n==2**p:\n",
    "        return True\n",
    "    return pow(n,p+1)\n",
    "y=int(input('enter the value of y:'))\n",
    "x=pow(y,0)\n",
    "print(x)"
   ]
  },
  {
   "cell_type": "code",
   "execution_count": 32,
   "id": "51954da3-ea64-40ee-bd42-569519d3f299",
   "metadata": {},
   "outputs": [
    {
     "name": "stdout",
     "output_type": "stream",
     "text": [
      "1,2,3,4,5,6,7,8,9,10,"
     ]
    }
   ],
   "source": [
    "n=1\n",
    "while n<=10:\n",
    "    print(n,end=',')\n",
    "    n+=1"
   ]
  },
  {
   "cell_type": "code",
   "execution_count": 37,
   "id": "e2309d03-e5de-4062-992b-36f6f98fea04",
   "metadata": {},
   "outputs": [
    {
     "name": "stdout",
     "output_type": "stream",
     "text": [
      "amaresh*shiva*arjun\n"
     ]
    }
   ],
   "source": [
    "print('amaresh','shiva','arjun',sep='*')"
   ]
  },
  {
   "cell_type": "code",
   "execution_count": 46,
   "id": "79a9ccc9-4dba-4f4c-b9bd-42bfdc940003",
   "metadata": {},
   "outputs": [
    {
     "name": "stdout",
     "output_type": "stream",
     "text": [
      "5.0\n",
      "5.0\n"
     ]
    }
   ],
   "source": [
    "def paint(e):\n",
    "    \n",
    "    def paint2(a,b):\n",
    "        if a>b:\n",
    "            e(a,b)\n",
    "        else:\n",
    "            e(b,a)\n",
    "    return paint2\n",
    "@paint\n",
    "def division(x,y):\n",
    "    print(x/y)\n",
    "division(10,2)\n",
    "division(2,10)"
   ]
  },
  {
   "cell_type": "code",
   "execution_count": 14,
   "id": "f8c5300b-130a-4a69-b2e4-c7ea388e6584",
   "metadata": {},
   "outputs": [
    {
     "name": "stdout",
     "output_type": "stream",
     "text": [
      "sample:<function sample at 0x000002973919FDC0>\n"
     ]
    }
   ],
   "source": [
    "def sample():\n",
    "    print(f'sample:{sample}')\n",
    "sample()"
   ]
  },
  {
   "cell_type": "code",
   "execution_count": 35,
   "id": "129489b5-2a84-4f74-a3c3-4cb53388c4b4",
   "metadata": {},
   "outputs": [
    {
     "name": "stdout",
     "output_type": "stream",
     "text": [
      "<function house at 0x0000029739179EE0>\n",
      "inside brush\n",
      "inside house\n"
     ]
    }
   ],
   "source": [
    "def paint(m):\n",
    "    print(m)\n",
    "    def brush():\n",
    "        print('inside brush')\n",
    "        m()\n",
    "        \n",
    "    return brush\n",
    "@paint\n",
    "def house():\n",
    "    print('inside house')\n",
    "house()"
   ]
  },
  {
   "cell_type": "code",
   "execution_count": 24,
   "id": "b0ef2f09-0cbb-43a7-98fd-defb4324f7fd",
   "metadata": {},
   "outputs": [
    {
     "name": "stdout",
     "output_type": "stream",
     "text": [
      "-1\n",
      "-1\n"
     ]
    }
   ],
   "source": [
    "l=[12,13,10,14,15]\n",
    "for x in range(len(l)//2):\n",
    "    #l[x],l[(-len([x//2]))]=l[-(len([x//2]))],l[x]\n",
    "    print(-len([x//2]))\n",
    "#print(l)"
   ]
  },
  {
   "cell_type": "code",
   "execution_count": 7,
   "id": "9b02b21c-2389-4bcc-89f0-5658f6fe1086",
   "metadata": {},
   "outputs": [
    {
     "name": "stdout",
     "output_type": "stream",
     "text": [
      "enter the number: 123\n"
     ]
    },
    {
     "data": {
      "text/plain": [
       "177172"
      ]
     },
     "execution_count": 7,
     "metadata": {},
     "output_type": "execute_result"
    }
   ],
   "source": [
    "#wap to reverse the number using recurssion\n",
    "def rev(n,p):\n",
    "    if n==0:\n",
    "        return 0\n",
    "    return (n%10)*p+rev(n//10,n//10)\n",
    "\n",
    "r=int(input('enter the number:'))\n",
    "p=len(str(r))\n",
    "m=p**10\n",
    "rev(r,)"
   ]
  },
  {
   "cell_type": "code",
   "execution_count": null,
   "id": "0013b7c8-306f-4f73-9237-3ab306294613",
   "metadata": {},
   "outputs": [],
   "source": []
  }
 ],
 "metadata": {
  "kernelspec": {
   "display_name": "base",
   "language": "python",
   "name": "python3"
  },
  "language_info": {
   "codemirror_mode": {
    "name": "ipython",
    "version": 3
   },
   "file_extension": ".py",
   "mimetype": "text/x-python",
   "name": "python",
   "nbconvert_exporter": "python",
   "pygments_lexer": "ipython3",
   "version": "3.9.13"
  },
  "vscode": {
   "interpreter": {
    "hash": "3844a49c18a74871cca5193e45c5e4b46b25b0886fff53449ea495a2f93c944d"
   }
  }
 },
 "nbformat": 4,
 "nbformat_minor": 5
}
