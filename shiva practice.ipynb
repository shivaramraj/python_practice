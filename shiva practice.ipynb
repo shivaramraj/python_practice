{
 "cells": [
  {
   "cell_type": "code",
   "execution_count": 23,
   "id": "712d05b5-9193-46e0-96f1-673ee5e28f0e",
   "metadata": {},
   "outputs": [
    {
     "name": "stdout",
     "output_type": "stream",
     "text": [
      "    1 \n",
      "  1 2 1 \n",
      "1 2 3 2 1 \n",
      "  1 2 1 \n",
      "    1 \n"
     ]
    }
   ],
   "source": [
    "n=5\n",
    "sp=n//2\n",
    "st=1\n",
    "for x in range(n):\n",
    "    num=1\n",
    "    for y in range(sp):\n",
    "        print(' ',end=' ')\n",
    "    for z in range(st):\n",
    "        print(num,end=' ')\n",
    "        num=num+1 if z<st//2 else num-1\n",
    "    print()\n",
    "    if x<n//2:\n",
    "        st+=2\n",
    "        sp-=1\n",
    "    else:\n",
    "        st-=2\n",
    "        sp+=1"
   ]
  },
  {
   "cell_type": "code",
   "execution_count": 27,
   "id": "16566cdd-90db-4e9d-b1b2-cda23b446c2b",
   "metadata": {},
   "outputs": [
    {
     "name": "stdout",
     "output_type": "stream",
     "text": [
      "enter the number 22\n"
     ]
    },
    {
     "name": "stdout",
     "output_type": "stream",
     "text": [
      "not prime\n"
     ]
    }
   ],
   "source": [
    "#wap to check given number is prime or not\n",
    "n=int(input('enter the number'))\n",
    "if n>1:\n",
    "    for x in range(2,n//2+1):\n",
    "        if n%x==0:\n",
    "            print('not prime')\n",
    "            break\n",
    "    else:\n",
    "        print('prime')\n",
    "else:\n",
    "    print('not prime')"
   ]
  },
  {
   "cell_type": "code",
   "execution_count": 28,
   "id": "485d1187-c7dc-4a92-8827-a36aa4b96731",
   "metadata": {},
   "outputs": [
    {
     "name": "stdout",
     "output_type": "stream",
     "text": [
      "1\n",
      "5\n"
     ]
    }
   ],
   "source": [
    "n=5\n",
    "for x in range(1,n+1):\n",
    "    if n%x==0:\n",
    "        print(x)\n",
    "    "
   ]
  },
  {
   "cell_type": "code",
   "execution_count": 31,
   "id": "875d387a-0283-4df8-8da0-c6d45a4795c5",
   "metadata": {},
   "outputs": [
    {
     "name": "stdout",
     "output_type": "stream",
     "text": [
      "nivennumber\n"
     ]
    }
   ],
   "source": [
    "n=153\n",
    "num=n\n",
    "res=0\n",
    "while n!=0:\n",
    "    rem=n%10\n",
    "    n//=10\n",
    "    res+=rem\n",
    "if num%res==0:\n",
    "    print('nivennumber')\n",
    "else:\n",
    "    print('not niven number')"
   ]
  },
  {
   "cell_type": "code",
   "execution_count": null,
   "id": "28ed2f6d-7e83-41e1-aa3e-609fc4be4ae6",
   "metadata": {},
   "outputs": [],
   "source": [
    "d={'python':'dev','c++':'dev','c#':'code'}\n",
    "#{'dev':['python','c++'],'code':['c#']}"
   ]
  }
 ],
 "metadata": {
  "kernelspec": {
   "display_name": "base",
   "language": "python",
   "name": "python3"
  },
  "language_info": {
   "codemirror_mode": {
    "name": "ipython",
    "version": 3
   },
   "file_extension": ".py",
   "mimetype": "text/x-python",
   "name": "python",
   "nbconvert_exporter": "python",
   "pygments_lexer": "ipython3",
   "version": "3.9.13 (main, Aug 25 2022, 23:51:50) [MSC v.1916 64 bit (AMD64)]"
  },
  "vscode": {
   "interpreter": {
    "hash": "3844a49c18a74871cca5193e45c5e4b46b25b0886fff53449ea495a2f93c944d"
   }
  }
 },
 "nbformat": 4,
 "nbformat_minor": 5
}
